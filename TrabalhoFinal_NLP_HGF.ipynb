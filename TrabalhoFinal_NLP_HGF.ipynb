{
  "cells": [
    {
      "cell_type": "markdown",
      "metadata": {
        "id": "VDbi6PDS9MYO"
      },
      "source": [
        "***Participantes (RM - NOME):***<br>\n",
        "339624 - Camila<br>\n",
        "339656 - Cleiton<br>\n",
        "340214 - Henrique<br>\n",
        "339708 - Roberto<br>\n",
        "340192 - Sergio<br>"
      ]
    },
    {
      "cell_type": "markdown",
      "metadata": {
        "id": "7xw6WhaNo4k3"
      },
      "source": [
        "## **Criar um classificador de sentimento aplicando técnicas de PLN**\n",
        "---\n",
        "\n",
        "Utilizando o dataset de revisões de filmes em português [1], criar um classificador de sentimentos que consiga um score na métrica F1 Score superior a 70%.\n",
        "\n",
        "Devem utilizar uma amostra de 20% e randon_state igual a 42 para testar as implementações e mensurar a métrica F1 Score (usar o parâmetro average = 'weighted') o restante dos dados devem ser utilizados para o treinamento (80%).\n",
        "\n",
        "Fique a vontade para testar os métodos de pré-processamento, abordagens, algoritmos e bibliotecas, mas explique e justifique suas decisões.\n",
        "O trabalho poderá ser feito em grupo de até 4 pessoas (mesmo grupo do Startup One).\n",
        "\n",
        "Separe a implementação do seu modelo campeão junto com a parte de validação/teste de forma que o professor consiga executar todo o pipeline do modelo campeão.\n",
        "\n",
        "Composição da nota:\n",
        "- 50% - Demonstrações das aplicações das técnicas de PLN (regras, pré-processamentos, tratamentos, variedade de modelos aplicados, etc.)\n",
        "- 50% - Baseado na performance obtida com o dataset de teste (conforme recomendação da amostra) no seu modelo campeão e na validação que o professor processar (Métrica F1 Score)."
      ]
    },
    {
      "cell_type": "markdown",
      "metadata": {
        "id": "fzhQpodBpRpX"
      },
      "source": [
        "[1] - https://dados-ml-pln.s3-sa-east-1.amazonaws.com/reviews-pt-br.csv"
      ]
    },
    {
      "cell_type": "markdown",
      "metadata": {},
      "source": [
        "# Bibliotecas utilizadas"
      ]
    },
    {
      "cell_type": "code",
      "execution_count": 71,
      "metadata": {},
      "outputs": [],
      "source": [
        "import numpy as np\n",
        "import pandas as pd\n",
        "import seaborn as sb\n",
        "import matplotlib.pyplot as plt\n",
        "import wordcloud as wd\n",
        "import re\n",
        "from collections import Counter\n",
        "\n",
        "import spacy\n",
        "\n",
        "import nltk\n",
        "from nltk.stem.rslp import RSLPStemmer\n",
        "\n",
        "from sklearn.model_selection import train_test_split\n",
        "from sklearn.preprocessing import StandardScaler, MinMaxScaler\n",
        "from sklearn.metrics import accuracy_score, f1_score\n",
        "from sklearn.feature_extraction.text import CountVectorizer, TfidfVectorizer, HashingVectorizer\n",
        "from sklearn.tree import DecisionTreeClassifier\n",
        "from sklearn.ensemble import RandomForestClassifier, AdaBoostClassifier, BaggingClassifier, ExtraTreesClassifier, GradientBoostingClassifier\n",
        "from sklearn.linear_model import LogisticRegression, PassiveAggressiveClassifier, Perceptron, RidgeClassifier, SGDClassifier\n",
        "from sklearn.naive_bayes import BernoulliNB, ComplementNB, MultinomialNB\n",
        "from sklearn.svm import LinearSVC\n",
        "\n",
        "\n",
        "import tensorflow as tf\n",
        "import keras\n",
        "from keras.preprocessing.text import Tokenizer\n",
        "from keras.models import Sequential, Model\n",
        "from keras.layers import Input, Dense\n",
        "from keras.layers import Dropout, Flatten, Conv1D, Embedding\n",
        "from keras.layers import Flatten\n",
        "from keras.utils import plot_model\n",
        "from keras.layers.convolutional import Conv1D\n",
        "from keras.layers.convolutional import MaxPooling1D\n",
        "import pydot\n"
      ]
    },
    {
      "cell_type": "code",
      "execution_count": 2,
      "metadata": {},
      "outputs": [],
      "source": [
        "sb.set_theme(context='notebook', style='whitegrid')\n",
        "\n",
        "nlp = spacy.load('pt_core_news_md')\n",
        "rslp = RSLPStemmer()"
      ]
    },
    {
      "cell_type": "code",
      "execution_count": 3,
      "metadata": {},
      "outputs": [
        {
          "output_type": "stream",
          "name": "stdout",
          "text": [
            "2.3.0\nTrue\nNum GPUs Available:  1\n"
          ]
        }
      ],
      "source": [
        "print(tf.__version__)\n",
        "#print(keras.__version__)\n",
        "print(tf.test.is_built_with_cuda())\n",
        "print(\"Num GPUs Available: \", len(tf.config.experimental.list_physical_devices('GPU')))"
      ]
    },
    {
      "cell_type": "markdown",
      "metadata": {},
      "source": [
        "# Funções externas"
      ]
    },
    {
      "cell_type": "code",
      "execution_count": 81,
      "metadata": {},
      "outputs": [],
      "source": [
        "# função de Stemização completa do documento\n",
        "def stemmer_text(frase):\n",
        "  tokens = [rslp.stem(w) for w in frase.split()]\n",
        "  return \" \".join(tokens)\n",
        "\n",
        "# função de lematização completa do documento\n",
        "def lemmatizer_text(frase):\n",
        "  doc = nlp(frase)\n",
        "  tokens = [w.lemma_ for w in doc]\n",
        "  return \" \".join(tokens)\n",
        "\n",
        "# função de lematização somente para os verbos do documento\n",
        "def lemmatizer_verbs(frase):\n",
        "  doc = nlp(frase)\n",
        "  tokens = [w.lemma_ if w.pos_ == 'VERB' else w.text for w in doc]\n",
        "  return \" \".join(tokens)\n",
        "\n",
        "# função de lematização apenas ADV e ADJ\n",
        "def lemmatizer_adv_adj(frase):\n",
        "  doc = nlp(frase)\n",
        "  tokens = [w.lemma_ for w in doc if (w.pos_ == 'ADV' or w.pos_ == 'ADJ')]\n",
        "  return \" \".join(tokens)  \n",
        "\n",
        "# função para retiral o plural das palavras em português\n",
        "def plural_singular(palavra):\n",
        "  r2 = r\"ses$|zes$|res$\"\n",
        "  r3 = r\"ões$|ães$\"\n",
        "  r4 = r\"ais$|éis$|óis$|uis$\"\n",
        "  r5 = r\"is$\"\n",
        "  r6 = r\"eis$\"\n",
        "  if palavra.endswith('s'):\n",
        "    if re.findall(r2, palavra):\n",
        "      return palavra[:-2]\n",
        "    if re.findall(r3, palavra):\n",
        "      return palavra[:-3] + \"ão\"\n",
        "    if re.findall(r4, palavra):\n",
        "      return palavra[:-2] + \"l\"\n",
        "    if re.findall(r5, palavra):\n",
        "      return palavra[:-1] + \"l\"\n",
        "    if re.findall(r6, palavra):\n",
        "      return palavra[:-1] + \"il\"\n",
        "    if palavra.endswith('ns'):\n",
        "      return palavra[:-2] + \"m\"\n",
        "    return palavra[:-1]\n",
        "  return palavra  \n",
        "\n",
        "# função para executar o pré processamento\n",
        "def pre(frase):\n",
        "  regex = r\"[`,.?:;!&\\\"]\"\n",
        "  palavras = frase.split()\n",
        "  palavras = [p.lower() for p in palavras if p not in stops]\n",
        "  palavras = [re.sub(regex, \"\", p) for p in palavras]\n",
        "  palavras = [p for p in palavras if len(p) >= 3]\n",
        "  palavras = [p for p in palavras if not p.isnumeric()]\n",
        "  palavras = [plural_singular(p) for p in palavras]\n",
        "\n",
        "  return \" \".join(palavras)\n",
        "\n",
        "# função para criar as bases de treino e teste vetorizadas, com Unigramas, Bigramas e Trigramas\n",
        "def criar_vetores(base_treino, base_teste, coluna):\n",
        "    nomes = ['CV ngram(1,1)', 'CV ngram(1,2)', 'CV ngram(1,3)', 'CV ngram(2,2)', 'CV ngram(2,3)', 'CV ngram(3,3)',\n",
        "                'TF ngram(1,1)', 'TF ngram(1,2)', 'TF ngram(1,3)', 'TF ngram(2,2)', 'TF ngram(2,3)', 'TF ngram(3,3)',]\n",
        "    vetores = []\n",
        "    idx = 0\n",
        "\n",
        "    for x in range(1,4):\n",
        "        for y in range(1,4): \n",
        "            if (y < x):\n",
        "                continue\n",
        "            vect = CountVectorizer(ngram_range=(x,y), stop_words = stops, min_df=10)\n",
        "            vect.fit(df_treino[coluna])\n",
        "            vect_treino = vect.transform(df_treino[coluna])\n",
        "            vect_teste = vect.transform(df_teste[coluna])\n",
        "            vetores.append([nomes[idx], vect_treino, vect_teste])\n",
        "            idx += 1\n",
        "\n",
        "    for x in range(1,4):\n",
        "        for y in range(1,4): \n",
        "            if (y < x):\n",
        "                continue\n",
        "            vect = TfidfVectorizer(ngram_range=(x,y), stop_words = stops, min_df=10)\n",
        "            vect.fit(df_treino['texto'])\n",
        "            vect_treino = vect.transform(df_treino[coluna])\n",
        "            vect_teste = vect.transform(df_teste[coluna])\n",
        "            vetores.append([nomes[idx], vect_treino, vect_teste])\n",
        "            idx += 1\n",
        "\n",
        "    return vetores\n",
        "\n",
        "def testar_modelo(modelo, base_treino, base_teste, vetores, coluna):\n",
        "    f1score = 0\n",
        "    nome = \"\"\n",
        "    for x in vetores:\n",
        "        modelo.fit(x[1], base_treino[coluna])\n",
        "        predito = modelo.predict(x[2])\n",
        "        f1 = f1_score(base_teste[coluna], predito, average='weighted')\n",
        "        print(x[0], f1)\n",
        "        if (f1score < f1):\n",
        "            f1score = f1\n",
        "            nome = x[0]\n",
        "\n",
        "    return (nome, f1score)    "
      ]
    },
    {
      "cell_type": "code",
      "execution_count": null,
      "metadata": {},
      "outputs": [],
      "source": [
        "t = \"Este fime é muito bom e especial\"\n",
        "\n",
        "d = nlp(t)\n",
        "for w in d:\n",
        "    print(w.text, w.pos_, w.lemma_, w.dep_)"
      ]
    },
    {
      "cell_type": "markdown",
      "metadata": {},
      "source": [
        "# Carregando os Dados"
      ]
    },
    {
      "cell_type": "code",
      "execution_count": null,
      "metadata": {
        "id": "DMBI8SQtps1n"
      },
      "outputs": [],
      "source": [
        "df = pd.read_csv('./data/reviews-pt-br.csv', encoding='utf-8')"
      ]
    },
    {
      "cell_type": "code",
      "execution_count": null,
      "metadata": {
        "colab": {
          "base_uri": "https://localhost:8080/"
        },
        "id": "s__lBzDQwrcG",
        "outputId": "0bd3d84d-be60-4da3-c598-62f4a045b6c6"
      },
      "outputs": [],
      "source": [
        "df.info()"
      ]
    },
    {
      "cell_type": "code",
      "execution_count": null,
      "metadata": {
        "id": "ue0nV0uVo3OZ"
      },
      "outputs": [],
      "source": [
        "df.head(10)"
      ]
    },
    {
      "cell_type": "markdown",
      "metadata": {
        "id": "FyKC9Vhkp0BK"
      },
      "source": [
        "## Conferindo se temos dados nulos ou duplicados"
      ]
    },
    {
      "cell_type": "code",
      "execution_count": null,
      "metadata": {
        "id": "nze8UbKhosm9"
      },
      "outputs": [],
      "source": [
        "df.isna().sum()"
      ]
    },
    {
      "cell_type": "code",
      "execution_count": null,
      "metadata": {},
      "outputs": [],
      "source": [
        "df[df.duplicated()].count()"
      ]
    },
    {
      "cell_type": "markdown",
      "metadata": {},
      "source": [
        "## Distribuição das respostas"
      ]
    },
    {
      "cell_type": "code",
      "execution_count": null,
      "metadata": {},
      "outputs": [],
      "source": [
        "df.groupby('sentimento').count()"
      ]
    },
    {
      "cell_type": "code",
      "execution_count": null,
      "metadata": {},
      "outputs": [],
      "source": [
        "# em percentual\n",
        "round(df.groupby('sentimento').count().texto / df.shape[0] * 100, 2)"
      ]
    },
    {
      "cell_type": "code",
      "execution_count": null,
      "metadata": {
        "id": "FziwgqJmw9OD"
      },
      "outputs": [],
      "source": [
        "sb.countplot(x=df.sentimento)"
      ]
    },
    {
      "source": [
        "## Criando o conjunto de stopwords (NLTK + SPACY)"
      ],
      "cell_type": "markdown",
      "metadata": {}
    },
    {
      "cell_type": "code",
      "execution_count": 7,
      "metadata": {},
      "outputs": [
        {
          "output_type": "stream",
          "name": "stdout",
          "text": [
            "['a', 'acerca', 'ademais', 'adeus', 'agora', 'ainda', 'algo', 'algumas', 'alguns', 'ali', 'além', 'ambas', 'ambos', 'antes', 'ao', 'aos', 'apenas', 'apoia', 'apoio', 'apontar', 'após', 'aquela', 'aquelas', 'aquele', 'aqueles', 'aqui', 'aquilo', 'as', 'assim', 'através', 'atrás', 'até', 'aí', 'baixo', 'bastante', 'bem', 'boa', 'bom', 'breve', 'cada', 'caminho', 'catorze', 'cedo', 'cento', 'certamente', 'certeza', 'cima', 'cinco', 'coisa', 'com', 'como', 'comprida', 'comprido', 'conhecida', 'conhecido', 'conselho', 'contra', 'contudo', 'corrente', 'cuja', 'cujo', 'custa', 'cá', 'da', 'daquela', 'daquele', 'dar', 'das', 'de', 'debaixo', 'dela', 'delas', 'dele', 'deles', 'demais', 'dentro', 'depois', 'des', 'desde', 'dessa', 'desse', 'desta', 'deste', 'deve', 'devem', 'deverá', 'dez', 'dezanove', 'dezasseis', 'dezassete', 'dezoito', 'diante', 'direita', 'disso', 'diz', 'dizem', 'dizer', 'do', 'dois', 'dos', 'doze', 'duas', 'dá', 'dão', 'e', 'ela', 'elas', 'ele', 'eles', 'em', 'embora', 'enquanto', 'entre', 'então', 'era', 'eram', 'essa', 'essas', 'esse', 'esses', 'esta', 'estado', 'estamos', 'estar', 'estará', 'estas', 'estava', 'estavam', 'este', 'esteja', 'estejam', 'estejamos', 'estes', 'esteve', 'estive', 'estivemos', 'estiver', 'estivera', 'estiveram', 'estiverem', 'estivermos', 'estivesse', 'estivessem', 'estiveste', 'estivestes', 'estivéramos', 'estivéssemos', 'estou', 'está', 'estás', 'estávamos', 'estão', 'eu', 'eventual', 'exemplo', 'falta', 'fará', 'favor', 'faz', 'fazeis', 'fazem', 'fazemos', 'fazer', 'fazes', 'fazia', 'faço', 'fez', 'fim', 'final', 'foi', 'fomos', 'for', 'fora', 'foram', 'forem', 'forma', 'formos', 'fosse', 'fossem', 'foste', 'fostes', 'fui', 'fôramos', 'fôssemos', 'geral', 'grande', 'grandes', 'grupo', 'haja', 'hajam', 'hajamos', 'havemos', 'hei', 'houve', 'houvemos', 'houver', 'houvera', 'houveram', 'houverei', 'houverem', 'houveremos', 'houveria', 'houveriam', 'houvermos', 'houverá', 'houverão', 'houveríamos', 'houvesse', 'houvessem', 'houvéramos', 'houvéssemos', 'há', 'hão', 'inclusive', 'iniciar', 'inicio', 'ir', 'irá', 'isso', 'isto', 'já', 'lado', 'lhe', 'lhes', 'ligado', 'local', 'logo', 'longe', 'lugar', 'lá', 'maior', 'maioria', 'maiorias', 'mais', 'mal', 'mas', 'me', 'meio', 'menor', 'menos', 'meses', 'mesmo', 'meu', 'meus', 'mil', 'minha', 'minhas', 'momento', 'muito', 'muitos', 'máximo', 'mês', 'na', 'nada', 'naquela', 'naquele', 'nas', 'nem', 'nenhuma', 'nessa', 'nesse', 'nesta', 'neste', 'no', 'nos', 'nossa', 'nossas', 'nosso', 'nossos', 'nova', 'novas', 'nove', 'novo', 'novos', 'num', 'numa', 'nunca', 'nuns', 'não', 'nível', 'nós', 'número', 'números', 'o', 'obrigada', 'obrigado', 'oitava', 'oitavo', 'oito', 'onde', 'ontem', 'onze', 'ora', 'os', 'ou', 'outra', 'outras', 'outros', 'para', 'parece', 'parte', 'partir', 'pegar', 'pela', 'pelas', 'pelo', 'pelos', 'perto', 'pode', 'podem', 'poder', 'poderá', 'podia', 'pois', 'ponto', 'pontos', 'por', 'porquanto', 'porque', 'porquê', 'portanto', 'porém', 'posição', 'possivelmente', 'posso', 'possível', 'pouca', 'pouco', 'povo', 'primeira', 'primeiro', 'próprio', 'próxima', 'próximo', 'puderam', 'pôde', 'põe', 'põem', 'quais', 'qual', 'qualquer', 'quando', 'quanto', 'quarta', 'quarto', 'quatro', 'que', 'quem', 'quer', 'querem', 'quero', 'questão', 'quieta', 'quieto', 'quinta', 'quinto', 'quinze', 'quê', 'relação', 'sabe', 'saber', 'se', 'segunda', 'segundo', 'sei', 'seis', 'seja', 'sejam', 'sejamos', 'sem', 'sempre', 'ser', 'serei', 'seremos', 'seria', 'seriam', 'será', 'serão', 'seríamos', 'sete', 'seu', 'seus', 'sexta', 'sexto', 'sim', 'sistema', 'sob', 'sobre', 'sois', 'somente', 'somos', 'sou', 'sua', 'suas', 'são', 'sétima', 'sétimo', 'só', 'tais', 'tal', 'talvez', 'também', 'tanta', 'tanto', 'tarde', 'te', 'tem', 'temos', 'tempo', 'tendes', 'tenha', 'tenham', 'tenhamos', 'tenho', 'tens', 'tentar', 'tentaram', 'tente', 'tentei', 'ter', 'terceira', 'terceiro', 'terei', 'teremos', 'teria', 'teriam', 'terá', 'terão', 'teríamos', 'teu', 'teus', 'teve', 'tinha', 'tinham', 'tipo', 'tive', 'tivemos', 'tiver', 'tivera', 'tiveram', 'tiverem', 'tivermos', 'tivesse', 'tivessem', 'tiveste', 'tivestes', 'tivéramos', 'tivéssemos', 'toda', 'todas', 'todo', 'todos', 'treze', 'três', 'tu', 'tua', 'tuas', 'tudo', 'tão', 'tém', 'têm', 'tínhamos', 'um', 'uma', 'umas', 'uns', 'usa', 'usar', 'vai', 'vais', 'valor', 'veja', 'vem', 'vens', 'ver', 'vez', 'vezes', 'vinda', 'vindo', 'vinte', 'você', 'vocês', 'vos', 'vossa', 'vossas', 'vosso', 'vossos', 'vários', 'vão', 'vêm', 'vós', 'zero', 'à', 'às', 'área', 'é', 'éramos', 'és', 'último']\n"
          ]
        }
      ],
      "source": [
        "stopwords_nltk = nltk.corpus.stopwords.words('portuguese')\n",
        "stopwords_spacy = nlp.Defaults.stop_words\n",
        "stops = list(set(stopwords_spacy).union(stopwords_nltk))\n",
        "print(sorted(stops))"
      ]
    },
    {
      "source": [
        "# Analisando o conjunto total das palavras"
      ],
      "cell_type": "markdown",
      "metadata": {}
    },
    {
      "cell_type": "code",
      "execution_count": null,
      "metadata": {},
      "outputs": [],
      "source": [
        "# exemplo de críticas no nosso dataframe\n",
        "print(df.texto[0])\n",
        "print(\"-\" * 40)\n",
        "print(df.texto[1536])\n",
        "print(\"-\" * 40)\n",
        "print(df.texto[8192])"
      ]
    },
    {
      "cell_type": "code",
      "execution_count": null,
      "metadata": {},
      "outputs": [],
      "source": [
        "# criando um texto completo com todas as críticas\n",
        "texto_completo = \" \".join([texto for texto in df.texto])\n",
        "texto_completo_pos = \" \".join([texto for texto in df[df.sentimento == 'pos'].texto])\n",
        "texto_completo_neg = \" \".join([texto for texto in df[df.sentimento == 'neg'].texto])"
      ]
    },
    {
      "cell_type": "code",
      "execution_count": null,
      "metadata": {},
      "outputs": [],
      "source": [
        "print(\"QTD de todas as palvaras\", len(texto_completo.split()))\n",
        "print(\"QTD de todas as palvaras das críticas positivas\", len(texto_completo_pos.split()))\n",
        "print(\"QTD de todas as palvaras das críticas negativas\", len(texto_completo_neg.split()))"
      ]
    },
    {
      "cell_type": "code",
      "execution_count": null,
      "metadata": {},
      "outputs": [],
      "source": [
        "# criando uma wordcloud de todas as palavra sem as stopwords\n",
        "wordcloud = wd.WordCloud(width = 3000, height = 2000, max_words=50, random_state=42, background_color='black', colormap='Blues', collocations=False, stopwords = stops).generate(texto_completo)\n",
        "\n",
        "plt.figure(figsize=(20, 10))\n",
        "plt.title(\"Todas as palavras da Base de Dados retirando as StopWords\", fontdict={'fontsize':24})\n",
        "plt.imshow(wordcloud) \n",
        "plt.axis(\"off\");\n",
        "plt.show()"
      ]
    },
    {
      "cell_type": "code",
      "execution_count": null,
      "metadata": {},
      "outputs": [],
      "source": [
        "# criando uma wordcloud de todas as palavra sem as stopwords\n",
        "wordcloud = wd.WordCloud(width = 3000, height = 2000, max_words=50, random_state=42, background_color='black', colormap='Blues', collocations=False, stopwords = stops).generate(texto_completo_pos)\n",
        "\n",
        "plt.figure(figsize=(20, 10))\n",
        "plt.title(\"Todas as palavras POSITIVAS da Base de Dados retirando as StopWords\", fontdict={'fontsize':24})\n",
        "plt.imshow(wordcloud) \n",
        "plt.axis(\"off\");\n",
        "plt.show()"
      ]
    },
    {
      "cell_type": "code",
      "execution_count": null,
      "metadata": {},
      "outputs": [],
      "source": [
        "# criando uma wordcloud de todas as palavra sem as stopwords\n",
        "wordcloud = wd.WordCloud(width = 3000, height = 2000, max_words=50, random_state=42, background_color='black', colormap='Blues', collocations=False, stopwords = stops).generate(texto_completo_neg)\n",
        "\n",
        "plt.figure(figsize=(20, 10))\n",
        "plt.title(\"Todas as palavras NEGATIVAS da Base de Dados retirando as StopWords\", fontdict={'fontsize':24})\n",
        "plt.imshow(wordcloud) \n",
        "plt.axis(\"off\");\n",
        "plt.show()"
      ]
    },
    {
      "source": [
        "## Criando uma função de pré processamento"
      ],
      "cell_type": "markdown",
      "metadata": {}
    },
    {
      "cell_type": "code",
      "execution_count": null,
      "metadata": {},
      "outputs": [],
      "source": [
        "palavras = texto_completo.split()\n",
        "len(palavras)"
      ]
    },
    {
      "cell_type": "code",
      "execution_count": null,
      "metadata": {},
      "outputs": [],
      "source": [
        "# retirando as stopwords das palavras\n",
        "palavras = [p.lower() for p in palavras if p not in stops]\n",
        "len(palavras)"
      ]
    },
    {
      "cell_type": "code",
      "execution_count": null,
      "metadata": {},
      "outputs": [],
      "source": [
        "# retirando pontuações das palavras\n",
        "regex = r\"[`,.?:;!&\\\"]\"\n",
        "palavras = [re.sub(regex, \"\", p) for p in palavras]\n",
        "len(palavras)"
      ]
    },
    {
      "cell_type": "code",
      "execution_count": null,
      "metadata": {},
      "outputs": [],
      "source": [
        "#retirando palavras menores que 3 caracteres\n",
        "palavras = [p for p in palavras if len(p) >= 3]\n",
        "len(palavras)"
      ]
    },
    {
      "cell_type": "code",
      "execution_count": null,
      "metadata": {},
      "outputs": [],
      "source": [
        "# retirando os números das palavras\n",
        "palavras = [p for p in palavras if not p.isnumeric()]\n",
        "len(palavras)"
      ]
    },
    {
      "cell_type": "code",
      "execution_count": null,
      "metadata": {},
      "outputs": [],
      "source": [
        "#convertendo as palavras para o singular\n",
        "palavras = [plural_singular(p) for p in palavras]\n",
        "len(palavras)"
      ]
    },
    {
      "source": [
        "## Criamos uma função chamada \"pre\" que iremos usar em nossas análises dos modelos"
      ],
      "cell_type": "markdown",
      "metadata": {}
    },
    {
      "source": [
        "# Vamos analisar quais palavras são comuns as críticas negativas e positivas"
      ],
      "cell_type": "markdown",
      "metadata": {}
    },
    {
      "cell_type": "code",
      "execution_count": null,
      "metadata": {},
      "outputs": [],
      "source": [
        "todas_palavras_pos = texto_completo_pos.split()\n",
        "todas_palavras_pos = [pre(w) for w in todas_palavras_pos]\n",
        "todas_palavras_pos = [w for w in todas_palavras_pos if w != '']\n",
        "ctpp = Counter()\n",
        "ctpp.update(todas_palavras_pos)\n",
        "ctpp.most_common(50)"
      ]
    },
    {
      "cell_type": "code",
      "execution_count": null,
      "metadata": {},
      "outputs": [],
      "source": [
        "todas_palavras_neg = texto_completo_neg.split()\n",
        "todas_palavras_neg = [pre(w) for w in todas_palavras_neg]\n",
        "todas_palavras_neg = [w for w in todas_palavras_neg if w != '']\n",
        "ctpn = Counter()\n",
        "ctpn.update(todas_palavras_neg)\n",
        "ctpn.most_common(50)"
      ]
    },
    {
      "cell_type": "code",
      "execution_count": null,
      "metadata": {},
      "outputs": [],
      "source": [
        "%%time\n",
        "p = ctpp.most_common()\n",
        "n = ctpn.most_common()\n",
        "r = [[x for x in p if x[0] == y[0]] for y in n]\n",
        "r = [x for x in r if len(x) != 0]\n",
        "len(r)"
      ]
    },
    {
      "cell_type": "code",
      "execution_count": null,
      "metadata": {},
      "outputs": [],
      "source": [
        "palavras_comuns = [w[0][0] for w in r]\n",
        "palavras_comuns[:100]"
      ]
    },
    {
      "cell_type": "code",
      "execution_count": null,
      "metadata": {},
      "outputs": [],
      "source": [
        "# criando uma wordcloud das palavras filtradas\n",
        "wordcloud = wd.WordCloud(width = 3000, height = 2000, max_words=50, random_state=42, background_color='black', colormap='Blues', collocations=False).fit_words(dict(ctp))\n",
        "\n",
        "plt.figure(figsize=(20, 10))\n",
        "plt.title(\"Todas as palavras da Base de Dados após o Pré Pocessamento\", fontdict={'fontsize':24})\n",
        "plt.imshow(wordcloud) \n",
        "plt.axis(\"off\");\n",
        "plt.show()"
      ]
    },
    {
      "source": [
        "## Criando as colunas tratadas"
      ],
      "cell_type": "markdown",
      "metadata": {}
    },
    {
      "cell_type": "code",
      "execution_count": null,
      "metadata": {},
      "outputs": [],
      "source": [
        "%%time\n",
        "#df['stem'] = df.texto.apply(stemmer_text)"
      ]
    },
    {
      "cell_type": "code",
      "execution_count": null,
      "metadata": {},
      "outputs": [],
      "source": [
        "%time\n",
        "#df['lemm'] = df.texto.apply(lemmatizer_text)"
      ]
    },
    {
      "cell_type": "code",
      "execution_count": null,
      "metadata": {},
      "outputs": [],
      "source": [
        "%%time\n",
        "#df['verb'] = df.texto.apply(lemmatizer_verbs)"
      ]
    },
    {
      "cell_type": "code",
      "execution_count": null,
      "metadata": {},
      "outputs": [],
      "source": [
        "%%time\n",
        "#df['pre'] = df.texto.apply(pre)"
      ]
    },
    {
      "cell_type": "code",
      "execution_count": 16,
      "metadata": {},
      "outputs": [],
      "source": [
        "#df.to_csv(\"./data/criticas.csv\")\n",
        "df = pd.read_csv('../criticas.csv')\n",
        "df = df.drop(['Unnamed: 0', 'codigo'], axis=1)"
      ]
    },
    {
      "cell_type": "code",
      "execution_count": 17,
      "metadata": {},
      "outputs": [
        {
          "output_type": "execute_result",
          "data": {
            "text/plain": [
              "                                               texto sentimento  \\\n",
              "0  Esse bocejo de pia de cozinha de orçamento mui...        neg   \n",
              "1  O Bravo parece indicar que o personagem princi...        neg   \n",
              "2  Durante a Guerra pela Independência do Sul, GE...        pos   \n",
              "3  É fora de questão que a verdadeira Anna Anders...        pos   \n",
              "4  Concordo totalmente com outro dos revisores aq...        neg   \n",
              "5  Obra-prima absoluta de um filme! Boa noite Mr....        pos   \n",
              "6  Embora a palavra megalmania seja muito usada p...        pos   \n",
              "7  Esta tem que ser a peça mais incrível de porca...        neg   \n",
              "8  Eu suponho que todas as piadas internas são o ...        neg   \n",
              "9  Se há um tema deste filme, é que as pessoas po...        pos   \n",
              "\n",
              "                                                stem  \\\n",
              "0  ess bocej de pia de co de orç muit baix é o ti...   \n",
              "1  o brav parec indic que o person principal, cla...   \n",
              "2  dur a guerr pel independ do sul, gener spanky ...   \n",
              "3  é for de quest que a verd ann anderson não era...   \n",
              "4  concord total com outr do revi aqu que fic sat...   \n",
              "5  obra-pr absolut de um filme! boa noit mr.tom r...   \n",
              "6  emb a palavr megalman sej muit us par descrev ...   \n",
              "7  est tem que ser a peç mais incr de porc cinema...   \n",
              "8  eu suponh que tod as pi intern são o que fez d...   \n",
              "9  se há um tem dest filme, é que as pesso pod li...   \n",
              "\n",
              "                                                lemm  \\\n",
              "0  Esse bocejar de pio de cozinhar de orçamentar ...   \n",
              "1  O Bravo parecer indicar que o personagem princ...   \n",
              "2  Durante o Guerra pelar Independência do Sul , ...   \n",
              "3  É ser de questão que o verdadeiro Anna Anderso...   \n",
              "4  Concordo totalmente com outro dos revisor aqui...   \n",
              "5  Obra-prima absoluto de um filmar ! Boa noite M...   \n",
              "6  Embora o palavra megalmania ser muito usar par...   \n",
              "7  Esta ter que ser o pedir mais incrível de porc...   \n",
              "8  Eu supor que todo o piar interno ser o que faz...   \n",
              "9  Se haver um temer dar filmar , ser que o pesso...   \n",
              "\n",
              "                                                verb  \\\n",
              "0  Esse bocejo de pia de cozinha de orçamento mui...   \n",
              "1  O Bravo parecer indicar que o personagem princ...   \n",
              "2  Durante a Guerra pela Independência do Sul , G...   \n",
              "3  É fora de questão que a verdadeira Anna Anders...   \n",
              "4  Concordo totalmente com outro dos revisores aq...   \n",
              "5  Obra-prima absoluta de um filme ! Boa noite Mr...   \n",
              "6  Embora a palavra megalmania seja muito usar pa...   \n",
              "7  Esta tem que ser a peça mais incrível de porca...   \n",
              "8  Eu supor que todas as piadas internas são o qu...   \n",
              "9  Se haver um tema deste filme , ser que as pess...   \n",
              "\n",
              "                                                 pre  \n",
              "0  esse bocejo pia cozinha orçamento filme feito ...  \n",
              "1  bravo indicar personagem principal claro coraj...  \n",
              "2  durante guerra independência sul general spank...  \n",
              "3  verdadeira anna anderson princesa anastasia al...  \n",
              "4  concordo totalmente outro revisor ficou satisf...  \n",
              "5  obra-prima absoluta filme boa noite mrtom rapi...  \n",
              "6  embora palavra megalmania usada descrever gene...  \n",
              "7  esta peça incrível porcaria cinematográfica as...  \n",
              "8  suponho piada interna munchie clássico cult pe...  \n",
              "9  tema filme pessoa lidar dificuldade imaginação...  "
            ],
            "text/html": "<div>\n<style scoped>\n    .dataframe tbody tr th:only-of-type {\n        vertical-align: middle;\n    }\n\n    .dataframe tbody tr th {\n        vertical-align: top;\n    }\n\n    .dataframe thead th {\n        text-align: right;\n    }\n</style>\n<table border=\"1\" class=\"dataframe\">\n  <thead>\n    <tr style=\"text-align: right;\">\n      <th></th>\n      <th>texto</th>\n      <th>sentimento</th>\n      <th>stem</th>\n      <th>lemm</th>\n      <th>verb</th>\n      <th>pre</th>\n    </tr>\n  </thead>\n  <tbody>\n    <tr>\n      <th>0</th>\n      <td>Esse bocejo de pia de cozinha de orçamento mui...</td>\n      <td>neg</td>\n      <td>ess bocej de pia de co de orç muit baix é o ti...</td>\n      <td>Esse bocejar de pio de cozinhar de orçamentar ...</td>\n      <td>Esse bocejo de pia de cozinha de orçamento mui...</td>\n      <td>esse bocejo pia cozinha orçamento filme feito ...</td>\n    </tr>\n    <tr>\n      <th>1</th>\n      <td>O Bravo parece indicar que o personagem princi...</td>\n      <td>neg</td>\n      <td>o brav parec indic que o person principal, cla...</td>\n      <td>O Bravo parecer indicar que o personagem princ...</td>\n      <td>O Bravo parecer indicar que o personagem princ...</td>\n      <td>bravo indicar personagem principal claro coraj...</td>\n    </tr>\n    <tr>\n      <th>2</th>\n      <td>Durante a Guerra pela Independência do Sul, GE...</td>\n      <td>pos</td>\n      <td>dur a guerr pel independ do sul, gener spanky ...</td>\n      <td>Durante o Guerra pelar Independência do Sul , ...</td>\n      <td>Durante a Guerra pela Independência do Sul , G...</td>\n      <td>durante guerra independência sul general spank...</td>\n    </tr>\n    <tr>\n      <th>3</th>\n      <td>É fora de questão que a verdadeira Anna Anders...</td>\n      <td>pos</td>\n      <td>é for de quest que a verd ann anderson não era...</td>\n      <td>É ser de questão que o verdadeiro Anna Anderso...</td>\n      <td>É fora de questão que a verdadeira Anna Anders...</td>\n      <td>verdadeira anna anderson princesa anastasia al...</td>\n    </tr>\n    <tr>\n      <th>4</th>\n      <td>Concordo totalmente com outro dos revisores aq...</td>\n      <td>neg</td>\n      <td>concord total com outr do revi aqu que fic sat...</td>\n      <td>Concordo totalmente com outro dos revisor aqui...</td>\n      <td>Concordo totalmente com outro dos revisores aq...</td>\n      <td>concordo totalmente outro revisor ficou satisf...</td>\n    </tr>\n    <tr>\n      <th>5</th>\n      <td>Obra-prima absoluta de um filme! Boa noite Mr....</td>\n      <td>pos</td>\n      <td>obra-pr absolut de um filme! boa noit mr.tom r...</td>\n      <td>Obra-prima absoluto de um filmar ! Boa noite M...</td>\n      <td>Obra-prima absoluta de um filme ! Boa noite Mr...</td>\n      <td>obra-prima absoluta filme boa noite mrtom rapi...</td>\n    </tr>\n    <tr>\n      <th>6</th>\n      <td>Embora a palavra megalmania seja muito usada p...</td>\n      <td>pos</td>\n      <td>emb a palavr megalman sej muit us par descrev ...</td>\n      <td>Embora o palavra megalmania ser muito usar par...</td>\n      <td>Embora a palavra megalmania seja muito usar pa...</td>\n      <td>embora palavra megalmania usada descrever gene...</td>\n    </tr>\n    <tr>\n      <th>7</th>\n      <td>Esta tem que ser a peça mais incrível de porca...</td>\n      <td>neg</td>\n      <td>est tem que ser a peç mais incr de porc cinema...</td>\n      <td>Esta ter que ser o pedir mais incrível de porc...</td>\n      <td>Esta tem que ser a peça mais incrível de porca...</td>\n      <td>esta peça incrível porcaria cinematográfica as...</td>\n    </tr>\n    <tr>\n      <th>8</th>\n      <td>Eu suponho que todas as piadas internas são o ...</td>\n      <td>neg</td>\n      <td>eu suponh que tod as pi intern são o que fez d...</td>\n      <td>Eu supor que todo o piar interno ser o que faz...</td>\n      <td>Eu supor que todas as piadas internas são o qu...</td>\n      <td>suponho piada interna munchie clássico cult pe...</td>\n    </tr>\n    <tr>\n      <th>9</th>\n      <td>Se há um tema deste filme, é que as pessoas po...</td>\n      <td>pos</td>\n      <td>se há um tem dest filme, é que as pesso pod li...</td>\n      <td>Se haver um temer dar filmar , ser que o pesso...</td>\n      <td>Se haver um tema deste filme , ser que as pess...</td>\n      <td>tema filme pessoa lidar dificuldade imaginação...</td>\n    </tr>\n  </tbody>\n</table>\n</div>"
          },
          "metadata": {},
          "execution_count": 17
        }
      ],
      "source": [
        "df.head(10)"
      ]
    },
    {
      "cell_type": "code",
      "execution_count": null,
      "metadata": {},
      "outputs": [],
      "source": [
        "stops2 = set(stops).union(palavras_comuns[:100])\n",
        "len(stops2)"
      ]
    },
    {
      "source": [
        "# Dividindo a base em treino e teste"
      ],
      "cell_type": "markdown",
      "metadata": {}
    },
    {
      "cell_type": "code",
      "execution_count": 18,
      "metadata": {},
      "outputs": [],
      "source": [
        "# dividindo com 20% para o treino e random state = 42\n",
        "df_treino, df_teste = train_test_split(\n",
        "      df, \n",
        "      test_size = 0.2, \n",
        "      random_state = 42\n",
        "  )"
      ]
    },
    {
      "cell_type": "code",
      "execution_count": 19,
      "metadata": {},
      "outputs": [
        {
          "output_type": "execute_result",
          "data": {
            "text/plain": [
              "sentimento\n",
              "neg    40.07\n",
              "pos    39.93\n",
              "Name: texto, dtype: float64"
            ]
          },
          "metadata": {},
          "execution_count": 19
        }
      ],
      "source": [
        "# distribuição das respostas do treino em %\n",
        "round(df_treino.groupby('sentimento').count() / df.shape[0] * 100, 2).texto"
      ]
    },
    {
      "cell_type": "code",
      "execution_count": 20,
      "metadata": {},
      "outputs": [
        {
          "output_type": "execute_result",
          "data": {
            "text/plain": [
              "sentimento\n",
              "neg    10.04\n",
              "pos     9.96\n",
              "Name: texto, dtype: float64"
            ]
          },
          "metadata": {},
          "execution_count": 20
        }
      ],
      "source": [
        "# distribuição das respostas do teste em %\n",
        "round(df_teste.groupby('sentimento').count() / df.shape[0] * 100, 2).texto"
      ]
    },
    {
      "source": [
        "# Testando diversos modelos com a base total de palavras sem stopwords"
      ],
      "cell_type": "markdown",
      "metadata": {}
    },
    {
      "source": [
        "## Criando os vetores com CountVectorizer e TfidfVectorizer"
      ],
      "cell_type": "markdown",
      "metadata": {}
    },
    {
      "cell_type": "code",
      "execution_count": 42,
      "metadata": {},
      "outputs": [
        {
          "output_type": "stream",
          "name": "stdout",
          "text": [
            "Wall time: 4min 23s\n"
          ]
        }
      ],
      "source": [
        "%%time\n",
        "# criando os vetores para Unigramas, Bigramas, Trigramas com CountVectorizer e TfidfVectorizer\n",
        "vetores = criar_vetores(df_treino, df_teste, 'texto')"
      ]
    },
    {
      "source": [
        "## Testando diversos modelos com os vetores criados"
      ],
      "cell_type": "markdown",
      "metadata": {}
    },
    {
      "cell_type": "code",
      "execution_count": 50,
      "metadata": {},
      "outputs": [
        {
          "output_type": "stream",
          "name": "stdout",
          "text": [
            "CV ngram(1,1) 0.7334065607517617\n",
            "CV ngram(1,2) 0.7389972124839376\n",
            "CV ngram(1,3) 0.7416456410429769\n",
            "CV ngram(2,2) 0.6132194031871322\n",
            "CV ngram(2,3) 0.6143754350124869\n",
            "CV ngram(3,3) 0.440902916358259\n",
            "TF ngram(1,1) 0.7242198298707084\n",
            "TF ngram(1,2) 0.7260879021556159\n",
            "TF ngram(1,3) 0.7269344378693082\n",
            "TF ngram(2,2) 0.611408385276224\n",
            "TF ngram(2,3) 0.6152997395176724\n",
            "TF ngram(3,3) 0.4438377004527155\n",
            "\n",
            "Árvore de Decisão - CV ngram(1,3) - F1 Score: 74.16%\n",
            "Wall time: 3min 53s\n"
          ]
        }
      ],
      "source": [
        "%%time\n",
        "# modelo Árvore de Decisão\n",
        "modelo = DecisionTreeClassifier(random_state=42, max_depth=50)\n",
        "# calculo com todos os vetores.\n",
        "f1score = testar_modelo(modelo, df_treino, df_teste, vetores, 'sentimento')\n",
        "\n",
        "print()\n",
        "print(f\"Árvore de Decisão - {f1score[0]} - F1 Score: {round(f1score[1]*100,2)}%\")"
      ]
    },
    {
      "cell_type": "code",
      "execution_count": 70,
      "metadata": {},
      "outputs": [
        {
          "output_type": "stream",
          "name": "stdout",
          "text": [
            "CV ngram(1,1) 0.8570091422646389\n",
            "CV ngram(1,2) 0.8580194411160453\n",
            "CV ngram(1,3) 0.8610559351736565\n",
            "CV ngram(2,2) 0.7738974149816571\n",
            "CV ngram(2,3) 0.7747957289121654\n",
            "CV ngram(3,3) 0.5939805367253124\n",
            "TF ngram(1,1) 0.8527194695341529\n",
            "TF ngram(1,2) 0.8548498155717084\n",
            "TF ngram(1,3) 0.8569934729963394\n",
            "TF ngram(2,2) 0.7777573321458281\n",
            "TF ngram(2,3) 0.7803476027605121\n",
            "TF ngram(3,3) 0.5922386561501604\n",
            "\n",
            "Random Forest - CV ngram(1,3) - F1 Score: 86.11%\n",
            "Wall time: 6min 19s\n"
          ]
        }
      ],
      "source": [
        "%%time\n",
        "# modelo Random Forest\n",
        "modelo = RandomForestClassifier(n_estimators=200, random_state=42, n_jobs=-1)\n",
        "# calculo com todos os vetores.\n",
        "f1score = testar_modelo(modelo, df_treino, df_teste, vetores, 'sentimento')\n",
        "\n",
        "print()\n",
        "print(f\"Random Forest - {f1score[0]} - F1 Score: {round(f1score[1]*100,2)}%\")"
      ]
    },
    {
      "cell_type": "code",
      "execution_count": 52,
      "metadata": {},
      "outputs": [
        {
          "output_type": "stream",
          "name": "stdout",
          "text": [
            "CV ngram(1,1) 0.8113072237344358\n",
            "CV ngram(1,2) 0.8119893681619048\n",
            "CV ngram(1,3) 0.8119893681619048\n",
            "CV ngram(2,2) 0.6631463063565599\n",
            "CV ngram(2,3) 0.6630078264083823\n",
            "CV ngram(3,3) 0.46169500243275796\n",
            "TF ngram(1,1) 0.8087066011318896\n",
            "TF ngram(1,2) 0.8060494093349827\n",
            "TF ngram(1,3) 0.8055787156701836\n",
            "TF ngram(2,2) 0.668940166492079\n",
            "TF ngram(2,3) 0.6717980213185778\n",
            "TF ngram(3,3) 0.46618350077771004\n",
            "\n",
            "AdaBoost - CV ngram(1,2) - F1 Score: 81.2%\n",
            "Wall time: 3min 46s\n"
          ]
        }
      ],
      "source": [
        "%%time\n",
        "# modelo AdaBoost\n",
        "modelo = AdaBoostClassifier(n_estimators=100, random_state=42)\n",
        "# calculo com todos os vetores.\n",
        "f1score = testar_modelo(modelo, df_treino, df_teste, vetores, 'sentimento')\n",
        "\n",
        "print()\n",
        "print(f\"AdaBoost - {f1score[0]} - F1 Score: {round(f1score[1]*100,2)}%\")"
      ]
    },
    {
      "cell_type": "code",
      "execution_count": 53,
      "metadata": {},
      "outputs": [
        {
          "output_type": "stream",
          "name": "stdout",
          "text": [
            "CV ngram(1,1) 0.7829529863109658\n",
            "CV ngram(1,2) 0.7822625447604084\n",
            "CV ngram(1,3) 0.7840829303681472\n",
            "CV ngram(2,2) 0.7470878093253949\n",
            "CV ngram(2,3) 0.7506578822171368\n",
            "CV ngram(3,3) 0.5922569249811895\n",
            "TF ngram(1,1) 0.7935963307402973\n",
            "TF ngram(1,2) 0.787549924702114\n",
            "TF ngram(1,3) 0.793389110907307\n",
            "TF ngram(2,2) 0.749359985803243\n",
            "TF ngram(2,3) 0.7512825374870906\n",
            "TF ngram(3,3) 0.592533692930128\n",
            "\n",
            "Bagging - TF ngram(1,1) - F1 Score: 79.36%\n",
            "Wall time: 27min 30s\n"
          ]
        }
      ],
      "source": [
        "%%time\n",
        "# modelo Bagging Classifier\n",
        "modelo = BaggingClassifier(n_estimators=20, random_state=42, n_jobs=-1)\n",
        "# calculo com todos os vetores.\n",
        "f1score = testar_modelo(modelo, df_treino, df_teste, vetores, 'sentimento')\n",
        "\n",
        "print()\n",
        "print(f\"Bagging - {f1score[0]} - F1 Score: {round(f1score[1]*100,2)}%\")"
      ]
    },
    {
      "cell_type": "code",
      "execution_count": 55,
      "metadata": {},
      "outputs": [
        {
          "output_type": "stream",
          "name": "stdout",
          "text": [
            "CV ngram(1,1) 0.8708200533848273\n",
            "CV ngram(1,2) 0.8759927433580862\n",
            "CV ngram(1,3) 0.8758795252960768\n",
            "CV ngram(2,2) 0.7811582020103887\n",
            "CV ngram(2,3) 0.7781320574766459\n",
            "CV ngram(3,3) 0.5925747779938603\n",
            "TF ngram(1,1) 0.8709188943514428\n",
            "TF ngram(1,2) 0.8750847464964969\n",
            "TF ngram(1,3) 0.8756461176623055\n",
            "TF ngram(2,2) 0.7963599859499786\n",
            "TF ngram(2,3) 0.7935512034983379\n",
            "TF ngram(3,3) 0.5923588709500518\n",
            "\n",
            "Extra Trees Regressor - CV ngram(1,2) - F1 Score: 87.6%\n",
            "Wall time: 9min 20s\n"
          ]
        }
      ],
      "source": [
        "%%time\n",
        "# modelo Extra Trees Regressor\n",
        "modelo = ExtraTreesClassifier(n_estimators=200, random_state=42, n_jobs=-1)\n",
        "# calculo com todos os vetores.\n",
        "f1score = testar_modelo(modelo, df_treino, df_teste, vetores, 'sentimento')\n",
        "\n",
        "print()\n",
        "print(f\"Extra Trees Regressor - {f1score[0]} - F1 Score: {round(f1score[1]*100,2)}%\")"
      ]
    },
    {
      "cell_type": "code",
      "execution_count": 57,
      "metadata": {},
      "outputs": [
        {
          "output_type": "stream",
          "name": "stdout",
          "text": [
            "CV ngram(1,1) 0.8131037840926045\n",
            "CV ngram(1,2) 0.8154661088177287\n",
            "CV ngram(1,3) 0.8136564531371888\n",
            "CV ngram(2,2) 0.703771331017916\n",
            "CV ngram(2,3) 0.7053132711254233\n",
            "CV ngram(3,3) 0.5000896766537951\n",
            "TF ngram(1,1) 0.8132784816099118\n",
            "TF ngram(1,2) 0.8164773941162936\n",
            "TF ngram(1,3) 0.814008556621088\n",
            "TF ngram(2,2) 0.7067345728742199\n",
            "TF ngram(2,3) 0.7063127642730296\n",
            "TF ngram(3,3) 0.500132627555598\n",
            "\n",
            "Gradient Boosting - TF ngram(1,2) - F1 Score: 81.65%\n",
            "Wall time: 13min 26s\n"
          ]
        }
      ],
      "source": [
        "%%time\n",
        "# modelo Gradient Boosting\n",
        "modelo = GradientBoostingClassifier(n_estimators=200, random_state=42)\n",
        "# calculo com todos os vetores.\n",
        "f1score = testar_modelo(modelo, df_treino, df_teste, vetores, 'sentimento')\n",
        "\n",
        "print()\n",
        "print(f\"Gradient Boosting - {f1score[0]} - F1 Score: {round(f1score[1]*100,2)}%\")"
      ]
    },
    {
      "cell_type": "code",
      "execution_count": 60,
      "metadata": {},
      "outputs": [
        {
          "output_type": "stream",
          "name": "stderr",
          "text": [
            "C:\\Users\\hgf77\\anaconda3\\envs\\tf-gpu\\lib\\site-packages\\sklearn\\linear_model\\_sag.py:328: ConvergenceWarning: The max_iter was reached which means the coef_ did not converge\n",
            "  warnings.warn(\"The max_iter was reached which means \"\n",
            "CV ngram(1,1) 0.8701556226033939\n",
            "C:\\Users\\hgf77\\anaconda3\\envs\\tf-gpu\\lib\\site-packages\\sklearn\\linear_model\\_sag.py:328: ConvergenceWarning: The max_iter was reached which means the coef_ did not converge\n",
            "  warnings.warn(\"The max_iter was reached which means \"\n",
            "CV ngram(1,2) 0.8791421062562188\n",
            "C:\\Users\\hgf77\\anaconda3\\envs\\tf-gpu\\lib\\site-packages\\sklearn\\linear_model\\_sag.py:328: ConvergenceWarning: The max_iter was reached which means the coef_ did not converge\n",
            "  warnings.warn(\"The max_iter was reached which means \"\n",
            "CV ngram(1,3) 0.8792543850650043\n",
            "CV ngram(2,2) 0.8180140954546817\n",
            "CV ngram(2,3) 0.8157729065954192\n",
            "CV ngram(3,3) 0.5957558146768905\n",
            "TF ngram(1,1) 0.8809187826450897\n",
            "TF ngram(1,2) 0.889348947719393\n",
            "TF ngram(1,3) 0.8890110656229786\n",
            "TF ngram(2,2) 0.8275236995216966\n",
            "TF ngram(2,3) 0.8272959671164328\n",
            "TF ngram(3,3) 0.5968758108946228\n",
            "\n",
            "Regressão Logística - TF ngram(1,2) - F1 Score: 88.93%\n",
            "Wall time: 2min 51s\n"
          ]
        }
      ],
      "source": [
        "%%time\n",
        "# modelo Regressão Logística\n",
        "modelo = LogisticRegression(solver='saga', max_iter=1000, random_state=42, n_jobs=-1)\n",
        "# calculo com todos os vetores.\n",
        "f1score = testar_modelo(modelo, df_treino, df_teste, vetores, 'sentimento')\n",
        "\n",
        "print()\n",
        "print(f\"Regressão Logística - {f1score[0]} - F1 Score: {round(f1score[1]*100,2)}%\")"
      ]
    },
    {
      "cell_type": "code",
      "execution_count": 61,
      "metadata": {},
      "outputs": [
        {
          "output_type": "stream",
          "name": "stdout",
          "text": [
            "CV ngram(1,1) 0.8456691927963159\n",
            "CV ngram(1,2) 0.8662239768753464\n",
            "CV ngram(1,3) 0.8673472012508682\n",
            "CV ngram(2,2) 0.7765912918116423\n",
            "CV ngram(2,3) 0.7743456179758983\n",
            "CV ngram(3,3) 0.5423155547597628\n",
            "TF ngram(1,1) 0.8507237969132462\n",
            "TF ngram(1,2) 0.8715043635253087\n",
            "TF ngram(1,3) 0.8717270286280259\n",
            "TF ngram(2,2) 0.7825432505960539\n",
            "TF ngram(2,3) 0.7844517846905066\n",
            "TF ngram(3,3) 0.5502119859308695\n",
            "\n",
            "Passive Agressive - TF ngram(1,3) - F1 Score: 87.17%\n",
            "Wall time: 3.44 s\n"
          ]
        }
      ],
      "source": [
        "%%time\n",
        "# modelo Passive Agressive\n",
        "modelo = PassiveAggressiveClassifier(random_state=42, n_jobs=-1)\n",
        "# calculo com todos os vetores.\n",
        "f1score = testar_modelo(modelo, df_treino, df_teste, vetores, 'sentimento')\n",
        "\n",
        "print()\n",
        "print(f\"Passive Agressive - {f1score[0]} - F1 Score: {round(f1score[1]*100,2)}%\")"
      ]
    },
    {
      "cell_type": "code",
      "execution_count": 63,
      "metadata": {},
      "outputs": [
        {
          "output_type": "stream",
          "name": "stdout",
          "text": [
            "CV ngram(1,1) 0.7585067593071052\n",
            "CV ngram(1,2) 0.7477234170084225\n",
            "CV ngram(1,3) 0.7525534828089833\n",
            "CV ngram(2,2) 0.7399582036362565\n",
            "CV ngram(2,3) 0.7370462071476761\n",
            "CV ngram(3,3) 0.5925886471995548\n",
            "TF ngram(1,1) 0.8773200856296003\n",
            "TF ngram(1,2) 0.8891242755320212\n",
            "TF ngram(1,3) 0.8883345753860943\n",
            "TF ngram(2,2) 0.8149814872678168\n",
            "TF ngram(2,3) 0.8167834743557018\n",
            "TF ngram(3,3) 0.595673890235394\n",
            "\n",
            "Ridge - TF ngram(1,2) - F1 Score: 88.91%\n",
            "Wall time: 23 s\n"
          ]
        }
      ],
      "source": [
        "%%time\n",
        "# modelo Ridge\n",
        "modelo = RidgeClassifier(solver='sparse_cg', random_state=42)\n",
        "# calculo com todos os vetores.\n",
        "f1score = testar_modelo(modelo, df_treino, df_teste, vetores, 'sentimento')\n",
        "\n",
        "print()\n",
        "print(f\"Ridge - {f1score[0]} - F1 Score: {round(f1score[1]*100,2)}%\")"
      ]
    },
    {
      "cell_type": "code",
      "execution_count": 64,
      "metadata": {},
      "outputs": [
        {
          "output_type": "stream",
          "name": "stdout",
          "text": [
            "CV ngram(1,1) 0.8548745222099186\n",
            "CV ngram(1,2) 0.8677979087343012\n",
            "CV ngram(1,3) 0.8672275315382145\n",
            "CV ngram(2,2) 0.807559686093767\n",
            "CV ngram(2,3) 0.8044276726022707\n",
            "CV ngram(3,3) 0.5798838824002565\n",
            "TF ngram(1,1) 0.8816760564524672\n",
            "TF ngram(1,2) 0.8879717331315884\n",
            "TF ngram(1,3) 0.8878598659072925\n",
            "TF ngram(2,2) 0.8247457475321708\n",
            "TF ngram(2,3) 0.8234283422807653\n",
            "TF ngram(3,3) 0.5883600913938836\n",
            "\n",
            "SGD - TF ngram(1,2) - F1 Score: 88.8%\n",
            "Wall time: 2.75 s\n"
          ]
        }
      ],
      "source": [
        "%%time\n",
        "# modelo SGD\n",
        "modelo = SGDClassifier(random_state=42, n_jobs=-1)\n",
        "# calculo com todos os vetores.\n",
        "f1score = testar_modelo(modelo, df_treino, df_teste, vetores, 'sentimento')\n",
        "\n",
        "print()\n",
        "print(f\"SGD - {f1score[0]} - F1 Score: {round(f1score[1]*100,2)}%\")"
      ]
    },
    {
      "cell_type": "code",
      "execution_count": 65,
      "metadata": {},
      "outputs": [
        {
          "output_type": "stream",
          "name": "stdout",
          "text": [
            "CV ngram(1,1) 0.8561785530659148\n",
            "CV ngram(1,2) 0.8746468123072807\n",
            "CV ngram(1,3) 0.8753162962608646\n",
            "CV ngram(2,2) 0.8410494096777025\n",
            "CV ngram(2,3) 0.8381562881984885\n",
            "CV ngram(3,3) 0.5979569271742787\n",
            "TF ngram(1,1) 0.8561785530659148\n",
            "TF ngram(1,2) 0.8746468123072807\n",
            "TF ngram(1,3) 0.8753162962608646\n",
            "TF ngram(2,2) 0.8410494096777025\n",
            "TF ngram(2,3) 0.8381562881984885\n",
            "TF ngram(3,3) 0.5979569271742787\n",
            "\n",
            "Naive Bayes Bernoulli - CV ngram(1,3) - F1 Score: 87.53%\n",
            "Wall time: 1.66 s\n"
          ]
        }
      ],
      "source": [
        "%%time\n",
        "# modelo Naive Bayes Bernoulli\n",
        "modelo = BernoulliNB()\n",
        "# calculo com todos os vetores.\n",
        "f1score = testar_modelo(modelo, df_treino, df_teste, vetores, 'sentimento')\n",
        "\n",
        "print()\n",
        "print(f\"Naive Bayes Bernoulli - {f1score[0]} - F1 Score: {round(f1score[1]*100,2)}%\")"
      ]
    },
    {
      "cell_type": "code",
      "execution_count": 66,
      "metadata": {},
      "outputs": [
        {
          "output_type": "stream",
          "name": "stdout",
          "text": [
            "CV ngram(1,1) 0.8541920098423615\n",
            "CV ngram(1,2) 0.8710538417137474\n",
            "CV ngram(1,3) 0.8718351898036343\n",
            "CV ngram(2,2) 0.8401366622752207\n",
            "CV ngram(2,3) 0.8396681025173632\n",
            "CV ngram(3,3) 0.5734863253834386\n",
            "TF ngram(1,1) 0.8618447927514207\n",
            "TF ngram(1,2) 0.8746325936041583\n",
            "TF ngram(1,3) 0.8748477005896964\n",
            "TF ngram(2,2) 0.8393536418952174\n",
            "TF ngram(2,3) 0.8395563782718626\n",
            "TF ngram(3,3) 0.5747816408564258\n",
            "\n",
            "Naive Bayes Complement - TF ngram(1,3) - F1 Score: 87.48%\n",
            "Wall time: 1.4 s\n"
          ]
        }
      ],
      "source": [
        "%%time\n",
        "# modelo Naive Bayes Complement\n",
        "modelo = ComplementNB()\n",
        "# calculo com todos os vetores.\n",
        "f1score = testar_modelo(modelo, df_treino, df_teste, vetores, 'sentimento')\n",
        "\n",
        "print()\n",
        "print(f\"Naive Bayes Complement - {f1score[0]} - F1 Score: {round(f1score[1]*100,2)}%\")"
      ]
    },
    {
      "cell_type": "code",
      "execution_count": 67,
      "metadata": {},
      "outputs": [
        {
          "output_type": "stream",
          "name": "stdout",
          "text": [
            "CV ngram(1,1) 0.8540793419186162\n",
            "CV ngram(1,2) 0.8710538417137474\n",
            "CV ngram(1,3) 0.871723063743025\n",
            "CV ngram(2,2) 0.8400257852209359\n",
            "CV ngram(2,3) 0.8395563782718626\n",
            "CV ngram(3,3) 0.5726916420207792\n",
            "TF ngram(1,1) 0.8613950353813321\n",
            "TF ngram(1,2) 0.8747465261210724\n",
            "TF ngram(1,3) 0.8746261871797448\n",
            "TF ngram(2,2) 0.839021536888149\n",
            "TF ngram(2,3) 0.8397859898224573\n",
            "TF ngram(3,3) 0.5748707653722428\n",
            "\n",
            "Naive Bayes Multinomial - TF ngram(1,2) - F1 Score: 87.47%\n",
            "Wall time: 1.48 s\n"
          ]
        }
      ],
      "source": [
        "%%time\n",
        "# modelo Naive Bayes Multinomial\n",
        "modelo = MultinomialNB()\n",
        "# calculo com todos os vetores.\n",
        "f1score = testar_modelo(modelo, df_treino, df_teste, vetores, 'sentimento')\n",
        "\n",
        "print()\n",
        "print(f\"Naive Bayes Multinomial - {f1score[0]} - F1 Score: {round(f1score[1]*100,2)}%\")"
      ]
    },
    {
      "cell_type": "code",
      "execution_count": 69,
      "metadata": {},
      "outputs": [
        {
          "output_type": "stream",
          "name": "stderr",
          "text": [
            "C:\\Users\\hgf77\\anaconda3\\envs\\tf-gpu\\lib\\site-packages\\sklearn\\svm\\_base.py:985: ConvergenceWarning: Liblinear failed to converge, increase the number of iterations.\n",
            "  warnings.warn(\"Liblinear failed to converge, increase \"\n",
            "CV ngram(1,1) 0.8427503134500534\n",
            "C:\\Users\\hgf77\\anaconda3\\envs\\tf-gpu\\lib\\site-packages\\sklearn\\svm\\_base.py:985: ConvergenceWarning: Liblinear failed to converge, increase the number of iterations.\n",
            "  warnings.warn(\"Liblinear failed to converge, increase \"\n",
            "CV ngram(1,2) 0.8593696786901172\n",
            "C:\\Users\\hgf77\\anaconda3\\envs\\tf-gpu\\lib\\site-packages\\sklearn\\svm\\_base.py:985: ConvergenceWarning: Liblinear failed to converge, increase the number of iterations.\n",
            "  warnings.warn(\"Liblinear failed to converge, increase \"\n",
            "CV ngram(1,3) 0.8592543708124906\n",
            "CV ngram(2,2) 0.7835525602249629\n",
            "CV ngram(2,3) 0.7817598993091702\n",
            "CV ngram(3,3) 0.5928683562102969\n",
            "TF ngram(1,1) 0.8785747941960814\n",
            "TF ngram(1,2) 0.8899243167399011\n",
            "TF ngram(1,3) 0.8908224226768418\n",
            "TF ngram(2,2) 0.8137665791374764\n",
            "TF ngram(2,3) 0.8117400847029504\n",
            "TF ngram(3,3) 0.595624170891155\n",
            "\n",
            "SVM Linear - TF ngram(1,3) - F1 Score: 89.08%\n",
            "Wall time: 35.2 s\n"
          ]
        }
      ],
      "source": [
        "%%time\n",
        "# modelo Linear SVM\n",
        "modelo = LinearSVC(random_state=42, max_iter=2000)\n",
        "# calculo com todos os vetores.\n",
        "f1score = testar_modelo(modelo, df_treino, df_teste, vetores, 'sentimento')\n",
        "\n",
        "print()\n",
        "print(f\"SVM Linear - {f1score[0]} - F1 Score: {round(f1score[1]*100,2)}%\")"
      ]
    },
    {
      "source": [
        "# Testando os modelos com a base stematizada sem stopwords"
      ],
      "cell_type": "markdown",
      "metadata": {}
    },
    {
      "cell_type": "code",
      "execution_count": 94,
      "metadata": {},
      "outputs": [
        {
          "output_type": "stream",
          "name": "stdout",
          "text": [
            "Wall time: 4min 35s\n"
          ]
        }
      ],
      "source": [
        "%%time\n",
        "# criando os vetores para Unigramas, Bigramas, Trigramas com CountVectorizer e TfidfVectorizer\n",
        "vetores = criar_vetores(df_treino, df_teste, 'stem')"
      ]
    },
    {
      "source": [
        "## apenas modelos com mais de 85% no passo anterior e tempo inferior a 5 minutos"
      ],
      "cell_type": "markdown",
      "metadata": {}
    },
    {
      "cell_type": "code",
      "execution_count": 95,
      "metadata": {},
      "outputs": [
        {
          "output_type": "stream",
          "name": "stderr",
          "text": [
            "C:\\Users\\hgf77\\anaconda3\\envs\\tf-gpu\\lib\\site-packages\\sklearn\\linear_model\\_sag.py:328: ConvergenceWarning: The max_iter was reached which means the coef_ did not converge\n",
            "  warnings.warn(\"The max_iter was reached which means \"\n",
            "CV ngram(1,1) 0.8706031610913865\n",
            "C:\\Users\\hgf77\\anaconda3\\envs\\tf-gpu\\lib\\site-packages\\sklearn\\linear_model\\_sag.py:328: ConvergenceWarning: The max_iter was reached which means the coef_ did not converge\n",
            "  warnings.warn(\"The max_iter was reached which means \"\n",
            "CV ngram(1,2) 0.8840837095164026\n",
            "C:\\Users\\hgf77\\anaconda3\\envs\\tf-gpu\\lib\\site-packages\\sklearn\\linear_model\\_sag.py:328: ConvergenceWarning: The max_iter was reached which means the coef_ did not converge\n",
            "  warnings.warn(\"The max_iter was reached which means \"\n",
            "CV ngram(1,3) 0.8848676248811861\n",
            "CV ngram(2,2) 0.8376838758268568\n",
            "CV ngram(2,3) 0.8376805377601975\n",
            "CV ngram(3,3) 0.7150445510051537\n",
            "TF ngram(1,1) 0.8225359724241443\n",
            "TF ngram(1,2) 0.8231228787398793\n",
            "TF ngram(1,3) 0.8235723758714172\n",
            "TF ngram(2,2) 0.6149723776050718\n",
            "TF ngram(2,3) 0.6150512107052606\n",
            "TF ngram(3,3) 0.3748284219463762\n",
            "\n",
            "Regressão Logística - CV ngram(1,3) - F1 Score: 88.49%\n",
            "Wall time: 3min 53s\n"
          ]
        }
      ],
      "source": [
        "%%time\n",
        "# modelo Regressão Logística\n",
        "modelo = LogisticRegression(solver='saga', max_iter=1000, random_state=42, n_jobs=-1)\n",
        "# calculo com todos os vetores.\n",
        "f1score = testar_modelo(modelo, df_treino, df_teste, vetores, 'sentimento')\n",
        "\n",
        "print()\n",
        "print(f\"Regressão Logística - {f1score[0]} - F1 Score: {round(f1score[1]*100,2)}%\")"
      ]
    },
    {
      "cell_type": "code",
      "execution_count": 96,
      "metadata": {},
      "outputs": [
        {
          "output_type": "stream",
          "name": "stdout",
          "text": [
            "CV ngram(1,1) 0.8447715624515739\n",
            "CV ngram(1,2) 0.8720642271552428\n",
            "CV ngram(1,3) 0.8737499306282133\n",
            "CV ngram(2,2) 0.8154524423713615\n",
            "CV ngram(2,3) 0.8211824042196831\n",
            "CV ngram(3,3) 0.670711521878216\n",
            "TF ngram(1,1) 0.7824273705555479\n",
            "TF ngram(1,2) 0.7946762938640037\n",
            "TF ngram(1,3) 0.7944521435751063\n",
            "TF ngram(2,2) 0.594318686498427\n",
            "TF ngram(2,3) 0.5929128015931685\n",
            "TF ngram(3,3) 0.35665806113545495\n",
            "\n",
            "Passive Agressive - CV ngram(1,3) - F1 Score: 87.37%\n",
            "Wall time: 4.73 s\n"
          ]
        }
      ],
      "source": [
        "%%time\n",
        "# modelo Passive Agressive\n",
        "modelo = PassiveAggressiveClassifier(random_state=42, n_jobs=-1)\n",
        "# calculo com todos os vetores.\n",
        "f1score = testar_modelo(modelo, df_treino, df_teste, vetores, 'sentimento')\n",
        "\n",
        "print()\n",
        "print(f\"Passive Agressive - {f1score[0]} - F1 Score: {round(f1score[1]*100,2)}%\")"
      ]
    },
    {
      "cell_type": "code",
      "execution_count": 97,
      "metadata": {},
      "outputs": [
        {
          "output_type": "stream",
          "name": "stdout",
          "text": [
            "CV ngram(1,1) 0.7800723288078767\n",
            "CV ngram(1,2) 0.7776023312377306\n",
            "CV ngram(1,3) 0.7891719816823664\n",
            "CV ngram(2,2) 0.7305320606980007\n",
            "CV ngram(2,3) 0.7366007736035252\n",
            "CV ngram(3,3) 0.6931774787857015\n",
            "TF ngram(1,1) 0.8310286072770471\n",
            "TF ngram(1,2) 0.8360933383775296\n",
            "TF ngram(1,3) 0.8357547960627466\n",
            "TF ngram(2,2) 0.610473749539492\n",
            "TF ngram(2,3) 0.6107622720271955\n",
            "TF ngram(3,3) 0.3740804219182571\n",
            "\n",
            "Ridge - TF ngram(1,2) - F1 Score: 83.61%\n",
            "Wall time: 39.1 s\n"
          ]
        }
      ],
      "source": [
        "%%time\n",
        "# modelo Ridge\n",
        "modelo = RidgeClassifier(solver='sparse_cg', random_state=42)\n",
        "# calculo com todos os vetores.\n",
        "f1score = testar_modelo(modelo, df_treino, df_teste, vetores, 'sentimento')\n",
        "\n",
        "print()\n",
        "print(f\"Ridge - {f1score[0]} - F1 Score: {round(f1score[1]*100,2)}%\")"
      ]
    },
    {
      "cell_type": "code",
      "execution_count": 98,
      "metadata": {},
      "outputs": [
        {
          "output_type": "stream",
          "name": "stdout",
          "text": [
            "CV ngram(1,1) 0.8593501815753932\n",
            "CV ngram(1,2) 0.8739129241828761\n",
            "CV ngram(1,3) 0.8732718898722627\n",
            "CV ngram(2,2) 0.816242022298419\n",
            "CV ngram(2,3) 0.8228637616258457\n",
            "CV ngram(3,3) 0.7094704488293562\n",
            "TF ngram(1,1) 0.8164689388996369\n",
            "TF ngram(1,2) 0.819060757664068\n",
            "TF ngram(1,3) 0.8184998012692756\n",
            "TF ngram(2,2) 0.612289585227973\n",
            "TF ngram(2,3) 0.6125923903751722\n",
            "TF ngram(3,3) 0.373464245097864\n",
            "\n",
            "SGD - CV ngram(1,2) - F1 Score: 87.39%\n",
            "Wall time: 3 s\n"
          ]
        }
      ],
      "source": [
        "%%time\n",
        "# modelo SGD\n",
        "modelo = SGDClassifier(random_state=42, n_jobs=-1)\n",
        "# calculo com todos os vetores.\n",
        "f1score = testar_modelo(modelo, df_treino, df_teste, vetores, 'sentimento')\n",
        "\n",
        "print()\n",
        "print(f\"SGD - {f1score[0]} - F1 Score: {round(f1score[1]*100,2)}%\")"
      ]
    },
    {
      "cell_type": "code",
      "execution_count": 99,
      "metadata": {},
      "outputs": [
        {
          "output_type": "stream",
          "name": "stdout",
          "text": [
            "CV ngram(1,1) 0.853279813727806\n",
            "CV ngram(1,2) 0.8726032412689158\n",
            "CV ngram(1,3) 0.8748100562187059\n",
            "CV ngram(2,2) 0.8460315157127096\n",
            "CV ngram(2,3) 0.8445608675521092\n",
            "CV ngram(3,3) 0.7242011371467321\n",
            "TF ngram(1,1) 0.8198725818996544\n",
            "TF ngram(1,2) 0.8152285233285822\n",
            "TF ngram(1,3) 0.8152326385312899\n",
            "TF ngram(2,2) 0.6169621086941445\n",
            "TF ngram(2,3) 0.6161082603679379\n",
            "TF ngram(3,3) 0.37557593287108426\n",
            "\n",
            "Naive Bayes Bernoulli - CV ngram(1,3) - F1 Score: 87.48%\n",
            "Wall time: 1.52 s\n"
          ]
        }
      ],
      "source": [
        "%%time\n",
        "# modelo Naive Bayes Bernoulli\n",
        "modelo = BernoulliNB()\n",
        "# calculo com todos os vetores.\n",
        "f1score = testar_modelo(modelo, df_treino, df_teste, vetores, 'sentimento')\n",
        "\n",
        "print()\n",
        "print(f\"Naive Bayes Bernoulli - {f1score[0]} - F1 Score: {round(f1score[1]*100,2)}%\")"
      ]
    },
    {
      "cell_type": "code",
      "execution_count": 100,
      "metadata": {},
      "outputs": [
        {
          "output_type": "stream",
          "name": "stdout",
          "text": [
            "CV ngram(1,1) 0.8475371319702153\n",
            "CV ngram(1,2) 0.8686958159758584\n",
            "CV ngram(1,3) 0.8714971557859723\n",
            "CV ngram(2,2) 0.8591156073972187\n",
            "CV ngram(2,3) 0.8594120043129988\n",
            "CV ngram(3,3) 0.7150760022360954\n",
            "TF ngram(1,1) 0.8136591938472498\n",
            "TF ngram(1,2) 0.8143208959389149\n",
            "TF ngram(1,3) 0.8145369026247485\n",
            "TF ngram(2,2) 0.618029123817186\n",
            "TF ngram(2,3) 0.6168547481595895\n",
            "TF ngram(3,3) 0.37369042341230274\n",
            "\n",
            "Naive Bayes Complement - CV ngram(1,3) - F1 Score: 87.15%\n",
            "Wall time: 1.35 s\n"
          ]
        }
      ],
      "source": [
        "%%time\n",
        "# modelo Naive Bayes Complement\n",
        "modelo = ComplementNB()\n",
        "# calculo com todos os vetores.\n",
        "f1score = testar_modelo(modelo, df_treino, df_teste, vetores, 'sentimento')\n",
        "\n",
        "print()\n",
        "print(f\"Naive Bayes Complement - {f1score[0]} - F1 Score: {round(f1score[1]*100,2)}%\")"
      ]
    },
    {
      "cell_type": "code",
      "execution_count": 101,
      "metadata": {},
      "outputs": [
        {
          "output_type": "stream",
          "name": "stdout",
          "text": [
            "CV ngram(1,1) 0.8473112660817483\n",
            "CV ngram(1,2) 0.868583560494826\n",
            "CV ngram(1,3) 0.8714971557859723\n",
            "CV ngram(2,2) 0.8590047111285145\n",
            "CV ngram(2,3) 0.8595265442310434\n",
            "CV ngram(3,3) 0.715056211064448\n",
            "TF ngram(1,1) 0.8130790345962262\n",
            "TF ngram(1,2) 0.8137398018967721\n",
            "TF ngram(1,3) 0.8138439492218046\n",
            "TF ngram(2,2) 0.6180576030656999\n",
            "TF ngram(2,3) 0.617623906023027\n",
            "TF ngram(3,3) 0.37369042341230274\n",
            "\n",
            "Naive Bayes Multinomial - CV ngram(1,3) - F1 Score: 87.15%\n",
            "Wall time: 1.33 s\n"
          ]
        }
      ],
      "source": [
        "%%time\n",
        "# modelo Naive Bayes Multinomial\n",
        "modelo = MultinomialNB()\n",
        "# calculo com todos os vetores.\n",
        "f1score = testar_modelo(modelo, df_treino, df_teste, vetores, 'sentimento')\n",
        "\n",
        "print()\n",
        "print(f\"Naive Bayes Multinomial - {f1score[0]} - F1 Score: {round(f1score[1]*100,2)}%\")"
      ]
    },
    {
      "cell_type": "code",
      "execution_count": 102,
      "metadata": {},
      "outputs": [
        {
          "output_type": "stream",
          "name": "stderr",
          "text": [
            "C:\\Users\\hgf77\\anaconda3\\envs\\tf-gpu\\lib\\site-packages\\sklearn\\svm\\_base.py:985: ConvergenceWarning: Liblinear failed to converge, increase the number of iterations.\n",
            "  warnings.warn(\"Liblinear failed to converge, increase \"\n",
            "CV ngram(1,1) 0.8427503015472957\n",
            "C:\\Users\\hgf77\\anaconda3\\envs\\tf-gpu\\lib\\site-packages\\sklearn\\svm\\_base.py:985: ConvergenceWarning: Liblinear failed to converge, increase the number of iterations.\n",
            "  warnings.warn(\"Liblinear failed to converge, increase \"\n",
            "CV ngram(1,2) 0.8681338243394326\n",
            "C:\\Users\\hgf77\\anaconda3\\envs\\tf-gpu\\lib\\site-packages\\sklearn\\svm\\_base.py:985: ConvergenceWarning: Liblinear failed to converge, increase the number of iterations.\n",
            "  warnings.warn(\"Liblinear failed to converge, increase \"\n",
            "CV ngram(1,3) 0.8676849865494912\n",
            "CV ngram(2,2) 0.8082677036133574\n",
            "CV ngram(2,3) 0.8142200102456199\n",
            "CV ngram(3,3) 0.7003582313157055\n",
            "TF ngram(1,1) 0.8324071297488379\n",
            "TF ngram(1,2) 0.8368966062975588\n",
            "TF ngram(1,3) 0.8364479335806516\n",
            "TF ngram(2,2) 0.611141878648815\n",
            "TF ngram(2,3) 0.6095122075614553\n",
            "TF ngram(3,3) 0.37385064541276897\n",
            "\n",
            "SVM Linear - CV ngram(1,2) - F1 Score: 86.81%\n",
            "Wall time: 48.4 s\n"
          ]
        }
      ],
      "source": [
        "%%time\n",
        "# modelo Linear SVM\n",
        "modelo = LinearSVC(random_state=42, max_iter=2000)\n",
        "# calculo com todos os vetores.\n",
        "f1score = testar_modelo(modelo, df_treino, df_teste, vetores, 'sentimento')\n",
        "\n",
        "print()\n",
        "print(f\"SVM Linear - {f1score[0]} - F1 Score: {round(f1score[1]*100,2)}%\")"
      ]
    },
    {
      "source": [
        "# Testando os modelos com a base lematizada sem stopwords"
      ],
      "cell_type": "markdown",
      "metadata": {}
    },
    {
      "source": [
        "# MLP"
      ],
      "cell_type": "markdown",
      "metadata": {}
    },
    {
      "cell_type": "code",
      "execution_count": 82,
      "metadata": {},
      "outputs": [
        {
          "output_type": "execute_result",
          "data": {
            "text/plain": [
              "                                               texto sentimento  \\\n",
              "0  Esse bocejo de pia de cozinha de orçamento mui...        neg   \n",
              "1  O Bravo parece indicar que o personagem princi...        neg   \n",
              "2  Durante a Guerra pela Independência do Sul, GE...        pos   \n",
              "3  É fora de questão que a verdadeira Anna Anders...        pos   \n",
              "4  Concordo totalmente com outro dos revisores aq...        neg   \n",
              "\n",
              "                                                stem  \\\n",
              "0  ess bocej de pia de co de orç muit baix é o ti...   \n",
              "1  o brav parec indic que o person principal, cla...   \n",
              "2  dur a guerr pel independ do sul, gener spanky ...   \n",
              "3  é for de quest que a verd ann anderson não era...   \n",
              "4  concord total com outr do revi aqu que fic sat...   \n",
              "\n",
              "                                                lemm  \\\n",
              "0  Esse bocejar de pio de cozinhar de orçamentar ...   \n",
              "1  O Bravo parecer indicar que o personagem princ...   \n",
              "2  Durante o Guerra pelar Independência do Sul , ...   \n",
              "3  É ser de questão que o verdadeiro Anna Anderso...   \n",
              "4  Concordo totalmente com outro dos revisor aqui...   \n",
              "\n",
              "                                                verb  \\\n",
              "0  Esse bocejo de pia de cozinha de orçamento mui...   \n",
              "1  O Bravo parecer indicar que o personagem princ...   \n",
              "2  Durante a Guerra pela Independência do Sul , G...   \n",
              "3  É fora de questão que a verdadeira Anna Anders...   \n",
              "4  Concordo totalmente com outro dos revisores aq...   \n",
              "\n",
              "                                                 pre  \n",
              "0  esse bocejo pia cozinha orçamento filme feito ...  \n",
              "1  bravo indicar personagem principal claro coraj...  \n",
              "2  durante guerra independência sul general spank...  \n",
              "3  verdadeira anna anderson princesa anastasia al...  \n",
              "4  concordo totalmente outro revisor ficou satisf...  "
            ],
            "text/html": "<div>\n<style scoped>\n    .dataframe tbody tr th:only-of-type {\n        vertical-align: middle;\n    }\n\n    .dataframe tbody tr th {\n        vertical-align: top;\n    }\n\n    .dataframe thead th {\n        text-align: right;\n    }\n</style>\n<table border=\"1\" class=\"dataframe\">\n  <thead>\n    <tr style=\"text-align: right;\">\n      <th></th>\n      <th>texto</th>\n      <th>sentimento</th>\n      <th>stem</th>\n      <th>lemm</th>\n      <th>verb</th>\n      <th>pre</th>\n    </tr>\n  </thead>\n  <tbody>\n    <tr>\n      <th>0</th>\n      <td>Esse bocejo de pia de cozinha de orçamento mui...</td>\n      <td>neg</td>\n      <td>ess bocej de pia de co de orç muit baix é o ti...</td>\n      <td>Esse bocejar de pio de cozinhar de orçamentar ...</td>\n      <td>Esse bocejo de pia de cozinha de orçamento mui...</td>\n      <td>esse bocejo pia cozinha orçamento filme feito ...</td>\n    </tr>\n    <tr>\n      <th>1</th>\n      <td>O Bravo parece indicar que o personagem princi...</td>\n      <td>neg</td>\n      <td>o brav parec indic que o person principal, cla...</td>\n      <td>O Bravo parecer indicar que o personagem princ...</td>\n      <td>O Bravo parecer indicar que o personagem princ...</td>\n      <td>bravo indicar personagem principal claro coraj...</td>\n    </tr>\n    <tr>\n      <th>2</th>\n      <td>Durante a Guerra pela Independência do Sul, GE...</td>\n      <td>pos</td>\n      <td>dur a guerr pel independ do sul, gener spanky ...</td>\n      <td>Durante o Guerra pelar Independência do Sul , ...</td>\n      <td>Durante a Guerra pela Independência do Sul , G...</td>\n      <td>durante guerra independência sul general spank...</td>\n    </tr>\n    <tr>\n      <th>3</th>\n      <td>É fora de questão que a verdadeira Anna Anders...</td>\n      <td>pos</td>\n      <td>é for de quest que a verd ann anderson não era...</td>\n      <td>É ser de questão que o verdadeiro Anna Anderso...</td>\n      <td>É fora de questão que a verdadeira Anna Anders...</td>\n      <td>verdadeira anna anderson princesa anastasia al...</td>\n    </tr>\n    <tr>\n      <th>4</th>\n      <td>Concordo totalmente com outro dos revisores aq...</td>\n      <td>neg</td>\n      <td>concord total com outr do revi aqu que fic sat...</td>\n      <td>Concordo totalmente com outro dos revisor aqui...</td>\n      <td>Concordo totalmente com outro dos revisores aq...</td>\n      <td>concordo totalmente outro revisor ficou satisf...</td>\n    </tr>\n  </tbody>\n</table>\n</div>"
          },
          "metadata": {},
          "execution_count": 82
        }
      ],
      "source": [
        "df.head()"
      ]
    },
    {
      "cell_type": "code",
      "execution_count": 83,
      "metadata": {},
      "outputs": [
        {
          "output_type": "execute_result",
          "data": {
            "text/plain": [
              "                                               texto  \\\n",
              "0  Esse bocejo de pia de cozinha de orçamento mui...   \n",
              "1  O Bravo parece indicar que o personagem princi...   \n",
              "2  Durante a Guerra pela Independência do Sul, GE...   \n",
              "3  É fora de questão que a verdadeira Anna Anders...   \n",
              "4  Concordo totalmente com outro dos revisores aq...   \n",
              "\n",
              "                                                 pre  target  \n",
              "0  esse bocejo pia cozinha orçamento filme feito ...       0  \n",
              "1  bravo indicar personagem principal claro coraj...       0  \n",
              "2  durante guerra independência sul general spank...       1  \n",
              "3  verdadeira anna anderson princesa anastasia al...       1  \n",
              "4  concordo totalmente outro revisor ficou satisf...       0  "
            ],
            "text/html": "<div>\n<style scoped>\n    .dataframe tbody tr th:only-of-type {\n        vertical-align: middle;\n    }\n\n    .dataframe tbody tr th {\n        vertical-align: top;\n    }\n\n    .dataframe thead th {\n        text-align: right;\n    }\n</style>\n<table border=\"1\" class=\"dataframe\">\n  <thead>\n    <tr style=\"text-align: right;\">\n      <th></th>\n      <th>texto</th>\n      <th>pre</th>\n      <th>target</th>\n    </tr>\n  </thead>\n  <tbody>\n    <tr>\n      <th>0</th>\n      <td>Esse bocejo de pia de cozinha de orçamento mui...</td>\n      <td>esse bocejo pia cozinha orçamento filme feito ...</td>\n      <td>0</td>\n    </tr>\n    <tr>\n      <th>1</th>\n      <td>O Bravo parece indicar que o personagem princi...</td>\n      <td>bravo indicar personagem principal claro coraj...</td>\n      <td>0</td>\n    </tr>\n    <tr>\n      <th>2</th>\n      <td>Durante a Guerra pela Independência do Sul, GE...</td>\n      <td>durante guerra independência sul general spank...</td>\n      <td>1</td>\n    </tr>\n    <tr>\n      <th>3</th>\n      <td>É fora de questão que a verdadeira Anna Anders...</td>\n      <td>verdadeira anna anderson princesa anastasia al...</td>\n      <td>1</td>\n    </tr>\n    <tr>\n      <th>4</th>\n      <td>Concordo totalmente com outro dos revisores aq...</td>\n      <td>concordo totalmente outro revisor ficou satisf...</td>\n      <td>0</td>\n    </tr>\n  </tbody>\n</table>\n</div>"
          },
          "metadata": {},
          "execution_count": 83
        }
      ],
      "source": [
        "df_mlp = df[['texto', 'pre']].copy()\n",
        "df_mlp['target'] = [0 if x == 'neg' else 1 for x in df.sentimento]\n",
        "df_mlp.head()"
      ]
    },
    {
      "cell_type": "code",
      "execution_count": 84,
      "metadata": {},
      "outputs": [
        {
          "output_type": "stream",
          "name": "stdout",
          "text": [
            "<class 'pandas.core.frame.DataFrame'>\nRangeIndex: 44514 entries, 0 to 44513\nData columns (total 3 columns):\n #   Column  Non-Null Count  Dtype \n---  ------  --------------  ----- \n 0   texto   44514 non-null  object\n 1   pre     44514 non-null  object\n 2   target  44514 non-null  int64 \ndtypes: int64(1), object(2)\nmemory usage: 1.0+ MB\n"
          ]
        }
      ],
      "source": [
        "# dividindo com 20% para o treino e random state = 42\n",
        "df_treino_mlp, df_teste_mlp = train_test_split(\n",
        "      df_mlp, \n",
        "      test_size = 0.2, \n",
        "      random_state = 42\n",
        "  )\n",
        "df_mlp.info()  "
      ]
    },
    {
      "cell_type": "code",
      "execution_count": 85,
      "metadata": {},
      "outputs": [
        {
          "output_type": "execute_result",
          "data": {
            "text/plain": [
              "target\n",
              "0    40.07\n",
              "1    39.93\n",
              "Name: texto, dtype: float64"
            ]
          },
          "metadata": {},
          "execution_count": 85
        }
      ],
      "source": [
        "# distribuição das respostas do treino em %\n",
        "round(df_treino_mlp.groupby('target').count() / df_mlp.shape[0] * 100, 2).texto"
      ]
    },
    {
      "cell_type": "code",
      "execution_count": 86,
      "metadata": {},
      "outputs": [
        {
          "output_type": "execute_result",
          "data": {
            "text/plain": [
              "target\n",
              "0    10.04\n",
              "1     9.96\n",
              "Name: texto, dtype: float64"
            ]
          },
          "metadata": {},
          "execution_count": 86
        }
      ],
      "source": [
        "# distribuição das respostas do teste em %\n",
        "round(df_teste_mlp.groupby('target').count() / df_mlp.shape[0] * 100, 2).texto"
      ]
    },
    {
      "cell_type": "code",
      "execution_count": null,
      "metadata": {},
      "outputs": [],
      "source": [
        "t = Tokenizer()\n",
        "t.fit_on_texts(df_mlp.pre)"
      ]
    },
    {
      "cell_type": "code",
      "execution_count": null,
      "metadata": {},
      "outputs": [],
      "source": [
        "t.document_count"
      ]
    },
    {
      "cell_type": "code",
      "execution_count": null,
      "metadata": {},
      "outputs": [],
      "source": [
        "encoded_docs = t.texts_to_matrix(df_mlp.pre, mode='count')\n",
        "encoded_docs.shape"
      ]
    },
    {
      "cell_type": "code",
      "execution_count": 91,
      "metadata": {},
      "outputs": [],
      "source": [
        "# vetorização em unigramas + Bigramas com CountVectorizer e sem stopwords\n",
        "vect_MLP = CountVectorizer(ngram_range=(1,2), stop_words=stops, min_df=10) \n",
        "#vect = CountVectorizer(ngram_range=(1,1), stop_words=stops) \n",
        "# utilizando a base completa sem ajustes\n",
        "vect_MLP.fit(df_treino_mlp.pre)\n",
        "vect_treino_MLP = vect_MLP.transform(df_treino_mlp.pre)"
      ]
    },
    {
      "cell_type": "code",
      "execution_count": 92,
      "metadata": {},
      "outputs": [
        {
          "output_type": "execute_result",
          "data": {
            "text/plain": [
              "(35611, 44697)"
            ]
          },
          "metadata": {},
          "execution_count": 92
        }
      ],
      "source": [
        "X = vect_treino_MLP.toarray()\n",
        "X.shape"
      ]
    },
    {
      "cell_type": "code",
      "execution_count": 93,
      "metadata": {},
      "outputs": [
        {
          "output_type": "execute_result",
          "data": {
            "text/plain": [
              "(35611, 1)"
            ]
          },
          "metadata": {},
          "execution_count": 93
        }
      ],
      "source": [
        "y = df_treino_mlp.target.values.reshape(-1,1)\n",
        "y.shape"
      ]
    },
    {
      "cell_type": "code",
      "execution_count": null,
      "metadata": {},
      "outputs": [],
      "source": [
        "#Modelo da Rede MLP\n",
        "model = Sequential()\n",
        "model.add(Embedding())\n",
        "model.add(Dense(100, input_dim=X.shape[1], activation='relu'))\n",
        "model.add(Dropout(0.2))\n",
        "model.add(Dense(50, activation='relu'))\n",
        "model.add(Dropout(0.2))\n",
        "model.add(Dense(1, activation='sigmoid'))"
      ]
    },
    {
      "cell_type": "code",
      "execution_count": null,
      "metadata": {},
      "outputs": [],
      "source": [
        "model.compile(loss='binary_crossentropy', optimizer='adam', metrics=['accuracy'])"
      ]
    },
    {
      "cell_type": "code",
      "execution_count": null,
      "metadata": {},
      "outputs": [],
      "source": [
        "print(model.summary())"
      ]
    },
    {
      "cell_type": "code",
      "execution_count": null,
      "metadata": {},
      "outputs": [],
      "source": [
        "plot_model(model)"
      ]
    },
    {
      "cell_type": "code",
      "execution_count": null,
      "metadata": {},
      "outputs": [],
      "source": [
        "%%time\n",
        "#Processo de treinamento com 80% dos dados\n",
        "history  = model.fit(X, y, epochs=5, validation_split=0.2, batch_size=32)"
      ]
    },
    {
      "cell_type": "code",
      "execution_count": null,
      "metadata": {},
      "outputs": [],
      "source": [
        "plt.plot(history.history['accuracy'])\n",
        "plt.plot(history.history['val_accuracy'])\n",
        "plt.title('model accuracy')\n",
        "plt.ylabel('accuracy')\n",
        "plt.xlabel('epoch')\n",
        "plt.legend(['train', 'validation'], loc='upper left')\n",
        "plt.show()"
      ]
    },
    {
      "cell_type": "code",
      "execution_count": null,
      "metadata": {},
      "outputs": [],
      "source": [
        "plt.plot(history.history['accuracy'])\n",
        "plt.title('Model accuracy')\n",
        "plt.ylabel('Accuracy')\n",
        "plt.xlabel('Epoch')\n",
        "plt.legend(['Train', 'Test'], loc='upper left')\n",
        "plt.show()"
      ]
    },
    {
      "cell_type": "code",
      "execution_count": null,
      "metadata": {},
      "outputs": [],
      "source": [
        "vect_teste = vect.transform(df_teste_mlp.pre)\n",
        "X_teste = vect_teste.toarray()\n",
        "X_teste.shape"
      ]
    },
    {
      "cell_type": "code",
      "execution_count": null,
      "metadata": {},
      "outputs": [],
      "source": [
        "y_teste = df_teste_mlp.target.values.reshape(-1,1)\n",
        "y_teste.shape"
      ]
    },
    {
      "cell_type": "code",
      "execution_count": null,
      "metadata": {},
      "outputs": [],
      "source": [
        "#Processo de teste com 30% dos dados que não foram utilizados no treinamento\n",
        "y_pred_classes  = model.predict_classes(X_teste)\n",
        "y_pred_classes"
      ]
    },
    {
      "cell_type": "code",
      "execution_count": null,
      "metadata": {},
      "outputs": [],
      "source": [
        "scores = model.evaluate(X_teste, y_teste)\n",
        "print(\"\\n%s: %.2f%%\" % (model.metrics_names[1], scores[1]*100))"
      ]
    },
    {
      "cell_type": "code",
      "execution_count": null,
      "metadata": {},
      "outputs": [],
      "source": []
    },
    {
      "cell_type": "markdown",
      "metadata": {
        "id": "68SiMjcWqD_m"
      },
      "source": [
        "#### **Validação do professor**"
      ]
    },
    {
      "cell_type": "markdown",
      "metadata": {
        "id": "T24EasckqG2I"
      },
      "source": [
        "Consolidar apenas os scripts do seu **modelo campeão**, desde o carregamento do dataframe, separação das amostras, tratamentos utilizados (funções, limpezas, etc.), criação dos objetos de vetorização dos textos e modelo treinado e outras implementações utilizadas no processo de desenvolvimento do modelo."
      ]
    },
    {
      "cell_type": "code",
      "execution_count": null,
      "metadata": {
        "id": "VFA-CYfawkEJ"
      },
      "outputs": [],
      "source": []
    }
  ],
  "metadata": {
    "colab": {
      "collapsed_sections": [],
      "name": "TemplateTrabalhoFinal-NLP.ipynb",
      "provenance": []
    },
    "interpreter": {
      "hash": "c24c9dacf042e5cf8b743bae11b2cef3a95983df3bc5153773d9ffef1d5207d2"
    },
    "kernelspec": {
      "name": "python3",
      "display_name": "Python 3.8.10 64-bit ('tf-gpu': conda)"
    },
    "language_info": {
      "codemirror_mode": {
        "name": "ipython",
        "version": 3
      },
      "file_extension": ".py",
      "mimetype": "text/x-python",
      "name": "python",
      "nbconvert_exporter": "python",
      "pygments_lexer": "ipython3",
      "version": "3.8.10"
    },
    "metadata": {
      "interpreter": {
        "hash": "63fd5069d213b44bf678585dea6b12cceca9941eaf7f819626cde1f2670de90d"
      }
    }
  },
  "nbformat": 4,
  "nbformat_minor": 0
}