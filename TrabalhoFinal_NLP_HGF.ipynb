{
  "cells": [
    {
      "cell_type": "markdown",
      "metadata": {
        "id": "VDbi6PDS9MYO"
      },
      "source": [
        "***Participantes (RM - NOME):***<br>\n",
        "339624 - Camila<br>\n",
        "339656 - Cleiton<br>\n",
        "340214 - Henrique<br>\n",
        "339708 - Roberto<br>\n",
        "340192 - Sergio<br>"
      ]
    },
    {
      "cell_type": "markdown",
      "metadata": {
        "id": "7xw6WhaNo4k3"
      },
      "source": [
        "## **Criar um classificador de sentimento aplicando técnicas de PLN**\n",
        "---\n",
        "\n",
        "Utilizando o dataset de revisões de filmes em português [1], criar um classificador de sentimentos que consiga um score na métrica F1 Score superior a 70%.\n",
        "\n",
        "Devem utilizar uma amostra de 20% e randon_state igual a 42 para testar as implementações e mensurar a métrica F1 Score (usar o parâmetro average = 'weighted') o restante dos dados devem ser utilizados para o treinamento (80%).\n",
        "\n",
        "Fique a vontade para testar os métodos de pré-processamento, abordagens, algoritmos e bibliotecas, mas explique e justifique suas decisões.\n",
        "O trabalho poderá ser feito em grupo de até 4 pessoas (mesmo grupo do Startup One).\n",
        "\n",
        "Separe a implementação do seu modelo campeão junto com a parte de validação/teste de forma que o professor consiga executar todo o pipeline do modelo campeão.\n",
        "\n",
        "Composição da nota:\n",
        "- 50% - Demonstrações das aplicações das técnicas de PLN (regras, pré-processamentos, tratamentos, variedade de modelos aplicados, etc.)\n",
        "- 50% - Baseado na performance obtida com o dataset de teste (conforme recomendação da amostra) no seu modelo campeão e na validação que o professor processar (Métrica F1 Score)."
      ]
    },
    {
      "cell_type": "markdown",
      "metadata": {
        "id": "fzhQpodBpRpX"
      },
      "source": [
        "[1] - https://dados-ml-pln.s3-sa-east-1.amazonaws.com/reviews-pt-br.csv"
      ]
    },
    {
      "cell_type": "markdown",
      "metadata": {},
      "source": [
        "# Bibliotecas utilizadas"
      ]
    },
    {
      "cell_type": "code",
      "execution_count": 254,
      "metadata": {},
      "outputs": [],
      "source": [
        "import numpy as np\n",
        "import pandas as pd\n",
        "import seaborn as sb\n",
        "import matplotlib.pyplot as plt\n",
        "import wordcloud as wd\n",
        "import re\n",
        "from collections import Counter\n",
        "\n",
        "import spacy\n",
        "\n",
        "import nltk\n",
        "from nltk.stem.rslp import RSLPStemmer\n",
        "\n",
        "from sklearn.model_selection import train_test_split\n",
        "from sklearn.preprocessing import StandardScaler, MinMaxScaler\n",
        "from sklearn.metrics import accuracy_score, f1_score\n",
        "from sklearn.feature_extraction.text import CountVectorizer, TfidfVectorizer, HashingVectorizer\n",
        "from sklearn.tree import DecisionTreeClassifier\n",
        "from sklearn.ensemble import RandomForestClassifier, AdaBoostClassifier, BaggingClassifier, ExtraTreesClassifier, GradientBoostingClassifier\n",
        "from sklearn.linear_model import LogisticRegression, PassiveAggressiveClassifier, Perceptron, RidgeClassifier, SGDClassifier\n",
        "from sklearn.naive_bayes import BernoulliNB, ComplementNB, MultinomialNB\n",
        "from sklearn.svm import LinearSVC\n",
        "\n",
        "\n",
        "import tensorflow as tf\n",
        "import keras\n",
        "from keras.backend import clear_session\n",
        "from keras.preprocessing.text import Tokenizer\n",
        "from keras.preprocessing.sequence import pad_sequences\n",
        "from keras.models import Sequential, Model\n",
        "from keras.layers import Input, Dense, SpatialDropout1D, LSTM\n",
        "from keras.layers import Dropout, Flatten, Conv1D, Embedding\n",
        "from keras.layers import GlobalMaxPooling1D\n",
        "from keras.utils import plot_model\n",
        "from keras.layers.convolutional import Conv1D, MaxPooling1D\n",
        "from keras.layers.convolutional import MaxPooling1D\n",
        "import pydot\n"
      ]
    },
    {
      "cell_type": "code",
      "execution_count": 2,
      "metadata": {},
      "outputs": [],
      "source": [
        "sb.set_theme(context='notebook', style='whitegrid')\n",
        "\n",
        "nlp = spacy.load('pt_core_news_md')\n",
        "rslp = RSLPStemmer()"
      ]
    },
    {
      "cell_type": "code",
      "execution_count": 3,
      "metadata": {},
      "outputs": [
        {
          "output_type": "stream",
          "name": "stdout",
          "text": [
            "2.3.0\nTrue\nNum GPUs Available:  1\n"
          ]
        }
      ],
      "source": [
        "print(tf.__version__)\n",
        "#print(keras.__version__)\n",
        "print(tf.test.is_built_with_cuda())\n",
        "print(\"Num GPUs Available: \", len(tf.config.experimental.list_physical_devices('GPU')))"
      ]
    },
    {
      "cell_type": "markdown",
      "metadata": {},
      "source": [
        "# Funções externas"
      ]
    },
    {
      "cell_type": "code",
      "execution_count": 4,
      "metadata": {},
      "outputs": [],
      "source": [
        "# função de Stemização completa do documento\n",
        "def stemmer_text(frase):\n",
        "  tokens = [rslp.stem(w) for w in frase.split()]\n",
        "  return \" \".join(tokens)\n",
        "\n",
        "# função de lematização completa do documento\n",
        "def lemmatizer_text(frase):\n",
        "  doc = nlp(frase)\n",
        "  tokens = [w.lemma_ for w in doc]\n",
        "  return \" \".join(tokens)\n",
        "\n",
        "# função de lematização somente para os verbos do documento\n",
        "def lemmatizer_verbs(frase):\n",
        "  doc = nlp(frase)\n",
        "  tokens = [w.lemma_ if w.pos_ == 'VERB' else w.text for w in doc]\n",
        "  return \" \".join(tokens)\n",
        "\n",
        "# função de lematização apenas ADV e ADJ\n",
        "def lemmatizer_adv_adj(frase):\n",
        "  doc = nlp(frase)\n",
        "  tokens = [w.lemma_ for w in doc if (w.pos_ == 'ADV' or w.pos_ == 'ADJ')]\n",
        "  return \" \".join(tokens)  \n",
        "\n",
        "# função para retiral o plural das palavras em português\n",
        "def plural_singular(palavra):\n",
        "  r2 = r\"ses$|zes$|res$\"\n",
        "  r3 = r\"ões$|ães$\"\n",
        "  r4 = r\"ais$|éis$|óis$|uis$\"\n",
        "  r5 = r\"is$\"\n",
        "  r6 = r\"eis$\"\n",
        "  if palavra.endswith('s'):\n",
        "    if re.findall(r2, palavra):\n",
        "      return palavra[:-2]\n",
        "    if re.findall(r3, palavra):\n",
        "      return palavra[:-3] + \"ão\"\n",
        "    if re.findall(r4, palavra):\n",
        "      return palavra[:-2] + \"l\"\n",
        "    if re.findall(r5, palavra):\n",
        "      return palavra[:-1] + \"l\"\n",
        "    if re.findall(r6, palavra):\n",
        "      return palavra[:-1] + \"il\"\n",
        "    if palavra.endswith('ns'):\n",
        "      return palavra[:-2] + \"m\"\n",
        "    return palavra[:-1]\n",
        "  return palavra  \n",
        "\n",
        "# função para executar o pré processamento\n",
        "def pre(frase):\n",
        "  regex = r\"[`,.?:;!&\\\"]\"\n",
        "  palavras = frase.split()\n",
        "  palavras = [p.lower() for p in palavras if p not in stops]\n",
        "  palavras = [re.sub(regex, \"\", p) for p in palavras]\n",
        "  palavras = [p for p in palavras if len(p) >= 3]\n",
        "  palavras = [p for p in palavras if not p.isnumeric()]\n",
        "  palavras = [plural_singular(p) for p in palavras]\n",
        "\n",
        "  return \" \".join(palavras)\n",
        "\n",
        "# função para criar as bases de treino e teste vetorizadas, com Unigramas, Bigramas e Trigramas\n",
        "def criar_vetores(base_treino, base_teste, coluna):\n",
        "    nomes = ['CV ngram(1,1)', 'CV ngram(1,2)', 'CV ngram(1,3)', 'CV ngram(2,2)', 'CV ngram(2,3)', 'CV ngram(3,3)',\n",
        "                'TF ngram(1,1)', 'TF ngram(1,2)', 'TF ngram(1,3)', 'TF ngram(2,2)', 'TF ngram(2,3)', 'TF ngram(3,3)',]\n",
        "    vetores = []\n",
        "    idx = 0\n",
        "\n",
        "    for x in range(1,4):\n",
        "        for y in range(1,4): \n",
        "            if (y < x):\n",
        "                continue\n",
        "            vect = CountVectorizer(ngram_range=(x,y), stop_words = stops, min_df=10)\n",
        "            vect.fit(df_treino[coluna])\n",
        "            vect_treino = vect.transform(df_treino[coluna])\n",
        "            vect_teste = vect.transform(df_teste[coluna])\n",
        "            vetores.append([nomes[idx], vect_treino, vect_teste])\n",
        "            idx += 1\n",
        "\n",
        "    for x in range(1,4):\n",
        "        for y in range(1,4): \n",
        "            if (y < x):\n",
        "                continue\n",
        "            vect = TfidfVectorizer(ngram_range=(x,y), stop_words = stops, min_df=10)\n",
        "            vect.fit(df_treino['texto'])\n",
        "            vect_treino = vect.transform(df_treino[coluna])\n",
        "            vect_teste = vect.transform(df_teste[coluna])\n",
        "            vetores.append([nomes[idx], vect_treino, vect_teste])\n",
        "            idx += 1\n",
        "\n",
        "    return vetores\n",
        "\n",
        "def testar_modelo(modelo, base_treino, base_teste, vetores, coluna):\n",
        "    f1score = 0\n",
        "    nome = \"\"\n",
        "    for x in vetores:\n",
        "        modelo.fit(x[1], base_treino[coluna])\n",
        "        predito = modelo.predict(x[2])\n",
        "        f1 = f1_score(base_teste[coluna], predito, average='weighted')\n",
        "        print(x[0], f1)\n",
        "        if (f1score < f1):\n",
        "            f1score = f1\n",
        "            nome = x[0]\n",
        "\n",
        "    return (nome, f1score)    "
      ]
    },
    {
      "cell_type": "code",
      "execution_count": null,
      "metadata": {},
      "outputs": [],
      "source": [
        "t = \"Este fime é muito bom e especial\"\n",
        "\n",
        "d = nlp(t)\n",
        "for w in d:\n",
        "    print(w.text, w.pos_, w.lemma_, w.dep_)"
      ]
    },
    {
      "cell_type": "markdown",
      "metadata": {},
      "source": [
        "# Carregando os Dados"
      ]
    },
    {
      "cell_type": "code",
      "execution_count": null,
      "metadata": {
        "id": "DMBI8SQtps1n"
      },
      "outputs": [],
      "source": [
        "df = pd.read_csv('./data/reviews-pt-br.csv', encoding='utf-8')"
      ]
    },
    {
      "cell_type": "code",
      "execution_count": null,
      "metadata": {
        "colab": {
          "base_uri": "https://localhost:8080/"
        },
        "id": "s__lBzDQwrcG",
        "outputId": "0bd3d84d-be60-4da3-c598-62f4a045b6c6"
      },
      "outputs": [],
      "source": [
        "df.info()"
      ]
    },
    {
      "cell_type": "code",
      "execution_count": null,
      "metadata": {
        "id": "ue0nV0uVo3OZ"
      },
      "outputs": [],
      "source": [
        "df.head(10)"
      ]
    },
    {
      "cell_type": "markdown",
      "metadata": {
        "id": "FyKC9Vhkp0BK"
      },
      "source": [
        "## Conferindo se temos dados nulos ou duplicados"
      ]
    },
    {
      "cell_type": "code",
      "execution_count": null,
      "metadata": {
        "id": "nze8UbKhosm9"
      },
      "outputs": [],
      "source": [
        "df.isna().sum()"
      ]
    },
    {
      "cell_type": "code",
      "execution_count": null,
      "metadata": {},
      "outputs": [],
      "source": [
        "df[df.duplicated()].count()"
      ]
    },
    {
      "cell_type": "markdown",
      "metadata": {},
      "source": [
        "## Distribuição das respostas"
      ]
    },
    {
      "cell_type": "code",
      "execution_count": null,
      "metadata": {},
      "outputs": [],
      "source": [
        "df.groupby('sentimento').count()"
      ]
    },
    {
      "cell_type": "code",
      "execution_count": null,
      "metadata": {},
      "outputs": [],
      "source": [
        "# em percentual\n",
        "round(df.groupby('sentimento').count().texto / df.shape[0] * 100, 2)"
      ]
    },
    {
      "cell_type": "code",
      "execution_count": null,
      "metadata": {
        "id": "FziwgqJmw9OD"
      },
      "outputs": [],
      "source": [
        "sb.countplot(x=df.sentimento)"
      ]
    },
    {
      "source": [
        "## Criando o conjunto de stopwords (NLTK + SPACY)"
      ],
      "cell_type": "markdown",
      "metadata": {}
    },
    {
      "cell_type": "code",
      "execution_count": 5,
      "metadata": {},
      "outputs": [
        {
          "output_type": "stream",
          "name": "stdout",
          "text": [
            "['a', 'acerca', 'ademais', 'adeus', 'agora', 'ainda', 'algo', 'algumas', 'alguns', 'ali', 'além', 'ambas', 'ambos', 'antes', 'ao', 'aos', 'apenas', 'apoia', 'apoio', 'apontar', 'após', 'aquela', 'aquelas', 'aquele', 'aqueles', 'aqui', 'aquilo', 'as', 'assim', 'através', 'atrás', 'até', 'aí', 'baixo', 'bastante', 'bem', 'boa', 'bom', 'breve', 'cada', 'caminho', 'catorze', 'cedo', 'cento', 'certamente', 'certeza', 'cima', 'cinco', 'coisa', 'com', 'como', 'comprida', 'comprido', 'conhecida', 'conhecido', 'conselho', 'contra', 'contudo', 'corrente', 'cuja', 'cujo', 'custa', 'cá', 'da', 'daquela', 'daquele', 'dar', 'das', 'de', 'debaixo', 'dela', 'delas', 'dele', 'deles', 'demais', 'dentro', 'depois', 'des', 'desde', 'dessa', 'desse', 'desta', 'deste', 'deve', 'devem', 'deverá', 'dez', 'dezanove', 'dezasseis', 'dezassete', 'dezoito', 'diante', 'direita', 'disso', 'diz', 'dizem', 'dizer', 'do', 'dois', 'dos', 'doze', 'duas', 'dá', 'dão', 'e', 'ela', 'elas', 'ele', 'eles', 'em', 'embora', 'enquanto', 'entre', 'então', 'era', 'eram', 'essa', 'essas', 'esse', 'esses', 'esta', 'estado', 'estamos', 'estar', 'estará', 'estas', 'estava', 'estavam', 'este', 'esteja', 'estejam', 'estejamos', 'estes', 'esteve', 'estive', 'estivemos', 'estiver', 'estivera', 'estiveram', 'estiverem', 'estivermos', 'estivesse', 'estivessem', 'estiveste', 'estivestes', 'estivéramos', 'estivéssemos', 'estou', 'está', 'estás', 'estávamos', 'estão', 'eu', 'eventual', 'exemplo', 'falta', 'fará', 'favor', 'faz', 'fazeis', 'fazem', 'fazemos', 'fazer', 'fazes', 'fazia', 'faço', 'fez', 'fim', 'final', 'foi', 'fomos', 'for', 'fora', 'foram', 'forem', 'forma', 'formos', 'fosse', 'fossem', 'foste', 'fostes', 'fui', 'fôramos', 'fôssemos', 'geral', 'grande', 'grandes', 'grupo', 'haja', 'hajam', 'hajamos', 'havemos', 'hei', 'houve', 'houvemos', 'houver', 'houvera', 'houveram', 'houverei', 'houverem', 'houveremos', 'houveria', 'houveriam', 'houvermos', 'houverá', 'houverão', 'houveríamos', 'houvesse', 'houvessem', 'houvéramos', 'houvéssemos', 'há', 'hão', 'inclusive', 'iniciar', 'inicio', 'ir', 'irá', 'isso', 'isto', 'já', 'lado', 'lhe', 'lhes', 'ligado', 'local', 'logo', 'longe', 'lugar', 'lá', 'maior', 'maioria', 'maiorias', 'mais', 'mal', 'mas', 'me', 'meio', 'menor', 'menos', 'meses', 'mesmo', 'meu', 'meus', 'mil', 'minha', 'minhas', 'momento', 'muito', 'muitos', 'máximo', 'mês', 'na', 'nada', 'naquela', 'naquele', 'nas', 'nem', 'nenhuma', 'nessa', 'nesse', 'nesta', 'neste', 'no', 'nos', 'nossa', 'nossas', 'nosso', 'nossos', 'nova', 'novas', 'nove', 'novo', 'novos', 'num', 'numa', 'nunca', 'nuns', 'não', 'nível', 'nós', 'número', 'números', 'o', 'obrigada', 'obrigado', 'oitava', 'oitavo', 'oito', 'onde', 'ontem', 'onze', 'ora', 'os', 'ou', 'outra', 'outras', 'outros', 'para', 'parece', 'parte', 'partir', 'pegar', 'pela', 'pelas', 'pelo', 'pelos', 'perto', 'pode', 'podem', 'poder', 'poderá', 'podia', 'pois', 'ponto', 'pontos', 'por', 'porquanto', 'porque', 'porquê', 'portanto', 'porém', 'posição', 'possivelmente', 'posso', 'possível', 'pouca', 'pouco', 'povo', 'primeira', 'primeiro', 'próprio', 'próxima', 'próximo', 'puderam', 'pôde', 'põe', 'põem', 'quais', 'qual', 'qualquer', 'quando', 'quanto', 'quarta', 'quarto', 'quatro', 'que', 'quem', 'quer', 'querem', 'quero', 'questão', 'quieta', 'quieto', 'quinta', 'quinto', 'quinze', 'quê', 'relação', 'sabe', 'saber', 'se', 'segunda', 'segundo', 'sei', 'seis', 'seja', 'sejam', 'sejamos', 'sem', 'sempre', 'ser', 'serei', 'seremos', 'seria', 'seriam', 'será', 'serão', 'seríamos', 'sete', 'seu', 'seus', 'sexta', 'sexto', 'sim', 'sistema', 'sob', 'sobre', 'sois', 'somente', 'somos', 'sou', 'sua', 'suas', 'são', 'sétima', 'sétimo', 'só', 'tais', 'tal', 'talvez', 'também', 'tanta', 'tanto', 'tarde', 'te', 'tem', 'temos', 'tempo', 'tendes', 'tenha', 'tenham', 'tenhamos', 'tenho', 'tens', 'tentar', 'tentaram', 'tente', 'tentei', 'ter', 'terceira', 'terceiro', 'terei', 'teremos', 'teria', 'teriam', 'terá', 'terão', 'teríamos', 'teu', 'teus', 'teve', 'tinha', 'tinham', 'tipo', 'tive', 'tivemos', 'tiver', 'tivera', 'tiveram', 'tiverem', 'tivermos', 'tivesse', 'tivessem', 'tiveste', 'tivestes', 'tivéramos', 'tivéssemos', 'toda', 'todas', 'todo', 'todos', 'treze', 'três', 'tu', 'tua', 'tuas', 'tudo', 'tão', 'tém', 'têm', 'tínhamos', 'um', 'uma', 'umas', 'uns', 'usa', 'usar', 'vai', 'vais', 'valor', 'veja', 'vem', 'vens', 'ver', 'vez', 'vezes', 'vinda', 'vindo', 'vinte', 'você', 'vocês', 'vos', 'vossa', 'vossas', 'vosso', 'vossos', 'vários', 'vão', 'vêm', 'vós', 'zero', 'à', 'às', 'área', 'é', 'éramos', 'és', 'último']\n"
          ]
        }
      ],
      "source": [
        "stopwords_nltk = nltk.corpus.stopwords.words('portuguese')\n",
        "stopwords_spacy = nlp.Defaults.stop_words\n",
        "stops = list(set(stopwords_spacy).union(stopwords_nltk))\n",
        "print(sorted(stops))"
      ]
    },
    {
      "source": [
        "# Analisando o conjunto total das palavras"
      ],
      "cell_type": "markdown",
      "metadata": {}
    },
    {
      "cell_type": "code",
      "execution_count": null,
      "metadata": {},
      "outputs": [],
      "source": [
        "# exemplo de críticas no nosso dataframe\n",
        "print(df.texto[0])\n",
        "print(\"-\" * 40)\n",
        "print(df.texto[1536])\n",
        "print(\"-\" * 40)\n",
        "print(df.texto[8192])"
      ]
    },
    {
      "cell_type": "code",
      "execution_count": null,
      "metadata": {},
      "outputs": [],
      "source": [
        "# criando um texto completo com todas as críticas\n",
        "texto_completo = \" \".join([texto for texto in df.texto])\n",
        "texto_completo_pos = \" \".join([texto for texto in df[df.sentimento == 'pos'].texto])\n",
        "texto_completo_neg = \" \".join([texto for texto in df[df.sentimento == 'neg'].texto])"
      ]
    },
    {
      "cell_type": "code",
      "execution_count": null,
      "metadata": {},
      "outputs": [],
      "source": [
        "print(\"QTD de todas as palvaras\", len(texto_completo.split()))\n",
        "print(\"QTD de todas as palvaras das críticas positivas\", len(texto_completo_pos.split()))\n",
        "print(\"QTD de todas as palvaras das críticas negativas\", len(texto_completo_neg.split()))"
      ]
    },
    {
      "cell_type": "code",
      "execution_count": null,
      "metadata": {},
      "outputs": [],
      "source": [
        "# criando uma wordcloud de todas as palavra sem as stopwords\n",
        "wordcloud = wd.WordCloud(width = 3000, height = 2000, max_words=50, random_state=42, background_color='black', colormap='Blues', collocations=False, stopwords = stops).generate(texto_completo)\n",
        "\n",
        "plt.figure(figsize=(20, 10))\n",
        "plt.title(\"Todas as palavras da Base de Dados retirando as StopWords\", fontdict={'fontsize':24})\n",
        "plt.imshow(wordcloud) \n",
        "plt.axis(\"off\");\n",
        "plt.show()"
      ]
    },
    {
      "cell_type": "code",
      "execution_count": null,
      "metadata": {},
      "outputs": [],
      "source": [
        "# criando uma wordcloud de todas as palavra sem as stopwords\n",
        "wordcloud = wd.WordCloud(width = 3000, height = 2000, max_words=50, random_state=42, background_color='black', colormap='Blues', collocations=False, stopwords = stops).generate(texto_completo_pos)\n",
        "\n",
        "plt.figure(figsize=(20, 10))\n",
        "plt.title(\"Todas as palavras POSITIVAS da Base de Dados retirando as StopWords\", fontdict={'fontsize':24})\n",
        "plt.imshow(wordcloud) \n",
        "plt.axis(\"off\");\n",
        "plt.show()"
      ]
    },
    {
      "cell_type": "code",
      "execution_count": null,
      "metadata": {},
      "outputs": [],
      "source": [
        "# criando uma wordcloud de todas as palavra sem as stopwords\n",
        "wordcloud = wd.WordCloud(width = 3000, height = 2000, max_words=50, random_state=42, background_color='black', colormap='Blues', collocations=False, stopwords = stops).generate(texto_completo_neg)\n",
        "\n",
        "plt.figure(figsize=(20, 10))\n",
        "plt.title(\"Todas as palavras NEGATIVAS da Base de Dados retirando as StopWords\", fontdict={'fontsize':24})\n",
        "plt.imshow(wordcloud) \n",
        "plt.axis(\"off\");\n",
        "plt.show()"
      ]
    },
    {
      "source": [
        "## Criando uma função de pré processamento"
      ],
      "cell_type": "markdown",
      "metadata": {}
    },
    {
      "cell_type": "code",
      "execution_count": null,
      "metadata": {},
      "outputs": [],
      "source": [
        "palavras = texto_completo.split()\n",
        "len(palavras)"
      ]
    },
    {
      "cell_type": "code",
      "execution_count": null,
      "metadata": {},
      "outputs": [],
      "source": [
        "# retirando as stopwords das palavras\n",
        "palavras = [p.lower() for p in palavras if p not in stops]\n",
        "len(palavras)"
      ]
    },
    {
      "cell_type": "code",
      "execution_count": null,
      "metadata": {},
      "outputs": [],
      "source": [
        "# retirando pontuações das palavras\n",
        "regex = r\"[`,.?:;!&\\\"]\"\n",
        "palavras = [re.sub(regex, \"\", p) for p in palavras]\n",
        "len(palavras)"
      ]
    },
    {
      "cell_type": "code",
      "execution_count": null,
      "metadata": {},
      "outputs": [],
      "source": [
        "#retirando palavras menores que 3 caracteres\n",
        "palavras = [p for p in palavras if len(p) >= 3]\n",
        "len(palavras)"
      ]
    },
    {
      "cell_type": "code",
      "execution_count": null,
      "metadata": {},
      "outputs": [],
      "source": [
        "# retirando os números das palavras\n",
        "palavras = [p for p in palavras if not p.isnumeric()]\n",
        "len(palavras)"
      ]
    },
    {
      "cell_type": "code",
      "execution_count": null,
      "metadata": {},
      "outputs": [],
      "source": [
        "#convertendo as palavras para o singular\n",
        "palavras = [plural_singular(p) for p in palavras]\n",
        "len(palavras)"
      ]
    },
    {
      "source": [
        "## Criamos uma função chamada \"pre\" que iremos usar em nossas análises dos modelos"
      ],
      "cell_type": "markdown",
      "metadata": {}
    },
    {
      "source": [
        "# Vamos analisar quais palavras são comuns as críticas negativas e positivas"
      ],
      "cell_type": "markdown",
      "metadata": {}
    },
    {
      "cell_type": "code",
      "execution_count": null,
      "metadata": {},
      "outputs": [],
      "source": [
        "# criando uma wordcloud das palavras filtradas\n",
        "wordcloud = wd.WordCloud(width = 3000, height = 2000, max_words=50, random_state=42, background_color='black', colormap='Blues', collocations=False).fit_words(dict(ctp))\n",
        "\n",
        "plt.figure(figsize=(20, 10))\n",
        "plt.title(\"Todas as palavras da Base de Dados após o Pré Pocessamento\", fontdict={'fontsize':24})\n",
        "plt.imshow(wordcloud) \n",
        "plt.axis(\"off\");\n",
        "plt.show()"
      ]
    },
    {
      "cell_type": "code",
      "execution_count": null,
      "metadata": {},
      "outputs": [],
      "source": [
        "todas_palavras_pos = texto_completo_pos.split()\n",
        "todas_palavras_pos = [pre(w) for w in todas_palavras_pos]\n",
        "todas_palavras_pos = [w for w in todas_palavras_pos if w != '']\n",
        "ctpp = Counter()\n",
        "ctpp.update(todas_palavras_pos)\n",
        "ctpp.most_common(50)"
      ]
    },
    {
      "cell_type": "code",
      "execution_count": null,
      "metadata": {},
      "outputs": [],
      "source": [
        "todas_palavras_neg = texto_completo_neg.split()\n",
        "todas_palavras_neg = [pre(w) for w in todas_palavras_neg]\n",
        "todas_palavras_neg = [w for w in todas_palavras_neg if w != '']\n",
        "ctpn = Counter()\n",
        "ctpn.update(todas_palavras_neg)\n",
        "ctpn.most_common(50)"
      ]
    },
    {
      "cell_type": "code",
      "execution_count": null,
      "metadata": {},
      "outputs": [],
      "source": [
        "%%time\n",
        "p = ctpp.most_common()\n",
        "n = ctpn.most_common()\n",
        "r = [[x for x in p if x[0] == y[0]] for y in n]\n",
        "r = [x for x in r if len(x) != 0]\n",
        "len(r)"
      ]
    },
    {
      "cell_type": "code",
      "execution_count": null,
      "metadata": {},
      "outputs": [],
      "source": [
        "palavras_comuns = [w[0][0] for w in r]\n",
        "palavras_comuns[:100]"
      ]
    },
    {
      "source": [
        "## Criando as colunas tratadas"
      ],
      "cell_type": "markdown",
      "metadata": {}
    },
    {
      "cell_type": "code",
      "execution_count": null,
      "metadata": {},
      "outputs": [],
      "source": [
        "%%time\n",
        "#df['stem'] = df.texto.apply(stemmer_text)"
      ]
    },
    {
      "cell_type": "code",
      "execution_count": null,
      "metadata": {},
      "outputs": [],
      "source": [
        "%time\n",
        "#df['lemm'] = df.texto.apply(lemmatizer_text)"
      ]
    },
    {
      "cell_type": "code",
      "execution_count": null,
      "metadata": {},
      "outputs": [],
      "source": [
        "%%time\n",
        "#df['verb'] = df.texto.apply(lemmatizer_verbs)"
      ]
    },
    {
      "cell_type": "code",
      "execution_count": null,
      "metadata": {},
      "outputs": [],
      "source": [
        "%%time\n",
        "#df['pre'] = df.texto.apply(pre)"
      ]
    },
    {
      "cell_type": "code",
      "execution_count": 31,
      "metadata": {},
      "outputs": [
        {
          "output_type": "stream",
          "name": "stdout",
          "text": [
            "Wall time: 26min 16s\n"
          ]
        }
      ],
      "source": [
        "%%time\n",
        "df['adj'] = df.texto.apply(lemmatizer_adv_adj)"
      ]
    },
    {
      "cell_type": "code",
      "execution_count": 6,
      "metadata": {},
      "outputs": [],
      "source": [
        "#df.to_csv(\"./data/criticas.csv\")\n",
        "df = pd.read_csv('../criticas.csv')\n",
        "df = df.drop(['Unnamed: 0', 'codigo'], axis=1)"
      ]
    },
    {
      "cell_type": "code",
      "execution_count": 32,
      "metadata": {},
      "outputs": [
        {
          "output_type": "execute_result",
          "data": {
            "text/plain": [
              "                                               texto sentimento  \\\n",
              "0  Esse bocejo de pia de cozinha de orçamento mui...        neg   \n",
              "1  O Bravo parece indicar que o personagem princi...        neg   \n",
              "2  Durante a Guerra pela Independência do Sul, GE...        pos   \n",
              "3  É fora de questão que a verdadeira Anna Anders...        pos   \n",
              "4  Concordo totalmente com outro dos revisores aq...        neg   \n",
              "5  Obra-prima absoluta de um filme! Boa noite Mr....        pos   \n",
              "6  Embora a palavra megalmania seja muito usada p...        pos   \n",
              "7  Esta tem que ser a peça mais incrível de porca...        neg   \n",
              "8  Eu suponho que todas as piadas internas são o ...        neg   \n",
              "9  Se há um tema deste filme, é que as pessoas po...        pos   \n",
              "\n",
              "                                                stem  \\\n",
              "0  ess bocej de pia de co de orç muit baix é o ti...   \n",
              "1  o brav parec indic que o person principal, cla...   \n",
              "2  dur a guerr pel independ do sul, gener spanky ...   \n",
              "3  é for de quest que a verd ann anderson não era...   \n",
              "4  concord total com outr do revi aqu que fic sat...   \n",
              "5  obra-pr absolut de um filme! boa noit mr.tom r...   \n",
              "6  emb a palavr megalman sej muit us par descrev ...   \n",
              "7  est tem que ser a peç mais incr de porc cinema...   \n",
              "8  eu suponh que tod as pi intern são o que fez d...   \n",
              "9  se há um tem dest filme, é que as pesso pod li...   \n",
              "\n",
              "                                                lemm  \\\n",
              "0  Esse bocejar de pio de cozinhar de orçamentar ...   \n",
              "1  O Bravo parecer indicar que o personagem princ...   \n",
              "2  Durante o Guerra pelar Independência do Sul , ...   \n",
              "3  É ser de questão que o verdadeiro Anna Anderso...   \n",
              "4  Concordo totalmente com outro dos revisor aqui...   \n",
              "5  Obra-prima absoluto de um filmar ! Boa noite M...   \n",
              "6  Embora o palavra megalmania ser muito usar par...   \n",
              "7  Esta ter que ser o pedir mais incrível de porc...   \n",
              "8  Eu supor que todo o piar interno ser o que faz...   \n",
              "9  Se haver um temer dar filmar , ser que o pesso...   \n",
              "\n",
              "                                                verb  \\\n",
              "0  Esse bocejo de pia de cozinha de orçamento mui...   \n",
              "1  O Bravo parecer indicar que o personagem princ...   \n",
              "2  Durante a Guerra pela Independência do Sul , G...   \n",
              "3  É fora de questão que a verdadeira Anna Anders...   \n",
              "4  Concordo totalmente com outro dos revisores aq...   \n",
              "5  Obra-prima absoluta de um filme ! Boa noite Mr...   \n",
              "6  Embora a palavra megalmania seja muito usar pa...   \n",
              "7  Esta tem que ser a peça mais incrível de porca...   \n",
              "8  Eu supor que todas as piadas internas são o qu...   \n",
              "9  Se haver um tema deste filme , ser que as pess...   \n",
              "\n",
              "                                                 pre  \\\n",
              "0  esse bocejo pia cozinha orçamento filme feito ...   \n",
              "1  bravo indicar personagem principal claro coraj...   \n",
              "2  durante guerra independência sul general spank...   \n",
              "3  verdadeira anna anderson princesa anastasia al...   \n",
              "4  concordo totalmente outro revisor ficou satisf...   \n",
              "5  obra-prima absoluta filme boa noite mrtom rapi...   \n",
              "6  embora palavra megalmania usada descrever gene...   \n",
              "7  esta peça incrível porcaria cinematográfica as...   \n",
              "8  suponho piada interna munchie clássico cult pe...   \n",
              "9  tema filme pessoa lidar dificuldade imaginação...   \n",
              "\n",
              "                                                 adj  \n",
              "0  muito baixar só antar ver Provavelmente auto-f...  \n",
              "1  principal claro corajoso mais corajoso brutalm...  \n",
              "2  locar popular GANG ocasionar grande natural me...  \n",
              "3  ser verdadeiro não Além muito distinto físico ...  \n",
              "4  totalmente aqui satisfazer Melhor não doente p...  \n",
              "5  absoluto Boa rapidamente favorito bom demais p...  \n",
              "6  megalmania muito muito duro comer extraordinár...  \n",
              "7  mais incrível cinematográfico já digno publica...  \n",
              "8  interno cult horrível ridículo provavelmente m...  \n",
              "9  bom pobre duplo constantemente frustrar freque...  "
            ],
            "text/html": "<div>\n<style scoped>\n    .dataframe tbody tr th:only-of-type {\n        vertical-align: middle;\n    }\n\n    .dataframe tbody tr th {\n        vertical-align: top;\n    }\n\n    .dataframe thead th {\n        text-align: right;\n    }\n</style>\n<table border=\"1\" class=\"dataframe\">\n  <thead>\n    <tr style=\"text-align: right;\">\n      <th></th>\n      <th>texto</th>\n      <th>sentimento</th>\n      <th>stem</th>\n      <th>lemm</th>\n      <th>verb</th>\n      <th>pre</th>\n      <th>adj</th>\n    </tr>\n  </thead>\n  <tbody>\n    <tr>\n      <th>0</th>\n      <td>Esse bocejo de pia de cozinha de orçamento mui...</td>\n      <td>neg</td>\n      <td>ess bocej de pia de co de orç muit baix é o ti...</td>\n      <td>Esse bocejar de pio de cozinhar de orçamentar ...</td>\n      <td>Esse bocejo de pia de cozinha de orçamento mui...</td>\n      <td>esse bocejo pia cozinha orçamento filme feito ...</td>\n      <td>muito baixar só antar ver Provavelmente auto-f...</td>\n    </tr>\n    <tr>\n      <th>1</th>\n      <td>O Bravo parece indicar que o personagem princi...</td>\n      <td>neg</td>\n      <td>o brav parec indic que o person principal, cla...</td>\n      <td>O Bravo parecer indicar que o personagem princ...</td>\n      <td>O Bravo parecer indicar que o personagem princ...</td>\n      <td>bravo indicar personagem principal claro coraj...</td>\n      <td>principal claro corajoso mais corajoso brutalm...</td>\n    </tr>\n    <tr>\n      <th>2</th>\n      <td>Durante a Guerra pela Independência do Sul, GE...</td>\n      <td>pos</td>\n      <td>dur a guerr pel independ do sul, gener spanky ...</td>\n      <td>Durante o Guerra pelar Independência do Sul , ...</td>\n      <td>Durante a Guerra pela Independência do Sul , G...</td>\n      <td>durante guerra independência sul general spank...</td>\n      <td>locar popular GANG ocasionar grande natural me...</td>\n    </tr>\n    <tr>\n      <th>3</th>\n      <td>É fora de questão que a verdadeira Anna Anders...</td>\n      <td>pos</td>\n      <td>é for de quest que a verd ann anderson não era...</td>\n      <td>É ser de questão que o verdadeiro Anna Anderso...</td>\n      <td>É fora de questão que a verdadeira Anna Anders...</td>\n      <td>verdadeira anna anderson princesa anastasia al...</td>\n      <td>ser verdadeiro não Além muito distinto físico ...</td>\n    </tr>\n    <tr>\n      <th>4</th>\n      <td>Concordo totalmente com outro dos revisores aq...</td>\n      <td>neg</td>\n      <td>concord total com outr do revi aqu que fic sat...</td>\n      <td>Concordo totalmente com outro dos revisor aqui...</td>\n      <td>Concordo totalmente com outro dos revisores aq...</td>\n      <td>concordo totalmente outro revisor ficou satisf...</td>\n      <td>totalmente aqui satisfazer Melhor não doente p...</td>\n    </tr>\n    <tr>\n      <th>5</th>\n      <td>Obra-prima absoluta de um filme! Boa noite Mr....</td>\n      <td>pos</td>\n      <td>obra-pr absolut de um filme! boa noit mr.tom r...</td>\n      <td>Obra-prima absoluto de um filmar ! Boa noite M...</td>\n      <td>Obra-prima absoluta de um filme ! Boa noite Mr...</td>\n      <td>obra-prima absoluta filme boa noite mrtom rapi...</td>\n      <td>absoluto Boa rapidamente favorito bom demais p...</td>\n    </tr>\n    <tr>\n      <th>6</th>\n      <td>Embora a palavra megalmania seja muito usada p...</td>\n      <td>pos</td>\n      <td>emb a palavr megalman sej muit us par descrev ...</td>\n      <td>Embora o palavra megalmania ser muito usar par...</td>\n      <td>Embora a palavra megalmania seja muito usar pa...</td>\n      <td>embora palavra megalmania usada descrever gene...</td>\n      <td>megalmania muito muito duro comer extraordinár...</td>\n    </tr>\n    <tr>\n      <th>7</th>\n      <td>Esta tem que ser a peça mais incrível de porca...</td>\n      <td>neg</td>\n      <td>est tem que ser a peç mais incr de porc cinema...</td>\n      <td>Esta ter que ser o pedir mais incrível de porc...</td>\n      <td>Esta tem que ser a peça mais incrível de porca...</td>\n      <td>esta peça incrível porcaria cinematográfica as...</td>\n      <td>mais incrível cinematográfico já digno publica...</td>\n    </tr>\n    <tr>\n      <th>8</th>\n      <td>Eu suponho que todas as piadas internas são o ...</td>\n      <td>neg</td>\n      <td>eu suponh que tod as pi intern são o que fez d...</td>\n      <td>Eu supor que todo o piar interno ser o que faz...</td>\n      <td>Eu supor que todas as piadas internas são o qu...</td>\n      <td>suponho piada interna munchie clássico cult pe...</td>\n      <td>interno cult horrível ridículo provavelmente m...</td>\n    </tr>\n    <tr>\n      <th>9</th>\n      <td>Se há um tema deste filme, é que as pessoas po...</td>\n      <td>pos</td>\n      <td>se há um tem dest filme, é que as pesso pod li...</td>\n      <td>Se haver um temer dar filmar , ser que o pesso...</td>\n      <td>Se haver um tema deste filme , ser que as pess...</td>\n      <td>tema filme pessoa lidar dificuldade imaginação...</td>\n      <td>bom pobre duplo constantemente frustrar freque...</td>\n    </tr>\n  </tbody>\n</table>\n</div>"
          },
          "metadata": {},
          "execution_count": 32
        }
      ],
      "source": [
        "df.head(10)"
      ]
    },
    {
      "cell_type": "code",
      "execution_count": null,
      "metadata": {},
      "outputs": [],
      "source": [
        "stops2 = set(stops).union(palavras_comuns[:100])\n",
        "len(stops2)"
      ]
    },
    {
      "source": [
        "# Dividindo a base em treino e teste"
      ],
      "cell_type": "markdown",
      "metadata": {}
    },
    {
      "cell_type": "code",
      "execution_count": 36,
      "metadata": {},
      "outputs": [],
      "source": [
        "# dividindo com 20% para o treino e random state = 42\n",
        "df_treino, df_teste = train_test_split(\n",
        "      df, \n",
        "      test_size = 0.2, \n",
        "      random_state = 42\n",
        "  )"
      ]
    },
    {
      "cell_type": "code",
      "execution_count": 37,
      "metadata": {},
      "outputs": [
        {
          "output_type": "execute_result",
          "data": {
            "text/plain": [
              "sentimento\n",
              "neg    40.07\n",
              "pos    39.93\n",
              "Name: texto, dtype: float64"
            ]
          },
          "metadata": {},
          "execution_count": 37
        }
      ],
      "source": [
        "# distribuição das respostas do treino em %\n",
        "round(df_treino.groupby('sentimento').count() / df.shape[0] * 100, 2).texto"
      ]
    },
    {
      "cell_type": "code",
      "execution_count": 20,
      "metadata": {},
      "outputs": [
        {
          "output_type": "execute_result",
          "data": {
            "text/plain": [
              "sentimento\n",
              "neg    10.04\n",
              "pos     9.96\n",
              "Name: texto, dtype: float64"
            ]
          },
          "metadata": {},
          "execution_count": 20
        }
      ],
      "source": [
        "# distribuição das respostas do teste em %\n",
        "round(df_teste.groupby('sentimento').count() / df.shape[0] * 100, 2).texto"
      ]
    },
    {
      "source": [
        "# Testando diversos modelos com a base total de palavras sem stopwords"
      ],
      "cell_type": "markdown",
      "metadata": {}
    },
    {
      "source": [
        "## Criando os vetores com CountVectorizer e TfidfVectorizer"
      ],
      "cell_type": "markdown",
      "metadata": {}
    },
    {
      "cell_type": "code",
      "execution_count": 42,
      "metadata": {},
      "outputs": [
        {
          "output_type": "stream",
          "name": "stdout",
          "text": [
            "Wall time: 4min 23s\n"
          ]
        }
      ],
      "source": [
        "%%time\n",
        "# criando os vetores para Unigramas, Bigramas, Trigramas com CountVectorizer e TfidfVectorizer\n",
        "vetores = criar_vetores(df_treino, df_teste, 'texto')"
      ]
    },
    {
      "source": [
        "## Testando diversos modelos com os vetores criados"
      ],
      "cell_type": "markdown",
      "metadata": {}
    },
    {
      "cell_type": "code",
      "execution_count": 50,
      "metadata": {},
      "outputs": [
        {
          "output_type": "stream",
          "name": "stdout",
          "text": [
            "CV ngram(1,1) 0.7334065607517617\n",
            "CV ngram(1,2) 0.7389972124839376\n",
            "CV ngram(1,3) 0.7416456410429769\n",
            "CV ngram(2,2) 0.6132194031871322\n",
            "CV ngram(2,3) 0.6143754350124869\n",
            "CV ngram(3,3) 0.440902916358259\n",
            "TF ngram(1,1) 0.7242198298707084\n",
            "TF ngram(1,2) 0.7260879021556159\n",
            "TF ngram(1,3) 0.7269344378693082\n",
            "TF ngram(2,2) 0.611408385276224\n",
            "TF ngram(2,3) 0.6152997395176724\n",
            "TF ngram(3,3) 0.4438377004527155\n",
            "\n",
            "Árvore de Decisão - CV ngram(1,3) - F1 Score: 74.16%\n",
            "Wall time: 3min 53s\n"
          ]
        }
      ],
      "source": [
        "%%time\n",
        "# modelo Árvore de Decisão\n",
        "modelo = DecisionTreeClassifier(random_state=42, max_depth=50)\n",
        "# calculo com todos os vetores.\n",
        "f1score = testar_modelo(modelo, df_treino, df_teste, vetores, 'sentimento')\n",
        "\n",
        "print()\n",
        "print(f\"Árvore de Decisão - {f1score[0]} - F1 Score: {round(f1score[1]*100,2)}%\")"
      ]
    },
    {
      "cell_type": "code",
      "execution_count": 70,
      "metadata": {},
      "outputs": [
        {
          "output_type": "stream",
          "name": "stdout",
          "text": [
            "CV ngram(1,1) 0.8570091422646389\n",
            "CV ngram(1,2) 0.8580194411160453\n",
            "CV ngram(1,3) 0.8610559351736565\n",
            "CV ngram(2,2) 0.7738974149816571\n",
            "CV ngram(2,3) 0.7747957289121654\n",
            "CV ngram(3,3) 0.5939805367253124\n",
            "TF ngram(1,1) 0.8527194695341529\n",
            "TF ngram(1,2) 0.8548498155717084\n",
            "TF ngram(1,3) 0.8569934729963394\n",
            "TF ngram(2,2) 0.7777573321458281\n",
            "TF ngram(2,3) 0.7803476027605121\n",
            "TF ngram(3,3) 0.5922386561501604\n",
            "\n",
            "Random Forest - CV ngram(1,3) - F1 Score: 86.11%\n",
            "Wall time: 6min 19s\n"
          ]
        }
      ],
      "source": [
        "%%time\n",
        "# modelo Random Forest\n",
        "modelo = RandomForestClassifier(n_estimators=200, random_state=42, n_jobs=-1)\n",
        "# calculo com todos os vetores.\n",
        "f1score = testar_modelo(modelo, df_treino, df_teste, vetores, 'sentimento')\n",
        "\n",
        "print()\n",
        "print(f\"Random Forest - {f1score[0]} - F1 Score: {round(f1score[1]*100,2)}%\")"
      ]
    },
    {
      "cell_type": "code",
      "execution_count": 52,
      "metadata": {},
      "outputs": [
        {
          "output_type": "stream",
          "name": "stdout",
          "text": [
            "CV ngram(1,1) 0.8113072237344358\n",
            "CV ngram(1,2) 0.8119893681619048\n",
            "CV ngram(1,3) 0.8119893681619048\n",
            "CV ngram(2,2) 0.6631463063565599\n",
            "CV ngram(2,3) 0.6630078264083823\n",
            "CV ngram(3,3) 0.46169500243275796\n",
            "TF ngram(1,1) 0.8087066011318896\n",
            "TF ngram(1,2) 0.8060494093349827\n",
            "TF ngram(1,3) 0.8055787156701836\n",
            "TF ngram(2,2) 0.668940166492079\n",
            "TF ngram(2,3) 0.6717980213185778\n",
            "TF ngram(3,3) 0.46618350077771004\n",
            "\n",
            "AdaBoost - CV ngram(1,2) - F1 Score: 81.2%\n",
            "Wall time: 3min 46s\n"
          ]
        }
      ],
      "source": [
        "%%time\n",
        "# modelo AdaBoost\n",
        "modelo = AdaBoostClassifier(n_estimators=100, random_state=42)\n",
        "# calculo com todos os vetores.\n",
        "f1score = testar_modelo(modelo, df_treino, df_teste, vetores, 'sentimento')\n",
        "\n",
        "print()\n",
        "print(f\"AdaBoost - {f1score[0]} - F1 Score: {round(f1score[1]*100,2)}%\")"
      ]
    },
    {
      "cell_type": "code",
      "execution_count": 53,
      "metadata": {},
      "outputs": [
        {
          "output_type": "stream",
          "name": "stdout",
          "text": [
            "CV ngram(1,1) 0.7829529863109658\n",
            "CV ngram(1,2) 0.7822625447604084\n",
            "CV ngram(1,3) 0.7840829303681472\n",
            "CV ngram(2,2) 0.7470878093253949\n",
            "CV ngram(2,3) 0.7506578822171368\n",
            "CV ngram(3,3) 0.5922569249811895\n",
            "TF ngram(1,1) 0.7935963307402973\n",
            "TF ngram(1,2) 0.787549924702114\n",
            "TF ngram(1,3) 0.793389110907307\n",
            "TF ngram(2,2) 0.749359985803243\n",
            "TF ngram(2,3) 0.7512825374870906\n",
            "TF ngram(3,3) 0.592533692930128\n",
            "\n",
            "Bagging - TF ngram(1,1) - F1 Score: 79.36%\n",
            "Wall time: 27min 30s\n"
          ]
        }
      ],
      "source": [
        "%%time\n",
        "# modelo Bagging Classifier\n",
        "modelo = BaggingClassifier(n_estimators=20, random_state=42, n_jobs=-1)\n",
        "# calculo com todos os vetores.\n",
        "f1score = testar_modelo(modelo, df_treino, df_teste, vetores, 'sentimento')\n",
        "\n",
        "print()\n",
        "print(f\"Bagging - {f1score[0]} - F1 Score: {round(f1score[1]*100,2)}%\")"
      ]
    },
    {
      "cell_type": "code",
      "execution_count": 55,
      "metadata": {},
      "outputs": [
        {
          "output_type": "stream",
          "name": "stdout",
          "text": [
            "CV ngram(1,1) 0.8708200533848273\n",
            "CV ngram(1,2) 0.8759927433580862\n",
            "CV ngram(1,3) 0.8758795252960768\n",
            "CV ngram(2,2) 0.7811582020103887\n",
            "CV ngram(2,3) 0.7781320574766459\n",
            "CV ngram(3,3) 0.5925747779938603\n",
            "TF ngram(1,1) 0.8709188943514428\n",
            "TF ngram(1,2) 0.8750847464964969\n",
            "TF ngram(1,3) 0.8756461176623055\n",
            "TF ngram(2,2) 0.7963599859499786\n",
            "TF ngram(2,3) 0.7935512034983379\n",
            "TF ngram(3,3) 0.5923588709500518\n",
            "\n",
            "Extra Trees Regressor - CV ngram(1,2) - F1 Score: 87.6%\n",
            "Wall time: 9min 20s\n"
          ]
        }
      ],
      "source": [
        "%%time\n",
        "# modelo Extra Trees Regressor\n",
        "modelo = ExtraTreesClassifier(n_estimators=200, random_state=42, n_jobs=-1)\n",
        "# calculo com todos os vetores.\n",
        "f1score = testar_modelo(modelo, df_treino, df_teste, vetores, 'sentimento')\n",
        "\n",
        "print()\n",
        "print(f\"Extra Trees Regressor - {f1score[0]} - F1 Score: {round(f1score[1]*100,2)}%\")"
      ]
    },
    {
      "cell_type": "code",
      "execution_count": 57,
      "metadata": {},
      "outputs": [
        {
          "output_type": "stream",
          "name": "stdout",
          "text": [
            "CV ngram(1,1) 0.8131037840926045\n",
            "CV ngram(1,2) 0.8154661088177287\n",
            "CV ngram(1,3) 0.8136564531371888\n",
            "CV ngram(2,2) 0.703771331017916\n",
            "CV ngram(2,3) 0.7053132711254233\n",
            "CV ngram(3,3) 0.5000896766537951\n",
            "TF ngram(1,1) 0.8132784816099118\n",
            "TF ngram(1,2) 0.8164773941162936\n",
            "TF ngram(1,3) 0.814008556621088\n",
            "TF ngram(2,2) 0.7067345728742199\n",
            "TF ngram(2,3) 0.7063127642730296\n",
            "TF ngram(3,3) 0.500132627555598\n",
            "\n",
            "Gradient Boosting - TF ngram(1,2) - F1 Score: 81.65%\n",
            "Wall time: 13min 26s\n"
          ]
        }
      ],
      "source": [
        "%%time\n",
        "# modelo Gradient Boosting\n",
        "modelo = GradientBoostingClassifier(n_estimators=200, random_state=42)\n",
        "# calculo com todos os vetores.\n",
        "f1score = testar_modelo(modelo, df_treino, df_teste, vetores, 'sentimento')\n",
        "\n",
        "print()\n",
        "print(f\"Gradient Boosting - {f1score[0]} - F1 Score: {round(f1score[1]*100,2)}%\")"
      ]
    },
    {
      "cell_type": "code",
      "execution_count": 60,
      "metadata": {},
      "outputs": [
        {
          "output_type": "stream",
          "name": "stderr",
          "text": [
            "C:\\Users\\hgf77\\anaconda3\\envs\\tf-gpu\\lib\\site-packages\\sklearn\\linear_model\\_sag.py:328: ConvergenceWarning: The max_iter was reached which means the coef_ did not converge\n",
            "  warnings.warn(\"The max_iter was reached which means \"\n",
            "CV ngram(1,1) 0.8701556226033939\n",
            "C:\\Users\\hgf77\\anaconda3\\envs\\tf-gpu\\lib\\site-packages\\sklearn\\linear_model\\_sag.py:328: ConvergenceWarning: The max_iter was reached which means the coef_ did not converge\n",
            "  warnings.warn(\"The max_iter was reached which means \"\n",
            "CV ngram(1,2) 0.8791421062562188\n",
            "C:\\Users\\hgf77\\anaconda3\\envs\\tf-gpu\\lib\\site-packages\\sklearn\\linear_model\\_sag.py:328: ConvergenceWarning: The max_iter was reached which means the coef_ did not converge\n",
            "  warnings.warn(\"The max_iter was reached which means \"\n",
            "CV ngram(1,3) 0.8792543850650043\n",
            "CV ngram(2,2) 0.8180140954546817\n",
            "CV ngram(2,3) 0.8157729065954192\n",
            "CV ngram(3,3) 0.5957558146768905\n",
            "TF ngram(1,1) 0.8809187826450897\n",
            "TF ngram(1,2) 0.889348947719393\n",
            "TF ngram(1,3) 0.8890110656229786\n",
            "TF ngram(2,2) 0.8275236995216966\n",
            "TF ngram(2,3) 0.8272959671164328\n",
            "TF ngram(3,3) 0.5968758108946228\n",
            "\n",
            "Regressão Logística - TF ngram(1,2) - F1 Score: 88.93%\n",
            "Wall time: 2min 51s\n"
          ]
        }
      ],
      "source": [
        "%%time\n",
        "# modelo Regressão Logística\n",
        "modelo = LogisticRegression(solver='saga', max_iter=1000, random_state=42, n_jobs=-1)\n",
        "# calculo com todos os vetores.\n",
        "f1score = testar_modelo(modelo, df_treino, df_teste, vetores, 'sentimento')\n",
        "\n",
        "print()\n",
        "print(f\"Regressão Logística - {f1score[0]} - F1 Score: {round(f1score[1]*100,2)}%\")"
      ]
    },
    {
      "cell_type": "code",
      "execution_count": 61,
      "metadata": {},
      "outputs": [
        {
          "output_type": "stream",
          "name": "stdout",
          "text": [
            "CV ngram(1,1) 0.8456691927963159\n",
            "CV ngram(1,2) 0.8662239768753464\n",
            "CV ngram(1,3) 0.8673472012508682\n",
            "CV ngram(2,2) 0.7765912918116423\n",
            "CV ngram(2,3) 0.7743456179758983\n",
            "CV ngram(3,3) 0.5423155547597628\n",
            "TF ngram(1,1) 0.8507237969132462\n",
            "TF ngram(1,2) 0.8715043635253087\n",
            "TF ngram(1,3) 0.8717270286280259\n",
            "TF ngram(2,2) 0.7825432505960539\n",
            "TF ngram(2,3) 0.7844517846905066\n",
            "TF ngram(3,3) 0.5502119859308695\n",
            "\n",
            "Passive Agressive - TF ngram(1,3) - F1 Score: 87.17%\n",
            "Wall time: 3.44 s\n"
          ]
        }
      ],
      "source": [
        "%%time\n",
        "# modelo Passive Agressive\n",
        "modelo = PassiveAggressiveClassifier(random_state=42, n_jobs=-1)\n",
        "# calculo com todos os vetores.\n",
        "f1score = testar_modelo(modelo, df_treino, df_teste, vetores, 'sentimento')\n",
        "\n",
        "print()\n",
        "print(f\"Passive Agressive - {f1score[0]} - F1 Score: {round(f1score[1]*100,2)}%\")"
      ]
    },
    {
      "cell_type": "code",
      "execution_count": 63,
      "metadata": {},
      "outputs": [
        {
          "output_type": "stream",
          "name": "stdout",
          "text": [
            "CV ngram(1,1) 0.7585067593071052\n",
            "CV ngram(1,2) 0.7477234170084225\n",
            "CV ngram(1,3) 0.7525534828089833\n",
            "CV ngram(2,2) 0.7399582036362565\n",
            "CV ngram(2,3) 0.7370462071476761\n",
            "CV ngram(3,3) 0.5925886471995548\n",
            "TF ngram(1,1) 0.8773200856296003\n",
            "TF ngram(1,2) 0.8891242755320212\n",
            "TF ngram(1,3) 0.8883345753860943\n",
            "TF ngram(2,2) 0.8149814872678168\n",
            "TF ngram(2,3) 0.8167834743557018\n",
            "TF ngram(3,3) 0.595673890235394\n",
            "\n",
            "Ridge - TF ngram(1,2) - F1 Score: 88.91%\n",
            "Wall time: 23 s\n"
          ]
        }
      ],
      "source": [
        "%%time\n",
        "# modelo Ridge\n",
        "modelo = RidgeClassifier(solver='sparse_cg', random_state=42)\n",
        "# calculo com todos os vetores.\n",
        "f1score = testar_modelo(modelo, df_treino, df_teste, vetores, 'sentimento')\n",
        "\n",
        "print()\n",
        "print(f\"Ridge - {f1score[0]} - F1 Score: {round(f1score[1]*100,2)}%\")"
      ]
    },
    {
      "cell_type": "code",
      "execution_count": 64,
      "metadata": {},
      "outputs": [
        {
          "output_type": "stream",
          "name": "stdout",
          "text": [
            "CV ngram(1,1) 0.8548745222099186\n",
            "CV ngram(1,2) 0.8677979087343012\n",
            "CV ngram(1,3) 0.8672275315382145\n",
            "CV ngram(2,2) 0.807559686093767\n",
            "CV ngram(2,3) 0.8044276726022707\n",
            "CV ngram(3,3) 0.5798838824002565\n",
            "TF ngram(1,1) 0.8816760564524672\n",
            "TF ngram(1,2) 0.8879717331315884\n",
            "TF ngram(1,3) 0.8878598659072925\n",
            "TF ngram(2,2) 0.8247457475321708\n",
            "TF ngram(2,3) 0.8234283422807653\n",
            "TF ngram(3,3) 0.5883600913938836\n",
            "\n",
            "SGD - TF ngram(1,2) - F1 Score: 88.8%\n",
            "Wall time: 2.75 s\n"
          ]
        }
      ],
      "source": [
        "%%time\n",
        "# modelo SGD\n",
        "modelo = SGDClassifier(random_state=42, n_jobs=-1)\n",
        "# calculo com todos os vetores.\n",
        "f1score = testar_modelo(modelo, df_treino, df_teste, vetores, 'sentimento')\n",
        "\n",
        "print()\n",
        "print(f\"SGD - {f1score[0]} - F1 Score: {round(f1score[1]*100,2)}%\")"
      ]
    },
    {
      "cell_type": "code",
      "execution_count": 65,
      "metadata": {},
      "outputs": [
        {
          "output_type": "stream",
          "name": "stdout",
          "text": [
            "CV ngram(1,1) 0.8561785530659148\n",
            "CV ngram(1,2) 0.8746468123072807\n",
            "CV ngram(1,3) 0.8753162962608646\n",
            "CV ngram(2,2) 0.8410494096777025\n",
            "CV ngram(2,3) 0.8381562881984885\n",
            "CV ngram(3,3) 0.5979569271742787\n",
            "TF ngram(1,1) 0.8561785530659148\n",
            "TF ngram(1,2) 0.8746468123072807\n",
            "TF ngram(1,3) 0.8753162962608646\n",
            "TF ngram(2,2) 0.8410494096777025\n",
            "TF ngram(2,3) 0.8381562881984885\n",
            "TF ngram(3,3) 0.5979569271742787\n",
            "\n",
            "Naive Bayes Bernoulli - CV ngram(1,3) - F1 Score: 87.53%\n",
            "Wall time: 1.66 s\n"
          ]
        }
      ],
      "source": [
        "%%time\n",
        "# modelo Naive Bayes Bernoulli\n",
        "modelo = BernoulliNB()\n",
        "# calculo com todos os vetores.\n",
        "f1score = testar_modelo(modelo, df_treino, df_teste, vetores, 'sentimento')\n",
        "\n",
        "print()\n",
        "print(f\"Naive Bayes Bernoulli - {f1score[0]} - F1 Score: {round(f1score[1]*100,2)}%\")"
      ]
    },
    {
      "cell_type": "code",
      "execution_count": 66,
      "metadata": {},
      "outputs": [
        {
          "output_type": "stream",
          "name": "stdout",
          "text": [
            "CV ngram(1,1) 0.8541920098423615\n",
            "CV ngram(1,2) 0.8710538417137474\n",
            "CV ngram(1,3) 0.8718351898036343\n",
            "CV ngram(2,2) 0.8401366622752207\n",
            "CV ngram(2,3) 0.8396681025173632\n",
            "CV ngram(3,3) 0.5734863253834386\n",
            "TF ngram(1,1) 0.8618447927514207\n",
            "TF ngram(1,2) 0.8746325936041583\n",
            "TF ngram(1,3) 0.8748477005896964\n",
            "TF ngram(2,2) 0.8393536418952174\n",
            "TF ngram(2,3) 0.8395563782718626\n",
            "TF ngram(3,3) 0.5747816408564258\n",
            "\n",
            "Naive Bayes Complement - TF ngram(1,3) - F1 Score: 87.48%\n",
            "Wall time: 1.4 s\n"
          ]
        }
      ],
      "source": [
        "%%time\n",
        "# modelo Naive Bayes Complement\n",
        "modelo = ComplementNB()\n",
        "# calculo com todos os vetores.\n",
        "f1score = testar_modelo(modelo, df_treino, df_teste, vetores, 'sentimento')\n",
        "\n",
        "print()\n",
        "print(f\"Naive Bayes Complement - {f1score[0]} - F1 Score: {round(f1score[1]*100,2)}%\")"
      ]
    },
    {
      "cell_type": "code",
      "execution_count": 67,
      "metadata": {},
      "outputs": [
        {
          "output_type": "stream",
          "name": "stdout",
          "text": [
            "CV ngram(1,1) 0.8540793419186162\n",
            "CV ngram(1,2) 0.8710538417137474\n",
            "CV ngram(1,3) 0.871723063743025\n",
            "CV ngram(2,2) 0.8400257852209359\n",
            "CV ngram(2,3) 0.8395563782718626\n",
            "CV ngram(3,3) 0.5726916420207792\n",
            "TF ngram(1,1) 0.8613950353813321\n",
            "TF ngram(1,2) 0.8747465261210724\n",
            "TF ngram(1,3) 0.8746261871797448\n",
            "TF ngram(2,2) 0.839021536888149\n",
            "TF ngram(2,3) 0.8397859898224573\n",
            "TF ngram(3,3) 0.5748707653722428\n",
            "\n",
            "Naive Bayes Multinomial - TF ngram(1,2) - F1 Score: 87.47%\n",
            "Wall time: 1.48 s\n"
          ]
        }
      ],
      "source": [
        "%%time\n",
        "# modelo Naive Bayes Multinomial\n",
        "modelo = MultinomialNB()\n",
        "# calculo com todos os vetores.\n",
        "f1score = testar_modelo(modelo, df_treino, df_teste, vetores, 'sentimento')\n",
        "\n",
        "print()\n",
        "print(f\"Naive Bayes Multinomial - {f1score[0]} - F1 Score: {round(f1score[1]*100,2)}%\")"
      ]
    },
    {
      "cell_type": "code",
      "execution_count": 69,
      "metadata": {},
      "outputs": [
        {
          "output_type": "stream",
          "name": "stderr",
          "text": [
            "C:\\Users\\hgf77\\anaconda3\\envs\\tf-gpu\\lib\\site-packages\\sklearn\\svm\\_base.py:985: ConvergenceWarning: Liblinear failed to converge, increase the number of iterations.\n",
            "  warnings.warn(\"Liblinear failed to converge, increase \"\n",
            "CV ngram(1,1) 0.8427503134500534\n",
            "C:\\Users\\hgf77\\anaconda3\\envs\\tf-gpu\\lib\\site-packages\\sklearn\\svm\\_base.py:985: ConvergenceWarning: Liblinear failed to converge, increase the number of iterations.\n",
            "  warnings.warn(\"Liblinear failed to converge, increase \"\n",
            "CV ngram(1,2) 0.8593696786901172\n",
            "C:\\Users\\hgf77\\anaconda3\\envs\\tf-gpu\\lib\\site-packages\\sklearn\\svm\\_base.py:985: ConvergenceWarning: Liblinear failed to converge, increase the number of iterations.\n",
            "  warnings.warn(\"Liblinear failed to converge, increase \"\n",
            "CV ngram(1,3) 0.8592543708124906\n",
            "CV ngram(2,2) 0.7835525602249629\n",
            "CV ngram(2,3) 0.7817598993091702\n",
            "CV ngram(3,3) 0.5928683562102969\n",
            "TF ngram(1,1) 0.8785747941960814\n",
            "TF ngram(1,2) 0.8899243167399011\n",
            "TF ngram(1,3) 0.8908224226768418\n",
            "TF ngram(2,2) 0.8137665791374764\n",
            "TF ngram(2,3) 0.8117400847029504\n",
            "TF ngram(3,3) 0.595624170891155\n",
            "\n",
            "SVM Linear - TF ngram(1,3) - F1 Score: 89.08%\n",
            "Wall time: 35.2 s\n"
          ]
        }
      ],
      "source": [
        "%%time\n",
        "# modelo Linear SVM\n",
        "modelo = LinearSVC(random_state=42, max_iter=2000)\n",
        "# calculo com todos os vetores.\n",
        "f1score = testar_modelo(modelo, df_treino, df_teste, vetores, 'sentimento')\n",
        "\n",
        "print()\n",
        "print(f\"SVM Linear - {f1score[0]} - F1 Score: {round(f1score[1]*100,2)}%\")"
      ]
    },
    {
      "source": [
        "# Testando os modelos com a base stematizada sem stopwords"
      ],
      "cell_type": "markdown",
      "metadata": {}
    },
    {
      "cell_type": "code",
      "execution_count": 94,
      "metadata": {},
      "outputs": [
        {
          "output_type": "stream",
          "name": "stdout",
          "text": [
            "Wall time: 4min 35s\n"
          ]
        }
      ],
      "source": [
        "%%time\n",
        "# criando os vetores para Unigramas, Bigramas, Trigramas com CountVectorizer e TfidfVectorizer\n",
        "vetores = criar_vetores(df_treino, df_teste, 'stem')"
      ]
    },
    {
      "source": [
        "## apenas modelos com mais de 85% no passo anterior e tempo inferior a 5 minutos"
      ],
      "cell_type": "markdown",
      "metadata": {}
    },
    {
      "cell_type": "code",
      "execution_count": 95,
      "metadata": {},
      "outputs": [
        {
          "output_type": "stream",
          "name": "stderr",
          "text": [
            "C:\\Users\\hgf77\\anaconda3\\envs\\tf-gpu\\lib\\site-packages\\sklearn\\linear_model\\_sag.py:328: ConvergenceWarning: The max_iter was reached which means the coef_ did not converge\n",
            "  warnings.warn(\"The max_iter was reached which means \"\n",
            "CV ngram(1,1) 0.8706031610913865\n",
            "C:\\Users\\hgf77\\anaconda3\\envs\\tf-gpu\\lib\\site-packages\\sklearn\\linear_model\\_sag.py:328: ConvergenceWarning: The max_iter was reached which means the coef_ did not converge\n",
            "  warnings.warn(\"The max_iter was reached which means \"\n",
            "CV ngram(1,2) 0.8840837095164026\n",
            "C:\\Users\\hgf77\\anaconda3\\envs\\tf-gpu\\lib\\site-packages\\sklearn\\linear_model\\_sag.py:328: ConvergenceWarning: The max_iter was reached which means the coef_ did not converge\n",
            "  warnings.warn(\"The max_iter was reached which means \"\n",
            "CV ngram(1,3) 0.8848676248811861\n",
            "CV ngram(2,2) 0.8376838758268568\n",
            "CV ngram(2,3) 0.8376805377601975\n",
            "CV ngram(3,3) 0.7150445510051537\n",
            "TF ngram(1,1) 0.8225359724241443\n",
            "TF ngram(1,2) 0.8231228787398793\n",
            "TF ngram(1,3) 0.8235723758714172\n",
            "TF ngram(2,2) 0.6149723776050718\n",
            "TF ngram(2,3) 0.6150512107052606\n",
            "TF ngram(3,3) 0.3748284219463762\n",
            "\n",
            "Regressão Logística - CV ngram(1,3) - F1 Score: 88.49%\n",
            "Wall time: 3min 53s\n"
          ]
        }
      ],
      "source": [
        "%%time\n",
        "# modelo Regressão Logística\n",
        "modelo = LogisticRegression(solver='saga', max_iter=1000, random_state=42, n_jobs=-1)\n",
        "# calculo com todos os vetores.\n",
        "f1score = testar_modelo(modelo, df_treino, df_teste, vetores, 'sentimento')\n",
        "\n",
        "print()\n",
        "print(f\"Regressão Logística - {f1score[0]} - F1 Score: {round(f1score[1]*100,2)}%\")"
      ]
    },
    {
      "cell_type": "code",
      "execution_count": 96,
      "metadata": {},
      "outputs": [
        {
          "output_type": "stream",
          "name": "stdout",
          "text": [
            "CV ngram(1,1) 0.8447715624515739\n",
            "CV ngram(1,2) 0.8720642271552428\n",
            "CV ngram(1,3) 0.8737499306282133\n",
            "CV ngram(2,2) 0.8154524423713615\n",
            "CV ngram(2,3) 0.8211824042196831\n",
            "CV ngram(3,3) 0.670711521878216\n",
            "TF ngram(1,1) 0.7824273705555479\n",
            "TF ngram(1,2) 0.7946762938640037\n",
            "TF ngram(1,3) 0.7944521435751063\n",
            "TF ngram(2,2) 0.594318686498427\n",
            "TF ngram(2,3) 0.5929128015931685\n",
            "TF ngram(3,3) 0.35665806113545495\n",
            "\n",
            "Passive Agressive - CV ngram(1,3) - F1 Score: 87.37%\n",
            "Wall time: 4.73 s\n"
          ]
        }
      ],
      "source": [
        "%%time\n",
        "# modelo Passive Agressive\n",
        "modelo = PassiveAggressiveClassifier(random_state=42, n_jobs=-1)\n",
        "# calculo com todos os vetores.\n",
        "f1score = testar_modelo(modelo, df_treino, df_teste, vetores, 'sentimento')\n",
        "\n",
        "print()\n",
        "print(f\"Passive Agressive - {f1score[0]} - F1 Score: {round(f1score[1]*100,2)}%\")"
      ]
    },
    {
      "cell_type": "code",
      "execution_count": 97,
      "metadata": {},
      "outputs": [
        {
          "output_type": "stream",
          "name": "stdout",
          "text": [
            "CV ngram(1,1) 0.7800723288078767\n",
            "CV ngram(1,2) 0.7776023312377306\n",
            "CV ngram(1,3) 0.7891719816823664\n",
            "CV ngram(2,2) 0.7305320606980007\n",
            "CV ngram(2,3) 0.7366007736035252\n",
            "CV ngram(3,3) 0.6931774787857015\n",
            "TF ngram(1,1) 0.8310286072770471\n",
            "TF ngram(1,2) 0.8360933383775296\n",
            "TF ngram(1,3) 0.8357547960627466\n",
            "TF ngram(2,2) 0.610473749539492\n",
            "TF ngram(2,3) 0.6107622720271955\n",
            "TF ngram(3,3) 0.3740804219182571\n",
            "\n",
            "Ridge - TF ngram(1,2) - F1 Score: 83.61%\n",
            "Wall time: 39.1 s\n"
          ]
        }
      ],
      "source": [
        "%%time\n",
        "# modelo Ridge\n",
        "modelo = RidgeClassifier(solver='sparse_cg', random_state=42)\n",
        "# calculo com todos os vetores.\n",
        "f1score = testar_modelo(modelo, df_treino, df_teste, vetores, 'sentimento')\n",
        "\n",
        "print()\n",
        "print(f\"Ridge - {f1score[0]} - F1 Score: {round(f1score[1]*100,2)}%\")"
      ]
    },
    {
      "cell_type": "code",
      "execution_count": 98,
      "metadata": {},
      "outputs": [
        {
          "output_type": "stream",
          "name": "stdout",
          "text": [
            "CV ngram(1,1) 0.8593501815753932\n",
            "CV ngram(1,2) 0.8739129241828761\n",
            "CV ngram(1,3) 0.8732718898722627\n",
            "CV ngram(2,2) 0.816242022298419\n",
            "CV ngram(2,3) 0.8228637616258457\n",
            "CV ngram(3,3) 0.7094704488293562\n",
            "TF ngram(1,1) 0.8164689388996369\n",
            "TF ngram(1,2) 0.819060757664068\n",
            "TF ngram(1,3) 0.8184998012692756\n",
            "TF ngram(2,2) 0.612289585227973\n",
            "TF ngram(2,3) 0.6125923903751722\n",
            "TF ngram(3,3) 0.373464245097864\n",
            "\n",
            "SGD - CV ngram(1,2) - F1 Score: 87.39%\n",
            "Wall time: 3 s\n"
          ]
        }
      ],
      "source": [
        "%%time\n",
        "# modelo SGD\n",
        "modelo = SGDClassifier(random_state=42, n_jobs=-1)\n",
        "# calculo com todos os vetores.\n",
        "f1score = testar_modelo(modelo, df_treino, df_teste, vetores, 'sentimento')\n",
        "\n",
        "print()\n",
        "print(f\"SGD - {f1score[0]} - F1 Score: {round(f1score[1]*100,2)}%\")"
      ]
    },
    {
      "cell_type": "code",
      "execution_count": 99,
      "metadata": {},
      "outputs": [
        {
          "output_type": "stream",
          "name": "stdout",
          "text": [
            "CV ngram(1,1) 0.853279813727806\n",
            "CV ngram(1,2) 0.8726032412689158\n",
            "CV ngram(1,3) 0.8748100562187059\n",
            "CV ngram(2,2) 0.8460315157127096\n",
            "CV ngram(2,3) 0.8445608675521092\n",
            "CV ngram(3,3) 0.7242011371467321\n",
            "TF ngram(1,1) 0.8198725818996544\n",
            "TF ngram(1,2) 0.8152285233285822\n",
            "TF ngram(1,3) 0.8152326385312899\n",
            "TF ngram(2,2) 0.6169621086941445\n",
            "TF ngram(2,3) 0.6161082603679379\n",
            "TF ngram(3,3) 0.37557593287108426\n",
            "\n",
            "Naive Bayes Bernoulli - CV ngram(1,3) - F1 Score: 87.48%\n",
            "Wall time: 1.52 s\n"
          ]
        }
      ],
      "source": [
        "%%time\n",
        "# modelo Naive Bayes Bernoulli\n",
        "modelo = BernoulliNB()\n",
        "# calculo com todos os vetores.\n",
        "f1score = testar_modelo(modelo, df_treino, df_teste, vetores, 'sentimento')\n",
        "\n",
        "print()\n",
        "print(f\"Naive Bayes Bernoulli - {f1score[0]} - F1 Score: {round(f1score[1]*100,2)}%\")"
      ]
    },
    {
      "cell_type": "code",
      "execution_count": 100,
      "metadata": {},
      "outputs": [
        {
          "output_type": "stream",
          "name": "stdout",
          "text": [
            "CV ngram(1,1) 0.8475371319702153\n",
            "CV ngram(1,2) 0.8686958159758584\n",
            "CV ngram(1,3) 0.8714971557859723\n",
            "CV ngram(2,2) 0.8591156073972187\n",
            "CV ngram(2,3) 0.8594120043129988\n",
            "CV ngram(3,3) 0.7150760022360954\n",
            "TF ngram(1,1) 0.8136591938472498\n",
            "TF ngram(1,2) 0.8143208959389149\n",
            "TF ngram(1,3) 0.8145369026247485\n",
            "TF ngram(2,2) 0.618029123817186\n",
            "TF ngram(2,3) 0.6168547481595895\n",
            "TF ngram(3,3) 0.37369042341230274\n",
            "\n",
            "Naive Bayes Complement - CV ngram(1,3) - F1 Score: 87.15%\n",
            "Wall time: 1.35 s\n"
          ]
        }
      ],
      "source": [
        "%%time\n",
        "# modelo Naive Bayes Complement\n",
        "modelo = ComplementNB()\n",
        "# calculo com todos os vetores.\n",
        "f1score = testar_modelo(modelo, df_treino, df_teste, vetores, 'sentimento')\n",
        "\n",
        "print()\n",
        "print(f\"Naive Bayes Complement - {f1score[0]} - F1 Score: {round(f1score[1]*100,2)}%\")"
      ]
    },
    {
      "cell_type": "code",
      "execution_count": 101,
      "metadata": {},
      "outputs": [
        {
          "output_type": "stream",
          "name": "stdout",
          "text": [
            "CV ngram(1,1) 0.8473112660817483\n",
            "CV ngram(1,2) 0.868583560494826\n",
            "CV ngram(1,3) 0.8714971557859723\n",
            "CV ngram(2,2) 0.8590047111285145\n",
            "CV ngram(2,3) 0.8595265442310434\n",
            "CV ngram(3,3) 0.715056211064448\n",
            "TF ngram(1,1) 0.8130790345962262\n",
            "TF ngram(1,2) 0.8137398018967721\n",
            "TF ngram(1,3) 0.8138439492218046\n",
            "TF ngram(2,2) 0.6180576030656999\n",
            "TF ngram(2,3) 0.617623906023027\n",
            "TF ngram(3,3) 0.37369042341230274\n",
            "\n",
            "Naive Bayes Multinomial - CV ngram(1,3) - F1 Score: 87.15%\n",
            "Wall time: 1.33 s\n"
          ]
        }
      ],
      "source": [
        "%%time\n",
        "# modelo Naive Bayes Multinomial\n",
        "modelo = MultinomialNB()\n",
        "# calculo com todos os vetores.\n",
        "f1score = testar_modelo(modelo, df_treino, df_teste, vetores, 'sentimento')\n",
        "\n",
        "print()\n",
        "print(f\"Naive Bayes Multinomial - {f1score[0]} - F1 Score: {round(f1score[1]*100,2)}%\")"
      ]
    },
    {
      "cell_type": "code",
      "execution_count": 102,
      "metadata": {},
      "outputs": [
        {
          "output_type": "stream",
          "name": "stderr",
          "text": [
            "C:\\Users\\hgf77\\anaconda3\\envs\\tf-gpu\\lib\\site-packages\\sklearn\\svm\\_base.py:985: ConvergenceWarning: Liblinear failed to converge, increase the number of iterations.\n",
            "  warnings.warn(\"Liblinear failed to converge, increase \"\n",
            "CV ngram(1,1) 0.8427503015472957\n",
            "C:\\Users\\hgf77\\anaconda3\\envs\\tf-gpu\\lib\\site-packages\\sklearn\\svm\\_base.py:985: ConvergenceWarning: Liblinear failed to converge, increase the number of iterations.\n",
            "  warnings.warn(\"Liblinear failed to converge, increase \"\n",
            "CV ngram(1,2) 0.8681338243394326\n",
            "C:\\Users\\hgf77\\anaconda3\\envs\\tf-gpu\\lib\\site-packages\\sklearn\\svm\\_base.py:985: ConvergenceWarning: Liblinear failed to converge, increase the number of iterations.\n",
            "  warnings.warn(\"Liblinear failed to converge, increase \"\n",
            "CV ngram(1,3) 0.8676849865494912\n",
            "CV ngram(2,2) 0.8082677036133574\n",
            "CV ngram(2,3) 0.8142200102456199\n",
            "CV ngram(3,3) 0.7003582313157055\n",
            "TF ngram(1,1) 0.8324071297488379\n",
            "TF ngram(1,2) 0.8368966062975588\n",
            "TF ngram(1,3) 0.8364479335806516\n",
            "TF ngram(2,2) 0.611141878648815\n",
            "TF ngram(2,3) 0.6095122075614553\n",
            "TF ngram(3,3) 0.37385064541276897\n",
            "\n",
            "SVM Linear - CV ngram(1,2) - F1 Score: 86.81%\n",
            "Wall time: 48.4 s\n"
          ]
        }
      ],
      "source": [
        "%%time\n",
        "# modelo Linear SVM\n",
        "modelo = LinearSVC(random_state=42, max_iter=2000)\n",
        "# calculo com todos os vetores.\n",
        "f1score = testar_modelo(modelo, df_treino, df_teste, vetores, 'sentimento')\n",
        "\n",
        "print()\n",
        "print(f\"SVM Linear - {f1score[0]} - F1 Score: {round(f1score[1]*100,2)}%\")"
      ]
    },
    {
      "source": [
        "# Testando os modelos com a base lematizada sem stopwords"
      ],
      "cell_type": "markdown",
      "metadata": {}
    },
    {
      "cell_type": "code",
      "execution_count": 9,
      "metadata": {},
      "outputs": [
        {
          "output_type": "stream",
          "name": "stdout",
          "text": [
            "Wall time: 4min 27s\n"
          ]
        }
      ],
      "source": [
        "%%time\n",
        "# criando os vetores para Unigramas, Bigramas, Trigramas com CountVectorizer e TfidfVectorizer\n",
        "vetores = criar_vetores(df_treino, df_teste, 'lemm')"
      ]
    },
    {
      "source": [
        "## continuamos com os mesmos modelos da Stematização"
      ],
      "cell_type": "markdown",
      "metadata": {}
    },
    {
      "cell_type": "code",
      "execution_count": 10,
      "metadata": {},
      "outputs": [
        {
          "output_type": "stream",
          "name": "stderr",
          "text": [
            "C:\\Users\\hgf77\\anaconda3\\envs\\tf-gpu\\lib\\site-packages\\sklearn\\linear_model\\_sag.py:328: ConvergenceWarning: The max_iter was reached which means the coef_ did not converge\n",
            "  warnings.warn(\"The max_iter was reached which means \"\n",
            "CV ngram(1,1) 0.871388712672154\n",
            "C:\\Users\\hgf77\\anaconda3\\envs\\tf-gpu\\lib\\site-packages\\sklearn\\linear_model\\_sag.py:328: ConvergenceWarning: The max_iter was reached which means the coef_ did not converge\n",
            "  warnings.warn(\"The max_iter was reached which means \"\n",
            "CV ngram(1,2) 0.8831840902003822\n",
            "C:\\Users\\hgf77\\anaconda3\\envs\\tf-gpu\\lib\\site-packages\\sklearn\\linear_model\\_sag.py:328: ConvergenceWarning: The max_iter was reached which means the coef_ did not converge\n",
            "  warnings.warn(\"The max_iter was reached which means \"\n",
            "CV ngram(1,3) 0.8838571020911938\n",
            "CV ngram(2,2) 0.8256702193560315\n",
            "CV ngram(2,3) 0.8261200186940448\n",
            "CV ngram(3,3) 0.6730479197760227\n",
            "TF ngram(1,1) 0.8775423544457769\n",
            "TF ngram(1,2) 0.8792318425480409\n",
            "TF ngram(1,3) 0.8786705037223337\n",
            "TF ngram(2,2) 0.740324177033005\n",
            "TF ngram(2,3) 0.7393240632537916\n",
            "TF ngram(3,3) 0.43368442556992287\n",
            "\n",
            "Regressão Logística - CV ngram(1,3) - F1 Score: 88.39%\n",
            "Wall time: 3min 21s\n"
          ]
        }
      ],
      "source": [
        "%%time\n",
        "# modelo Regressão Logística\n",
        "modelo = LogisticRegression(solver='saga', max_iter=1000, random_state=42, n_jobs=-1)\n",
        "# calculo com todos os vetores.\n",
        "f1score = testar_modelo(modelo, df_treino, df_teste, vetores, 'sentimento')\n",
        "\n",
        "print()\n",
        "print(f\"Regressão Logística - {f1score[0]} - F1 Score: {round(f1score[1]*100,2)}%\")"
      ]
    },
    {
      "cell_type": "code",
      "execution_count": 11,
      "metadata": {},
      "outputs": [
        {
          "output_type": "stream",
          "name": "stdout",
          "text": [
            "CV ngram(1,1) 0.8408389855380523\n",
            "CV ngram(1,2) 0.8666747300463125\n",
            "CV ngram(1,3) 0.8664500539380493\n",
            "CV ngram(2,2) 0.8026515935821301\n",
            "CV ngram(2,3) 0.8045589586950525\n",
            "CV ngram(3,3) 0.6414821974069701\n",
            "TF ngram(1,1) 0.8362152276889182\n",
            "TF ngram(1,2) 0.8453316405746953\n",
            "TF ngram(1,3) 0.8440970821790377\n",
            "TF ngram(2,2) 0.7042333934504862\n",
            "TF ngram(2,3) 0.7034864100161662\n",
            "TF ngram(3,3) 0.426228830088564\n",
            "\n",
            "Passive Agressive - CV ngram(1,2) - F1 Score: 86.67%\n",
            "Wall time: 4.95 s\n"
          ]
        }
      ],
      "source": [
        "%%time\n",
        "# modelo Passive Agressive\n",
        "modelo = PassiveAggressiveClassifier(random_state=42, n_jobs=-1)\n",
        "# calculo com todos os vetores.\n",
        "f1score = testar_modelo(modelo, df_treino, df_teste, vetores, 'sentimento')\n",
        "\n",
        "print()\n",
        "print(f\"Passive Agressive - {f1score[0]} - F1 Score: {round(f1score[1]*100,2)}%\")"
      ]
    },
    {
      "cell_type": "code",
      "execution_count": 12,
      "metadata": {},
      "outputs": [
        {
          "output_type": "stream",
          "name": "stdout",
          "text": [
            "CV ngram(1,1) 0.7930718870256565\n",
            "CV ngram(1,2) 0.7563640573646133\n",
            "CV ngram(1,3) 0.7627614477664536\n",
            "CV ngram(2,2) 0.7099646734239303\n",
            "CV ngram(2,3) 0.7109814167922218\n",
            "CV ngram(3,3) 0.6578369862851161\n",
            "TF ngram(1,1) 0.8750777970541831\n",
            "TF ngram(1,2) 0.8778925056788156\n",
            "TF ngram(1,3) 0.8777810502291562\n",
            "TF ngram(2,2) 0.7345770756710226\n",
            "TF ngram(2,3) 0.734707728277097\n",
            "TF ngram(3,3) 0.4339715409253568\n",
            "\n",
            "Ridge - TF ngram(1,2) - F1 Score: 87.79%\n",
            "Wall time: 44.3 s\n"
          ]
        }
      ],
      "source": [
        "%%time\n",
        "# modelo Ridge\n",
        "modelo = RidgeClassifier(solver='sparse_cg', random_state=42)\n",
        "# calculo com todos os vetores.\n",
        "f1score = testar_modelo(modelo, df_treino, df_teste, vetores, 'sentimento')\n",
        "\n",
        "print()\n",
        "print(f\"Ridge - {f1score[0]} - F1 Score: {round(f1score[1]*100,2)}%\")"
      ]
    },
    {
      "cell_type": "code",
      "execution_count": 13,
      "metadata": {},
      "outputs": [
        {
          "output_type": "stream",
          "name": "stdout",
          "text": [
            "CV ngram(1,1) 0.8623617960213429\n",
            "CV ngram(1,2) 0.871497372620912\n",
            "CV ngram(1,3) 0.870374314193577\n",
            "CV ngram(2,2) 0.8077055153414473\n",
            "CV ngram(2,3) 0.8072390361561478\n",
            "CV ngram(3,3) 0.6664971386701526\n",
            "TF ngram(1,1) 0.8739266227935694\n",
            "TF ngram(1,2) 0.877184658287689\n",
            "TF ngram(1,3) 0.8775265394726719\n",
            "TF ngram(2,2) 0.7332294758492905\n",
            "TF ngram(2,3) 0.7321043365656521\n",
            "TF ngram(3,3) 0.43024935042331097\n",
            "\n",
            "SGD - TF ngram(1,3) - F1 Score: 87.75%\n",
            "Wall time: 4.09 s\n"
          ]
        }
      ],
      "source": [
        "%%time\n",
        "# modelo SGD\n",
        "modelo = SGDClassifier(random_state=42, n_jobs=-1)\n",
        "# calculo com todos os vetores.\n",
        "f1score = testar_modelo(modelo, df_treino, df_teste, vetores, 'sentimento')\n",
        "\n",
        "print()\n",
        "print(f\"SGD - {f1score[0]} - F1 Score: {round(f1score[1]*100,2)}%\")"
      ]
    },
    {
      "cell_type": "code",
      "execution_count": 14,
      "metadata": {},
      "outputs": [
        {
          "output_type": "stream",
          "name": "stdout",
          "text": [
            "CV ngram(1,1) 0.8447624849630707\n",
            "CV ngram(1,2) 0.8679099133392059\n",
            "CV ngram(1,3) 0.8676851100781984\n",
            "CV ngram(2,2) 0.8486296058287263\n",
            "CV ngram(2,3) 0.8444070061166389\n",
            "CV ngram(3,3) 0.6779522151235321\n",
            "TF ngram(1,1) 0.8388849014361389\n",
            "TF ngram(1,2) 0.8432095299986397\n",
            "TF ngram(1,3) 0.8432077205217546\n",
            "TF ngram(2,2) 0.7449479689390794\n",
            "TF ngram(2,3) 0.7437976162984026\n",
            "TF ngram(3,3) 0.4342236652287708\n",
            "\n",
            "Naive Bayes Bernoulli - CV ngram(1,2) - F1 Score: 86.79%\n",
            "Wall time: 2.09 s\n"
          ]
        }
      ],
      "source": [
        "%%time\n",
        "# modelo Naive Bayes Bernoulli\n",
        "modelo = BernoulliNB()\n",
        "# calculo com todos os vetores.\n",
        "f1score = testar_modelo(modelo, df_treino, df_teste, vetores, 'sentimento')\n",
        "\n",
        "print()\n",
        "print(f\"Naive Bayes Bernoulli - {f1score[0]} - F1 Score: {round(f1score[1]*100,2)}%\")"
      ]
    },
    {
      "cell_type": "code",
      "execution_count": 15,
      "metadata": {},
      "outputs": [
        {
          "output_type": "stream",
          "name": "stdout",
          "text": [
            "CV ngram(1,1) 0.8501206808852098\n",
            "CV ngram(1,2) 0.8644278954564537\n",
            "CV ngram(1,3) 0.8655506597041437\n",
            "CV ngram(2,2) 0.849586365803061\n",
            "CV ngram(2,3) 0.8468772105981207\n",
            "CV ngram(3,3) 0.6716025539832963\n",
            "TF ngram(1,1) 0.850040407437503\n",
            "TF ngram(1,2) 0.8542037543227335\n",
            "TF ngram(1,3) 0.8535288027251701\n",
            "TF ngram(2,2) 0.7456897381922211\n",
            "TF ngram(2,3) 0.7438856610224384\n",
            "TF ngram(3,3) 0.43283308739509896\n",
            "\n",
            "Naive Bayes Complement - CV ngram(1,3) - F1 Score: 86.56%\n",
            "Wall time: 2 s\n"
          ]
        }
      ],
      "source": [
        "%%time\n",
        "# modelo Naive Bayes Complement\n",
        "modelo = ComplementNB()\n",
        "# calculo com todos os vetores.\n",
        "f1score = testar_modelo(modelo, df_treino, df_teste, vetores, 'sentimento')\n",
        "\n",
        "print()\n",
        "print(f\"Naive Bayes Complement - {f1score[0]} - F1 Score: {round(f1score[1]*100,2)}%\")"
      ]
    },
    {
      "cell_type": "code",
      "execution_count": 16,
      "metadata": {},
      "outputs": [
        {
          "output_type": "stream",
          "name": "stdout",
          "text": [
            "CV ngram(1,1) 0.8501206808852098\n",
            "CV ngram(1,2) 0.8644278954564537\n",
            "CV ngram(1,3) 0.8655506597041437\n",
            "CV ngram(2,2) 0.849586365803061\n",
            "CV ngram(2,3) 0.8471028331266741\n",
            "CV ngram(3,3) 0.671337498542541\n",
            "TF ngram(1,1) 0.8502613703817574\n",
            "TF ngram(1,2) 0.8540894865264704\n",
            "TF ngram(1,3) 0.8536393655701684\n",
            "TF ngram(2,2) 0.745793668857829\n",
            "TF ngram(2,3) 0.7442139392415841\n",
            "TF ngram(3,3) 0.43283308739509896\n",
            "\n",
            "Naive Bayes Multinomial - CV ngram(1,3) - F1 Score: 86.56%\n",
            "Wall time: 1.92 s\n"
          ]
        }
      ],
      "source": [
        "%%time\n",
        "# modelo Naive Bayes Multinomial\n",
        "modelo = MultinomialNB()\n",
        "# calculo com todos os vetores.\n",
        "f1score = testar_modelo(modelo, df_treino, df_teste, vetores, 'sentimento')\n",
        "\n",
        "print()\n",
        "print(f\"Naive Bayes Multinomial - {f1score[0]} - F1 Score: {round(f1score[1]*100,2)}%\")"
      ]
    },
    {
      "cell_type": "code",
      "execution_count": 17,
      "metadata": {},
      "outputs": [
        {
          "output_type": "stream",
          "name": "stderr",
          "text": [
            "C:\\Users\\hgf77\\anaconda3\\envs\\tf-gpu\\lib\\site-packages\\sklearn\\svm\\_base.py:985: ConvergenceWarning: Liblinear failed to converge, increase the number of iterations.\n",
            "  warnings.warn(\"Liblinear failed to converge, increase \"\n",
            "CV ngram(1,1) 0.8398293437788718\n",
            "C:\\Users\\hgf77\\anaconda3\\envs\\tf-gpu\\lib\\site-packages\\sklearn\\svm\\_base.py:985: ConvergenceWarning: Liblinear failed to converge, increase the number of iterations.\n",
            "  warnings.warn(\"Liblinear failed to converge, increase \"\n",
            "CV ngram(1,2) 0.864315334254487\n",
            "C:\\Users\\hgf77\\anaconda3\\envs\\tf-gpu\\lib\\site-packages\\sklearn\\svm\\_base.py:985: ConvergenceWarning: Liblinear failed to converge, increase the number of iterations.\n",
            "  warnings.warn(\"Liblinear failed to converge, increase \"\n",
            "CV ngram(1,3) 0.8658884105520414\n",
            "CV ngram(2,2) 0.7960214498114365\n",
            "CV ngram(2,3) 0.7998407799606694\n",
            "CV ngram(3,3) 0.6615620550736362\n",
            "TF ngram(1,1) 0.8770001249107156\n",
            "TF ngram(1,2) 0.8786852751069337\n",
            "TF ngram(1,3) 0.8786869280902067\n",
            "TF ngram(2,2) 0.7345770756710226\n",
            "TF ngram(2,3) 0.7340139395308587\n",
            "TF ngram(3,3) 0.43389987405354263\n",
            "\n",
            "SVM Linear - TF ngram(1,3) - F1 Score: 87.87%\n",
            "Wall time: 49.5 s\n"
          ]
        }
      ],
      "source": [
        "%%time\n",
        "# modelo Linear SVM\n",
        "modelo = LinearSVC(random_state=42, max_iter=2000)\n",
        "# calculo com todos os vetores.\n",
        "f1score = testar_modelo(modelo, df_treino, df_teste, vetores, 'sentimento')\n",
        "\n",
        "print()\n",
        "print(f\"SVM Linear - {f1score[0]} - F1 Score: {round(f1score[1]*100,2)}%\")"
      ]
    },
    {
      "source": [
        "# Testando os modelos com a base Pré Processada"
      ],
      "cell_type": "markdown",
      "metadata": {}
    },
    {
      "cell_type": "code",
      "execution_count": 18,
      "metadata": {},
      "outputs": [
        {
          "output_type": "stream",
          "name": "stdout",
          "text": [
            "Wall time: 3min 35s\n"
          ]
        }
      ],
      "source": [
        "%%time\n",
        "# criando os vetores para Unigramas, Bigramas, Trigramas com CountVectorizer e TfidfVectorizer\n",
        "vetores = criar_vetores(df_treino, df_teste, 'pre')"
      ]
    },
    {
      "source": [
        "## Vamos testar apenas os 5 melhores modelos até agora"
      ],
      "cell_type": "markdown",
      "metadata": {}
    },
    {
      "cell_type": "code",
      "execution_count": 19,
      "metadata": {},
      "outputs": [
        {
          "output_type": "stream",
          "name": "stderr",
          "text": [
            "C:\\Users\\hgf77\\anaconda3\\envs\\tf-gpu\\lib\\site-packages\\sklearn\\linear_model\\_sag.py:328: ConvergenceWarning: The max_iter was reached which means the coef_ did not converge\n",
            "  warnings.warn(\"The max_iter was reached which means \"\n",
            "CV ngram(1,1) 0.8710502464216818\n",
            "C:\\Users\\hgf77\\anaconda3\\envs\\tf-gpu\\lib\\site-packages\\sklearn\\linear_model\\_sag.py:328: ConvergenceWarning: The max_iter was reached which means the coef_ did not converge\n",
            "  warnings.warn(\"The max_iter was reached which means \"\n",
            "CV ngram(1,2) 0.8774559330914977\n",
            "C:\\Users\\hgf77\\anaconda3\\envs\\tf-gpu\\lib\\site-packages\\sklearn\\linear_model\\_sag.py:328: ConvergenceWarning: The max_iter was reached which means the coef_ did not converge\n",
            "  warnings.warn(\"The max_iter was reached which means \"\n",
            "CV ngram(1,3) 0.8776816803324722\n",
            "CV ngram(2,2) 0.8173581035263575\n",
            "CV ngram(2,3) 0.8176989129450517\n",
            "CV ngram(3,3) 0.5823323573969434\n",
            "TF ngram(1,1) 0.8793422820203212\n",
            "TF ngram(1,2) 0.8814828731267541\n",
            "TF ngram(1,3) 0.8822675641302015\n",
            "TF ngram(2,2) 0.8192275645635757\n",
            "TF ngram(2,3) 0.8203536567381056\n",
            "TF ngram(3,3) 0.550074551964366\n",
            "\n",
            "Regressão Logística - TF ngram(1,3) - F1 Score: 88.23%\n",
            "Wall time: 2min 58s\n"
          ]
        }
      ],
      "source": [
        "%%time\n",
        "# modelo Regressão Logística\n",
        "modelo = LogisticRegression(solver='saga', max_iter=1000, random_state=42, n_jobs=-1)\n",
        "# calculo com todos os vetores.\n",
        "f1score = testar_modelo(modelo, df_treino, df_teste, vetores, 'sentimento')\n",
        "\n",
        "print()\n",
        "print(f\"Regressão Logística - {f1score[0]} - F1 Score: {round(f1score[1]*100,2)}%\")"
      ]
    },
    {
      "cell_type": "code",
      "execution_count": 20,
      "metadata": {},
      "outputs": [
        {
          "output_type": "stream",
          "name": "stdout",
          "text": [
            "CV ngram(1,1) 0.8566230581640968\n",
            "CV ngram(1,2) 0.872402934409747\n",
            "CV ngram(1,3) 0.8731882368059104\n",
            "CV ngram(2,2) 0.8376724046397828\n",
            "CV ngram(2,3) 0.8341166119244173\n",
            "CV ngram(3,3) 0.5800057220981744\n",
            "TF ngram(1,1) 0.8548384097609529\n",
            "TF ngram(1,2) 0.8703811139394094\n",
            "TF ngram(1,3) 0.8707165710250357\n",
            "TF ngram(2,2) 0.8315366363425195\n",
            "TF ngram(2,3) 0.8285702947618924\n",
            "TF ngram(3,3) 0.5490119257158181\n",
            "\n",
            "Naive Bayes Bernoulli - CV ngram(1,3) - F1 Score: 87.32%\n",
            "Wall time: 1.53 s\n"
          ]
        }
      ],
      "source": [
        "%%time\n",
        "# modelo Naive Bayes Bernoulli\n",
        "modelo = BernoulliNB()\n",
        "# calculo com todos os vetores.\n",
        "f1score = testar_modelo(modelo, df_treino, df_teste, vetores, 'sentimento')\n",
        "\n",
        "print()\n",
        "print(f\"Naive Bayes Bernoulli - {f1score[0]} - F1 Score: {round(f1score[1]*100,2)}%\")"
      ]
    },
    {
      "cell_type": "code",
      "execution_count": 21,
      "metadata": {},
      "outputs": [
        {
          "output_type": "stream",
          "name": "stdout",
          "text": [
            "CV ngram(1,1) 0.8549689146984613\n",
            "CV ngram(1,2) 0.871279720804199\n",
            "CV ngram(1,3) 0.8706058252865331\n",
            "CV ngram(2,2) 0.8393629612386887\n",
            "CV ngram(2,3) 0.8381114215778313\n",
            "CV ngram(3,3) 0.5669038489313839\n",
            "TF ngram(1,1) 0.8572385781259917\n",
            "TF ngram(1,2) 0.8692540765131808\n",
            "TF ngram(1,3) 0.8693631510801997\n",
            "TF ngram(2,2) 0.830718784892549\n",
            "TF ngram(2,3) 0.8289155312346619\n",
            "TF ngram(3,3) 0.5304598351357982\n",
            "\n",
            "Naive Bayes Multinomial - CV ngram(1,2) - F1 Score: 87.13%\n",
            "Wall time: 1.32 s\n"
          ]
        }
      ],
      "source": [
        "%%time\n",
        "# modelo Naive Bayes Multinomial\n",
        "modelo = MultinomialNB()\n",
        "# calculo com todos os vetores.\n",
        "f1score = testar_modelo(modelo, df_treino, df_teste, vetores, 'sentimento')\n",
        "\n",
        "print()\n",
        "print(f\"Naive Bayes Multinomial - {f1score[0]} - F1 Score: {round(f1score[1]*100,2)}%\")"
      ]
    },
    {
      "cell_type": "code",
      "execution_count": 22,
      "metadata": {},
      "outputs": [
        {
          "output_type": "stream",
          "name": "stderr",
          "text": [
            "C:\\Users\\hgf77\\anaconda3\\envs\\tf-gpu\\lib\\site-packages\\sklearn\\svm\\_base.py:985: ConvergenceWarning: Liblinear failed to converge, increase the number of iterations.\n",
            "  warnings.warn(\"Liblinear failed to converge, increase \"\n",
            "CV ngram(1,1) 0.8385940582663615\n",
            "C:\\Users\\hgf77\\anaconda3\\envs\\tf-gpu\\lib\\site-packages\\sklearn\\svm\\_base.py:985: ConvergenceWarning: Liblinear failed to converge, increase the number of iterations.\n",
            "  warnings.warn(\"Liblinear failed to converge, increase \"\n",
            "CV ngram(1,2) 0.8606092865148899\n",
            "C:\\Users\\hgf77\\anaconda3\\envs\\tf-gpu\\lib\\site-packages\\sklearn\\svm\\_base.py:985: ConvergenceWarning: Liblinear failed to converge, increase the number of iterations.\n",
            "  warnings.warn(\"Liblinear failed to converge, increase \"\n",
            "CV ngram(1,3) 0.8588115688380807\n",
            "CV ngram(2,2) 0.7843429278714612\n",
            "CV ngram(2,3) 0.7837810263079318\n",
            "CV ngram(3,3) 0.5809716450216716\n",
            "TF ngram(1,1) 0.8727269249102824\n",
            "TF ngram(1,2) 0.8821718424393796\n",
            "TF ngram(1,3) 0.8825077776359189\n",
            "TF ngram(2,2) 0.8074796189613431\n",
            "TF ngram(2,3) 0.8052325935407856\n",
            "TF ngram(3,3) 0.5491340454518127\n",
            "\n",
            "SVM Linear - TF ngram(1,3) - F1 Score: 88.25%\n",
            "Wall time: 34.1 s\n"
          ]
        }
      ],
      "source": [
        "%%time\n",
        "# modelo Linear SVM\n",
        "modelo = LinearSVC(random_state=42, max_iter=2000)\n",
        "# calculo com todos os vetores.\n",
        "f1score = testar_modelo(modelo, df_treino, df_teste, vetores, 'sentimento')\n",
        "\n",
        "print()\n",
        "print(f\"SVM Linear - {f1score[0]} - F1 Score: {round(f1score[1]*100,2)}%\")"
      ]
    },
    {
      "cell_type": "code",
      "execution_count": 23,
      "metadata": {},
      "outputs": [
        {
          "output_type": "stream",
          "name": "stdout",
          "text": [
            "CV ngram(1,1) 0.869804742882215\n",
            "CV ngram(1,2) 0.8773451980664928\n",
            "CV ngram(1,3) 0.8731893407202223\n",
            "CV ngram(2,2) 0.7833276888688427\n",
            "CV ngram(2,3) 0.7818720223766333\n",
            "CV ngram(3,3) 0.5791479442966332\n",
            "TF ngram(1,1) 0.8688068632711418\n",
            "TF ngram(1,2) 0.8736381569092341\n",
            "TF ngram(1,3) 0.869255920598093\n",
            "TF ngram(2,2) 0.7914191755566119\n",
            "TF ngram(2,3) 0.7888359433924155\n",
            "TF ngram(3,3) 0.5482169793053899\n",
            "\n",
            "Extra Trees Regressor - CV ngram(1,2) - F1 Score: 87.73%\n",
            "Wall time: 11min 53s\n"
          ]
        }
      ],
      "source": [
        "%%time\n",
        "# modelo Extra Trees Regressor\n",
        "modelo = ExtraTreesClassifier(n_estimators=10, random_state=42, n_jobs=-1)\n",
        "# calculo com todos os vetores.\n",
        "f1score = testar_modelo(modelo, df_treino, df_teste, vetores, 'sentimento')\n",
        "\n",
        "print()\n",
        "print(f\"Extra Trees Regressor - {f1score[0]} - F1 Score: {round(f1score[1]*100,2)}%\")"
      ]
    },
    {
      "source": [
        "# Testando os modelos com a base Lemmatizando apenas os verbos"
      ],
      "cell_type": "markdown",
      "metadata": {}
    },
    {
      "cell_type": "code",
      "execution_count": 24,
      "metadata": {},
      "outputs": [
        {
          "output_type": "stream",
          "name": "stdout",
          "text": [
            "Wall time: 4min 15s\n"
          ]
        }
      ],
      "source": [
        "%%time\n",
        "# criando os vetores para Unigramas, Bigramas, Trigramas com CountVectorizer e TfidfVectorizer\n",
        "vetores = criar_vetores(df_treino, df_teste, 'verb')"
      ]
    },
    {
      "cell_type": "code",
      "execution_count": 25,
      "metadata": {},
      "outputs": [
        {
          "output_type": "stream",
          "name": "stderr",
          "text": [
            "C:\\Users\\hgf77\\anaconda3\\envs\\tf-gpu\\lib\\site-packages\\sklearn\\linear_model\\_sag.py:328: ConvergenceWarning: The max_iter was reached which means the coef_ did not converge\n",
            "  warnings.warn(\"The max_iter was reached which means \"\n",
            "CV ngram(1,1) 0.870153296431196\n",
            "C:\\Users\\hgf77\\anaconda3\\envs\\tf-gpu\\lib\\site-packages\\sklearn\\linear_model\\_sag.py:328: ConvergenceWarning: The max_iter was reached which means the coef_ did not converge\n",
            "  warnings.warn(\"The max_iter was reached which means \"\n",
            "CV ngram(1,2) 0.8807144201214318\n",
            "C:\\Users\\hgf77\\anaconda3\\envs\\tf-gpu\\lib\\site-packages\\sklearn\\linear_model\\_sag.py:328: ConvergenceWarning: The max_iter was reached which means the coef_ did not converge\n",
            "  warnings.warn(\"The max_iter was reached which means \"\n",
            "CV ngram(1,3) 0.8803775065185797\n",
            "CV ngram(2,2) 0.8181405669162283\n",
            "CV ngram(2,3) 0.816677177326182\n",
            "CV ngram(3,3) 0.6083813643871504\n",
            "TF ngram(1,1) 0.8815791618433787\n",
            "TF ngram(1,2) 0.8833923011577803\n",
            "TF ngram(1,3) 0.8840656758535709\n",
            "TF ngram(2,2) 0.8156931177451451\n",
            "TF ngram(2,3) 0.8168244677751976\n",
            "TF ngram(3,3) 0.5535472807839507\n",
            "\n",
            "Regressão Logística - TF ngram(1,3) - F1 Score: 88.41%\n",
            "Wall time: 2min 55s\n"
          ]
        }
      ],
      "source": [
        "%%time\n",
        "# modelo Regressão Logística\n",
        "modelo = LogisticRegression(solver='saga', max_iter=1000, random_state=42, n_jobs=-1)\n",
        "# calculo com todos os vetores.\n",
        "f1score = testar_modelo(modelo, df_treino, df_teste, vetores, 'sentimento')\n",
        "\n",
        "print()\n",
        "print(f\"Regressão Logística - {f1score[0]} - F1 Score: {round(f1score[1]*100,2)}%\")"
      ]
    },
    {
      "cell_type": "code",
      "execution_count": 26,
      "metadata": {},
      "outputs": [
        {
          "output_type": "stream",
          "name": "stdout",
          "text": [
            "CV ngram(1,1) 0.8523465209719742\n",
            "CV ngram(1,2) 0.8693658968702689\n",
            "CV ngram(1,3) 0.8708181374622521\n",
            "CV ngram(2,2) 0.8382154163101594\n",
            "CV ngram(2,3) 0.8343883584984358\n",
            "CV ngram(3,3) 0.6104436506306223\n",
            "TF ngram(1,1) 0.8491853644511781\n",
            "TF ngram(1,2) 0.8643153993036056\n",
            "TF ngram(1,3) 0.8661130294291304\n",
            "TF ngram(2,2) 0.8245641873793927\n",
            "TF ngram(2,3) 0.823035042943178\n",
            "TF ngram(3,3) 0.5549469693311997\n",
            "\n",
            "Naive Bayes Bernoulli - CV ngram(1,3) - F1 Score: 87.08%\n",
            "Wall time: 1.53 s\n"
          ]
        }
      ],
      "source": [
        "%%time\n",
        "# modelo Naive Bayes Bernoulli\n",
        "modelo = BernoulliNB()\n",
        "# calculo com todos os vetores.\n",
        "f1score = testar_modelo(modelo, df_treino, df_teste, vetores, 'sentimento')\n",
        "\n",
        "print()\n",
        "print(f\"Naive Bayes Bernoulli - {f1score[0]} - F1 Score: {round(f1score[1]*100,2)}%\")"
      ]
    },
    {
      "cell_type": "code",
      "execution_count": 27,
      "metadata": {},
      "outputs": [
        {
          "output_type": "stream",
          "name": "stdout",
          "text": [
            "CV ngram(1,1) 0.8547519694104435\n",
            "CV ngram(1,2) 0.8674575171183488\n",
            "CV ngram(1,3) 0.8691380503682982\n",
            "CV ngram(2,2) 0.8393507595582753\n",
            "CV ngram(2,3) 0.83808436444916\n",
            "CV ngram(3,3) 0.5821947914866082\n",
            "TF ngram(1,1) 0.8562226506034619\n",
            "TF ngram(1,2) 0.8685807584987018\n",
            "TF ngram(1,3) 0.8675690392878072\n",
            "TF ngram(2,2) 0.8261059209984754\n",
            "TF ngram(2,3) 0.8217167619124149\n",
            "TF ngram(3,3) 0.5321065959946548\n",
            "\n",
            "Naive Bayes Multinomial - CV ngram(1,3) - F1 Score: 86.91%\n",
            "Wall time: 1.33 s\n"
          ]
        }
      ],
      "source": [
        "%%time\n",
        "# modelo Naive Bayes Multinomial\n",
        "modelo = MultinomialNB()\n",
        "# calculo com todos os vetores.\n",
        "f1score = testar_modelo(modelo, df_treino, df_teste, vetores, 'sentimento')\n",
        "\n",
        "print()\n",
        "print(f\"Naive Bayes Multinomial - {f1score[0]} - F1 Score: {round(f1score[1]*100,2)}%\")"
      ]
    },
    {
      "cell_type": "code",
      "execution_count": 28,
      "metadata": {},
      "outputs": [
        {
          "output_type": "stream",
          "name": "stderr",
          "text": [
            "C:\\Users\\hgf77\\anaconda3\\envs\\tf-gpu\\lib\\site-packages\\sklearn\\svm\\_base.py:985: ConvergenceWarning: Liblinear failed to converge, increase the number of iterations.\n",
            "  warnings.warn(\"Liblinear failed to converge, increase \"\n",
            "CV ngram(1,1) 0.8410647334175689\n",
            "C:\\Users\\hgf77\\anaconda3\\envs\\tf-gpu\\lib\\site-packages\\sklearn\\svm\\_base.py:985: ConvergenceWarning: Liblinear failed to converge, increase the number of iterations.\n",
            "  warnings.warn(\"Liblinear failed to converge, increase \"\n",
            "CV ngram(1,2) 0.860609381477054\n",
            "C:\\Users\\hgf77\\anaconda3\\envs\\tf-gpu\\lib\\site-packages\\sklearn\\svm\\_base.py:985: ConvergenceWarning: Liblinear failed to converge, increase the number of iterations.\n",
            "  warnings.warn(\"Liblinear failed to converge, increase \"\n",
            "CV ngram(1,3) 0.8612832597208612\n",
            "CV ngram(2,2) 0.7828827497851002\n",
            "CV ngram(2,3) 0.7850171328747871\n",
            "CV ngram(3,3) 0.6063563428006253\n",
            "TF ngram(1,1) 0.8798012987840483\n",
            "TF ngram(1,2) 0.884864722673612\n",
            "TF ngram(1,3) 0.8844164904569981\n",
            "TF ngram(2,2) 0.7996060470284906\n",
            "TF ngram(2,3) 0.7994979936498946\n",
            "TF ngram(3,3) 0.5540617172968947\n",
            "\n",
            "SVM Linear - TF ngram(1,2) - F1 Score: 88.49%\n",
            "Wall time: 35.4 s\n"
          ]
        }
      ],
      "source": [
        "%%time\n",
        "# modelo Linear SVM\n",
        "modelo = LinearSVC(random_state=42, max_iter=2000)\n",
        "# calculo com todos os vetores.\n",
        "f1score = testar_modelo(modelo, df_treino, df_teste, vetores, 'sentimento')\n",
        "\n",
        "print()\n",
        "print(f\"SVM Linear - {f1score[0]} - F1 Score: {round(f1score[1]*100,2)}%\")"
      ]
    },
    {
      "cell_type": "code",
      "execution_count": 30,
      "metadata": {},
      "outputs": [
        {
          "output_type": "stream",
          "name": "stdout",
          "text": [
            "CV ngram(1,1) 0.8206323129981713\n",
            "CV ngram(1,2) 0.8358892722027663\n",
            "CV ngram(1,3) 0.8392513624566394\n",
            "CV ngram(2,2) 0.7719570506569801\n",
            "CV ngram(2,3) 0.7752217592590233\n",
            "CV ngram(3,3) 0.6005473916262247\n",
            "TF ngram(1,1) 0.8207255925203217\n",
            "TF ngram(1,2) 0.8268384099628575\n",
            "TF ngram(1,3) 0.8304706452942974\n",
            "TF ngram(2,2) 0.7744291715602897\n",
            "TF ngram(2,3) 0.7700497492243219\n",
            "TF ngram(3,3) 0.5548242496040003\n",
            "\n",
            "Extra Trees Regressor - CV ngram(1,3) - F1 Score: 83.93%\n",
            "Wall time: 1min 21s\n"
          ]
        }
      ],
      "source": [
        "%%time\n",
        "# modelo Extra Trees Regressor\n",
        "modelo = ExtraTreesClassifier(n_estimators=20, random_state=42, n_jobs=-1)\n",
        "# calculo com todos os vetores.\n",
        "f1score = testar_modelo(modelo, df_treino, df_teste, vetores, 'sentimento')\n",
        "\n",
        "print()\n",
        "print(f\"Extra Trees Regressor - {f1score[0]} - F1 Score: {round(f1score[1]*100,2)}%\")"
      ]
    },
    {
      "cell_type": "code",
      "execution_count": 40,
      "metadata": {},
      "outputs": [
        {
          "output_type": "stream",
          "name": "stdout",
          "text": [
            "Wall time: 1min 51s\n"
          ]
        }
      ],
      "source": [
        "%%time\n",
        "# criando os vetores para Unigramas, Bigramas, Trigramas com CountVectorizer e TfidfVectorizer\n",
        "vetores = criar_vetores(df_treino, df_teste, 'adj')"
      ]
    },
    {
      "cell_type": "code",
      "execution_count": 44,
      "metadata": {},
      "outputs": [
        {
          "output_type": "execute_result",
          "data": {
            "text/plain": [
              "['CV ngram(1,1)',\n",
              " <35611x3536 sparse matrix of type '<class 'numpy.int64'>'\n",
              " \twith 575170 stored elements in Compressed Sparse Row format>,\n",
              " <8903x3536 sparse matrix of type '<class 'numpy.int64'>'\n",
              " \twith 142658 stored elements in Compressed Sparse Row format>]"
            ]
          },
          "metadata": {},
          "execution_count": 44
        }
      ],
      "source": [
        "vetores[0]"
      ]
    },
    {
      "cell_type": "code",
      "execution_count": 41,
      "metadata": {},
      "outputs": [
        {
          "output_type": "stream",
          "name": "stdout",
          "text": [
            "CV ngram(1,1) 0.8290361006599565\n",
            "CV ngram(1,2) 0.8199469963426237\n",
            "CV ngram(1,3) 0.8189369571128304\n",
            "CV ngram(2,2) 0.6851354124850295\n",
            "CV ngram(2,3) 0.6855761560986389\n",
            "CV ngram(3,3) 0.3643126413156537\n",
            "TF ngram(1,1) 0.8323744228315862\n",
            "TF ngram(1,2) 0.8326026325584032\n",
            "TF ngram(1,3) 0.8326026325584032\n",
            "TF ngram(2,2) 0.581820238845274\n",
            "TF ngram(2,3) 0.581670006987831\n",
            "TF ngram(3,3) 0.3398422124719968\n",
            "\n",
            "Regressão Logística - TF ngram(1,2) - F1 Score: 83.26%\n",
            "Wall time: 29.6 s\n"
          ]
        }
      ],
      "source": [
        "%%time\n",
        "# modelo Regressão Logística\n",
        "modelo = LogisticRegression(solver='saga', max_iter=1000, random_state=42, n_jobs=-1)\n",
        "# calculo com todos os vetores.\n",
        "f1score = testar_modelo(modelo, df_treino, df_teste, vetores, 'sentimento')\n",
        "\n",
        "print()\n",
        "print(f\"Regressão Logística - {f1score[0]} - F1 Score: {round(f1score[1]*100,2)}%\")"
      ]
    },
    {
      "cell_type": "code",
      "execution_count": 43,
      "metadata": {},
      "outputs": [
        {
          "output_type": "stream",
          "name": "stderr",
          "text": [
            "C:\\Users\\hgf77\\anaconda3\\envs\\tf-gpu\\lib\\site-packages\\sklearn\\svm\\_base.py:985: ConvergenceWarning: Liblinear failed to converge, increase the number of iterations.\n",
            "  warnings.warn(\"Liblinear failed to converge, increase \"\n",
            "CV ngram(1,1) 0.8158958833776097\n",
            "C:\\Users\\hgf77\\anaconda3\\envs\\tf-gpu\\lib\\site-packages\\sklearn\\svm\\_base.py:985: ConvergenceWarning: Liblinear failed to converge, increase the number of iterations.\n",
            "  warnings.warn(\"Liblinear failed to converge, increase \"\n",
            "CV ngram(1,2) 0.7877128428073914\n",
            "C:\\Users\\hgf77\\anaconda3\\envs\\tf-gpu\\lib\\site-packages\\sklearn\\svm\\_base.py:985: ConvergenceWarning: Liblinear failed to converge, increase the number of iterations.\n",
            "  warnings.warn(\"Liblinear failed to converge, increase \"\n",
            "CV ngram(1,3) 0.7882745291805383\n",
            "CV ngram(2,2) 0.6761143921218868\n",
            "CV ngram(2,3) 0.6746506506270766\n",
            "CV ngram(3,3) 0.3643695596718281\n",
            "TF ngram(1,1) 0.8208030534692171\n",
            "TF ngram(1,2) 0.8233913588887717\n",
            "TF ngram(1,3) 0.8233913588887717\n",
            "TF ngram(2,2) 0.581950189695956\n",
            "TF ngram(2,3) 0.581950189695956\n",
            "TF ngram(3,3) 0.3398422124719968\n",
            "\n",
            "SVM Linear - TF ngram(1,2) - F1 Score: 82.34%\n",
            "Wall time: 24.1 s\n"
          ]
        }
      ],
      "source": [
        "%%time\n",
        "# modelo Linear SVM\n",
        "modelo = LinearSVC(random_state=42, max_iter=2000)\n",
        "# calculo com todos os vetores.\n",
        "f1score = testar_modelo(modelo, df_treino, df_teste, vetores, 'sentimento')\n",
        "\n",
        "print()\n",
        "print(f\"SVM Linear - {f1score[0]} - F1 Score: {round(f1score[1]*100,2)}%\")"
      ]
    },
    {
      "source": [
        "# MLP"
      ],
      "cell_type": "markdown",
      "metadata": {}
    },
    {
      "cell_type": "code",
      "execution_count": 158,
      "metadata": {},
      "outputs": [],
      "source": [
        "def plot_history(history):\n",
        "    acc = history.history['accuracy']\n",
        "    val_acc = history.history['val_accuracy']\n",
        "    loss = history.history['loss']\n",
        "    val_loss = history.history['val_loss']\n",
        "    x = range(1, len(acc) + 1)\n",
        "\n",
        "    plt.figure(figsize=(12, 5))\n",
        "    plt.subplot(1, 2, 1)\n",
        "    plt.plot(x, acc, 'b', label='Training acc')\n",
        "    plt.plot(x, val_acc, 'r', label='Validation acc')\n",
        "    plt.title('Training and validation accuracy')\n",
        "    plt.legend()\n",
        "    plt.subplot(1, 2, 2)\n",
        "    plt.plot(x, loss, 'b', label='Training loss')\n",
        "    plt.plot(x, val_loss, 'r', label='Validation loss')\n",
        "    plt.title('Training and validation loss')\n",
        "    plt.legend()"
      ]
    },
    {
      "cell_type": "code",
      "execution_count": 45,
      "metadata": {},
      "outputs": [
        {
          "output_type": "execute_result",
          "data": {
            "text/plain": [
              "                                               texto sentimento  \\\n",
              "0  Esse bocejo de pia de cozinha de orçamento mui...        neg   \n",
              "1  O Bravo parece indicar que o personagem princi...        neg   \n",
              "2  Durante a Guerra pela Independência do Sul, GE...        pos   \n",
              "3  É fora de questão que a verdadeira Anna Anders...        pos   \n",
              "4  Concordo totalmente com outro dos revisores aq...        neg   \n",
              "\n",
              "                                                stem  \\\n",
              "0  ess bocej de pia de co de orç muit baix é o ti...   \n",
              "1  o brav parec indic que o person principal, cla...   \n",
              "2  dur a guerr pel independ do sul, gener spanky ...   \n",
              "3  é for de quest que a verd ann anderson não era...   \n",
              "4  concord total com outr do revi aqu que fic sat...   \n",
              "\n",
              "                                                lemm  \\\n",
              "0  Esse bocejar de pio de cozinhar de orçamentar ...   \n",
              "1  O Bravo parecer indicar que o personagem princ...   \n",
              "2  Durante o Guerra pelar Independência do Sul , ...   \n",
              "3  É ser de questão que o verdadeiro Anna Anderso...   \n",
              "4  Concordo totalmente com outro dos revisor aqui...   \n",
              "\n",
              "                                                verb  \\\n",
              "0  Esse bocejo de pia de cozinha de orçamento mui...   \n",
              "1  O Bravo parecer indicar que o personagem princ...   \n",
              "2  Durante a Guerra pela Independência do Sul , G...   \n",
              "3  É fora de questão que a verdadeira Anna Anders...   \n",
              "4  Concordo totalmente com outro dos revisores aq...   \n",
              "\n",
              "                                                 pre  \\\n",
              "0  esse bocejo pia cozinha orçamento filme feito ...   \n",
              "1  bravo indicar personagem principal claro coraj...   \n",
              "2  durante guerra independência sul general spank...   \n",
              "3  verdadeira anna anderson princesa anastasia al...   \n",
              "4  concordo totalmente outro revisor ficou satisf...   \n",
              "\n",
              "                                                 adj  \n",
              "0  muito baixar só antar ver Provavelmente auto-f...  \n",
              "1  principal claro corajoso mais corajoso brutalm...  \n",
              "2  locar popular GANG ocasionar grande natural me...  \n",
              "3  ser verdadeiro não Além muito distinto físico ...  \n",
              "4  totalmente aqui satisfazer Melhor não doente p...  "
            ],
            "text/html": "<div>\n<style scoped>\n    .dataframe tbody tr th:only-of-type {\n        vertical-align: middle;\n    }\n\n    .dataframe tbody tr th {\n        vertical-align: top;\n    }\n\n    .dataframe thead th {\n        text-align: right;\n    }\n</style>\n<table border=\"1\" class=\"dataframe\">\n  <thead>\n    <tr style=\"text-align: right;\">\n      <th></th>\n      <th>texto</th>\n      <th>sentimento</th>\n      <th>stem</th>\n      <th>lemm</th>\n      <th>verb</th>\n      <th>pre</th>\n      <th>adj</th>\n    </tr>\n  </thead>\n  <tbody>\n    <tr>\n      <th>0</th>\n      <td>Esse bocejo de pia de cozinha de orçamento mui...</td>\n      <td>neg</td>\n      <td>ess bocej de pia de co de orç muit baix é o ti...</td>\n      <td>Esse bocejar de pio de cozinhar de orçamentar ...</td>\n      <td>Esse bocejo de pia de cozinha de orçamento mui...</td>\n      <td>esse bocejo pia cozinha orçamento filme feito ...</td>\n      <td>muito baixar só antar ver Provavelmente auto-f...</td>\n    </tr>\n    <tr>\n      <th>1</th>\n      <td>O Bravo parece indicar que o personagem princi...</td>\n      <td>neg</td>\n      <td>o brav parec indic que o person principal, cla...</td>\n      <td>O Bravo parecer indicar que o personagem princ...</td>\n      <td>O Bravo parecer indicar que o personagem princ...</td>\n      <td>bravo indicar personagem principal claro coraj...</td>\n      <td>principal claro corajoso mais corajoso brutalm...</td>\n    </tr>\n    <tr>\n      <th>2</th>\n      <td>Durante a Guerra pela Independência do Sul, GE...</td>\n      <td>pos</td>\n      <td>dur a guerr pel independ do sul, gener spanky ...</td>\n      <td>Durante o Guerra pelar Independência do Sul , ...</td>\n      <td>Durante a Guerra pela Independência do Sul , G...</td>\n      <td>durante guerra independência sul general spank...</td>\n      <td>locar popular GANG ocasionar grande natural me...</td>\n    </tr>\n    <tr>\n      <th>3</th>\n      <td>É fora de questão que a verdadeira Anna Anders...</td>\n      <td>pos</td>\n      <td>é for de quest que a verd ann anderson não era...</td>\n      <td>É ser de questão que o verdadeiro Anna Anderso...</td>\n      <td>É fora de questão que a verdadeira Anna Anders...</td>\n      <td>verdadeira anna anderson princesa anastasia al...</td>\n      <td>ser verdadeiro não Além muito distinto físico ...</td>\n    </tr>\n    <tr>\n      <th>4</th>\n      <td>Concordo totalmente com outro dos revisores aq...</td>\n      <td>neg</td>\n      <td>concord total com outr do revi aqu que fic sat...</td>\n      <td>Concordo totalmente com outro dos revisor aqui...</td>\n      <td>Concordo totalmente com outro dos revisores aq...</td>\n      <td>concordo totalmente outro revisor ficou satisf...</td>\n      <td>totalmente aqui satisfazer Melhor não doente p...</td>\n    </tr>\n  </tbody>\n</table>\n</div>"
          },
          "metadata": {},
          "execution_count": 45
        }
      ],
      "source": [
        "df.head()"
      ]
    },
    {
      "cell_type": "code",
      "execution_count": 49,
      "metadata": {},
      "outputs": [
        {
          "output_type": "execute_result",
          "data": {
            "text/plain": [
              "                                               texto  \\\n",
              "0  Esse bocejo de pia de cozinha de orçamento mui...   \n",
              "1  O Bravo parece indicar que o personagem princi...   \n",
              "2  Durante a Guerra pela Independência do Sul, GE...   \n",
              "3  É fora de questão que a verdadeira Anna Anders...   \n",
              "4  Concordo totalmente com outro dos revisores aq...   \n",
              "\n",
              "                                                 pre  target  \n",
              "0  esse bocejo pia cozinha orçamento filme feito ...       0  \n",
              "1  bravo indicar personagem principal claro coraj...       0  \n",
              "2  durante guerra independência sul general spank...       1  \n",
              "3  verdadeira anna anderson princesa anastasia al...       1  \n",
              "4  concordo totalmente outro revisor ficou satisf...       0  "
            ],
            "text/html": "<div>\n<style scoped>\n    .dataframe tbody tr th:only-of-type {\n        vertical-align: middle;\n    }\n\n    .dataframe tbody tr th {\n        vertical-align: top;\n    }\n\n    .dataframe thead th {\n        text-align: right;\n    }\n</style>\n<table border=\"1\" class=\"dataframe\">\n  <thead>\n    <tr style=\"text-align: right;\">\n      <th></th>\n      <th>texto</th>\n      <th>pre</th>\n      <th>target</th>\n    </tr>\n  </thead>\n  <tbody>\n    <tr>\n      <th>0</th>\n      <td>Esse bocejo de pia de cozinha de orçamento mui...</td>\n      <td>esse bocejo pia cozinha orçamento filme feito ...</td>\n      <td>0</td>\n    </tr>\n    <tr>\n      <th>1</th>\n      <td>O Bravo parece indicar que o personagem princi...</td>\n      <td>bravo indicar personagem principal claro coraj...</td>\n      <td>0</td>\n    </tr>\n    <tr>\n      <th>2</th>\n      <td>Durante a Guerra pela Independência do Sul, GE...</td>\n      <td>durante guerra independência sul general spank...</td>\n      <td>1</td>\n    </tr>\n    <tr>\n      <th>3</th>\n      <td>É fora de questão que a verdadeira Anna Anders...</td>\n      <td>verdadeira anna anderson princesa anastasia al...</td>\n      <td>1</td>\n    </tr>\n    <tr>\n      <th>4</th>\n      <td>Concordo totalmente com outro dos revisores aq...</td>\n      <td>concordo totalmente outro revisor ficou satisf...</td>\n      <td>0</td>\n    </tr>\n  </tbody>\n</table>\n</div>"
          },
          "metadata": {},
          "execution_count": 49
        }
      ],
      "source": [
        "df_mlp = df[['texto', 'pre']].copy()\n",
        "df_mlp['target'] = [0 if x == 'neg' else 1 for x in df.sentimento]\n",
        "df_mlp.head()"
      ]
    },
    {
      "cell_type": "code",
      "execution_count": 98,
      "metadata": {},
      "outputs": [
        {
          "output_type": "stream",
          "name": "stdout",
          "text": [
            "<class 'pandas.core.frame.DataFrame'>\nRangeIndex: 44514 entries, 0 to 44513\nData columns (total 3 columns):\n #   Column  Non-Null Count  Dtype \n---  ------  --------------  ----- \n 0   texto   44514 non-null  object\n 1   pre     44514 non-null  object\n 2   target  44514 non-null  int64 \ndtypes: int64(1), object(2)\nmemory usage: 1.0+ MB\n"
          ]
        }
      ],
      "source": [
        "# dividindo com 20% para o treino e random state = 42\n",
        "df_treino_mlp, df_teste_mlp = train_test_split(\n",
        "      df_mlp, \n",
        "      test_size = 0.2, \n",
        "      random_state = 42\n",
        "  )\n",
        "df_mlp.info()  "
      ]
    },
    {
      "cell_type": "code",
      "execution_count": 99,
      "metadata": {},
      "outputs": [
        {
          "output_type": "execute_result",
          "data": {
            "text/plain": [
              "target\n",
              "0    40.07\n",
              "1    39.93\n",
              "Name: texto, dtype: float64"
            ]
          },
          "metadata": {},
          "execution_count": 99
        }
      ],
      "source": [
        "# distribuição das respostas do treino em %\n",
        "round(df_treino_mlp.groupby('target').count() / df_mlp.shape[0] * 100, 2).texto"
      ]
    },
    {
      "cell_type": "code",
      "execution_count": 100,
      "metadata": {},
      "outputs": [
        {
          "output_type": "execute_result",
          "data": {
            "text/plain": [
              "target\n",
              "0    10.04\n",
              "1     9.96\n",
              "Name: texto, dtype: float64"
            ]
          },
          "metadata": {},
          "execution_count": 100
        }
      ],
      "source": [
        "# distribuição das respostas do teste em %\n",
        "round(df_teste_mlp.groupby('target').count() / df_mlp.shape[0] * 100, 2).texto"
      ]
    },
    {
      "cell_type": "code",
      "execution_count": 101,
      "metadata": {},
      "outputs": [],
      "source": [
        "# vetorização em unigramas + Bigramas com CountVectorizer e sem stopwords\n",
        "vect_MLP = CountVectorizer(ngram_range=(1,1), stop_words=stops, min_df=20) \n",
        "#vect = CountVectorizer(ngram_range=(1,1), stop_words=stops) \n",
        "# utilizando a base completa sem ajustes\n",
        "vect_MLP.fit(df_treino_mlp.texto)\n",
        "X_treino = vect_MLP.transform(df_treino_mlp.texto)\n",
        "X_teste = vect_MLP.transform(df_teste_mlp.texto)"
      ]
    },
    {
      "cell_type": "code",
      "execution_count": 102,
      "metadata": {},
      "outputs": [
        {
          "output_type": "execute_result",
          "data": {
            "text/plain": [
              "(35611, 16504)"
            ]
          },
          "metadata": {},
          "execution_count": 102
        }
      ],
      "source": [
        "X_treino.shape"
      ]
    },
    {
      "cell_type": "code",
      "execution_count": 103,
      "metadata": {},
      "outputs": [
        {
          "output_type": "execute_result",
          "data": {
            "text/plain": [
              "(35611, 1)"
            ]
          },
          "metadata": {},
          "execution_count": 103
        }
      ],
      "source": [
        "y_treino = df_treino_mlp.target.values.reshape(-1,1)\n",
        "y_teste = df_teste_mlp.target.values.reshape(-1,1)\n",
        "y_treino.shape"
      ]
    },
    {
      "cell_type": "code",
      "execution_count": 126,
      "metadata": {},
      "outputs": [],
      "source": [
        "tokenizer = Tokenizer(num_words=5000)\n",
        "tokenizer.fit_on_texts(df_treino_mlp.pre)"
      ]
    },
    {
      "cell_type": "code",
      "execution_count": 131,
      "metadata": {},
      "outputs": [],
      "source": [
        "X_treino = tokenizer.texts_to_sequences(df_treino_mlp.pre)\n",
        "X_teste = tokenizer.texts_to_sequences(df_teste_mlp.pre)"
      ]
    },
    {
      "cell_type": "code",
      "execution_count": 135,
      "metadata": {},
      "outputs": [
        {
          "output_type": "execute_result",
          "data": {
            "text/plain": [
              "106704"
            ]
          },
          "metadata": {},
          "execution_count": 135
        }
      ],
      "source": [
        "vocab_size = len(tokenizer.word_index) + 1  # Adding 1 because of reserved 0 index\n",
        "vocab_size"
      ]
    },
    {
      "cell_type": "code",
      "execution_count": 133,
      "metadata": {},
      "outputs": [
        {
          "output_type": "stream",
          "name": "stdout",
          "text": [
            "durante guerra independência sul general spanky mobiliza força defender mulher criança local invasão yankee hal roach decidiu hora popular garoto our gang transformarem filme ocasional com sucesso shirley temple filme período guerra civil the little colonel the littlest rebel natural roach olhasse mesma direção gang apesar produção generosa distribuída mgm general spanky sucesso crítico bilheteria pequeno gangster passariam dedicar assunto curto embora recebido melhor faturamento papel principal george mcparland rivalizado durante metade filme pequeno billie buckwheat thoma aqui melhor ator jovem apareceram filme americano com experiência profissional experiente antigo gamin podiam roubar cena coração bravata igual uma alegria constante nota falsa ele fornecem razão essencial assistir filme hoje phillip holme apresentação tranquila cavalheiresca protetor adulto spanky quase esquecido agora holme ótimo ator morreu cedo durante segunda guerra mundial genial ralph morgan especialmente simpático general união cena spanky divertida outro nosso gangera aparecem filme notavelmente carl alfafa switzer começa warble logo batalha mãe até bela professora rosina lawrence gang aparece interpretar holme querida irving pichel particularmente viscoso cardife covarde tornou capitão vingativo yankee desvendando willie melhor atrevido louise beaver interpretam escravo mis lawrence deve-se notar racismo filme incomum hollywood época quase completamente ausente série original curta our gangfã música século xix gostar prestar atenção trilha sonora longa sucessão música antiga\n[932, 1641, 175, 73, 1065, 6, 507, 665, 3017, 67, 3, 235, 1810, 1895, 1599, 1649, 509, 1274, 177, 66, 932, 2, 150, 713, 531, 932, 66, 4103, 757, 3029, 66, 131, 4517, 253, 430, 305, 306, 170, 665, 702, 623, 124, 771, 108, 1149, 932, 1103, 1467, 932, 2483, 449, 1104, 512, 2, 238, 1425, 4623, 512, 324, 1, 105, 100, 438, 39, 623, 124, 2664, 1257, 175, 3666, 76, 417, 2792, 818, 733, 206, 277, 665, 678, 477, 272, 3782, 277, 106, 2395, 2596, 582, 3573, 2448, 755, 1759, 41, 309, 1076, 1875, 1, 2448, 3666, 93, 1927, 3597, 543, 430, 206, 3, 68, 4624, 62, 106, 2395, 139, 395, 238, 1776, 477, 105, 512, 3894, 1, 1825, 3, 647, 235, 177, 305, 1940]\n"
          ]
        }
      ],
      "source": [
        "print(df_treino_mlp.pre[2])\n",
        "print(X_treino[2])"
      ]
    },
    {
      "cell_type": "code",
      "execution_count": 139,
      "metadata": {},
      "outputs": [
        {
          "output_type": "execute_result",
          "data": {
            "text/plain": [
              "377"
            ]
          },
          "metadata": {},
          "execution_count": 139
        }
      ],
      "source": [
        "max(len(x) for x in X_treino)"
      ]
    },
    {
      "cell_type": "code",
      "execution_count": 142,
      "metadata": {},
      "outputs": [],
      "source": [
        "maxlen = 400\n",
        "\n",
        "X_treino = pad_sequences(X_treino, padding='post', maxlen=maxlen)\n",
        "X_teste = pad_sequences(X_teste, padding='post', maxlen=maxlen)"
      ]
    },
    {
      "cell_type": "code",
      "execution_count": 143,
      "metadata": {},
      "outputs": [
        {
          "output_type": "execute_result",
          "data": {
            "text/plain": [
              "(35611, 400)"
            ]
          },
          "metadata": {},
          "execution_count": 143
        }
      ],
      "source": [
        "X_treino.shape"
      ]
    },
    {
      "cell_type": "code",
      "execution_count": 287,
      "metadata": {},
      "outputs": [],
      "source": [
        "#Modelo da Rede MLP\n",
        "\n",
        "model = Sequential()\n",
        "model.add(Embedding(input_dim=vocab_size, output_dim=256, input_length=maxlen))\n",
        "model.add(Dropout(0.3))\n",
        "#model.add(Conv1D(128, 5, activation='relu'))\n",
        "model.add(GlobalMaxPooling1D())\n",
        "#model.add(Flatten())\n",
        "model.add(Dense(64, activation='relu'))\n",
        "#model.add(Dropout(0.3))\n",
        "#model.add(Dense(32, activation='relu'))\n",
        "#model.add(Dropout(0.2))\n",
        "model.add(Dense(1, activation='sigmoid'))"
      ]
    },
    {
      "cell_type": "code",
      "execution_count": 300,
      "metadata": {},
      "outputs": [
        {
          "output_type": "stream",
          "name": "stdout",
          "text": [
            "WARNING:tensorflow:Layer lstm will not use cuDNN kernel since it doesn't meet the cuDNN kernel criteria. It will use generic GPU kernel as fallback when running on GPU\n"
          ]
        }
      ],
      "source": [
        "model = Sequential()\n",
        "model.add(Embedding(input_dim=vocab_size, output_dim=128, input_length=maxlen))\n",
        "model.add(SpatialDropout1D(0.3))\n",
        "model.add(LSTM(128, dropout=0.2, recurrent_dropout=0.2))\n",
        "#model.add(Dense(32, activation='relu'))\n",
        "#model.add(Dense(1, activation='sigmoid'))\n",
        "model.add(Dense(2, activation='softmax'))"
      ]
    },
    {
      "cell_type": "code",
      "execution_count": 303,
      "metadata": {},
      "outputs": [],
      "source": [
        "model.compile(loss='binary_crossentropy', optimizer='adam', metrics=['accuracy'])"
      ]
    },
    {
      "cell_type": "code",
      "execution_count": 301,
      "metadata": {},
      "outputs": [
        {
          "output_type": "stream",
          "name": "stdout",
          "text": [
            "Model: \"sequential\"\n_________________________________________________________________\nLayer (type)                 Output Shape              Param #   \n=================================================================\nembedding (Embedding)        (None, 400, 128)          13658112  \n_________________________________________________________________\nspatial_dropout1d (SpatialDr (None, 400, 128)          0         \n_________________________________________________________________\nlstm (LSTM)                  (None, 128)               131584    \n_________________________________________________________________\ndense (Dense)                (None, 2)                 258       \n=================================================================\nTotal params: 13,789,954\nTrainable params: 13,789,954\nNon-trainable params: 0\n_________________________________________________________________\nNone\n"
          ]
        }
      ],
      "source": [
        "print(model.summary())"
      ]
    },
    {
      "cell_type": "code",
      "execution_count": 296,
      "metadata": {},
      "outputs": [
        {
          "output_type": "execute_result",
          "data": {
            "image/png": "[encoded data removed]",
            "text/plain": [
              "<IPython.core.display.Image object>"
            ]
          },
          "metadata": {},
          "execution_count": 296
        }
      ],
      "source": [
        "plot_model(model)"
      ]
    },
    {
      "cell_type": "code",
      "execution_count": 304,
      "metadata": {},
      "outputs": [
        {
          "output_type": "stream",
          "name": "stdout",
          "text": [
            "Epoch 1/10\n"
          ]
        },
        {
          "output_type": "error",
          "ename": "ResourceExhaustedError",
          "evalue": "2 root error(s) found.\n  (0) Resource exhausted:  OOM when allocating tensor with shape[2000,128] and type float on /job:localhost/replica:0/task:0/device:GPU:0 by allocator GPU_0_bfc\n\t [[{{node sequential/lstm/while/body/_1/sequential/lstm/while/lstm_cell/mul_9}}]]\nHint: If you want to see a list of allocated tensors when OOM happens, add report_tensor_allocations_upon_oom to RunOptions for current allocation info.\n\n\t [[gradient_tape/sequential/embedding/embedding_lookup/Reshape/_118]]\nHint: If you want to see a list of allocated tensors when OOM happens, add report_tensor_allocations_upon_oom to RunOptions for current allocation info.\n\n  (1) Resource exhausted:  OOM when allocating tensor with shape[2000,128] and type float on /job:localhost/replica:0/task:0/device:GPU:0 by allocator GPU_0_bfc\n\t [[{{node sequential/lstm/while/body/_1/sequential/lstm/while/lstm_cell/mul_9}}]]\nHint: If you want to see a list of allocated tensors when OOM happens, add report_tensor_allocations_upon_oom to RunOptions for current allocation info.\n\n0 successful operations.\n0 derived errors ignored. [Op:__inference_train_function_494701]\n\nFunction call stack:\ntrain_function -> train_function\n",
          "traceback": [
            "\u001b[1;31m---------------------------------------------------------------------------\u001b[0m",
            "\u001b[1;31mResourceExhaustedError\u001b[0m                    Traceback (most recent call last)",
            "\u001b[1;32m<timed exec>\u001b[0m in \u001b[0;36m<module>\u001b[1;34m\u001b[0m\n",
            "\u001b[1;32m~\\anaconda3\\envs\\tf-gpu\\lib\\site-packages\\tensorflow\\python\\keras\\engine\\training.py\u001b[0m in \u001b[0;36m_method_wrapper\u001b[1;34m(self, *args, **kwargs)\u001b[0m\n\u001b[0;32m    106\u001b[0m   \u001b[1;32mdef\u001b[0m \u001b[0m_method_wrapper\u001b[0m\u001b[1;33m(\u001b[0m\u001b[0mself\u001b[0m\u001b[1;33m,\u001b[0m \u001b[1;33m*\u001b[0m\u001b[0margs\u001b[0m\u001b[1;33m,\u001b[0m \u001b[1;33m**\u001b[0m\u001b[0mkwargs\u001b[0m\u001b[1;33m)\u001b[0m\u001b[1;33m:\u001b[0m\u001b[1;33m\u001b[0m\u001b[1;33m\u001b[0m\u001b[0m\n\u001b[0;32m    107\u001b[0m     \u001b[1;32mif\u001b[0m \u001b[1;32mnot\u001b[0m \u001b[0mself\u001b[0m\u001b[1;33m.\u001b[0m\u001b[0m_in_multi_worker_mode\u001b[0m\u001b[1;33m(\u001b[0m\u001b[1;33m)\u001b[0m\u001b[1;33m:\u001b[0m  \u001b[1;31m# pylint: disable=protected-access\u001b[0m\u001b[1;33m\u001b[0m\u001b[1;33m\u001b[0m\u001b[0m\n\u001b[1;32m--> 108\u001b[1;33m       \u001b[1;32mreturn\u001b[0m \u001b[0mmethod\u001b[0m\u001b[1;33m(\u001b[0m\u001b[0mself\u001b[0m\u001b[1;33m,\u001b[0m \u001b[1;33m*\u001b[0m\u001b[0margs\u001b[0m\u001b[1;33m,\u001b[0m \u001b[1;33m**\u001b[0m\u001b[0mkwargs\u001b[0m\u001b[1;33m)\u001b[0m\u001b[1;33m\u001b[0m\u001b[1;33m\u001b[0m\u001b[0m\n\u001b[0m\u001b[0;32m    109\u001b[0m \u001b[1;33m\u001b[0m\u001b[0m\n\u001b[0;32m    110\u001b[0m     \u001b[1;31m# Running inside `run_distribute_coordinator` already.\u001b[0m\u001b[1;33m\u001b[0m\u001b[1;33m\u001b[0m\u001b[1;33m\u001b[0m\u001b[0m\n",
            "\u001b[1;32m~\\anaconda3\\envs\\tf-gpu\\lib\\site-packages\\tensorflow\\python\\keras\\engine\\training.py\u001b[0m in \u001b[0;36mfit\u001b[1;34m(self, x, y, batch_size, epochs, verbose, callbacks, validation_split, validation_data, shuffle, class_weight, sample_weight, initial_epoch, steps_per_epoch, validation_steps, validation_batch_size, validation_freq, max_queue_size, workers, use_multiprocessing)\u001b[0m\n\u001b[0;32m   1096\u001b[0m                 batch_size=batch_size):\n\u001b[0;32m   1097\u001b[0m               \u001b[0mcallbacks\u001b[0m\u001b[1;33m.\u001b[0m\u001b[0mon_train_batch_begin\u001b[0m\u001b[1;33m(\u001b[0m\u001b[0mstep\u001b[0m\u001b[1;33m)\u001b[0m\u001b[1;33m\u001b[0m\u001b[1;33m\u001b[0m\u001b[0m\n\u001b[1;32m-> 1098\u001b[1;33m               \u001b[0mtmp_logs\u001b[0m \u001b[1;33m=\u001b[0m \u001b[0mtrain_function\u001b[0m\u001b[1;33m(\u001b[0m\u001b[0miterator\u001b[0m\u001b[1;33m)\u001b[0m\u001b[1;33m\u001b[0m\u001b[1;33m\u001b[0m\u001b[0m\n\u001b[0m\u001b[0;32m   1099\u001b[0m               \u001b[1;32mif\u001b[0m \u001b[0mdata_handler\u001b[0m\u001b[1;33m.\u001b[0m\u001b[0mshould_sync\u001b[0m\u001b[1;33m:\u001b[0m\u001b[1;33m\u001b[0m\u001b[1;33m\u001b[0m\u001b[0m\n\u001b[0;32m   1100\u001b[0m                 \u001b[0mcontext\u001b[0m\u001b[1;33m.\u001b[0m\u001b[0masync_wait\u001b[0m\u001b[1;33m(\u001b[0m\u001b[1;33m)\u001b[0m\u001b[1;33m\u001b[0m\u001b[1;33m\u001b[0m\u001b[0m\n",
            "\u001b[1;32m~\\anaconda3\\envs\\tf-gpu\\lib\\site-packages\\tensorflow\\python\\eager\\def_function.py\u001b[0m in \u001b[0;36m__call__\u001b[1;34m(self, *args, **kwds)\u001b[0m\n\u001b[0;32m    778\u001b[0m       \u001b[1;32melse\u001b[0m\u001b[1;33m:\u001b[0m\u001b[1;33m\u001b[0m\u001b[1;33m\u001b[0m\u001b[0m\n\u001b[0;32m    779\u001b[0m         \u001b[0mcompiler\u001b[0m \u001b[1;33m=\u001b[0m \u001b[1;34m\"nonXla\"\u001b[0m\u001b[1;33m\u001b[0m\u001b[1;33m\u001b[0m\u001b[0m\n\u001b[1;32m--> 780\u001b[1;33m         \u001b[0mresult\u001b[0m \u001b[1;33m=\u001b[0m \u001b[0mself\u001b[0m\u001b[1;33m.\u001b[0m\u001b[0m_call\u001b[0m\u001b[1;33m(\u001b[0m\u001b[1;33m*\u001b[0m\u001b[0margs\u001b[0m\u001b[1;33m,\u001b[0m \u001b[1;33m**\u001b[0m\u001b[0mkwds\u001b[0m\u001b[1;33m)\u001b[0m\u001b[1;33m\u001b[0m\u001b[1;33m\u001b[0m\u001b[0m\n\u001b[0m\u001b[0;32m    781\u001b[0m \u001b[1;33m\u001b[0m\u001b[0m\n\u001b[0;32m    782\u001b[0m       \u001b[0mnew_tracing_count\u001b[0m \u001b[1;33m=\u001b[0m \u001b[0mself\u001b[0m\u001b[1;33m.\u001b[0m\u001b[0m_get_tracing_count\u001b[0m\u001b[1;33m(\u001b[0m\u001b[1;33m)\u001b[0m\u001b[1;33m\u001b[0m\u001b[1;33m\u001b[0m\u001b[0m\n",
            "\u001b[1;32m~\\anaconda3\\envs\\tf-gpu\\lib\\site-packages\\tensorflow\\python\\eager\\def_function.py\u001b[0m in \u001b[0;36m_call\u001b[1;34m(self, *args, **kwds)\u001b[0m\n\u001b[0;32m    838\u001b[0m         \u001b[1;31m# Lifting succeeded, so variables are initialized and we can run the\u001b[0m\u001b[1;33m\u001b[0m\u001b[1;33m\u001b[0m\u001b[1;33m\u001b[0m\u001b[0m\n\u001b[0;32m    839\u001b[0m         \u001b[1;31m# stateless function.\u001b[0m\u001b[1;33m\u001b[0m\u001b[1;33m\u001b[0m\u001b[1;33m\u001b[0m\u001b[0m\n\u001b[1;32m--> 840\u001b[1;33m         \u001b[1;32mreturn\u001b[0m \u001b[0mself\u001b[0m\u001b[1;33m.\u001b[0m\u001b[0m_stateless_fn\u001b[0m\u001b[1;33m(\u001b[0m\u001b[1;33m*\u001b[0m\u001b[0margs\u001b[0m\u001b[1;33m,\u001b[0m \u001b[1;33m**\u001b[0m\u001b[0mkwds\u001b[0m\u001b[1;33m)\u001b[0m\u001b[1;33m\u001b[0m\u001b[1;33m\u001b[0m\u001b[0m\n\u001b[0m\u001b[0;32m    841\u001b[0m     \u001b[1;32melse\u001b[0m\u001b[1;33m:\u001b[0m\u001b[1;33m\u001b[0m\u001b[1;33m\u001b[0m\u001b[0m\n\u001b[0;32m    842\u001b[0m       \u001b[0mcanon_args\u001b[0m\u001b[1;33m,\u001b[0m \u001b[0mcanon_kwds\u001b[0m \u001b[1;33m=\u001b[0m\u001b[0;31m \u001b[0m\u001b[0;31m\\\u001b[0m\u001b[1;33m\u001b[0m\u001b[1;33m\u001b[0m\u001b[0m\n",
            "\u001b[1;32m~\\anaconda3\\envs\\tf-gpu\\lib\\site-packages\\tensorflow\\python\\eager\\function.py\u001b[0m in \u001b[0;36m__call__\u001b[1;34m(self, *args, **kwargs)\u001b[0m\n\u001b[0;32m   2827\u001b[0m     \u001b[1;32mwith\u001b[0m \u001b[0mself\u001b[0m\u001b[1;33m.\u001b[0m\u001b[0m_lock\u001b[0m\u001b[1;33m:\u001b[0m\u001b[1;33m\u001b[0m\u001b[1;33m\u001b[0m\u001b[0m\n\u001b[0;32m   2828\u001b[0m       \u001b[0mgraph_function\u001b[0m\u001b[1;33m,\u001b[0m \u001b[0margs\u001b[0m\u001b[1;33m,\u001b[0m \u001b[0mkwargs\u001b[0m \u001b[1;33m=\u001b[0m \u001b[0mself\u001b[0m\u001b[1;33m.\u001b[0m\u001b[0m_maybe_define_function\u001b[0m\u001b[1;33m(\u001b[0m\u001b[0margs\u001b[0m\u001b[1;33m,\u001b[0m \u001b[0mkwargs\u001b[0m\u001b[1;33m)\u001b[0m\u001b[1;33m\u001b[0m\u001b[1;33m\u001b[0m\u001b[0m\n\u001b[1;32m-> 2829\u001b[1;33m     \u001b[1;32mreturn\u001b[0m \u001b[0mgraph_function\u001b[0m\u001b[1;33m.\u001b[0m\u001b[0m_filtered_call\u001b[0m\u001b[1;33m(\u001b[0m\u001b[0margs\u001b[0m\u001b[1;33m,\u001b[0m \u001b[0mkwargs\u001b[0m\u001b[1;33m)\u001b[0m  \u001b[1;31m# pylint: disable=protected-access\u001b[0m\u001b[1;33m\u001b[0m\u001b[1;33m\u001b[0m\u001b[0m\n\u001b[0m\u001b[0;32m   2830\u001b[0m \u001b[1;33m\u001b[0m\u001b[0m\n\u001b[0;32m   2831\u001b[0m   \u001b[1;33m@\u001b[0m\u001b[0mproperty\u001b[0m\u001b[1;33m\u001b[0m\u001b[1;33m\u001b[0m\u001b[0m\n",
            "\u001b[1;32m~\\anaconda3\\envs\\tf-gpu\\lib\\site-packages\\tensorflow\\python\\eager\\function.py\u001b[0m in \u001b[0;36m_filtered_call\u001b[1;34m(self, args, kwargs, cancellation_manager)\u001b[0m\n\u001b[0;32m   1841\u001b[0m       \u001b[0;31m`\u001b[0m\u001b[0margs\u001b[0m\u001b[0;31m`\u001b[0m \u001b[1;32mand\u001b[0m\u001b[0;31m \u001b[0m\u001b[0;31m`\u001b[0m\u001b[0mkwargs\u001b[0m\u001b[0;31m`\u001b[0m\u001b[1;33m.\u001b[0m\u001b[1;33m\u001b[0m\u001b[1;33m\u001b[0m\u001b[0m\n\u001b[0;32m   1842\u001b[0m     \"\"\"\n\u001b[1;32m-> 1843\u001b[1;33m     return self._call_flat(\n\u001b[0m\u001b[0;32m   1844\u001b[0m         [t for t in nest.flatten((args, kwargs), expand_composites=True)\n\u001b[0;32m   1845\u001b[0m          if isinstance(t, (ops.Tensor,\n",
            "\u001b[1;32m~\\anaconda3\\envs\\tf-gpu\\lib\\site-packages\\tensorflow\\python\\eager\\function.py\u001b[0m in \u001b[0;36m_call_flat\u001b[1;34m(self, args, captured_inputs, cancellation_manager)\u001b[0m\n\u001b[0;32m   1921\u001b[0m         and executing_eagerly):\n\u001b[0;32m   1922\u001b[0m       \u001b[1;31m# No tape is watching; skip to running the function.\u001b[0m\u001b[1;33m\u001b[0m\u001b[1;33m\u001b[0m\u001b[1;33m\u001b[0m\u001b[0m\n\u001b[1;32m-> 1923\u001b[1;33m       return self._build_call_outputs(self._inference_function.call(\n\u001b[0m\u001b[0;32m   1924\u001b[0m           ctx, args, cancellation_manager=cancellation_manager))\n\u001b[0;32m   1925\u001b[0m     forward_backward = self._select_forward_and_backward_functions(\n",
            "\u001b[1;32m~\\anaconda3\\envs\\tf-gpu\\lib\\site-packages\\tensorflow\\python\\eager\\function.py\u001b[0m in \u001b[0;36mcall\u001b[1;34m(self, ctx, args, cancellation_manager)\u001b[0m\n\u001b[0;32m    543\u001b[0m       \u001b[1;32mwith\u001b[0m \u001b[0m_InterpolateFunctionError\u001b[0m\u001b[1;33m(\u001b[0m\u001b[0mself\u001b[0m\u001b[1;33m)\u001b[0m\u001b[1;33m:\u001b[0m\u001b[1;33m\u001b[0m\u001b[1;33m\u001b[0m\u001b[0m\n\u001b[0;32m    544\u001b[0m         \u001b[1;32mif\u001b[0m \u001b[0mcancellation_manager\u001b[0m \u001b[1;32mis\u001b[0m \u001b[1;32mNone\u001b[0m\u001b[1;33m:\u001b[0m\u001b[1;33m\u001b[0m\u001b[1;33m\u001b[0m\u001b[0m\n\u001b[1;32m--> 545\u001b[1;33m           outputs = execute.execute(\n\u001b[0m\u001b[0;32m    546\u001b[0m               \u001b[0mstr\u001b[0m\u001b[1;33m(\u001b[0m\u001b[0mself\u001b[0m\u001b[1;33m.\u001b[0m\u001b[0msignature\u001b[0m\u001b[1;33m.\u001b[0m\u001b[0mname\u001b[0m\u001b[1;33m)\u001b[0m\u001b[1;33m,\u001b[0m\u001b[1;33m\u001b[0m\u001b[1;33m\u001b[0m\u001b[0m\n\u001b[0;32m    547\u001b[0m               \u001b[0mnum_outputs\u001b[0m\u001b[1;33m=\u001b[0m\u001b[0mself\u001b[0m\u001b[1;33m.\u001b[0m\u001b[0m_num_outputs\u001b[0m\u001b[1;33m,\u001b[0m\u001b[1;33m\u001b[0m\u001b[1;33m\u001b[0m\u001b[0m\n",
            "\u001b[1;32m~\\anaconda3\\envs\\tf-gpu\\lib\\site-packages\\tensorflow\\python\\eager\\execute.py\u001b[0m in \u001b[0;36mquick_execute\u001b[1;34m(op_name, num_outputs, inputs, attrs, ctx, name)\u001b[0m\n\u001b[0;32m     57\u001b[0m   \u001b[1;32mtry\u001b[0m\u001b[1;33m:\u001b[0m\u001b[1;33m\u001b[0m\u001b[1;33m\u001b[0m\u001b[0m\n\u001b[0;32m     58\u001b[0m     \u001b[0mctx\u001b[0m\u001b[1;33m.\u001b[0m\u001b[0mensure_initialized\u001b[0m\u001b[1;33m(\u001b[0m\u001b[1;33m)\u001b[0m\u001b[1;33m\u001b[0m\u001b[1;33m\u001b[0m\u001b[0m\n\u001b[1;32m---> 59\u001b[1;33m     tensors = pywrap_tfe.TFE_Py_Execute(ctx._handle, device_name, op_name,\n\u001b[0m\u001b[0;32m     60\u001b[0m                                         inputs, attrs, num_outputs)\n\u001b[0;32m     61\u001b[0m   \u001b[1;32mexcept\u001b[0m \u001b[0mcore\u001b[0m\u001b[1;33m.\u001b[0m\u001b[0m_NotOkStatusException\u001b[0m \u001b[1;32mas\u001b[0m \u001b[0me\u001b[0m\u001b[1;33m:\u001b[0m\u001b[1;33m\u001b[0m\u001b[1;33m\u001b[0m\u001b[0m\n",
            "\u001b[1;31mResourceExhaustedError\u001b[0m: 2 root error(s) found.\n  (0) Resource exhausted:  OOM when allocating tensor with shape[2000,128] and type float on /job:localhost/replica:0/task:0/device:GPU:0 by allocator GPU_0_bfc\n\t [[{{node sequential/lstm/while/body/_1/sequential/lstm/while/lstm_cell/mul_9}}]]\nHint: If you want to see a list of allocated tensors when OOM happens, add report_tensor_allocations_upon_oom to RunOptions for current allocation info.\n\n\t [[gradient_tape/sequential/embedding/embedding_lookup/Reshape/_118]]\nHint: If you want to see a list of allocated tensors when OOM happens, add report_tensor_allocations_upon_oom to RunOptions for current allocation info.\n\n  (1) Resource exhausted:  OOM when allocating tensor with shape[2000,128] and type float on /job:localhost/replica:0/task:0/device:GPU:0 by allocator GPU_0_bfc\n\t [[{{node sequential/lstm/while/body/_1/sequential/lstm/while/lstm_cell/mul_9}}]]\nHint: If you want to see a list of allocated tensors when OOM happens, add report_tensor_allocations_upon_oom to RunOptions for current allocation info.\n\n0 successful operations.\n0 derived errors ignored. [Op:__inference_train_function_494701]\n\nFunction call stack:\ntrain_function -> train_function\n"
          ]
        }
      ],
      "source": [
        "%%time\n",
        "clear_session()\n",
        "#Processo de treinamento com 80% dos dados\n",
        "history  = model.fit(X_treino, y_treino, epochs=10, validation_data=(X_teste, y_teste), batch_size=2000)\n",
        "#history  = model.fit(X_treino, y_treino, epochs=10, validation_split=0.2, batch_size=32)"
      ]
    },
    {
      "cell_type": "code",
      "execution_count": 290,
      "metadata": {},
      "outputs": [
        {
          "output_type": "display_data",
          "data": {
            "text/plain": "<Figure size 432x288 with 1 Axes>",
            "image/svg+xml": "<?xml version=\"1.0\" encoding=\"utf-8\" standalone=\"no\"?>\r\n<!DOCTYPE svg PUBLIC \"-//W3C//DTD SVG 1.1//EN\"\r\n  \"http://www.w3.org/Graphics/SVG/1.1/DTD/svg11.dtd\">\r\n<svg height=\"282.681469pt\" version=\"1.1\" viewBox=\"0 0 395.081406 282.681469\" width=\"395.081406pt\" xmlns=\"http://www.w3.org/2000/svg\" xmlns:xlink=\"http://www.w3.org/1999/xlink\">\r\n <metadata>\r\n  <rdf:RDF xmlns:cc=\"http://creativecommons.org/ns#\" xmlns:dc=\"http://purl.org/dc/elements/1.1/\" xmlns:rdf=\"http://www.w3.org/1999/02/22-rdf-syntax-ns#\">\r\n   <cc:Work>\r\n    <dc:type rdf:resource=\"http://purl.org/dc/dcmitype/StillImage\"/>\r\n    <dc:date>2021-06-15T19:00:33.149851</dc:date>\r\n    <dc:format>image/svg+xml</dc:format>\r\n    <dc:creator>\r\n     <cc:Agent>\r\n      <dc:title>Matplotlib v3.4.2, https://matplotlib.org/</dc:title>\r\n     </cc:Agent>\r\n    </dc:creator>\r\n   </cc:Work>\r\n  </rdf:RDF>\r\n </metadata>\r\n <defs>\r\n  <style type=\"text/css\">*{stroke-linecap:butt;stroke-linejoin:round;}</style>\r\n </defs>\r\n <g id=\"figure_1\">\r\n  <g id=\"patch_1\">\r\n   <path d=\"M -0 282.681469 \r\nL 395.081406 282.681469 \r\nL 395.081406 0 \r\nL -0 0 \r\nz\r\n\" style=\"fill:#ffffff;\"/>\r\n  </g>\r\n  <g id=\"axes_1\">\r\n   <g id=\"patch_2\">\r\n    <path d=\"M 53.081406 240.94725 \r\nL 387.881406 240.94725 \r\nL 387.881406 23.50725 \r\nL 53.081406 23.50725 \r\nz\r\n\" style=\"fill:#e5e5e5;\"/>\r\n   </g>\r\n   <g id=\"matplotlib.axis_1\">\r\n    <g id=\"xtick_1\">\r\n     <g id=\"line2d_1\">\r\n      <path clip-path=\"url(#p5b3dd8ab1a)\" d=\"M 68.299588 240.94725 \r\nL 68.299588 23.50725 \r\n\" style=\"fill:none;stroke:#ffffff;stroke-linecap:round;\"/>\r\n     </g>\r\n     <g id=\"text_1\">\r\n      <!-- 0 -->\r\n      <g style=\"fill:#555555;\" transform=\"translate(65.241072 258.320844)scale(0.11 -0.11)\">\r\n       <defs>\r\n        <path d=\"M 266 2259 \r\nQ 266 3072 433 3567 \r\nQ 600 4063 929 4331 \r\nQ 1259 4600 1759 4600 \r\nQ 2128 4600 2406 4451 \r\nQ 2684 4303 2865 4023 \r\nQ 3047 3744 3150 3342 \r\nQ 3253 2941 3253 2259 \r\nQ 3253 1453 3087 958 \r\nQ 2922 463 2592 192 \r\nQ 2263 -78 1759 -78 \r\nQ 1097 -78 719 397 \r\nQ 266 969 266 2259 \r\nz\r\nM 844 2259 \r\nQ 844 1131 1108 757 \r\nQ 1372 384 1759 384 \r\nQ 2147 384 2411 759 \r\nQ 2675 1134 2675 2259 \r\nQ 2675 3391 2411 3762 \r\nQ 2147 4134 1753 4134 \r\nQ 1366 4134 1134 3806 \r\nQ 844 3388 844 2259 \r\nz\r\n\" id=\"ArialMT-30\" transform=\"scale(0.015625)\"/>\r\n       </defs>\r\n       <use xlink:href=\"#ArialMT-30\"/>\r\n      </g>\r\n     </g>\r\n    </g>\r\n    <g id=\"xtick_2\">\r\n     <g id=\"line2d_2\">\r\n      <path clip-path=\"url(#p5b3dd8ab1a)\" d=\"M 135.935952 240.94725 \r\nL 135.935952 23.50725 \r\n\" style=\"fill:none;stroke:#ffffff;stroke-linecap:round;\"/>\r\n     </g>\r\n     <g id=\"text_2\">\r\n      <!-- 2 -->\r\n      <g style=\"fill:#555555;\" transform=\"translate(132.877436 258.320844)scale(0.11 -0.11)\">\r\n       <defs>\r\n        <path d=\"M 3222 541 \r\nL 3222 0 \r\nL 194 0 \r\nQ 188 203 259 391 \r\nQ 375 700 629 1000 \r\nQ 884 1300 1366 1694 \r\nQ 2113 2306 2375 2664 \r\nQ 2638 3022 2638 3341 \r\nQ 2638 3675 2398 3904 \r\nQ 2159 4134 1775 4134 \r\nQ 1369 4134 1125 3890 \r\nQ 881 3647 878 3216 \r\nL 300 3275 \r\nQ 359 3922 746 4261 \r\nQ 1134 4600 1788 4600 \r\nQ 2447 4600 2831 4234 \r\nQ 3216 3869 3216 3328 \r\nQ 3216 3053 3103 2787 \r\nQ 2991 2522 2730 2228 \r\nQ 2469 1934 1863 1422 \r\nQ 1356 997 1212 845 \r\nQ 1069 694 975 541 \r\nL 3222 541 \r\nz\r\n\" id=\"ArialMT-32\" transform=\"scale(0.015625)\"/>\r\n       </defs>\r\n       <use xlink:href=\"#ArialMT-32\"/>\r\n      </g>\r\n     </g>\r\n    </g>\r\n    <g id=\"xtick_3\">\r\n     <g id=\"line2d_3\">\r\n      <path clip-path=\"url(#p5b3dd8ab1a)\" d=\"M 203.572315 240.94725 \r\nL 203.572315 23.50725 \r\n\" style=\"fill:none;stroke:#ffffff;stroke-linecap:round;\"/>\r\n     </g>\r\n     <g id=\"text_3\">\r\n      <!-- 4 -->\r\n      <g style=\"fill:#555555;\" transform=\"translate(200.5138 258.320844)scale(0.11 -0.11)\">\r\n       <defs>\r\n        <path d=\"M 2069 0 \r\nL 2069 1097 \r\nL 81 1097 \r\nL 81 1613 \r\nL 2172 4581 \r\nL 2631 4581 \r\nL 2631 1613 \r\nL 3250 1613 \r\nL 3250 1097 \r\nL 2631 1097 \r\nL 2631 0 \r\nL 2069 0 \r\nz\r\nM 2069 1613 \r\nL 2069 3678 \r\nL 634 1613 \r\nL 2069 1613 \r\nz\r\n\" id=\"ArialMT-34\" transform=\"scale(0.015625)\"/>\r\n       </defs>\r\n       <use xlink:href=\"#ArialMT-34\"/>\r\n      </g>\r\n     </g>\r\n    </g>\r\n    <g id=\"xtick_4\">\r\n     <g id=\"line2d_4\">\r\n      <path clip-path=\"url(#p5b3dd8ab1a)\" d=\"M 271.208679 240.94725 \r\nL 271.208679 23.50725 \r\n\" style=\"fill:none;stroke:#ffffff;stroke-linecap:round;\"/>\r\n     </g>\r\n     <g id=\"text_4\">\r\n      <!-- 6 -->\r\n      <g style=\"fill:#555555;\" transform=\"translate(268.150163 258.320844)scale(0.11 -0.11)\">\r\n       <defs>\r\n        <path d=\"M 3184 3459 \r\nL 2625 3416 \r\nQ 2550 3747 2413 3897 \r\nQ 2184 4138 1850 4138 \r\nQ 1581 4138 1378 3988 \r\nQ 1113 3794 959 3422 \r\nQ 806 3050 800 2363 \r\nQ 1003 2672 1297 2822 \r\nQ 1591 2972 1913 2972 \r\nQ 2475 2972 2870 2558 \r\nQ 3266 2144 3266 1488 \r\nQ 3266 1056 3080 686 \r\nQ 2894 316 2569 119 \r\nQ 2244 -78 1831 -78 \r\nQ 1128 -78 684 439 \r\nQ 241 956 241 2144 \r\nQ 241 3472 731 4075 \r\nQ 1159 4600 1884 4600 \r\nQ 2425 4600 2770 4297 \r\nQ 3116 3994 3184 3459 \r\nz\r\nM 888 1484 \r\nQ 888 1194 1011 928 \r\nQ 1134 663 1356 523 \r\nQ 1578 384 1822 384 \r\nQ 2178 384 2434 671 \r\nQ 2691 959 2691 1453 \r\nQ 2691 1928 2437 2201 \r\nQ 2184 2475 1800 2475 \r\nQ 1419 2475 1153 2201 \r\nQ 888 1928 888 1484 \r\nz\r\n\" id=\"ArialMT-36\" transform=\"scale(0.015625)\"/>\r\n       </defs>\r\n       <use xlink:href=\"#ArialMT-36\"/>\r\n      </g>\r\n     </g>\r\n    </g>\r\n    <g id=\"xtick_5\">\r\n     <g id=\"line2d_5\">\r\n      <path clip-path=\"url(#p5b3dd8ab1a)\" d=\"M 338.845043 240.94725 \r\nL 338.845043 23.50725 \r\n\" style=\"fill:none;stroke:#ffffff;stroke-linecap:round;\"/>\r\n     </g>\r\n     <g id=\"text_5\">\r\n      <!-- 8 -->\r\n      <g style=\"fill:#555555;\" transform=\"translate(335.786527 258.320844)scale(0.11 -0.11)\">\r\n       <defs>\r\n        <path d=\"M 1131 2484 \r\nQ 781 2613 612 2850 \r\nQ 444 3088 444 3419 \r\nQ 444 3919 803 4259 \r\nQ 1163 4600 1759 4600 \r\nQ 2359 4600 2725 4251 \r\nQ 3091 3903 3091 3403 \r\nQ 3091 3084 2923 2848 \r\nQ 2756 2613 2416 2484 \r\nQ 2838 2347 3058 2040 \r\nQ 3278 1734 3278 1309 \r\nQ 3278 722 2862 322 \r\nQ 2447 -78 1769 -78 \r\nQ 1091 -78 675 323 \r\nQ 259 725 259 1325 \r\nQ 259 1772 486 2073 \r\nQ 713 2375 1131 2484 \r\nz\r\nM 1019 3438 \r\nQ 1019 3113 1228 2906 \r\nQ 1438 2700 1772 2700 \r\nQ 2097 2700 2305 2904 \r\nQ 2513 3109 2513 3406 \r\nQ 2513 3716 2298 3927 \r\nQ 2084 4138 1766 4138 \r\nQ 1444 4138 1231 3931 \r\nQ 1019 3725 1019 3438 \r\nz\r\nM 838 1322 \r\nQ 838 1081 952 856 \r\nQ 1066 631 1291 507 \r\nQ 1516 384 1775 384 \r\nQ 2178 384 2440 643 \r\nQ 2703 903 2703 1303 \r\nQ 2703 1709 2433 1975 \r\nQ 2163 2241 1756 2241 \r\nQ 1359 2241 1098 1978 \r\nQ 838 1716 838 1322 \r\nz\r\n\" id=\"ArialMT-38\" transform=\"scale(0.015625)\"/>\r\n       </defs>\r\n       <use xlink:href=\"#ArialMT-38\"/>\r\n      </g>\r\n     </g>\r\n    </g>\r\n    <g id=\"text_6\">\r\n     <!-- epoch -->\r\n     <g style=\"fill:#555555;\" transform=\"translate(204.135156 273.096469)scale(0.12 -0.12)\">\r\n      <defs>\r\n       <path d=\"M 2694 1069 \r\nL 3275 997 \r\nQ 3138 488 2766 206 \r\nQ 2394 -75 1816 -75 \r\nQ 1088 -75 661 373 \r\nQ 234 822 234 1631 \r\nQ 234 2469 665 2931 \r\nQ 1097 3394 1784 3394 \r\nQ 2450 3394 2872 2941 \r\nQ 3294 2488 3294 1666 \r\nQ 3294 1616 3291 1516 \r\nL 816 1516 \r\nQ 847 969 1125 678 \r\nQ 1403 388 1819 388 \r\nQ 2128 388 2347 550 \r\nQ 2566 713 2694 1069 \r\nz\r\nM 847 1978 \r\nL 2700 1978 \r\nQ 2663 2397 2488 2606 \r\nQ 2219 2931 1791 2931 \r\nQ 1403 2931 1139 2672 \r\nQ 875 2413 847 1978 \r\nz\r\n\" id=\"ArialMT-65\" transform=\"scale(0.015625)\"/>\r\n       <path d=\"M 422 -1272 \r\nL 422 3319 \r\nL 934 3319 \r\nL 934 2888 \r\nQ 1116 3141 1344 3267 \r\nQ 1572 3394 1897 3394 \r\nQ 2322 3394 2647 3175 \r\nQ 2972 2956 3137 2557 \r\nQ 3303 2159 3303 1684 \r\nQ 3303 1175 3120 767 \r\nQ 2938 359 2589 142 \r\nQ 2241 -75 1856 -75 \r\nQ 1575 -75 1351 44 \r\nQ 1128 163 984 344 \r\nL 984 -1272 \r\nL 422 -1272 \r\nz\r\nM 931 1641 \r\nQ 931 1000 1190 694 \r\nQ 1450 388 1819 388 \r\nQ 2194 388 2461 705 \r\nQ 2728 1022 2728 1688 \r\nQ 2728 2322 2467 2637 \r\nQ 2206 2953 1844 2953 \r\nQ 1484 2953 1207 2617 \r\nQ 931 2281 931 1641 \r\nz\r\n\" id=\"ArialMT-70\" transform=\"scale(0.015625)\"/>\r\n       <path d=\"M 213 1659 \r\nQ 213 2581 725 3025 \r\nQ 1153 3394 1769 3394 \r\nQ 2453 3394 2887 2945 \r\nQ 3322 2497 3322 1706 \r\nQ 3322 1066 3130 698 \r\nQ 2938 331 2570 128 \r\nQ 2203 -75 1769 -75 \r\nQ 1072 -75 642 372 \r\nQ 213 819 213 1659 \r\nz\r\nM 791 1659 \r\nQ 791 1022 1069 705 \r\nQ 1347 388 1769 388 \r\nQ 2188 388 2466 706 \r\nQ 2744 1025 2744 1678 \r\nQ 2744 2294 2464 2611 \r\nQ 2184 2928 1769 2928 \r\nQ 1347 2928 1069 2612 \r\nQ 791 2297 791 1659 \r\nz\r\n\" id=\"ArialMT-6f\" transform=\"scale(0.015625)\"/>\r\n       <path d=\"M 2588 1216 \r\nL 3141 1144 \r\nQ 3050 572 2676 248 \r\nQ 2303 -75 1759 -75 \r\nQ 1078 -75 664 370 \r\nQ 250 816 250 1647 \r\nQ 250 2184 428 2587 \r\nQ 606 2991 970 3192 \r\nQ 1334 3394 1763 3394 \r\nQ 2303 3394 2647 3120 \r\nQ 2991 2847 3088 2344 \r\nL 2541 2259 \r\nQ 2463 2594 2264 2762 \r\nQ 2066 2931 1784 2931 \r\nQ 1359 2931 1093 2626 \r\nQ 828 2322 828 1663 \r\nQ 828 994 1084 691 \r\nQ 1341 388 1753 388 \r\nQ 2084 388 2306 591 \r\nQ 2528 794 2588 1216 \r\nz\r\n\" id=\"ArialMT-63\" transform=\"scale(0.015625)\"/>\r\n       <path d=\"M 422 0 \r\nL 422 4581 \r\nL 984 4581 \r\nL 984 2938 \r\nQ 1378 3394 1978 3394 \r\nQ 2347 3394 2619 3248 \r\nQ 2891 3103 3008 2847 \r\nQ 3125 2591 3125 2103 \r\nL 3125 0 \r\nL 2563 0 \r\nL 2563 2103 \r\nQ 2563 2525 2380 2717 \r\nQ 2197 2909 1863 2909 \r\nQ 1613 2909 1392 2779 \r\nQ 1172 2650 1078 2428 \r\nQ 984 2206 984 1816 \r\nL 984 0 \r\nL 422 0 \r\nz\r\n\" id=\"ArialMT-68\" transform=\"scale(0.015625)\"/>\r\n      </defs>\r\n      <use xlink:href=\"#ArialMT-65\"/>\r\n      <use x=\"55.615234\" xlink:href=\"#ArialMT-70\"/>\r\n      <use x=\"111.230469\" xlink:href=\"#ArialMT-6f\"/>\r\n      <use x=\"166.845703\" xlink:href=\"#ArialMT-63\"/>\r\n      <use x=\"216.845703\" xlink:href=\"#ArialMT-68\"/>\r\n     </g>\r\n    </g>\r\n   </g>\r\n   <g id=\"matplotlib.axis_2\">\r\n    <g id=\"ytick_1\">\r\n     <g id=\"line2d_6\">\r\n      <path clip-path=\"url(#p5b3dd8ab1a)\" d=\"M 53.081406 199.381059 \r\nL 387.881406 199.381059 \r\n\" style=\"fill:none;stroke:#ffffff;stroke-linecap:round;\"/>\r\n     </g>\r\n     <g id=\"text_7\">\r\n      <!-- 0.75 -->\r\n      <g style=\"fill:#555555;\" transform=\"translate(22.174375 203.317856)scale(0.11 -0.11)\">\r\n       <defs>\r\n        <path d=\"M 581 0 \r\nL 581 641 \r\nL 1222 641 \r\nL 1222 0 \r\nL 581 0 \r\nz\r\n\" id=\"ArialMT-2e\" transform=\"scale(0.015625)\"/>\r\n        <path d=\"M 303 3981 \r\nL 303 4522 \r\nL 3269 4522 \r\nL 3269 4084 \r\nQ 2831 3619 2401 2847 \r\nQ 1972 2075 1738 1259 \r\nQ 1569 684 1522 0 \r\nL 944 0 \r\nQ 953 541 1156 1306 \r\nQ 1359 2072 1739 2783 \r\nQ 2119 3494 2547 3981 \r\nL 303 3981 \r\nz\r\n\" id=\"ArialMT-37\" transform=\"scale(0.015625)\"/>\r\n        <path d=\"M 266 1200 \r\nL 856 1250 \r\nQ 922 819 1161 601 \r\nQ 1400 384 1738 384 \r\nQ 2144 384 2425 690 \r\nQ 2706 997 2706 1503 \r\nQ 2706 1984 2436 2262 \r\nQ 2166 2541 1728 2541 \r\nQ 1456 2541 1237 2417 \r\nQ 1019 2294 894 2097 \r\nL 366 2166 \r\nL 809 4519 \r\nL 3088 4519 \r\nL 3088 3981 \r\nL 1259 3981 \r\nL 1013 2750 \r\nQ 1425 3038 1878 3038 \r\nQ 2478 3038 2890 2622 \r\nQ 3303 2206 3303 1553 \r\nQ 3303 931 2941 478 \r\nQ 2500 -78 1738 -78 \r\nQ 1113 -78 717 272 \r\nQ 322 622 266 1200 \r\nz\r\n\" id=\"ArialMT-35\" transform=\"scale(0.015625)\"/>\r\n       </defs>\r\n       <use xlink:href=\"#ArialMT-30\"/>\r\n       <use x=\"55.615234\" xlink:href=\"#ArialMT-2e\"/>\r\n       <use x=\"83.398438\" xlink:href=\"#ArialMT-37\"/>\r\n       <use x=\"139.013672\" xlink:href=\"#ArialMT-35\"/>\r\n      </g>\r\n     </g>\r\n    </g>\r\n    <g id=\"ytick_2\">\r\n     <g id=\"line2d_7\">\r\n      <path clip-path=\"url(#p5b3dd8ab1a)\" d=\"M 53.081406 154.332271 \r\nL 387.881406 154.332271 \r\n\" style=\"fill:none;stroke:#ffffff;stroke-linecap:round;\"/>\r\n     </g>\r\n     <g id=\"text_8\">\r\n      <!-- 0.80 -->\r\n      <g style=\"fill:#555555;\" transform=\"translate(22.174375 158.269068)scale(0.11 -0.11)\">\r\n       <use xlink:href=\"#ArialMT-30\"/>\r\n       <use x=\"55.615234\" xlink:href=\"#ArialMT-2e\"/>\r\n       <use x=\"83.398438\" xlink:href=\"#ArialMT-38\"/>\r\n       <use x=\"139.013672\" xlink:href=\"#ArialMT-30\"/>\r\n      </g>\r\n     </g>\r\n    </g>\r\n    <g id=\"ytick_3\">\r\n     <g id=\"line2d_8\">\r\n      <path clip-path=\"url(#p5b3dd8ab1a)\" d=\"M 53.081406 109.283484 \r\nL 387.881406 109.283484 \r\n\" style=\"fill:none;stroke:#ffffff;stroke-linecap:round;\"/>\r\n     </g>\r\n     <g id=\"text_9\">\r\n      <!-- 0.85 -->\r\n      <g style=\"fill:#555555;\" transform=\"translate(22.174375 113.220281)scale(0.11 -0.11)\">\r\n       <use xlink:href=\"#ArialMT-30\"/>\r\n       <use x=\"55.615234\" xlink:href=\"#ArialMT-2e\"/>\r\n       <use x=\"83.398438\" xlink:href=\"#ArialMT-38\"/>\r\n       <use x=\"139.013672\" xlink:href=\"#ArialMT-35\"/>\r\n      </g>\r\n     </g>\r\n    </g>\r\n    <g id=\"ytick_4\">\r\n     <g id=\"line2d_9\">\r\n      <path clip-path=\"url(#p5b3dd8ab1a)\" d=\"M 53.081406 64.234696 \r\nL 387.881406 64.234696 \r\n\" style=\"fill:none;stroke:#ffffff;stroke-linecap:round;\"/>\r\n     </g>\r\n     <g id=\"text_10\">\r\n      <!-- 0.90 -->\r\n      <g style=\"fill:#555555;\" transform=\"translate(22.174375 68.171493)scale(0.11 -0.11)\">\r\n       <defs>\r\n        <path d=\"M 350 1059 \r\nL 891 1109 \r\nQ 959 728 1153 556 \r\nQ 1347 384 1650 384 \r\nQ 1909 384 2104 503 \r\nQ 2300 622 2425 820 \r\nQ 2550 1019 2634 1356 \r\nQ 2719 1694 2719 2044 \r\nQ 2719 2081 2716 2156 \r\nQ 2547 1888 2255 1720 \r\nQ 1963 1553 1622 1553 \r\nQ 1053 1553 659 1965 \r\nQ 266 2378 266 3053 \r\nQ 266 3750 677 4175 \r\nQ 1088 4600 1706 4600 \r\nQ 2153 4600 2523 4359 \r\nQ 2894 4119 3086 3673 \r\nQ 3278 3228 3278 2384 \r\nQ 3278 1506 3087 986 \r\nQ 2897 466 2520 194 \r\nQ 2144 -78 1638 -78 \r\nQ 1100 -78 759 220 \r\nQ 419 519 350 1059 \r\nz\r\nM 2653 3081 \r\nQ 2653 3566 2395 3850 \r\nQ 2138 4134 1775 4134 \r\nQ 1400 4134 1122 3828 \r\nQ 844 3522 844 3034 \r\nQ 844 2597 1108 2323 \r\nQ 1372 2050 1759 2050 \r\nQ 2150 2050 2401 2323 \r\nQ 2653 2597 2653 3081 \r\nz\r\n\" id=\"ArialMT-39\" transform=\"scale(0.015625)\"/>\r\n       </defs>\r\n       <use xlink:href=\"#ArialMT-30\"/>\r\n       <use x=\"55.615234\" xlink:href=\"#ArialMT-2e\"/>\r\n       <use x=\"83.398438\" xlink:href=\"#ArialMT-39\"/>\r\n       <use x=\"139.013672\" xlink:href=\"#ArialMT-30\"/>\r\n      </g>\r\n     </g>\r\n    </g>\r\n    <g id=\"text_11\">\r\n     <!-- accuracy -->\r\n     <g style=\"fill:#555555;\" transform=\"translate(15.64875 156.23475)rotate(-90)scale(0.12 -0.12)\">\r\n      <defs>\r\n       <path d=\"M 2588 409 \r\nQ 2275 144 1986 34 \r\nQ 1697 -75 1366 -75 \r\nQ 819 -75 525 192 \r\nQ 231 459 231 875 \r\nQ 231 1119 342 1320 \r\nQ 453 1522 633 1644 \r\nQ 813 1766 1038 1828 \r\nQ 1203 1872 1538 1913 \r\nQ 2219 1994 2541 2106 \r\nQ 2544 2222 2544 2253 \r\nQ 2544 2597 2384 2738 \r\nQ 2169 2928 1744 2928 \r\nQ 1347 2928 1158 2789 \r\nQ 969 2650 878 2297 \r\nL 328 2372 \r\nQ 403 2725 575 2942 \r\nQ 747 3159 1072 3276 \r\nQ 1397 3394 1825 3394 \r\nQ 2250 3394 2515 3294 \r\nQ 2781 3194 2906 3042 \r\nQ 3031 2891 3081 2659 \r\nQ 3109 2516 3109 2141 \r\nL 3109 1391 \r\nQ 3109 606 3145 398 \r\nQ 3181 191 3288 0 \r\nL 2700 0 \r\nQ 2613 175 2588 409 \r\nz\r\nM 2541 1666 \r\nQ 2234 1541 1622 1453 \r\nQ 1275 1403 1131 1340 \r\nQ 988 1278 909 1158 \r\nQ 831 1038 831 891 \r\nQ 831 666 1001 516 \r\nQ 1172 366 1500 366 \r\nQ 1825 366 2078 508 \r\nQ 2331 650 2450 897 \r\nQ 2541 1088 2541 1459 \r\nL 2541 1666 \r\nz\r\n\" id=\"ArialMT-61\" transform=\"scale(0.015625)\"/>\r\n       <path d=\"M 2597 0 \r\nL 2597 488 \r\nQ 2209 -75 1544 -75 \r\nQ 1250 -75 995 37 \r\nQ 741 150 617 320 \r\nQ 494 491 444 738 \r\nQ 409 903 409 1263 \r\nL 409 3319 \r\nL 972 3319 \r\nL 972 1478 \r\nQ 972 1038 1006 884 \r\nQ 1059 663 1231 536 \r\nQ 1403 409 1656 409 \r\nQ 1909 409 2131 539 \r\nQ 2353 669 2445 892 \r\nQ 2538 1116 2538 1541 \r\nL 2538 3319 \r\nL 3100 3319 \r\nL 3100 0 \r\nL 2597 0 \r\nz\r\n\" id=\"ArialMT-75\" transform=\"scale(0.015625)\"/>\r\n       <path d=\"M 416 0 \r\nL 416 3319 \r\nL 922 3319 \r\nL 922 2816 \r\nQ 1116 3169 1280 3281 \r\nQ 1444 3394 1641 3394 \r\nQ 1925 3394 2219 3213 \r\nL 2025 2691 \r\nQ 1819 2813 1613 2813 \r\nQ 1428 2813 1281 2702 \r\nQ 1134 2591 1072 2394 \r\nQ 978 2094 978 1738 \r\nL 978 0 \r\nL 416 0 \r\nz\r\n\" id=\"ArialMT-72\" transform=\"scale(0.015625)\"/>\r\n       <path d=\"M 397 -1278 \r\nL 334 -750 \r\nQ 519 -800 656 -800 \r\nQ 844 -800 956 -737 \r\nQ 1069 -675 1141 -563 \r\nQ 1194 -478 1313 -144 \r\nQ 1328 -97 1363 -6 \r\nL 103 3319 \r\nL 709 3319 \r\nL 1400 1397 \r\nQ 1534 1031 1641 628 \r\nQ 1738 1016 1872 1384 \r\nL 2581 3319 \r\nL 3144 3319 \r\nL 1881 -56 \r\nQ 1678 -603 1566 -809 \r\nQ 1416 -1088 1222 -1217 \r\nQ 1028 -1347 759 -1347 \r\nQ 597 -1347 397 -1278 \r\nz\r\n\" id=\"ArialMT-79\" transform=\"scale(0.015625)\"/>\r\n      </defs>\r\n      <use xlink:href=\"#ArialMT-61\"/>\r\n      <use x=\"55.615234\" xlink:href=\"#ArialMT-63\"/>\r\n      <use x=\"105.615234\" xlink:href=\"#ArialMT-63\"/>\r\n      <use x=\"155.615234\" xlink:href=\"#ArialMT-75\"/>\r\n      <use x=\"211.230469\" xlink:href=\"#ArialMT-72\"/>\r\n      <use x=\"244.53125\" xlink:href=\"#ArialMT-61\"/>\r\n      <use x=\"300.146484\" xlink:href=\"#ArialMT-63\"/>\r\n      <use x=\"350.146484\" xlink:href=\"#ArialMT-79\"/>\r\n     </g>\r\n    </g>\r\n   </g>\r\n   <g id=\"line2d_10\">\r\n    <path clip-path=\"url(#p5b3dd8ab1a)\" d=\"M 68.299588 231.063614 \r\nL 102.11777 100.108257 \r\nL 135.935952 91.607284 \r\nL 169.754134 82.979842 \r\nL 203.572315 72.454827 \r\nL 237.390497 59.323854 \r\nL 271.208679 51.050632 \r\nL 305.026861 45.2315 \r\nL 338.845043 38.096769 \r\nL 372.663224 33.390886 \r\n\" style=\"fill:none;stroke:#e24a33;stroke-linecap:round;stroke-width:1.5;\"/>\r\n   </g>\r\n   <g id=\"line2d_11\">\r\n    <path clip-path=\"url(#p5b3dd8ab1a)\" d=\"M 68.299588 128.364602 \r\nL 102.11777 106.707952 \r\nL 135.935952 99.725251 \r\nL 169.754134 93.55206 \r\nL 203.572315 85.25376 \r\nL 237.390497 81.610593 \r\nL 271.208679 80.497397 \r\nL 305.026861 79.283026 \r\nL 338.845043 79.586606 \r\nL 372.663224 80.598572 \r\n\" style=\"fill:none;stroke:#348abd;stroke-linecap:round;stroke-width:1.5;\"/>\r\n   </g>\r\n   <g id=\"patch_3\">\r\n    <path d=\"M 53.081406 240.94725 \r\nL 53.081406 23.50725 \r\n\" style=\"fill:none;stroke:#ffffff;stroke-linecap:square;stroke-linejoin:miter;\"/>\r\n   </g>\r\n   <g id=\"patch_4\">\r\n    <path d=\"M 387.881406 240.94725 \r\nL 387.881406 23.50725 \r\n\" style=\"fill:none;stroke:#ffffff;stroke-linecap:square;stroke-linejoin:miter;\"/>\r\n   </g>\r\n   <g id=\"patch_5\">\r\n    <path d=\"M 53.081406 240.94725 \r\nL 387.881406 240.94725 \r\n\" style=\"fill:none;stroke:#ffffff;stroke-linecap:square;stroke-linejoin:miter;\"/>\r\n   </g>\r\n   <g id=\"patch_6\">\r\n    <path d=\"M 53.081406 23.50725 \r\nL 387.881406 23.50725 \r\n\" style=\"fill:none;stroke:#ffffff;stroke-linecap:square;stroke-linejoin:miter;\"/>\r\n   </g>\r\n   <g id=\"text_12\">\r\n    <!-- model accuracy -->\r\n    <g style=\"fill:#262626;\" transform=\"translate(170.063406 17.50725)scale(0.144 -0.144)\">\r\n     <defs>\r\n      <path d=\"M 422 0 \r\nL 422 3319 \r\nL 925 3319 \r\nL 925 2853 \r\nQ 1081 3097 1340 3245 \r\nQ 1600 3394 1931 3394 \r\nQ 2300 3394 2536 3241 \r\nQ 2772 3088 2869 2813 \r\nQ 3263 3394 3894 3394 \r\nQ 4388 3394 4653 3120 \r\nQ 4919 2847 4919 2278 \r\nL 4919 0 \r\nL 4359 0 \r\nL 4359 2091 \r\nQ 4359 2428 4304 2576 \r\nQ 4250 2725 4106 2815 \r\nQ 3963 2906 3769 2906 \r\nQ 3419 2906 3187 2673 \r\nQ 2956 2441 2956 1928 \r\nL 2956 0 \r\nL 2394 0 \r\nL 2394 2156 \r\nQ 2394 2531 2256 2718 \r\nQ 2119 2906 1806 2906 \r\nQ 1569 2906 1367 2781 \r\nQ 1166 2656 1075 2415 \r\nQ 984 2175 984 1722 \r\nL 984 0 \r\nL 422 0 \r\nz\r\n\" id=\"ArialMT-6d\" transform=\"scale(0.015625)\"/>\r\n      <path d=\"M 2575 0 \r\nL 2575 419 \r\nQ 2259 -75 1647 -75 \r\nQ 1250 -75 917 144 \r\nQ 584 363 401 755 \r\nQ 219 1147 219 1656 \r\nQ 219 2153 384 2558 \r\nQ 550 2963 881 3178 \r\nQ 1213 3394 1622 3394 \r\nQ 1922 3394 2156 3267 \r\nQ 2391 3141 2538 2938 \r\nL 2538 4581 \r\nL 3097 4581 \r\nL 3097 0 \r\nL 2575 0 \r\nz\r\nM 797 1656 \r\nQ 797 1019 1065 703 \r\nQ 1334 388 1700 388 \r\nQ 2069 388 2326 689 \r\nQ 2584 991 2584 1609 \r\nQ 2584 2291 2321 2609 \r\nQ 2059 2928 1675 2928 \r\nQ 1300 2928 1048 2622 \r\nQ 797 2316 797 1656 \r\nz\r\n\" id=\"ArialMT-64\" transform=\"scale(0.015625)\"/>\r\n      <path d=\"M 409 0 \r\nL 409 4581 \r\nL 972 4581 \r\nL 972 0 \r\nL 409 0 \r\nz\r\n\" id=\"ArialMT-6c\" transform=\"scale(0.015625)\"/>\r\n      <path id=\"ArialMT-20\" transform=\"scale(0.015625)\"/>\r\n     </defs>\r\n     <use xlink:href=\"#ArialMT-6d\"/>\r\n     <use x=\"83.300781\" xlink:href=\"#ArialMT-6f\"/>\r\n     <use x=\"138.916016\" xlink:href=\"#ArialMT-64\"/>\r\n     <use x=\"194.53125\" xlink:href=\"#ArialMT-65\"/>\r\n     <use x=\"250.146484\" xlink:href=\"#ArialMT-6c\"/>\r\n     <use x=\"272.363281\" xlink:href=\"#ArialMT-20\"/>\r\n     <use x=\"300.146484\" xlink:href=\"#ArialMT-61\"/>\r\n     <use x=\"355.761719\" xlink:href=\"#ArialMT-63\"/>\r\n     <use x=\"405.761719\" xlink:href=\"#ArialMT-63\"/>\r\n     <use x=\"455.761719\" xlink:href=\"#ArialMT-75\"/>\r\n     <use x=\"511.376953\" xlink:href=\"#ArialMT-72\"/>\r\n     <use x=\"544.677734\" xlink:href=\"#ArialMT-61\"/>\r\n     <use x=\"600.292969\" xlink:href=\"#ArialMT-63\"/>\r\n     <use x=\"650.292969\" xlink:href=\"#ArialMT-79\"/>\r\n    </g>\r\n   </g>\r\n   <g id=\"legend_1\">\r\n    <g id=\"patch_7\">\r\n     <path d=\"M 60.781406 63.426937 \r\nL 142.454688 63.426937 \r\nQ 144.654687 63.426937 144.654687 61.226937 \r\nL 144.654687 31.20725 \r\nQ 144.654687 29.00725 142.454688 29.00725 \r\nL 60.781406 29.00725 \r\nQ 58.581406 29.00725 58.581406 31.20725 \r\nL 58.581406 61.226937 \r\nQ 58.581406 63.426937 60.781406 63.426937 \r\nz\r\n\" style=\"fill:#e5e5e5;opacity:0.8;stroke:#cccccc;stroke-linejoin:miter;stroke-width:0.5;\"/>\r\n    </g>\r\n    <g id=\"line2d_12\">\r\n     <path d=\"M 62.981406 37.430844 \r\nL 84.981406 37.430844 \r\n\" style=\"fill:none;stroke:#e24a33;stroke-linecap:round;stroke-width:1.5;\"/>\r\n    </g>\r\n    <g id=\"line2d_13\"/>\r\n    <g id=\"text_13\">\r\n     <!-- train -->\r\n     <g style=\"fill:#262626;\" transform=\"translate(93.781406 41.280844)scale(0.11 -0.11)\">\r\n      <defs>\r\n       <path d=\"M 1650 503 \r\nL 1731 6 \r\nQ 1494 -44 1306 -44 \r\nQ 1000 -44 831 53 \r\nQ 663 150 594 308 \r\nQ 525 466 525 972 \r\nL 525 2881 \r\nL 113 2881 \r\nL 113 3319 \r\nL 525 3319 \r\nL 525 4141 \r\nL 1084 4478 \r\nL 1084 3319 \r\nL 1650 3319 \r\nL 1650 2881 \r\nL 1084 2881 \r\nL 1084 941 \r\nQ 1084 700 1114 631 \r\nQ 1144 563 1211 522 \r\nQ 1278 481 1403 481 \r\nQ 1497 481 1650 503 \r\nz\r\n\" id=\"ArialMT-74\" transform=\"scale(0.015625)\"/>\r\n       <path d=\"M 425 3934 \r\nL 425 4581 \r\nL 988 4581 \r\nL 988 3934 \r\nL 425 3934 \r\nz\r\nM 425 0 \r\nL 425 3319 \r\nL 988 3319 \r\nL 988 0 \r\nL 425 0 \r\nz\r\n\" id=\"ArialMT-69\" transform=\"scale(0.015625)\"/>\r\n       <path d=\"M 422 0 \r\nL 422 3319 \r\nL 928 3319 \r\nL 928 2847 \r\nQ 1294 3394 1984 3394 \r\nQ 2284 3394 2536 3286 \r\nQ 2788 3178 2913 3003 \r\nQ 3038 2828 3088 2588 \r\nQ 3119 2431 3119 2041 \r\nL 3119 0 \r\nL 2556 0 \r\nL 2556 2019 \r\nQ 2556 2363 2490 2533 \r\nQ 2425 2703 2258 2804 \r\nQ 2091 2906 1866 2906 \r\nQ 1506 2906 1245 2678 \r\nQ 984 2450 984 1813 \r\nL 984 0 \r\nL 422 0 \r\nz\r\n\" id=\"ArialMT-6e\" transform=\"scale(0.015625)\"/>\r\n      </defs>\r\n      <use xlink:href=\"#ArialMT-74\"/>\r\n      <use x=\"27.783203\" xlink:href=\"#ArialMT-72\"/>\r\n      <use x=\"61.083984\" xlink:href=\"#ArialMT-61\"/>\r\n      <use x=\"116.699219\" xlink:href=\"#ArialMT-69\"/>\r\n      <use x=\"138.916016\" xlink:href=\"#ArialMT-6e\"/>\r\n     </g>\r\n    </g>\r\n    <g id=\"line2d_14\">\r\n     <path d=\"M 62.981406 52.990687 \r\nL 84.981406 52.990687 \r\n\" style=\"fill:none;stroke:#348abd;stroke-linecap:round;stroke-width:1.5;\"/>\r\n    </g>\r\n    <g id=\"line2d_15\"/>\r\n    <g id=\"text_14\">\r\n     <!-- validation -->\r\n     <g style=\"fill:#262626;\" transform=\"translate(93.781406 56.840687)scale(0.11 -0.11)\">\r\n      <defs>\r\n       <path d=\"M 1344 0 \r\nL 81 3319 \r\nL 675 3319 \r\nL 1388 1331 \r\nQ 1503 1009 1600 663 \r\nQ 1675 925 1809 1294 \r\nL 2547 3319 \r\nL 3125 3319 \r\nL 1869 0 \r\nL 1344 0 \r\nz\r\n\" id=\"ArialMT-76\" transform=\"scale(0.015625)\"/>\r\n      </defs>\r\n      <use xlink:href=\"#ArialMT-76\"/>\r\n      <use x=\"50\" xlink:href=\"#ArialMT-61\"/>\r\n      <use x=\"105.615234\" xlink:href=\"#ArialMT-6c\"/>\r\n      <use x=\"127.832031\" xlink:href=\"#ArialMT-69\"/>\r\n      <use x=\"150.048828\" xlink:href=\"#ArialMT-64\"/>\r\n      <use x=\"205.664062\" xlink:href=\"#ArialMT-61\"/>\r\n      <use x=\"261.279297\" xlink:href=\"#ArialMT-74\"/>\r\n      <use x=\"289.0625\" xlink:href=\"#ArialMT-69\"/>\r\n      <use x=\"311.279297\" xlink:href=\"#ArialMT-6f\"/>\r\n      <use x=\"366.894531\" xlink:href=\"#ArialMT-6e\"/>\r\n     </g>\r\n    </g>\r\n   </g>\r\n  </g>\r\n </g>\r\n <defs>\r\n  <clipPath id=\"p5b3dd8ab1a\">\r\n   <rect height=\"217.44\" width=\"334.8\" x=\"53.081406\" y=\"23.50725\"/>\r\n  </clipPath>\r\n </defs>\r\n</svg>\r\n",
            "image/png": "[encoded data removed]"
          },
          "metadata": {}
        }
      ],
      "source": [
        "plt.plot(history.history['accuracy'])\n",
        "plt.plot(history.history['val_accuracy'])\n",
        "plt.title('model accuracy')\n",
        "plt.ylabel('accuracy')\n",
        "plt.xlabel('epoch')\n",
        "plt.legend(['train', 'validation'], loc='upper left')\n",
        "plt.show()"
      ]
    },
    {
      "cell_type": "code",
      "execution_count": 291,
      "metadata": {},
      "outputs": [
        {
          "output_type": "display_data",
          "data": {
            "text/plain": "<Figure size 432x288 with 1 Axes>",
            "image/svg+xml": "<?xml version=\"1.0\" encoding=\"utf-8\" standalone=\"no\"?>\r\n<!DOCTYPE svg PUBLIC \"-//W3C//DTD SVG 1.1//EN\"\r\n  \"http://www.w3.org/Graphics/SVG/1.1/DTD/svg11.dtd\">\r\n<svg height=\"282.681469pt\" version=\"1.1\" viewBox=\"0 0 388.964375 282.681469\" width=\"388.964375pt\" xmlns=\"http://www.w3.org/2000/svg\" xmlns:xlink=\"http://www.w3.org/1999/xlink\">\r\n <metadata>\r\n  <rdf:RDF xmlns:cc=\"http://creativecommons.org/ns#\" xmlns:dc=\"http://purl.org/dc/elements/1.1/\" xmlns:rdf=\"http://www.w3.org/1999/02/22-rdf-syntax-ns#\">\r\n   <cc:Work>\r\n    <dc:type rdf:resource=\"http://purl.org/dc/dcmitype/StillImage\"/>\r\n    <dc:date>2021-06-15T19:00:40.662792</dc:date>\r\n    <dc:format>image/svg+xml</dc:format>\r\n    <dc:creator>\r\n     <cc:Agent>\r\n      <dc:title>Matplotlib v3.4.2, https://matplotlib.org/</dc:title>\r\n     </cc:Agent>\r\n    </dc:creator>\r\n   </cc:Work>\r\n  </rdf:RDF>\r\n </metadata>\r\n <defs>\r\n  <style type=\"text/css\">*{stroke-linecap:butt;stroke-linejoin:round;}</style>\r\n </defs>\r\n <g id=\"figure_1\">\r\n  <g id=\"patch_1\">\r\n   <path d=\"M 0 282.681469 \r\nL 388.964375 282.681469 \r\nL 388.964375 0 \r\nL 0 0 \r\nz\r\n\" style=\"fill:#ffffff;\"/>\r\n  </g>\r\n  <g id=\"axes_1\">\r\n   <g id=\"patch_2\">\r\n    <path d=\"M 46.964375 240.94725 \r\nL 381.764375 240.94725 \r\nL 381.764375 23.50725 \r\nL 46.964375 23.50725 \r\nz\r\n\" style=\"fill:#e5e5e5;\"/>\r\n   </g>\r\n   <g id=\"matplotlib.axis_1\">\r\n    <g id=\"xtick_1\">\r\n     <g id=\"line2d_1\">\r\n      <path clip-path=\"url(#pd1ad3ae9fb)\" d=\"M 62.182557 240.94725 \r\nL 62.182557 23.50725 \r\n\" style=\"fill:none;stroke:#ffffff;stroke-linecap:round;\"/>\r\n     </g>\r\n     <g id=\"text_1\">\r\n      <!-- 0 -->\r\n      <g style=\"fill:#555555;\" transform=\"translate(59.124041 258.320844)scale(0.11 -0.11)\">\r\n       <defs>\r\n        <path d=\"M 266 2259 \r\nQ 266 3072 433 3567 \r\nQ 600 4063 929 4331 \r\nQ 1259 4600 1759 4600 \r\nQ 2128 4600 2406 4451 \r\nQ 2684 4303 2865 4023 \r\nQ 3047 3744 3150 3342 \r\nQ 3253 2941 3253 2259 \r\nQ 3253 1453 3087 958 \r\nQ 2922 463 2592 192 \r\nQ 2263 -78 1759 -78 \r\nQ 1097 -78 719 397 \r\nQ 266 969 266 2259 \r\nz\r\nM 844 2259 \r\nQ 844 1131 1108 757 \r\nQ 1372 384 1759 384 \r\nQ 2147 384 2411 759 \r\nQ 2675 1134 2675 2259 \r\nQ 2675 3391 2411 3762 \r\nQ 2147 4134 1753 4134 \r\nQ 1366 4134 1134 3806 \r\nQ 844 3388 844 2259 \r\nz\r\n\" id=\"ArialMT-30\" transform=\"scale(0.015625)\"/>\r\n       </defs>\r\n       <use xlink:href=\"#ArialMT-30\"/>\r\n      </g>\r\n     </g>\r\n    </g>\r\n    <g id=\"xtick_2\">\r\n     <g id=\"line2d_2\">\r\n      <path clip-path=\"url(#pd1ad3ae9fb)\" d=\"M 129.81892 240.94725 \r\nL 129.81892 23.50725 \r\n\" style=\"fill:none;stroke:#ffffff;stroke-linecap:round;\"/>\r\n     </g>\r\n     <g id=\"text_2\">\r\n      <!-- 2 -->\r\n      <g style=\"fill:#555555;\" transform=\"translate(126.760405 258.320844)scale(0.11 -0.11)\">\r\n       <defs>\r\n        <path d=\"M 3222 541 \r\nL 3222 0 \r\nL 194 0 \r\nQ 188 203 259 391 \r\nQ 375 700 629 1000 \r\nQ 884 1300 1366 1694 \r\nQ 2113 2306 2375 2664 \r\nQ 2638 3022 2638 3341 \r\nQ 2638 3675 2398 3904 \r\nQ 2159 4134 1775 4134 \r\nQ 1369 4134 1125 3890 \r\nQ 881 3647 878 3216 \r\nL 300 3275 \r\nQ 359 3922 746 4261 \r\nQ 1134 4600 1788 4600 \r\nQ 2447 4600 2831 4234 \r\nQ 3216 3869 3216 3328 \r\nQ 3216 3053 3103 2787 \r\nQ 2991 2522 2730 2228 \r\nQ 2469 1934 1863 1422 \r\nQ 1356 997 1212 845 \r\nQ 1069 694 975 541 \r\nL 3222 541 \r\nz\r\n\" id=\"ArialMT-32\" transform=\"scale(0.015625)\"/>\r\n       </defs>\r\n       <use xlink:href=\"#ArialMT-32\"/>\r\n      </g>\r\n     </g>\r\n    </g>\r\n    <g id=\"xtick_3\">\r\n     <g id=\"line2d_3\">\r\n      <path clip-path=\"url(#pd1ad3ae9fb)\" d=\"M 197.455284 240.94725 \r\nL 197.455284 23.50725 \r\n\" style=\"fill:none;stroke:#ffffff;stroke-linecap:round;\"/>\r\n     </g>\r\n     <g id=\"text_3\">\r\n      <!-- 4 -->\r\n      <g style=\"fill:#555555;\" transform=\"translate(194.396768 258.320844)scale(0.11 -0.11)\">\r\n       <defs>\r\n        <path d=\"M 2069 0 \r\nL 2069 1097 \r\nL 81 1097 \r\nL 81 1613 \r\nL 2172 4581 \r\nL 2631 4581 \r\nL 2631 1613 \r\nL 3250 1613 \r\nL 3250 1097 \r\nL 2631 1097 \r\nL 2631 0 \r\nL 2069 0 \r\nz\r\nM 2069 1613 \r\nL 2069 3678 \r\nL 634 1613 \r\nL 2069 1613 \r\nz\r\n\" id=\"ArialMT-34\" transform=\"scale(0.015625)\"/>\r\n       </defs>\r\n       <use xlink:href=\"#ArialMT-34\"/>\r\n      </g>\r\n     </g>\r\n    </g>\r\n    <g id=\"xtick_4\">\r\n     <g id=\"line2d_4\">\r\n      <path clip-path=\"url(#pd1ad3ae9fb)\" d=\"M 265.091648 240.94725 \r\nL 265.091648 23.50725 \r\n\" style=\"fill:none;stroke:#ffffff;stroke-linecap:round;\"/>\r\n     </g>\r\n     <g id=\"text_4\">\r\n      <!-- 6 -->\r\n      <g style=\"fill:#555555;\" transform=\"translate(262.033132 258.320844)scale(0.11 -0.11)\">\r\n       <defs>\r\n        <path d=\"M 3184 3459 \r\nL 2625 3416 \r\nQ 2550 3747 2413 3897 \r\nQ 2184 4138 1850 4138 \r\nQ 1581 4138 1378 3988 \r\nQ 1113 3794 959 3422 \r\nQ 806 3050 800 2363 \r\nQ 1003 2672 1297 2822 \r\nQ 1591 2972 1913 2972 \r\nQ 2475 2972 2870 2558 \r\nQ 3266 2144 3266 1488 \r\nQ 3266 1056 3080 686 \r\nQ 2894 316 2569 119 \r\nQ 2244 -78 1831 -78 \r\nQ 1128 -78 684 439 \r\nQ 241 956 241 2144 \r\nQ 241 3472 731 4075 \r\nQ 1159 4600 1884 4600 \r\nQ 2425 4600 2770 4297 \r\nQ 3116 3994 3184 3459 \r\nz\r\nM 888 1484 \r\nQ 888 1194 1011 928 \r\nQ 1134 663 1356 523 \r\nQ 1578 384 1822 384 \r\nQ 2178 384 2434 671 \r\nQ 2691 959 2691 1453 \r\nQ 2691 1928 2437 2201 \r\nQ 2184 2475 1800 2475 \r\nQ 1419 2475 1153 2201 \r\nQ 888 1928 888 1484 \r\nz\r\n\" id=\"ArialMT-36\" transform=\"scale(0.015625)\"/>\r\n       </defs>\r\n       <use xlink:href=\"#ArialMT-36\"/>\r\n      </g>\r\n     </g>\r\n    </g>\r\n    <g id=\"xtick_5\">\r\n     <g id=\"line2d_5\">\r\n      <path clip-path=\"url(#pd1ad3ae9fb)\" d=\"M 332.728011 240.94725 \r\nL 332.728011 23.50725 \r\n\" style=\"fill:none;stroke:#ffffff;stroke-linecap:round;\"/>\r\n     </g>\r\n     <g id=\"text_5\">\r\n      <!-- 8 -->\r\n      <g style=\"fill:#555555;\" transform=\"translate(329.669496 258.320844)scale(0.11 -0.11)\">\r\n       <defs>\r\n        <path d=\"M 1131 2484 \r\nQ 781 2613 612 2850 \r\nQ 444 3088 444 3419 \r\nQ 444 3919 803 4259 \r\nQ 1163 4600 1759 4600 \r\nQ 2359 4600 2725 4251 \r\nQ 3091 3903 3091 3403 \r\nQ 3091 3084 2923 2848 \r\nQ 2756 2613 2416 2484 \r\nQ 2838 2347 3058 2040 \r\nQ 3278 1734 3278 1309 \r\nQ 3278 722 2862 322 \r\nQ 2447 -78 1769 -78 \r\nQ 1091 -78 675 323 \r\nQ 259 725 259 1325 \r\nQ 259 1772 486 2073 \r\nQ 713 2375 1131 2484 \r\nz\r\nM 1019 3438 \r\nQ 1019 3113 1228 2906 \r\nQ 1438 2700 1772 2700 \r\nQ 2097 2700 2305 2904 \r\nQ 2513 3109 2513 3406 \r\nQ 2513 3716 2298 3927 \r\nQ 2084 4138 1766 4138 \r\nQ 1444 4138 1231 3931 \r\nQ 1019 3725 1019 3438 \r\nz\r\nM 838 1322 \r\nQ 838 1081 952 856 \r\nQ 1066 631 1291 507 \r\nQ 1516 384 1775 384 \r\nQ 2178 384 2440 643 \r\nQ 2703 903 2703 1303 \r\nQ 2703 1709 2433 1975 \r\nQ 2163 2241 1756 2241 \r\nQ 1359 2241 1098 1978 \r\nQ 838 1716 838 1322 \r\nz\r\n\" id=\"ArialMT-38\" transform=\"scale(0.015625)\"/>\r\n       </defs>\r\n       <use xlink:href=\"#ArialMT-38\"/>\r\n      </g>\r\n     </g>\r\n    </g>\r\n    <g id=\"text_6\">\r\n     <!-- epoch -->\r\n     <g style=\"fill:#555555;\" transform=\"translate(198.018125 273.096469)scale(0.12 -0.12)\">\r\n      <defs>\r\n       <path d=\"M 2694 1069 \r\nL 3275 997 \r\nQ 3138 488 2766 206 \r\nQ 2394 -75 1816 -75 \r\nQ 1088 -75 661 373 \r\nQ 234 822 234 1631 \r\nQ 234 2469 665 2931 \r\nQ 1097 3394 1784 3394 \r\nQ 2450 3394 2872 2941 \r\nQ 3294 2488 3294 1666 \r\nQ 3294 1616 3291 1516 \r\nL 816 1516 \r\nQ 847 969 1125 678 \r\nQ 1403 388 1819 388 \r\nQ 2128 388 2347 550 \r\nQ 2566 713 2694 1069 \r\nz\r\nM 847 1978 \r\nL 2700 1978 \r\nQ 2663 2397 2488 2606 \r\nQ 2219 2931 1791 2931 \r\nQ 1403 2931 1139 2672 \r\nQ 875 2413 847 1978 \r\nz\r\n\" id=\"ArialMT-65\" transform=\"scale(0.015625)\"/>\r\n       <path d=\"M 422 -1272 \r\nL 422 3319 \r\nL 934 3319 \r\nL 934 2888 \r\nQ 1116 3141 1344 3267 \r\nQ 1572 3394 1897 3394 \r\nQ 2322 3394 2647 3175 \r\nQ 2972 2956 3137 2557 \r\nQ 3303 2159 3303 1684 \r\nQ 3303 1175 3120 767 \r\nQ 2938 359 2589 142 \r\nQ 2241 -75 1856 -75 \r\nQ 1575 -75 1351 44 \r\nQ 1128 163 984 344 \r\nL 984 -1272 \r\nL 422 -1272 \r\nz\r\nM 931 1641 \r\nQ 931 1000 1190 694 \r\nQ 1450 388 1819 388 \r\nQ 2194 388 2461 705 \r\nQ 2728 1022 2728 1688 \r\nQ 2728 2322 2467 2637 \r\nQ 2206 2953 1844 2953 \r\nQ 1484 2953 1207 2617 \r\nQ 931 2281 931 1641 \r\nz\r\n\" id=\"ArialMT-70\" transform=\"scale(0.015625)\"/>\r\n       <path d=\"M 213 1659 \r\nQ 213 2581 725 3025 \r\nQ 1153 3394 1769 3394 \r\nQ 2453 3394 2887 2945 \r\nQ 3322 2497 3322 1706 \r\nQ 3322 1066 3130 698 \r\nQ 2938 331 2570 128 \r\nQ 2203 -75 1769 -75 \r\nQ 1072 -75 642 372 \r\nQ 213 819 213 1659 \r\nz\r\nM 791 1659 \r\nQ 791 1022 1069 705 \r\nQ 1347 388 1769 388 \r\nQ 2188 388 2466 706 \r\nQ 2744 1025 2744 1678 \r\nQ 2744 2294 2464 2611 \r\nQ 2184 2928 1769 2928 \r\nQ 1347 2928 1069 2612 \r\nQ 791 2297 791 1659 \r\nz\r\n\" id=\"ArialMT-6f\" transform=\"scale(0.015625)\"/>\r\n       <path d=\"M 2588 1216 \r\nL 3141 1144 \r\nQ 3050 572 2676 248 \r\nQ 2303 -75 1759 -75 \r\nQ 1078 -75 664 370 \r\nQ 250 816 250 1647 \r\nQ 250 2184 428 2587 \r\nQ 606 2991 970 3192 \r\nQ 1334 3394 1763 3394 \r\nQ 2303 3394 2647 3120 \r\nQ 2991 2847 3088 2344 \r\nL 2541 2259 \r\nQ 2463 2594 2264 2762 \r\nQ 2066 2931 1784 2931 \r\nQ 1359 2931 1093 2626 \r\nQ 828 2322 828 1663 \r\nQ 828 994 1084 691 \r\nQ 1341 388 1753 388 \r\nQ 2084 388 2306 591 \r\nQ 2528 794 2588 1216 \r\nz\r\n\" id=\"ArialMT-63\" transform=\"scale(0.015625)\"/>\r\n       <path d=\"M 422 0 \r\nL 422 4581 \r\nL 984 4581 \r\nL 984 2938 \r\nQ 1378 3394 1978 3394 \r\nQ 2347 3394 2619 3248 \r\nQ 2891 3103 3008 2847 \r\nQ 3125 2591 3125 2103 \r\nL 3125 0 \r\nL 2563 0 \r\nL 2563 2103 \r\nQ 2563 2525 2380 2717 \r\nQ 2197 2909 1863 2909 \r\nQ 1613 2909 1392 2779 \r\nQ 1172 2650 1078 2428 \r\nQ 984 2206 984 1816 \r\nL 984 0 \r\nL 422 0 \r\nz\r\n\" id=\"ArialMT-68\" transform=\"scale(0.015625)\"/>\r\n      </defs>\r\n      <use xlink:href=\"#ArialMT-65\"/>\r\n      <use x=\"55.615234\" xlink:href=\"#ArialMT-70\"/>\r\n      <use x=\"111.230469\" xlink:href=\"#ArialMT-6f\"/>\r\n      <use x=\"166.845703\" xlink:href=\"#ArialMT-63\"/>\r\n      <use x=\"216.845703\" xlink:href=\"#ArialMT-68\"/>\r\n     </g>\r\n    </g>\r\n   </g>\r\n   <g id=\"matplotlib.axis_2\">\r\n    <g id=\"ytick_1\">\r\n     <g id=\"line2d_6\">\r\n      <path clip-path=\"url(#pd1ad3ae9fb)\" d=\"M 46.964375 221.493097 \r\nL 381.764375 221.493097 \r\n\" style=\"fill:none;stroke:#ffffff;stroke-linecap:round;\"/>\r\n     </g>\r\n     <g id=\"text_7\">\r\n      <!-- 0.2 -->\r\n      <g style=\"fill:#555555;\" transform=\"translate(22.174375 225.429894)scale(0.11 -0.11)\">\r\n       <defs>\r\n        <path d=\"M 581 0 \r\nL 581 641 \r\nL 1222 641 \r\nL 1222 0 \r\nL 581 0 \r\nz\r\n\" id=\"ArialMT-2e\" transform=\"scale(0.015625)\"/>\r\n       </defs>\r\n       <use xlink:href=\"#ArialMT-30\"/>\r\n       <use x=\"55.615234\" xlink:href=\"#ArialMT-2e\"/>\r\n       <use x=\"83.398438\" xlink:href=\"#ArialMT-32\"/>\r\n      </g>\r\n     </g>\r\n    </g>\r\n    <g id=\"ytick_2\">\r\n     <g id=\"line2d_7\">\r\n      <path clip-path=\"url(#pd1ad3ae9fb)\" d=\"M 46.964375 182.278759 \r\nL 381.764375 182.278759 \r\n\" style=\"fill:none;stroke:#ffffff;stroke-linecap:round;\"/>\r\n     </g>\r\n     <g id=\"text_8\">\r\n      <!-- 0.3 -->\r\n      <g style=\"fill:#555555;\" transform=\"translate(22.174375 186.215556)scale(0.11 -0.11)\">\r\n       <defs>\r\n        <path d=\"M 269 1209 \r\nL 831 1284 \r\nQ 928 806 1161 595 \r\nQ 1394 384 1728 384 \r\nQ 2125 384 2398 659 \r\nQ 2672 934 2672 1341 \r\nQ 2672 1728 2419 1979 \r\nQ 2166 2231 1775 2231 \r\nQ 1616 2231 1378 2169 \r\nL 1441 2663 \r\nQ 1497 2656 1531 2656 \r\nQ 1891 2656 2178 2843 \r\nQ 2466 3031 2466 3422 \r\nQ 2466 3731 2256 3934 \r\nQ 2047 4138 1716 4138 \r\nQ 1388 4138 1169 3931 \r\nQ 950 3725 888 3313 \r\nL 325 3413 \r\nQ 428 3978 793 4289 \r\nQ 1159 4600 1703 4600 \r\nQ 2078 4600 2393 4439 \r\nQ 2709 4278 2876 4000 \r\nQ 3044 3722 3044 3409 \r\nQ 3044 3113 2884 2869 \r\nQ 2725 2625 2413 2481 \r\nQ 2819 2388 3044 2092 \r\nQ 3269 1797 3269 1353 \r\nQ 3269 753 2831 336 \r\nQ 2394 -81 1725 -81 \r\nQ 1122 -81 723 278 \r\nQ 325 638 269 1209 \r\nz\r\n\" id=\"ArialMT-33\" transform=\"scale(0.015625)\"/>\r\n       </defs>\r\n       <use xlink:href=\"#ArialMT-30\"/>\r\n       <use x=\"55.615234\" xlink:href=\"#ArialMT-2e\"/>\r\n       <use x=\"83.398438\" xlink:href=\"#ArialMT-33\"/>\r\n      </g>\r\n     </g>\r\n    </g>\r\n    <g id=\"ytick_3\">\r\n     <g id=\"line2d_8\">\r\n      <path clip-path=\"url(#pd1ad3ae9fb)\" d=\"M 46.964375 143.064421 \r\nL 381.764375 143.064421 \r\n\" style=\"fill:none;stroke:#ffffff;stroke-linecap:round;\"/>\r\n     </g>\r\n     <g id=\"text_9\">\r\n      <!-- 0.4 -->\r\n      <g style=\"fill:#555555;\" transform=\"translate(22.174375 147.001218)scale(0.11 -0.11)\">\r\n       <use xlink:href=\"#ArialMT-30\"/>\r\n       <use x=\"55.615234\" xlink:href=\"#ArialMT-2e\"/>\r\n       <use x=\"83.398438\" xlink:href=\"#ArialMT-34\"/>\r\n      </g>\r\n     </g>\r\n    </g>\r\n    <g id=\"ytick_4\">\r\n     <g id=\"line2d_9\">\r\n      <path clip-path=\"url(#pd1ad3ae9fb)\" d=\"M 46.964375 103.850083 \r\nL 381.764375 103.850083 \r\n\" style=\"fill:none;stroke:#ffffff;stroke-linecap:round;\"/>\r\n     </g>\r\n     <g id=\"text_10\">\r\n      <!-- 0.5 -->\r\n      <g style=\"fill:#555555;\" transform=\"translate(22.174375 107.78688)scale(0.11 -0.11)\">\r\n       <defs>\r\n        <path d=\"M 266 1200 \r\nL 856 1250 \r\nQ 922 819 1161 601 \r\nQ 1400 384 1738 384 \r\nQ 2144 384 2425 690 \r\nQ 2706 997 2706 1503 \r\nQ 2706 1984 2436 2262 \r\nQ 2166 2541 1728 2541 \r\nQ 1456 2541 1237 2417 \r\nQ 1019 2294 894 2097 \r\nL 366 2166 \r\nL 809 4519 \r\nL 3088 4519 \r\nL 3088 3981 \r\nL 1259 3981 \r\nL 1013 2750 \r\nQ 1425 3038 1878 3038 \r\nQ 2478 3038 2890 2622 \r\nQ 3303 2206 3303 1553 \r\nQ 3303 931 2941 478 \r\nQ 2500 -78 1738 -78 \r\nQ 1113 -78 717 272 \r\nQ 322 622 266 1200 \r\nz\r\n\" id=\"ArialMT-35\" transform=\"scale(0.015625)\"/>\r\n       </defs>\r\n       <use xlink:href=\"#ArialMT-30\"/>\r\n       <use x=\"55.615234\" xlink:href=\"#ArialMT-2e\"/>\r\n       <use x=\"83.398438\" xlink:href=\"#ArialMT-35\"/>\r\n      </g>\r\n     </g>\r\n    </g>\r\n    <g id=\"ytick_5\">\r\n     <g id=\"line2d_10\">\r\n      <path clip-path=\"url(#pd1ad3ae9fb)\" d=\"M 46.964375 64.635745 \r\nL 381.764375 64.635745 \r\n\" style=\"fill:none;stroke:#ffffff;stroke-linecap:round;\"/>\r\n     </g>\r\n     <g id=\"text_11\">\r\n      <!-- 0.6 -->\r\n      <g style=\"fill:#555555;\" transform=\"translate(22.174375 68.572542)scale(0.11 -0.11)\">\r\n       <use xlink:href=\"#ArialMT-30\"/>\r\n       <use x=\"55.615234\" xlink:href=\"#ArialMT-2e\"/>\r\n       <use x=\"83.398438\" xlink:href=\"#ArialMT-36\"/>\r\n      </g>\r\n     </g>\r\n    </g>\r\n    <g id=\"ytick_6\">\r\n     <g id=\"line2d_11\">\r\n      <path clip-path=\"url(#pd1ad3ae9fb)\" d=\"M 46.964375 25.421407 \r\nL 381.764375 25.421407 \r\n\" style=\"fill:none;stroke:#ffffff;stroke-linecap:round;\"/>\r\n     </g>\r\n     <g id=\"text_12\">\r\n      <!-- 0.7 -->\r\n      <g style=\"fill:#555555;\" transform=\"translate(22.174375 29.358204)scale(0.11 -0.11)\">\r\n       <defs>\r\n        <path d=\"M 303 3981 \r\nL 303 4522 \r\nL 3269 4522 \r\nL 3269 4084 \r\nQ 2831 3619 2401 2847 \r\nQ 1972 2075 1738 1259 \r\nQ 1569 684 1522 0 \r\nL 944 0 \r\nQ 953 541 1156 1306 \r\nQ 1359 2072 1739 2783 \r\nQ 2119 3494 2547 3981 \r\nL 303 3981 \r\nz\r\n\" id=\"ArialMT-37\" transform=\"scale(0.015625)\"/>\r\n       </defs>\r\n       <use xlink:href=\"#ArialMT-30\"/>\r\n       <use x=\"55.615234\" xlink:href=\"#ArialMT-2e\"/>\r\n       <use x=\"83.398438\" xlink:href=\"#ArialMT-37\"/>\r\n      </g>\r\n     </g>\r\n    </g>\r\n    <g id=\"text_13\">\r\n     <!-- loss -->\r\n     <g style=\"fill:#555555;\" transform=\"translate(15.789375 142.896937)rotate(-90)scale(0.12 -0.12)\">\r\n      <defs>\r\n       <path d=\"M 409 0 \r\nL 409 4581 \r\nL 972 4581 \r\nL 972 0 \r\nL 409 0 \r\nz\r\n\" id=\"ArialMT-6c\" transform=\"scale(0.015625)\"/>\r\n       <path d=\"M 197 991 \r\nL 753 1078 \r\nQ 800 744 1014 566 \r\nQ 1228 388 1613 388 \r\nQ 2000 388 2187 545 \r\nQ 2375 703 2375 916 \r\nQ 2375 1106 2209 1216 \r\nQ 2094 1291 1634 1406 \r\nQ 1016 1563 777 1677 \r\nQ 538 1791 414 1992 \r\nQ 291 2194 291 2438 \r\nQ 291 2659 392 2848 \r\nQ 494 3038 669 3163 \r\nQ 800 3259 1026 3326 \r\nQ 1253 3394 1513 3394 \r\nQ 1903 3394 2198 3281 \r\nQ 2494 3169 2634 2976 \r\nQ 2775 2784 2828 2463 \r\nL 2278 2388 \r\nQ 2241 2644 2061 2787 \r\nQ 1881 2931 1553 2931 \r\nQ 1166 2931 1000 2803 \r\nQ 834 2675 834 2503 \r\nQ 834 2394 903 2306 \r\nQ 972 2216 1119 2156 \r\nQ 1203 2125 1616 2013 \r\nQ 2213 1853 2448 1751 \r\nQ 2684 1650 2818 1456 \r\nQ 2953 1263 2953 975 \r\nQ 2953 694 2789 445 \r\nQ 2625 197 2315 61 \r\nQ 2006 -75 1616 -75 \r\nQ 969 -75 630 194 \r\nQ 291 463 197 991 \r\nz\r\n\" id=\"ArialMT-73\" transform=\"scale(0.015625)\"/>\r\n      </defs>\r\n      <use xlink:href=\"#ArialMT-6c\"/>\r\n      <use x=\"22.216797\" xlink:href=\"#ArialMT-6f\"/>\r\n      <use x=\"77.832031\" xlink:href=\"#ArialMT-73\"/>\r\n      <use x=\"127.832031\" xlink:href=\"#ArialMT-73\"/>\r\n     </g>\r\n    </g>\r\n   </g>\r\n   <g id=\"line2d_12\">\r\n    <path clip-path=\"url(#pd1ad3ae9fb)\" d=\"M 62.182557 33.390886 \r\nL 96.000739 63.281471 \r\nL 129.81892 127.015123 \r\nL 163.637102 176.005406 \r\nL 197.455284 194.708596 \r\nL 231.273466 205.712228 \r\nL 265.091648 214.091564 \r\nL 298.90983 220.187455 \r\nL 332.728011 226.133141 \r\nL 366.546193 231.063614 \r\n\" style=\"fill:none;stroke:#e24a33;stroke-linecap:round;stroke-width:1.5;\"/>\r\n   </g>\r\n   <g id=\"line2d_13\">\r\n    <path clip-path=\"url(#pd1ad3ae9fb)\" d=\"M 62.182557 39.125053 \r\nL 96.000739 78.669553 \r\nL 129.81892 138.26336 \r\nL 163.637102 169.648228 \r\nL 197.455284 179.748052 \r\nL 231.273466 183.577448 \r\nL 265.091648 185.520294 \r\nL 298.90983 186.97198 \r\nL 332.728011 187.076997 \r\nL 366.546193 187.526611 \r\n\" style=\"fill:none;stroke:#348abd;stroke-linecap:round;stroke-width:1.5;\"/>\r\n   </g>\r\n   <g id=\"patch_3\">\r\n    <path d=\"M 46.964375 240.94725 \r\nL 46.964375 23.50725 \r\n\" style=\"fill:none;stroke:#ffffff;stroke-linecap:square;stroke-linejoin:miter;\"/>\r\n   </g>\r\n   <g id=\"patch_4\">\r\n    <path d=\"M 381.764375 240.94725 \r\nL 381.764375 23.50725 \r\n\" style=\"fill:none;stroke:#ffffff;stroke-linecap:square;stroke-linejoin:miter;\"/>\r\n   </g>\r\n   <g id=\"patch_5\">\r\n    <path d=\"M 46.964375 240.94725 \r\nL 381.764375 240.94725 \r\n\" style=\"fill:none;stroke:#ffffff;stroke-linecap:square;stroke-linejoin:miter;\"/>\r\n   </g>\r\n   <g id=\"patch_6\">\r\n    <path d=\"M 46.964375 23.50725 \r\nL 381.764375 23.50725 \r\n\" style=\"fill:none;stroke:#ffffff;stroke-linecap:square;stroke-linejoin:miter;\"/>\r\n   </g>\r\n   <g id=\"text_14\">\r\n    <!-- model loss -->\r\n    <g style=\"fill:#262626;\" transform=\"translate(179.95175 17.50725)scale(0.144 -0.144)\">\r\n     <defs>\r\n      <path d=\"M 422 0 \r\nL 422 3319 \r\nL 925 3319 \r\nL 925 2853 \r\nQ 1081 3097 1340 3245 \r\nQ 1600 3394 1931 3394 \r\nQ 2300 3394 2536 3241 \r\nQ 2772 3088 2869 2813 \r\nQ 3263 3394 3894 3394 \r\nQ 4388 3394 4653 3120 \r\nQ 4919 2847 4919 2278 \r\nL 4919 0 \r\nL 4359 0 \r\nL 4359 2091 \r\nQ 4359 2428 4304 2576 \r\nQ 4250 2725 4106 2815 \r\nQ 3963 2906 3769 2906 \r\nQ 3419 2906 3187 2673 \r\nQ 2956 2441 2956 1928 \r\nL 2956 0 \r\nL 2394 0 \r\nL 2394 2156 \r\nQ 2394 2531 2256 2718 \r\nQ 2119 2906 1806 2906 \r\nQ 1569 2906 1367 2781 \r\nQ 1166 2656 1075 2415 \r\nQ 984 2175 984 1722 \r\nL 984 0 \r\nL 422 0 \r\nz\r\n\" id=\"ArialMT-6d\" transform=\"scale(0.015625)\"/>\r\n      <path d=\"M 2575 0 \r\nL 2575 419 \r\nQ 2259 -75 1647 -75 \r\nQ 1250 -75 917 144 \r\nQ 584 363 401 755 \r\nQ 219 1147 219 1656 \r\nQ 219 2153 384 2558 \r\nQ 550 2963 881 3178 \r\nQ 1213 3394 1622 3394 \r\nQ 1922 3394 2156 3267 \r\nQ 2391 3141 2538 2938 \r\nL 2538 4581 \r\nL 3097 4581 \r\nL 3097 0 \r\nL 2575 0 \r\nz\r\nM 797 1656 \r\nQ 797 1019 1065 703 \r\nQ 1334 388 1700 388 \r\nQ 2069 388 2326 689 \r\nQ 2584 991 2584 1609 \r\nQ 2584 2291 2321 2609 \r\nQ 2059 2928 1675 2928 \r\nQ 1300 2928 1048 2622 \r\nQ 797 2316 797 1656 \r\nz\r\n\" id=\"ArialMT-64\" transform=\"scale(0.015625)\"/>\r\n      <path id=\"ArialMT-20\" transform=\"scale(0.015625)\"/>\r\n     </defs>\r\n     <use xlink:href=\"#ArialMT-6d\"/>\r\n     <use x=\"83.300781\" xlink:href=\"#ArialMT-6f\"/>\r\n     <use x=\"138.916016\" xlink:href=\"#ArialMT-64\"/>\r\n     <use x=\"194.53125\" xlink:href=\"#ArialMT-65\"/>\r\n     <use x=\"250.146484\" xlink:href=\"#ArialMT-6c\"/>\r\n     <use x=\"272.363281\" xlink:href=\"#ArialMT-20\"/>\r\n     <use x=\"300.146484\" xlink:href=\"#ArialMT-6c\"/>\r\n     <use x=\"322.363281\" xlink:href=\"#ArialMT-6f\"/>\r\n     <use x=\"377.978516\" xlink:href=\"#ArialMT-73\"/>\r\n     <use x=\"427.978516\" xlink:href=\"#ArialMT-73\"/>\r\n    </g>\r\n   </g>\r\n   <g id=\"legend_1\">\r\n    <g id=\"patch_7\">\r\n     <path d=\"M 54.664375 63.426937 \r\nL 136.337656 63.426937 \r\nQ 138.537656 63.426937 138.537656 61.226937 \r\nL 138.537656 31.20725 \r\nQ 138.537656 29.00725 136.337656 29.00725 \r\nL 54.664375 29.00725 \r\nQ 52.464375 29.00725 52.464375 31.20725 \r\nL 52.464375 61.226937 \r\nQ 52.464375 63.426937 54.664375 63.426937 \r\nz\r\n\" style=\"fill:#e5e5e5;opacity:0.8;stroke:#cccccc;stroke-linejoin:miter;stroke-width:0.5;\"/>\r\n    </g>\r\n    <g id=\"line2d_14\">\r\n     <path d=\"M 56.864375 37.430844 \r\nL 78.864375 37.430844 \r\n\" style=\"fill:none;stroke:#e24a33;stroke-linecap:round;stroke-width:1.5;\"/>\r\n    </g>\r\n    <g id=\"line2d_15\"/>\r\n    <g id=\"text_15\">\r\n     <!-- train -->\r\n     <g style=\"fill:#262626;\" transform=\"translate(87.664375 41.280844)scale(0.11 -0.11)\">\r\n      <defs>\r\n       <path d=\"M 1650 503 \r\nL 1731 6 \r\nQ 1494 -44 1306 -44 \r\nQ 1000 -44 831 53 \r\nQ 663 150 594 308 \r\nQ 525 466 525 972 \r\nL 525 2881 \r\nL 113 2881 \r\nL 113 3319 \r\nL 525 3319 \r\nL 525 4141 \r\nL 1084 4478 \r\nL 1084 3319 \r\nL 1650 3319 \r\nL 1650 2881 \r\nL 1084 2881 \r\nL 1084 941 \r\nQ 1084 700 1114 631 \r\nQ 1144 563 1211 522 \r\nQ 1278 481 1403 481 \r\nQ 1497 481 1650 503 \r\nz\r\n\" id=\"ArialMT-74\" transform=\"scale(0.015625)\"/>\r\n       <path d=\"M 416 0 \r\nL 416 3319 \r\nL 922 3319 \r\nL 922 2816 \r\nQ 1116 3169 1280 3281 \r\nQ 1444 3394 1641 3394 \r\nQ 1925 3394 2219 3213 \r\nL 2025 2691 \r\nQ 1819 2813 1613 2813 \r\nQ 1428 2813 1281 2702 \r\nQ 1134 2591 1072 2394 \r\nQ 978 2094 978 1738 \r\nL 978 0 \r\nL 416 0 \r\nz\r\n\" id=\"ArialMT-72\" transform=\"scale(0.015625)\"/>\r\n       <path d=\"M 2588 409 \r\nQ 2275 144 1986 34 \r\nQ 1697 -75 1366 -75 \r\nQ 819 -75 525 192 \r\nQ 231 459 231 875 \r\nQ 231 1119 342 1320 \r\nQ 453 1522 633 1644 \r\nQ 813 1766 1038 1828 \r\nQ 1203 1872 1538 1913 \r\nQ 2219 1994 2541 2106 \r\nQ 2544 2222 2544 2253 \r\nQ 2544 2597 2384 2738 \r\nQ 2169 2928 1744 2928 \r\nQ 1347 2928 1158 2789 \r\nQ 969 2650 878 2297 \r\nL 328 2372 \r\nQ 403 2725 575 2942 \r\nQ 747 3159 1072 3276 \r\nQ 1397 3394 1825 3394 \r\nQ 2250 3394 2515 3294 \r\nQ 2781 3194 2906 3042 \r\nQ 3031 2891 3081 2659 \r\nQ 3109 2516 3109 2141 \r\nL 3109 1391 \r\nQ 3109 606 3145 398 \r\nQ 3181 191 3288 0 \r\nL 2700 0 \r\nQ 2613 175 2588 409 \r\nz\r\nM 2541 1666 \r\nQ 2234 1541 1622 1453 \r\nQ 1275 1403 1131 1340 \r\nQ 988 1278 909 1158 \r\nQ 831 1038 831 891 \r\nQ 831 666 1001 516 \r\nQ 1172 366 1500 366 \r\nQ 1825 366 2078 508 \r\nQ 2331 650 2450 897 \r\nQ 2541 1088 2541 1459 \r\nL 2541 1666 \r\nz\r\n\" id=\"ArialMT-61\" transform=\"scale(0.015625)\"/>\r\n       <path d=\"M 425 3934 \r\nL 425 4581 \r\nL 988 4581 \r\nL 988 3934 \r\nL 425 3934 \r\nz\r\nM 425 0 \r\nL 425 3319 \r\nL 988 3319 \r\nL 988 0 \r\nL 425 0 \r\nz\r\n\" id=\"ArialMT-69\" transform=\"scale(0.015625)\"/>\r\n       <path d=\"M 422 0 \r\nL 422 3319 \r\nL 928 3319 \r\nL 928 2847 \r\nQ 1294 3394 1984 3394 \r\nQ 2284 3394 2536 3286 \r\nQ 2788 3178 2913 3003 \r\nQ 3038 2828 3088 2588 \r\nQ 3119 2431 3119 2041 \r\nL 3119 0 \r\nL 2556 0 \r\nL 2556 2019 \r\nQ 2556 2363 2490 2533 \r\nQ 2425 2703 2258 2804 \r\nQ 2091 2906 1866 2906 \r\nQ 1506 2906 1245 2678 \r\nQ 984 2450 984 1813 \r\nL 984 0 \r\nL 422 0 \r\nz\r\n\" id=\"ArialMT-6e\" transform=\"scale(0.015625)\"/>\r\n      </defs>\r\n      <use xlink:href=\"#ArialMT-74\"/>\r\n      <use x=\"27.783203\" xlink:href=\"#ArialMT-72\"/>\r\n      <use x=\"61.083984\" xlink:href=\"#ArialMT-61\"/>\r\n      <use x=\"116.699219\" xlink:href=\"#ArialMT-69\"/>\r\n      <use x=\"138.916016\" xlink:href=\"#ArialMT-6e\"/>\r\n     </g>\r\n    </g>\r\n    <g id=\"line2d_16\">\r\n     <path d=\"M 56.864375 52.990687 \r\nL 78.864375 52.990687 \r\n\" style=\"fill:none;stroke:#348abd;stroke-linecap:round;stroke-width:1.5;\"/>\r\n    </g>\r\n    <g id=\"line2d_17\"/>\r\n    <g id=\"text_16\">\r\n     <!-- validation -->\r\n     <g style=\"fill:#262626;\" transform=\"translate(87.664375 56.840687)scale(0.11 -0.11)\">\r\n      <defs>\r\n       <path d=\"M 1344 0 \r\nL 81 3319 \r\nL 675 3319 \r\nL 1388 1331 \r\nQ 1503 1009 1600 663 \r\nQ 1675 925 1809 1294 \r\nL 2547 3319 \r\nL 3125 3319 \r\nL 1869 0 \r\nL 1344 0 \r\nz\r\n\" id=\"ArialMT-76\" transform=\"scale(0.015625)\"/>\r\n      </defs>\r\n      <use xlink:href=\"#ArialMT-76\"/>\r\n      <use x=\"50\" xlink:href=\"#ArialMT-61\"/>\r\n      <use x=\"105.615234\" xlink:href=\"#ArialMT-6c\"/>\r\n      <use x=\"127.832031\" xlink:href=\"#ArialMT-69\"/>\r\n      <use x=\"150.048828\" xlink:href=\"#ArialMT-64\"/>\r\n      <use x=\"205.664062\" xlink:href=\"#ArialMT-61\"/>\r\n      <use x=\"261.279297\" xlink:href=\"#ArialMT-74\"/>\r\n      <use x=\"289.0625\" xlink:href=\"#ArialMT-69\"/>\r\n      <use x=\"311.279297\" xlink:href=\"#ArialMT-6f\"/>\r\n      <use x=\"366.894531\" xlink:href=\"#ArialMT-6e\"/>\r\n     </g>\r\n    </g>\r\n   </g>\r\n  </g>\r\n </g>\r\n <defs>\r\n  <clipPath id=\"pd1ad3ae9fb\">\r\n   <rect height=\"217.44\" width=\"334.8\" x=\"46.964375\" y=\"23.50725\"/>\r\n  </clipPath>\r\n </defs>\r\n</svg>\r\n",
            "image/png": "[encoded data removed]"
          },
          "metadata": {}
        }
      ],
      "source": [
        "plt.plot(history.history['loss'])\n",
        "plt.plot(history.history['val_loss'])\n",
        "plt.title('model loss')\n",
        "plt.ylabel('loss')\n",
        "plt.xlabel('epoch')\n",
        "plt.legend(['train', 'validation'], loc='upper left')\n",
        "plt.show()"
      ]
    },
    {
      "cell_type": "code",
      "execution_count": 277,
      "metadata": {},
      "outputs": [
        {
          "output_type": "display_data",
          "data": {
            "text/plain": "<Figure size 864x360 with 2 Axes>",
            "image/svg+xml": "<?xml version=\"1.0\" encoding=\"utf-8\" standalone=\"no\"?>\r\n<!DOCTYPE svg PUBLIC \"-//W3C//DTD SVG 1.1//EN\"\r\n  \"http://www.w3.org/Graphics/SVG/1.1/DTD/svg11.dtd\">\r\n<svg height=\"322.067094pt\" version=\"1.1\" viewBox=\"0 0 714.907031 322.067094\" width=\"714.907031pt\" xmlns=\"http://www.w3.org/2000/svg\" xmlns:xlink=\"http://www.w3.org/1999/xlink\">\r\n <metadata>\r\n  <rdf:RDF xmlns:cc=\"http://creativecommons.org/ns#\" xmlns:dc=\"http://purl.org/dc/elements/1.1/\" xmlns:rdf=\"http://www.w3.org/1999/02/22-rdf-syntax-ns#\">\r\n   <cc:Work>\r\n    <dc:type rdf:resource=\"http://purl.org/dc/dcmitype/StillImage\"/>\r\n    <dc:date>2021-06-15T18:53:55.062062</dc:date>\r\n    <dc:format>image/svg+xml</dc:format>\r\n    <dc:creator>\r\n     <cc:Agent>\r\n      <dc:title>Matplotlib v3.4.2, https://matplotlib.org/</dc:title>\r\n     </cc:Agent>\r\n    </dc:creator>\r\n   </cc:Work>\r\n  </rdf:RDF>\r\n </metadata>\r\n <defs>\r\n  <style type=\"text/css\">*{stroke-linecap:butt;stroke-linejoin:round;}</style>\r\n </defs>\r\n <g id=\"figure_1\">\r\n  <g id=\"patch_1\">\r\n   <path d=\"M 0 322.067094 \r\nL 714.907031 322.067094 \r\nL 714.907031 0 \r\nL 0 0 \r\nz\r\n\" style=\"fill:#ffffff;\"/>\r\n  </g>\r\n  <g id=\"axes_1\">\r\n   <g id=\"patch_2\">\r\n    <path d=\"M 38.107031 295.30725 \r\nL 342.470668 295.30725 \r\nL 342.470668 23.50725 \r\nL 38.107031 23.50725 \r\nz\r\n\" style=\"fill:#e5e5e5;\"/>\r\n   </g>\r\n   <g id=\"matplotlib.axis_1\">\r\n    <g id=\"xtick_1\">\r\n     <g id=\"line2d_1\">\r\n      <path clip-path=\"url(#p8baac04a19)\" d=\"M 82.685544 295.30725 \r\nL 82.685544 23.50725 \r\n\" style=\"fill:none;stroke:#ffffff;stroke-linecap:round;\"/>\r\n     </g>\r\n     <g id=\"text_1\">\r\n      <!-- 2 -->\r\n      <g style=\"fill:#555555;\" transform=\"translate(79.627028 312.680844)scale(0.11 -0.11)\">\r\n       <defs>\r\n        <path d=\"M 3222 541 \r\nL 3222 0 \r\nL 194 0 \r\nQ 188 203 259 391 \r\nQ 375 700 629 1000 \r\nQ 884 1300 1366 1694 \r\nQ 2113 2306 2375 2664 \r\nQ 2638 3022 2638 3341 \r\nQ 2638 3675 2398 3904 \r\nQ 2159 4134 1775 4134 \r\nQ 1369 4134 1125 3890 \r\nQ 881 3647 878 3216 \r\nL 300 3275 \r\nQ 359 3922 746 4261 \r\nQ 1134 4600 1788 4600 \r\nQ 2447 4600 2831 4234 \r\nQ 3216 3869 3216 3328 \r\nQ 3216 3053 3103 2787 \r\nQ 2991 2522 2730 2228 \r\nQ 2469 1934 1863 1422 \r\nQ 1356 997 1212 845 \r\nQ 1069 694 975 541 \r\nL 3222 541 \r\nz\r\n\" id=\"ArialMT-32\" transform=\"scale(0.015625)\"/>\r\n       </defs>\r\n       <use xlink:href=\"#ArialMT-32\"/>\r\n      </g>\r\n     </g>\r\n    </g>\r\n    <g id=\"xtick_2\">\r\n     <g id=\"line2d_2\">\r\n      <path clip-path=\"url(#p8baac04a19)\" d=\"M 144.173147 295.30725 \r\nL 144.173147 23.50725 \r\n\" style=\"fill:none;stroke:#ffffff;stroke-linecap:round;\"/>\r\n     </g>\r\n     <g id=\"text_2\">\r\n      <!-- 4 -->\r\n      <g style=\"fill:#555555;\" transform=\"translate(141.114631 312.680844)scale(0.11 -0.11)\">\r\n       <defs>\r\n        <path d=\"M 2069 0 \r\nL 2069 1097 \r\nL 81 1097 \r\nL 81 1613 \r\nL 2172 4581 \r\nL 2631 4581 \r\nL 2631 1613 \r\nL 3250 1613 \r\nL 3250 1097 \r\nL 2631 1097 \r\nL 2631 0 \r\nL 2069 0 \r\nz\r\nM 2069 1613 \r\nL 2069 3678 \r\nL 634 1613 \r\nL 2069 1613 \r\nz\r\n\" id=\"ArialMT-34\" transform=\"scale(0.015625)\"/>\r\n       </defs>\r\n       <use xlink:href=\"#ArialMT-34\"/>\r\n      </g>\r\n     </g>\r\n    </g>\r\n    <g id=\"xtick_3\">\r\n     <g id=\"line2d_3\">\r\n      <path clip-path=\"url(#p8baac04a19)\" d=\"M 205.66075 295.30725 \r\nL 205.66075 23.50725 \r\n\" style=\"fill:none;stroke:#ffffff;stroke-linecap:round;\"/>\r\n     </g>\r\n     <g id=\"text_3\">\r\n      <!-- 6 -->\r\n      <g style=\"fill:#555555;\" transform=\"translate(202.602235 312.680844)scale(0.11 -0.11)\">\r\n       <defs>\r\n        <path d=\"M 3184 3459 \r\nL 2625 3416 \r\nQ 2550 3747 2413 3897 \r\nQ 2184 4138 1850 4138 \r\nQ 1581 4138 1378 3988 \r\nQ 1113 3794 959 3422 \r\nQ 806 3050 800 2363 \r\nQ 1003 2672 1297 2822 \r\nQ 1591 2972 1913 2972 \r\nQ 2475 2972 2870 2558 \r\nQ 3266 2144 3266 1488 \r\nQ 3266 1056 3080 686 \r\nQ 2894 316 2569 119 \r\nQ 2244 -78 1831 -78 \r\nQ 1128 -78 684 439 \r\nQ 241 956 241 2144 \r\nQ 241 3472 731 4075 \r\nQ 1159 4600 1884 4600 \r\nQ 2425 4600 2770 4297 \r\nQ 3116 3994 3184 3459 \r\nz\r\nM 888 1484 \r\nQ 888 1194 1011 928 \r\nQ 1134 663 1356 523 \r\nQ 1578 384 1822 384 \r\nQ 2178 384 2434 671 \r\nQ 2691 959 2691 1453 \r\nQ 2691 1928 2437 2201 \r\nQ 2184 2475 1800 2475 \r\nQ 1419 2475 1153 2201 \r\nQ 888 1928 888 1484 \r\nz\r\n\" id=\"ArialMT-36\" transform=\"scale(0.015625)\"/>\r\n       </defs>\r\n       <use xlink:href=\"#ArialMT-36\"/>\r\n      </g>\r\n     </g>\r\n    </g>\r\n    <g id=\"xtick_4\">\r\n     <g id=\"line2d_4\">\r\n      <path clip-path=\"url(#p8baac04a19)\" d=\"M 267.148354 295.30725 \r\nL 267.148354 23.50725 \r\n\" style=\"fill:none;stroke:#ffffff;stroke-linecap:round;\"/>\r\n     </g>\r\n     <g id=\"text_4\">\r\n      <!-- 8 -->\r\n      <g style=\"fill:#555555;\" transform=\"translate(264.089838 312.680844)scale(0.11 -0.11)\">\r\n       <defs>\r\n        <path d=\"M 1131 2484 \r\nQ 781 2613 612 2850 \r\nQ 444 3088 444 3419 \r\nQ 444 3919 803 4259 \r\nQ 1163 4600 1759 4600 \r\nQ 2359 4600 2725 4251 \r\nQ 3091 3903 3091 3403 \r\nQ 3091 3084 2923 2848 \r\nQ 2756 2613 2416 2484 \r\nQ 2838 2347 3058 2040 \r\nQ 3278 1734 3278 1309 \r\nQ 3278 722 2862 322 \r\nQ 2447 -78 1769 -78 \r\nQ 1091 -78 675 323 \r\nQ 259 725 259 1325 \r\nQ 259 1772 486 2073 \r\nQ 713 2375 1131 2484 \r\nz\r\nM 1019 3438 \r\nQ 1019 3113 1228 2906 \r\nQ 1438 2700 1772 2700 \r\nQ 2097 2700 2305 2904 \r\nQ 2513 3109 2513 3406 \r\nQ 2513 3716 2298 3927 \r\nQ 2084 4138 1766 4138 \r\nQ 1444 4138 1231 3931 \r\nQ 1019 3725 1019 3438 \r\nz\r\nM 838 1322 \r\nQ 838 1081 952 856 \r\nQ 1066 631 1291 507 \r\nQ 1516 384 1775 384 \r\nQ 2178 384 2440 643 \r\nQ 2703 903 2703 1303 \r\nQ 2703 1709 2433 1975 \r\nQ 2163 2241 1756 2241 \r\nQ 1359 2241 1098 1978 \r\nQ 838 1716 838 1322 \r\nz\r\n\" id=\"ArialMT-38\" transform=\"scale(0.015625)\"/>\r\n       </defs>\r\n       <use xlink:href=\"#ArialMT-38\"/>\r\n      </g>\r\n     </g>\r\n    </g>\r\n    <g id=\"xtick_5\">\r\n     <g id=\"line2d_5\">\r\n      <path clip-path=\"url(#p8baac04a19)\" d=\"M 328.635957 295.30725 \r\nL 328.635957 23.50725 \r\n\" style=\"fill:none;stroke:#ffffff;stroke-linecap:round;\"/>\r\n     </g>\r\n     <g id=\"text_5\">\r\n      <!-- 10 -->\r\n      <g style=\"fill:#555555;\" transform=\"translate(322.518926 312.680844)scale(0.11 -0.11)\">\r\n       <defs>\r\n        <path d=\"M 2384 0 \r\nL 1822 0 \r\nL 1822 3584 \r\nQ 1619 3391 1289 3197 \r\nQ 959 3003 697 2906 \r\nL 697 3450 \r\nQ 1169 3672 1522 3987 \r\nQ 1875 4303 2022 4600 \r\nL 2384 4600 \r\nL 2384 0 \r\nz\r\n\" id=\"ArialMT-31\" transform=\"scale(0.015625)\"/>\r\n        <path d=\"M 266 2259 \r\nQ 266 3072 433 3567 \r\nQ 600 4063 929 4331 \r\nQ 1259 4600 1759 4600 \r\nQ 2128 4600 2406 4451 \r\nQ 2684 4303 2865 4023 \r\nQ 3047 3744 3150 3342 \r\nQ 3253 2941 3253 2259 \r\nQ 3253 1453 3087 958 \r\nQ 2922 463 2592 192 \r\nQ 2263 -78 1759 -78 \r\nQ 1097 -78 719 397 \r\nQ 266 969 266 2259 \r\nz\r\nM 844 2259 \r\nQ 844 1131 1108 757 \r\nQ 1372 384 1759 384 \r\nQ 2147 384 2411 759 \r\nQ 2675 1134 2675 2259 \r\nQ 2675 3391 2411 3762 \r\nQ 2147 4134 1753 4134 \r\nQ 1366 4134 1134 3806 \r\nQ 844 3388 844 2259 \r\nz\r\n\" id=\"ArialMT-30\" transform=\"scale(0.015625)\"/>\r\n       </defs>\r\n       <use xlink:href=\"#ArialMT-31\"/>\r\n       <use x=\"55.615234\" xlink:href=\"#ArialMT-30\"/>\r\n      </g>\r\n     </g>\r\n    </g>\r\n   </g>\r\n   <g id=\"matplotlib.axis_2\">\r\n    <g id=\"ytick_1\">\r\n     <g id=\"line2d_6\">\r\n      <path clip-path=\"url(#p8baac04a19)\" d=\"M 38.107031 278.729243 \r\nL 342.470668 278.729243 \r\n\" style=\"fill:none;stroke:#ffffff;stroke-linecap:round;\"/>\r\n     </g>\r\n     <g id=\"text_6\">\r\n      <!-- 0.60 -->\r\n      <g style=\"fill:#555555;\" transform=\"translate(7.2 282.66604)scale(0.11 -0.11)\">\r\n       <defs>\r\n        <path d=\"M 581 0 \r\nL 581 641 \r\nL 1222 641 \r\nL 1222 0 \r\nL 581 0 \r\nz\r\n\" id=\"ArialMT-2e\" transform=\"scale(0.015625)\"/>\r\n       </defs>\r\n       <use xlink:href=\"#ArialMT-30\"/>\r\n       <use x=\"55.615234\" xlink:href=\"#ArialMT-2e\"/>\r\n       <use x=\"83.398438\" xlink:href=\"#ArialMT-36\"/>\r\n       <use x=\"139.013672\" xlink:href=\"#ArialMT-30\"/>\r\n      </g>\r\n     </g>\r\n    </g>\r\n    <g id=\"ytick_2\">\r\n     <g id=\"line2d_7\">\r\n      <path clip-path=\"url(#p8baac04a19)\" d=\"M 38.107031 240.863875 \r\nL 342.470668 240.863875 \r\n\" style=\"fill:none;stroke:#ffffff;stroke-linecap:round;\"/>\r\n     </g>\r\n     <g id=\"text_7\">\r\n      <!-- 0.65 -->\r\n      <g style=\"fill:#555555;\" transform=\"translate(7.2 244.800671)scale(0.11 -0.11)\">\r\n       <defs>\r\n        <path d=\"M 266 1200 \r\nL 856 1250 \r\nQ 922 819 1161 601 \r\nQ 1400 384 1738 384 \r\nQ 2144 384 2425 690 \r\nQ 2706 997 2706 1503 \r\nQ 2706 1984 2436 2262 \r\nQ 2166 2541 1728 2541 \r\nQ 1456 2541 1237 2417 \r\nQ 1019 2294 894 2097 \r\nL 366 2166 \r\nL 809 4519 \r\nL 3088 4519 \r\nL 3088 3981 \r\nL 1259 3981 \r\nL 1013 2750 \r\nQ 1425 3038 1878 3038 \r\nQ 2478 3038 2890 2622 \r\nQ 3303 2206 3303 1553 \r\nQ 3303 931 2941 478 \r\nQ 2500 -78 1738 -78 \r\nQ 1113 -78 717 272 \r\nQ 322 622 266 1200 \r\nz\r\n\" id=\"ArialMT-35\" transform=\"scale(0.015625)\"/>\r\n       </defs>\r\n       <use xlink:href=\"#ArialMT-30\"/>\r\n       <use x=\"55.615234\" xlink:href=\"#ArialMT-2e\"/>\r\n       <use x=\"83.398438\" xlink:href=\"#ArialMT-36\"/>\r\n       <use x=\"139.013672\" xlink:href=\"#ArialMT-35\"/>\r\n      </g>\r\n     </g>\r\n    </g>\r\n    <g id=\"ytick_3\">\r\n     <g id=\"line2d_8\">\r\n      <path clip-path=\"url(#p8baac04a19)\" d=\"M 38.107031 202.998506 \r\nL 342.470668 202.998506 \r\n\" style=\"fill:none;stroke:#ffffff;stroke-linecap:round;\"/>\r\n     </g>\r\n     <g id=\"text_8\">\r\n      <!-- 0.70 -->\r\n      <g style=\"fill:#555555;\" transform=\"translate(7.2 206.935303)scale(0.11 -0.11)\">\r\n       <defs>\r\n        <path d=\"M 303 3981 \r\nL 303 4522 \r\nL 3269 4522 \r\nL 3269 4084 \r\nQ 2831 3619 2401 2847 \r\nQ 1972 2075 1738 1259 \r\nQ 1569 684 1522 0 \r\nL 944 0 \r\nQ 953 541 1156 1306 \r\nQ 1359 2072 1739 2783 \r\nQ 2119 3494 2547 3981 \r\nL 303 3981 \r\nz\r\n\" id=\"ArialMT-37\" transform=\"scale(0.015625)\"/>\r\n       </defs>\r\n       <use xlink:href=\"#ArialMT-30\"/>\r\n       <use x=\"55.615234\" xlink:href=\"#ArialMT-2e\"/>\r\n       <use x=\"83.398438\" xlink:href=\"#ArialMT-37\"/>\r\n       <use x=\"139.013672\" xlink:href=\"#ArialMT-30\"/>\r\n      </g>\r\n     </g>\r\n    </g>\r\n    <g id=\"ytick_4\">\r\n     <g id=\"line2d_9\">\r\n      <path clip-path=\"url(#p8baac04a19)\" d=\"M 38.107031 165.133137 \r\nL 342.470668 165.133137 \r\n\" style=\"fill:none;stroke:#ffffff;stroke-linecap:round;\"/>\r\n     </g>\r\n     <g id=\"text_9\">\r\n      <!-- 0.75 -->\r\n      <g style=\"fill:#555555;\" transform=\"translate(7.2 169.069934)scale(0.11 -0.11)\">\r\n       <use xlink:href=\"#ArialMT-30\"/>\r\n       <use x=\"55.615234\" xlink:href=\"#ArialMT-2e\"/>\r\n       <use x=\"83.398438\" xlink:href=\"#ArialMT-37\"/>\r\n       <use x=\"139.013672\" xlink:href=\"#ArialMT-35\"/>\r\n      </g>\r\n     </g>\r\n    </g>\r\n    <g id=\"ytick_5\">\r\n     <g id=\"line2d_10\">\r\n      <path clip-path=\"url(#p8baac04a19)\" d=\"M 38.107031 127.267768 \r\nL 342.470668 127.267768 \r\n\" style=\"fill:none;stroke:#ffffff;stroke-linecap:round;\"/>\r\n     </g>\r\n     <g id=\"text_10\">\r\n      <!-- 0.80 -->\r\n      <g style=\"fill:#555555;\" transform=\"translate(7.2 131.204565)scale(0.11 -0.11)\">\r\n       <use xlink:href=\"#ArialMT-30\"/>\r\n       <use x=\"55.615234\" xlink:href=\"#ArialMT-2e\"/>\r\n       <use x=\"83.398438\" xlink:href=\"#ArialMT-38\"/>\r\n       <use x=\"139.013672\" xlink:href=\"#ArialMT-30\"/>\r\n      </g>\r\n     </g>\r\n    </g>\r\n    <g id=\"ytick_6\">\r\n     <g id=\"line2d_11\">\r\n      <path clip-path=\"url(#p8baac04a19)\" d=\"M 38.107031 89.402399 \r\nL 342.470668 89.402399 \r\n\" style=\"fill:none;stroke:#ffffff;stroke-linecap:round;\"/>\r\n     </g>\r\n     <g id=\"text_11\">\r\n      <!-- 0.85 -->\r\n      <g style=\"fill:#555555;\" transform=\"translate(7.2 93.339196)scale(0.11 -0.11)\">\r\n       <use xlink:href=\"#ArialMT-30\"/>\r\n       <use x=\"55.615234\" xlink:href=\"#ArialMT-2e\"/>\r\n       <use x=\"83.398438\" xlink:href=\"#ArialMT-38\"/>\r\n       <use x=\"139.013672\" xlink:href=\"#ArialMT-35\"/>\r\n      </g>\r\n     </g>\r\n    </g>\r\n    <g id=\"ytick_7\">\r\n     <g id=\"line2d_12\">\r\n      <path clip-path=\"url(#p8baac04a19)\" d=\"M 38.107031 51.53703 \r\nL 342.470668 51.53703 \r\n\" style=\"fill:none;stroke:#ffffff;stroke-linecap:round;\"/>\r\n     </g>\r\n     <g id=\"text_12\">\r\n      <!-- 0.90 -->\r\n      <g style=\"fill:#555555;\" transform=\"translate(7.2 55.473827)scale(0.11 -0.11)\">\r\n       <defs>\r\n        <path d=\"M 350 1059 \r\nL 891 1109 \r\nQ 959 728 1153 556 \r\nQ 1347 384 1650 384 \r\nQ 1909 384 2104 503 \r\nQ 2300 622 2425 820 \r\nQ 2550 1019 2634 1356 \r\nQ 2719 1694 2719 2044 \r\nQ 2719 2081 2716 2156 \r\nQ 2547 1888 2255 1720 \r\nQ 1963 1553 1622 1553 \r\nQ 1053 1553 659 1965 \r\nQ 266 2378 266 3053 \r\nQ 266 3750 677 4175 \r\nQ 1088 4600 1706 4600 \r\nQ 2153 4600 2523 4359 \r\nQ 2894 4119 3086 3673 \r\nQ 3278 3228 3278 2384 \r\nQ 3278 1506 3087 986 \r\nQ 2897 466 2520 194 \r\nQ 2144 -78 1638 -78 \r\nQ 1100 -78 759 220 \r\nQ 419 519 350 1059 \r\nz\r\nM 2653 3081 \r\nQ 2653 3566 2395 3850 \r\nQ 2138 4134 1775 4134 \r\nQ 1400 4134 1122 3828 \r\nQ 844 3522 844 3034 \r\nQ 844 2597 1108 2323 \r\nQ 1372 2050 1759 2050 \r\nQ 2150 2050 2401 2323 \r\nQ 2653 2597 2653 3081 \r\nz\r\n\" id=\"ArialMT-39\" transform=\"scale(0.015625)\"/>\r\n       </defs>\r\n       <use xlink:href=\"#ArialMT-30\"/>\r\n       <use x=\"55.615234\" xlink:href=\"#ArialMT-2e\"/>\r\n       <use x=\"83.398438\" xlink:href=\"#ArialMT-39\"/>\r\n       <use x=\"139.013672\" xlink:href=\"#ArialMT-30\"/>\r\n      </g>\r\n     </g>\r\n    </g>\r\n   </g>\r\n   <g id=\"line2d_13\">\r\n    <path clip-path=\"url(#p8baac04a19)\" d=\"M 51.941742 282.952705 \r\nL 82.685544 103.78571 \r\nL 113.429345 84.412306 \r\nL 144.173147 75.523075 \r\nL 174.916949 68.165006 \r\nL 205.66075 59.786162 \r\nL 236.404552 50.811845 \r\nL 267.148354 45.580411 \r\nL 297.892155 40.519061 \r\nL 328.635957 35.861795 \r\n\" style=\"fill:none;stroke:#4c72b0;stroke-linecap:round;stroke-width:1.5;\"/>\r\n   </g>\r\n   <g id=\"line2d_14\">\r\n    <path clip-path=\"url(#p8baac04a19)\" d=\"M 51.941742 183.868049 \r\nL 82.685544 96.254126 \r\nL 113.429345 88.683632 \r\nL 144.173147 82.048781 \r\nL 174.916949 75.839274 \r\nL 205.66075 71.330968 \r\nL 236.404552 68.523906 \r\nL 267.148354 67.673306 \r\nL 297.892155 68.098606 \r\nL 328.635957 67.843435 \r\n\" style=\"fill:none;stroke:#c44e52;stroke-linecap:round;stroke-width:1.5;\"/>\r\n   </g>\r\n   <g id=\"patch_3\">\r\n    <path d=\"M 38.107031 295.30725 \r\nL 38.107031 23.50725 \r\n\" style=\"fill:none;stroke:#ffffff;stroke-linecap:square;stroke-linejoin:miter;\"/>\r\n   </g>\r\n   <g id=\"patch_4\">\r\n    <path d=\"M 342.470668 295.30725 \r\nL 342.470668 23.50725 \r\n\" style=\"fill:none;stroke:#ffffff;stroke-linecap:square;stroke-linejoin:miter;\"/>\r\n   </g>\r\n   <g id=\"patch_5\">\r\n    <path d=\"M 38.107031 295.30725 \r\nL 342.470668 295.30725 \r\n\" style=\"fill:none;stroke:#ffffff;stroke-linecap:square;stroke-linejoin:miter;\"/>\r\n   </g>\r\n   <g id=\"patch_6\">\r\n    <path d=\"M 38.107031 23.50725 \r\nL 342.470668 23.50725 \r\n\" style=\"fill:none;stroke:#ffffff;stroke-linecap:square;stroke-linejoin:miter;\"/>\r\n   </g>\r\n   <g id=\"text_13\">\r\n    <!-- Training and validation accuracy -->\r\n    <g style=\"fill:#262626;\" transform=\"translate(87.308599 17.50725)scale(0.144 -0.144)\">\r\n     <defs>\r\n      <path d=\"M 1659 0 \r\nL 1659 4041 \r\nL 150 4041 \r\nL 150 4581 \r\nL 3781 4581 \r\nL 3781 4041 \r\nL 2266 4041 \r\nL 2266 0 \r\nL 1659 0 \r\nz\r\n\" id=\"ArialMT-54\" transform=\"scale(0.015625)\"/>\r\n      <path d=\"M 416 0 \r\nL 416 3319 \r\nL 922 3319 \r\nL 922 2816 \r\nQ 1116 3169 1280 3281 \r\nQ 1444 3394 1641 3394 \r\nQ 1925 3394 2219 3213 \r\nL 2025 2691 \r\nQ 1819 2813 1613 2813 \r\nQ 1428 2813 1281 2702 \r\nQ 1134 2591 1072 2394 \r\nQ 978 2094 978 1738 \r\nL 978 0 \r\nL 416 0 \r\nz\r\n\" id=\"ArialMT-72\" transform=\"scale(0.015625)\"/>\r\n      <path d=\"M 2588 409 \r\nQ 2275 144 1986 34 \r\nQ 1697 -75 1366 -75 \r\nQ 819 -75 525 192 \r\nQ 231 459 231 875 \r\nQ 231 1119 342 1320 \r\nQ 453 1522 633 1644 \r\nQ 813 1766 1038 1828 \r\nQ 1203 1872 1538 1913 \r\nQ 2219 1994 2541 2106 \r\nQ 2544 2222 2544 2253 \r\nQ 2544 2597 2384 2738 \r\nQ 2169 2928 1744 2928 \r\nQ 1347 2928 1158 2789 \r\nQ 969 2650 878 2297 \r\nL 328 2372 \r\nQ 403 2725 575 2942 \r\nQ 747 3159 1072 3276 \r\nQ 1397 3394 1825 3394 \r\nQ 2250 3394 2515 3294 \r\nQ 2781 3194 2906 3042 \r\nQ 3031 2891 3081 2659 \r\nQ 3109 2516 3109 2141 \r\nL 3109 1391 \r\nQ 3109 606 3145 398 \r\nQ 3181 191 3288 0 \r\nL 2700 0 \r\nQ 2613 175 2588 409 \r\nz\r\nM 2541 1666 \r\nQ 2234 1541 1622 1453 \r\nQ 1275 1403 1131 1340 \r\nQ 988 1278 909 1158 \r\nQ 831 1038 831 891 \r\nQ 831 666 1001 516 \r\nQ 1172 366 1500 366 \r\nQ 1825 366 2078 508 \r\nQ 2331 650 2450 897 \r\nQ 2541 1088 2541 1459 \r\nL 2541 1666 \r\nz\r\n\" id=\"ArialMT-61\" transform=\"scale(0.015625)\"/>\r\n      <path d=\"M 425 3934 \r\nL 425 4581 \r\nL 988 4581 \r\nL 988 3934 \r\nL 425 3934 \r\nz\r\nM 425 0 \r\nL 425 3319 \r\nL 988 3319 \r\nL 988 0 \r\nL 425 0 \r\nz\r\n\" id=\"ArialMT-69\" transform=\"scale(0.015625)\"/>\r\n      <path d=\"M 422 0 \r\nL 422 3319 \r\nL 928 3319 \r\nL 928 2847 \r\nQ 1294 3394 1984 3394 \r\nQ 2284 3394 2536 3286 \r\nQ 2788 3178 2913 3003 \r\nQ 3038 2828 3088 2588 \r\nQ 3119 2431 3119 2041 \r\nL 3119 0 \r\nL 2556 0 \r\nL 2556 2019 \r\nQ 2556 2363 2490 2533 \r\nQ 2425 2703 2258 2804 \r\nQ 2091 2906 1866 2906 \r\nQ 1506 2906 1245 2678 \r\nQ 984 2450 984 1813 \r\nL 984 0 \r\nL 422 0 \r\nz\r\n\" id=\"ArialMT-6e\" transform=\"scale(0.015625)\"/>\r\n      <path d=\"M 319 -275 \r\nL 866 -356 \r\nQ 900 -609 1056 -725 \r\nQ 1266 -881 1628 -881 \r\nQ 2019 -881 2231 -725 \r\nQ 2444 -569 2519 -288 \r\nQ 2563 -116 2559 434 \r\nQ 2191 0 1641 0 \r\nQ 956 0 581 494 \r\nQ 206 988 206 1678 \r\nQ 206 2153 378 2554 \r\nQ 550 2956 876 3175 \r\nQ 1203 3394 1644 3394 \r\nQ 2231 3394 2613 2919 \r\nL 2613 3319 \r\nL 3131 3319 \r\nL 3131 450 \r\nQ 3131 -325 2973 -648 \r\nQ 2816 -972 2473 -1159 \r\nQ 2131 -1347 1631 -1347 \r\nQ 1038 -1347 672 -1080 \r\nQ 306 -813 319 -275 \r\nz\r\nM 784 1719 \r\nQ 784 1066 1043 766 \r\nQ 1303 466 1694 466 \r\nQ 2081 466 2343 764 \r\nQ 2606 1063 2606 1700 \r\nQ 2606 2309 2336 2618 \r\nQ 2066 2928 1684 2928 \r\nQ 1309 2928 1046 2623 \r\nQ 784 2319 784 1719 \r\nz\r\n\" id=\"ArialMT-67\" transform=\"scale(0.015625)\"/>\r\n      <path id=\"ArialMT-20\" transform=\"scale(0.015625)\"/>\r\n      <path d=\"M 2575 0 \r\nL 2575 419 \r\nQ 2259 -75 1647 -75 \r\nQ 1250 -75 917 144 \r\nQ 584 363 401 755 \r\nQ 219 1147 219 1656 \r\nQ 219 2153 384 2558 \r\nQ 550 2963 881 3178 \r\nQ 1213 3394 1622 3394 \r\nQ 1922 3394 2156 3267 \r\nQ 2391 3141 2538 2938 \r\nL 2538 4581 \r\nL 3097 4581 \r\nL 3097 0 \r\nL 2575 0 \r\nz\r\nM 797 1656 \r\nQ 797 1019 1065 703 \r\nQ 1334 388 1700 388 \r\nQ 2069 388 2326 689 \r\nQ 2584 991 2584 1609 \r\nQ 2584 2291 2321 2609 \r\nQ 2059 2928 1675 2928 \r\nQ 1300 2928 1048 2622 \r\nQ 797 2316 797 1656 \r\nz\r\n\" id=\"ArialMT-64\" transform=\"scale(0.015625)\"/>\r\n      <path d=\"M 1344 0 \r\nL 81 3319 \r\nL 675 3319 \r\nL 1388 1331 \r\nQ 1503 1009 1600 663 \r\nQ 1675 925 1809 1294 \r\nL 2547 3319 \r\nL 3125 3319 \r\nL 1869 0 \r\nL 1344 0 \r\nz\r\n\" id=\"ArialMT-76\" transform=\"scale(0.015625)\"/>\r\n      <path d=\"M 409 0 \r\nL 409 4581 \r\nL 972 4581 \r\nL 972 0 \r\nL 409 0 \r\nz\r\n\" id=\"ArialMT-6c\" transform=\"scale(0.015625)\"/>\r\n      <path d=\"M 1650 503 \r\nL 1731 6 \r\nQ 1494 -44 1306 -44 \r\nQ 1000 -44 831 53 \r\nQ 663 150 594 308 \r\nQ 525 466 525 972 \r\nL 525 2881 \r\nL 113 2881 \r\nL 113 3319 \r\nL 525 3319 \r\nL 525 4141 \r\nL 1084 4478 \r\nL 1084 3319 \r\nL 1650 3319 \r\nL 1650 2881 \r\nL 1084 2881 \r\nL 1084 941 \r\nQ 1084 700 1114 631 \r\nQ 1144 563 1211 522 \r\nQ 1278 481 1403 481 \r\nQ 1497 481 1650 503 \r\nz\r\n\" id=\"ArialMT-74\" transform=\"scale(0.015625)\"/>\r\n      <path d=\"M 213 1659 \r\nQ 213 2581 725 3025 \r\nQ 1153 3394 1769 3394 \r\nQ 2453 3394 2887 2945 \r\nQ 3322 2497 3322 1706 \r\nQ 3322 1066 3130 698 \r\nQ 2938 331 2570 128 \r\nQ 2203 -75 1769 -75 \r\nQ 1072 -75 642 372 \r\nQ 213 819 213 1659 \r\nz\r\nM 791 1659 \r\nQ 791 1022 1069 705 \r\nQ 1347 388 1769 388 \r\nQ 2188 388 2466 706 \r\nQ 2744 1025 2744 1678 \r\nQ 2744 2294 2464 2611 \r\nQ 2184 2928 1769 2928 \r\nQ 1347 2928 1069 2612 \r\nQ 791 2297 791 1659 \r\nz\r\n\" id=\"ArialMT-6f\" transform=\"scale(0.015625)\"/>\r\n      <path d=\"M 2588 1216 \r\nL 3141 1144 \r\nQ 3050 572 2676 248 \r\nQ 2303 -75 1759 -75 \r\nQ 1078 -75 664 370 \r\nQ 250 816 250 1647 \r\nQ 250 2184 428 2587 \r\nQ 606 2991 970 3192 \r\nQ 1334 3394 1763 3394 \r\nQ 2303 3394 2647 3120 \r\nQ 2991 2847 3088 2344 \r\nL 2541 2259 \r\nQ 2463 2594 2264 2762 \r\nQ 2066 2931 1784 2931 \r\nQ 1359 2931 1093 2626 \r\nQ 828 2322 828 1663 \r\nQ 828 994 1084 691 \r\nQ 1341 388 1753 388 \r\nQ 2084 388 2306 591 \r\nQ 2528 794 2588 1216 \r\nz\r\n\" id=\"ArialMT-63\" transform=\"scale(0.015625)\"/>\r\n      <path d=\"M 2597 0 \r\nL 2597 488 \r\nQ 2209 -75 1544 -75 \r\nQ 1250 -75 995 37 \r\nQ 741 150 617 320 \r\nQ 494 491 444 738 \r\nQ 409 903 409 1263 \r\nL 409 3319 \r\nL 972 3319 \r\nL 972 1478 \r\nQ 972 1038 1006 884 \r\nQ 1059 663 1231 536 \r\nQ 1403 409 1656 409 \r\nQ 1909 409 2131 539 \r\nQ 2353 669 2445 892 \r\nQ 2538 1116 2538 1541 \r\nL 2538 3319 \r\nL 3100 3319 \r\nL 3100 0 \r\nL 2597 0 \r\nz\r\n\" id=\"ArialMT-75\" transform=\"scale(0.015625)\"/>\r\n      <path d=\"M 397 -1278 \r\nL 334 -750 \r\nQ 519 -800 656 -800 \r\nQ 844 -800 956 -737 \r\nQ 1069 -675 1141 -563 \r\nQ 1194 -478 1313 -144 \r\nQ 1328 -97 1363 -6 \r\nL 103 3319 \r\nL 709 3319 \r\nL 1400 1397 \r\nQ 1534 1031 1641 628 \r\nQ 1738 1016 1872 1384 \r\nL 2581 3319 \r\nL 3144 3319 \r\nL 1881 -56 \r\nQ 1678 -603 1566 -809 \r\nQ 1416 -1088 1222 -1217 \r\nQ 1028 -1347 759 -1347 \r\nQ 597 -1347 397 -1278 \r\nz\r\n\" id=\"ArialMT-79\" transform=\"scale(0.015625)\"/>\r\n     </defs>\r\n     <use xlink:href=\"#ArialMT-54\"/>\r\n     <use x=\"57.333984\" xlink:href=\"#ArialMT-72\"/>\r\n     <use x=\"90.634766\" xlink:href=\"#ArialMT-61\"/>\r\n     <use x=\"146.25\" xlink:href=\"#ArialMT-69\"/>\r\n     <use x=\"168.466797\" xlink:href=\"#ArialMT-6e\"/>\r\n     <use x=\"224.082031\" xlink:href=\"#ArialMT-69\"/>\r\n     <use x=\"246.298828\" xlink:href=\"#ArialMT-6e\"/>\r\n     <use x=\"301.914062\" xlink:href=\"#ArialMT-67\"/>\r\n     <use x=\"357.529297\" xlink:href=\"#ArialMT-20\"/>\r\n     <use x=\"385.3125\" xlink:href=\"#ArialMT-61\"/>\r\n     <use x=\"440.927734\" xlink:href=\"#ArialMT-6e\"/>\r\n     <use x=\"496.542969\" xlink:href=\"#ArialMT-64\"/>\r\n     <use x=\"552.158203\" xlink:href=\"#ArialMT-20\"/>\r\n     <use x=\"579.941406\" xlink:href=\"#ArialMT-76\"/>\r\n     <use x=\"629.941406\" xlink:href=\"#ArialMT-61\"/>\r\n     <use x=\"685.556641\" xlink:href=\"#ArialMT-6c\"/>\r\n     <use x=\"707.773438\" xlink:href=\"#ArialMT-69\"/>\r\n     <use x=\"729.990234\" xlink:href=\"#ArialMT-64\"/>\r\n     <use x=\"785.605469\" xlink:href=\"#ArialMT-61\"/>\r\n     <use x=\"841.220703\" xlink:href=\"#ArialMT-74\"/>\r\n     <use x=\"869.003906\" xlink:href=\"#ArialMT-69\"/>\r\n     <use x=\"891.220703\" xlink:href=\"#ArialMT-6f\"/>\r\n     <use x=\"946.835938\" xlink:href=\"#ArialMT-6e\"/>\r\n     <use x=\"1002.451172\" xlink:href=\"#ArialMT-20\"/>\r\n     <use x=\"1030.234375\" xlink:href=\"#ArialMT-61\"/>\r\n     <use x=\"1085.849609\" xlink:href=\"#ArialMT-63\"/>\r\n     <use x=\"1135.849609\" xlink:href=\"#ArialMT-63\"/>\r\n     <use x=\"1185.849609\" xlink:href=\"#ArialMT-75\"/>\r\n     <use x=\"1241.464844\" xlink:href=\"#ArialMT-72\"/>\r\n     <use x=\"1274.765625\" xlink:href=\"#ArialMT-61\"/>\r\n     <use x=\"1330.380859\" xlink:href=\"#ArialMT-63\"/>\r\n     <use x=\"1380.380859\" xlink:href=\"#ArialMT-79\"/>\r\n    </g>\r\n   </g>\r\n   <g id=\"legend_1\">\r\n    <g id=\"patch_7\">\r\n     <path d=\"M 45.807031 63.555844 \r\nL 148.679375 63.555844 \r\nQ 150.879375 63.555844 150.879375 61.355844 \r\nL 150.879375 31.20725 \r\nQ 150.879375 29.00725 148.679375 29.00725 \r\nL 45.807031 29.00725 \r\nQ 43.607031 29.00725 43.607031 31.20725 \r\nL 43.607031 61.355844 \r\nQ 43.607031 63.555844 45.807031 63.555844 \r\nz\r\n\" style=\"fill:#e5e5e5;opacity:0.8;stroke:#cccccc;stroke-linejoin:miter;stroke-width:0.5;\"/>\r\n    </g>\r\n    <g id=\"line2d_15\">\r\n     <path d=\"M 48.007031 37.430844 \r\nL 70.007031 37.430844 \r\n\" style=\"fill:none;stroke:#4c72b0;stroke-linecap:round;stroke-width:1.5;\"/>\r\n    </g>\r\n    <g id=\"line2d_16\"/>\r\n    <g id=\"text_14\">\r\n     <!-- Training acc -->\r\n     <g style=\"fill:#262626;\" transform=\"translate(78.807031 41.280844)scale(0.11 -0.11)\">\r\n      <use xlink:href=\"#ArialMT-54\"/>\r\n      <use x=\"57.333984\" xlink:href=\"#ArialMT-72\"/>\r\n      <use x=\"90.634766\" xlink:href=\"#ArialMT-61\"/>\r\n      <use x=\"146.25\" xlink:href=\"#ArialMT-69\"/>\r\n      <use x=\"168.466797\" xlink:href=\"#ArialMT-6e\"/>\r\n      <use x=\"224.082031\" xlink:href=\"#ArialMT-69\"/>\r\n      <use x=\"246.298828\" xlink:href=\"#ArialMT-6e\"/>\r\n      <use x=\"301.914062\" xlink:href=\"#ArialMT-67\"/>\r\n      <use x=\"357.529297\" xlink:href=\"#ArialMT-20\"/>\r\n      <use x=\"385.3125\" xlink:href=\"#ArialMT-61\"/>\r\n      <use x=\"440.927734\" xlink:href=\"#ArialMT-63\"/>\r\n      <use x=\"490.927734\" xlink:href=\"#ArialMT-63\"/>\r\n     </g>\r\n    </g>\r\n    <g id=\"line2d_17\">\r\n     <path d=\"M 48.007031 53.119594 \r\nL 70.007031 53.119594 \r\n\" style=\"fill:none;stroke:#c44e52;stroke-linecap:round;stroke-width:1.5;\"/>\r\n    </g>\r\n    <g id=\"line2d_18\"/>\r\n    <g id=\"text_15\">\r\n     <!-- Validation acc -->\r\n     <g style=\"fill:#262626;\" transform=\"translate(78.807031 56.969594)scale(0.11 -0.11)\">\r\n      <defs>\r\n       <path d=\"M 1803 0 \r\nL 28 4581 \r\nL 684 4581 \r\nL 1875 1253 \r\nQ 2019 853 2116 503 \r\nQ 2222 878 2363 1253 \r\nL 3600 4581 \r\nL 4219 4581 \r\nL 2425 0 \r\nL 1803 0 \r\nz\r\n\" id=\"ArialMT-56\" transform=\"scale(0.015625)\"/>\r\n      </defs>\r\n      <use xlink:href=\"#ArialMT-56\"/>\r\n      <use x=\"59.324219\" xlink:href=\"#ArialMT-61\"/>\r\n      <use x=\"114.939453\" xlink:href=\"#ArialMT-6c\"/>\r\n      <use x=\"137.15625\" xlink:href=\"#ArialMT-69\"/>\r\n      <use x=\"159.373047\" xlink:href=\"#ArialMT-64\"/>\r\n      <use x=\"214.988281\" xlink:href=\"#ArialMT-61\"/>\r\n      <use x=\"270.603516\" xlink:href=\"#ArialMT-74\"/>\r\n      <use x=\"298.386719\" xlink:href=\"#ArialMT-69\"/>\r\n      <use x=\"320.603516\" xlink:href=\"#ArialMT-6f\"/>\r\n      <use x=\"376.21875\" xlink:href=\"#ArialMT-6e\"/>\r\n      <use x=\"431.833984\" xlink:href=\"#ArialMT-20\"/>\r\n      <use x=\"459.617188\" xlink:href=\"#ArialMT-61\"/>\r\n      <use x=\"515.232422\" xlink:href=\"#ArialMT-63\"/>\r\n      <use x=\"565.232422\" xlink:href=\"#ArialMT-63\"/>\r\n     </g>\r\n    </g>\r\n   </g>\r\n  </g>\r\n  <g id=\"axes_2\">\r\n   <g id=\"patch_8\">\r\n    <path d=\"M 403.343395 295.30725 \r\nL 707.707031 295.30725 \r\nL 707.707031 23.50725 \r\nL 403.343395 23.50725 \r\nz\r\n\" style=\"fill:#e5e5e5;\"/>\r\n   </g>\r\n   <g id=\"matplotlib.axis_3\">\r\n    <g id=\"xtick_6\">\r\n     <g id=\"line2d_19\">\r\n      <path clip-path=\"url(#p322b8ef2b2)\" d=\"M 447.921907 295.30725 \r\nL 447.921907 23.50725 \r\n\" style=\"fill:none;stroke:#ffffff;stroke-linecap:round;\"/>\r\n     </g>\r\n     <g id=\"text_16\">\r\n      <!-- 2 -->\r\n      <g style=\"fill:#555555;\" transform=\"translate(444.863392 312.680844)scale(0.11 -0.11)\">\r\n       <use xlink:href=\"#ArialMT-32\"/>\r\n      </g>\r\n     </g>\r\n    </g>\r\n    <g id=\"xtick_7\">\r\n     <g id=\"line2d_20\">\r\n      <path clip-path=\"url(#p322b8ef2b2)\" d=\"M 509.409511 295.30725 \r\nL 509.409511 23.50725 \r\n\" style=\"fill:none;stroke:#ffffff;stroke-linecap:round;\"/>\r\n     </g>\r\n     <g id=\"text_17\">\r\n      <!-- 4 -->\r\n      <g style=\"fill:#555555;\" transform=\"translate(506.350995 312.680844)scale(0.11 -0.11)\">\r\n       <use xlink:href=\"#ArialMT-34\"/>\r\n      </g>\r\n     </g>\r\n    </g>\r\n    <g id=\"xtick_8\">\r\n     <g id=\"line2d_21\">\r\n      <path clip-path=\"url(#p322b8ef2b2)\" d=\"M 570.897114 295.30725 \r\nL 570.897114 23.50725 \r\n\" style=\"fill:none;stroke:#ffffff;stroke-linecap:round;\"/>\r\n     </g>\r\n     <g id=\"text_18\">\r\n      <!-- 6 -->\r\n      <g style=\"fill:#555555;\" transform=\"translate(567.838598 312.680844)scale(0.11 -0.11)\">\r\n       <use xlink:href=\"#ArialMT-36\"/>\r\n      </g>\r\n     </g>\r\n    </g>\r\n    <g id=\"xtick_9\">\r\n     <g id=\"line2d_22\">\r\n      <path clip-path=\"url(#p322b8ef2b2)\" d=\"M 632.384717 295.30725 \r\nL 632.384717 23.50725 \r\n\" style=\"fill:none;stroke:#ffffff;stroke-linecap:round;\"/>\r\n     </g>\r\n     <g id=\"text_19\">\r\n      <!-- 8 -->\r\n      <g style=\"fill:#555555;\" transform=\"translate(629.326202 312.680844)scale(0.11 -0.11)\">\r\n       <use xlink:href=\"#ArialMT-38\"/>\r\n      </g>\r\n     </g>\r\n    </g>\r\n    <g id=\"xtick_10\">\r\n     <g id=\"line2d_23\">\r\n      <path clip-path=\"url(#p322b8ef2b2)\" d=\"M 693.872321 295.30725 \r\nL 693.872321 23.50725 \r\n\" style=\"fill:none;stroke:#ffffff;stroke-linecap:round;\"/>\r\n     </g>\r\n     <g id=\"text_20\">\r\n      <!-- 10 -->\r\n      <g style=\"fill:#555555;\" transform=\"translate(687.755289 312.680844)scale(0.11 -0.11)\">\r\n       <use xlink:href=\"#ArialMT-31\"/>\r\n       <use x=\"55.615234\" xlink:href=\"#ArialMT-30\"/>\r\n      </g>\r\n     </g>\r\n    </g>\r\n   </g>\r\n   <g id=\"matplotlib.axis_4\">\r\n    <g id=\"ytick_8\">\r\n     <g id=\"line2d_24\">\r\n      <path clip-path=\"url(#p322b8ef2b2)\" d=\"M 403.343395 285.684215 \r\nL 707.707031 285.684215 \r\n\" style=\"fill:none;stroke:#ffffff;stroke-linecap:round;\"/>\r\n     </g>\r\n     <g id=\"text_21\">\r\n      <!-- 0.2 -->\r\n      <g style=\"fill:#555555;\" transform=\"translate(378.553395 289.621012)scale(0.11 -0.11)\">\r\n       <use xlink:href=\"#ArialMT-30\"/>\r\n       <use x=\"55.615234\" xlink:href=\"#ArialMT-2e\"/>\r\n       <use x=\"83.398438\" xlink:href=\"#ArialMT-32\"/>\r\n      </g>\r\n     </g>\r\n    </g>\r\n    <g id=\"ytick_9\">\r\n     <g id=\"line2d_25\">\r\n      <path clip-path=\"url(#p322b8ef2b2)\" d=\"M 403.343395 234.10179 \r\nL 707.707031 234.10179 \r\n\" style=\"fill:none;stroke:#ffffff;stroke-linecap:round;\"/>\r\n     </g>\r\n     <g id=\"text_22\">\r\n      <!-- 0.3 -->\r\n      <g style=\"fill:#555555;\" transform=\"translate(378.553395 238.038587)scale(0.11 -0.11)\">\r\n       <defs>\r\n        <path d=\"M 269 1209 \r\nL 831 1284 \r\nQ 928 806 1161 595 \r\nQ 1394 384 1728 384 \r\nQ 2125 384 2398 659 \r\nQ 2672 934 2672 1341 \r\nQ 2672 1728 2419 1979 \r\nQ 2166 2231 1775 2231 \r\nQ 1616 2231 1378 2169 \r\nL 1441 2663 \r\nQ 1497 2656 1531 2656 \r\nQ 1891 2656 2178 2843 \r\nQ 2466 3031 2466 3422 \r\nQ 2466 3731 2256 3934 \r\nQ 2047 4138 1716 4138 \r\nQ 1388 4138 1169 3931 \r\nQ 950 3725 888 3313 \r\nL 325 3413 \r\nQ 428 3978 793 4289 \r\nQ 1159 4600 1703 4600 \r\nQ 2078 4600 2393 4439 \r\nQ 2709 4278 2876 4000 \r\nQ 3044 3722 3044 3409 \r\nQ 3044 3113 2884 2869 \r\nQ 2725 2625 2413 2481 \r\nQ 2819 2388 3044 2092 \r\nQ 3269 1797 3269 1353 \r\nQ 3269 753 2831 336 \r\nQ 2394 -81 1725 -81 \r\nQ 1122 -81 723 278 \r\nQ 325 638 269 1209 \r\nz\r\n\" id=\"ArialMT-33\" transform=\"scale(0.015625)\"/>\r\n       </defs>\r\n       <use xlink:href=\"#ArialMT-30\"/>\r\n       <use x=\"55.615234\" xlink:href=\"#ArialMT-2e\"/>\r\n       <use x=\"83.398438\" xlink:href=\"#ArialMT-33\"/>\r\n      </g>\r\n     </g>\r\n    </g>\r\n    <g id=\"ytick_10\">\r\n     <g id=\"line2d_26\">\r\n      <path clip-path=\"url(#p322b8ef2b2)\" d=\"M 403.343395 182.519365 \r\nL 707.707031 182.519365 \r\n\" style=\"fill:none;stroke:#ffffff;stroke-linecap:round;\"/>\r\n     </g>\r\n     <g id=\"text_23\">\r\n      <!-- 0.4 -->\r\n      <g style=\"fill:#555555;\" transform=\"translate(378.553395 186.456162)scale(0.11 -0.11)\">\r\n       <use xlink:href=\"#ArialMT-30\"/>\r\n       <use x=\"55.615234\" xlink:href=\"#ArialMT-2e\"/>\r\n       <use x=\"83.398438\" xlink:href=\"#ArialMT-34\"/>\r\n      </g>\r\n     </g>\r\n    </g>\r\n    <g id=\"ytick_11\">\r\n     <g id=\"line2d_27\">\r\n      <path clip-path=\"url(#p322b8ef2b2)\" d=\"M 403.343395 130.93694 \r\nL 707.707031 130.93694 \r\n\" style=\"fill:none;stroke:#ffffff;stroke-linecap:round;\"/>\r\n     </g>\r\n     <g id=\"text_24\">\r\n      <!-- 0.5 -->\r\n      <g style=\"fill:#555555;\" transform=\"translate(378.553395 134.873736)scale(0.11 -0.11)\">\r\n       <use xlink:href=\"#ArialMT-30\"/>\r\n       <use x=\"55.615234\" xlink:href=\"#ArialMT-2e\"/>\r\n       <use x=\"83.398438\" xlink:href=\"#ArialMT-35\"/>\r\n      </g>\r\n     </g>\r\n    </g>\r\n    <g id=\"ytick_12\">\r\n     <g id=\"line2d_28\">\r\n      <path clip-path=\"url(#p322b8ef2b2)\" d=\"M 403.343395 79.354514 \r\nL 707.707031 79.354514 \r\n\" style=\"fill:none;stroke:#ffffff;stroke-linecap:round;\"/>\r\n     </g>\r\n     <g id=\"text_25\">\r\n      <!-- 0.6 -->\r\n      <g style=\"fill:#555555;\" transform=\"translate(378.553395 83.291311)scale(0.11 -0.11)\">\r\n       <use xlink:href=\"#ArialMT-30\"/>\r\n       <use x=\"55.615234\" xlink:href=\"#ArialMT-2e\"/>\r\n       <use x=\"83.398438\" xlink:href=\"#ArialMT-36\"/>\r\n      </g>\r\n     </g>\r\n    </g>\r\n    <g id=\"ytick_13\">\r\n     <g id=\"line2d_29\">\r\n      <path clip-path=\"url(#p322b8ef2b2)\" d=\"M 403.343395 27.772089 \r\nL 707.707031 27.772089 \r\n\" style=\"fill:none;stroke:#ffffff;stroke-linecap:round;\"/>\r\n     </g>\r\n     <g id=\"text_26\">\r\n      <!-- 0.7 -->\r\n      <g style=\"fill:#555555;\" transform=\"translate(378.553395 31.708886)scale(0.11 -0.11)\">\r\n       <use xlink:href=\"#ArialMT-30\"/>\r\n       <use x=\"55.615234\" xlink:href=\"#ArialMT-2e\"/>\r\n       <use x=\"83.398438\" xlink:href=\"#ArialMT-37\"/>\r\n      </g>\r\n     </g>\r\n    </g>\r\n   </g>\r\n   <g id=\"line2d_30\">\r\n    <path clip-path=\"url(#p322b8ef2b2)\" d=\"M 417.178106 35.861795 \r\nL 447.921907 59.770466 \r\nL 478.665709 116.808512 \r\nL 509.409511 186.980414 \r\nL 540.153312 228.815399 \r\nL 570.897114 247.397823 \r\nL 601.640916 259.752526 \r\nL 632.384717 268.451495 \r\nL 663.128519 275.847737 \r\nL 693.872321 282.952705 \r\n\" style=\"fill:none;stroke:#4c72b0;stroke-linecap:round;stroke-width:1.5;\"/>\r\n   </g>\r\n   <g id=\"line2d_31\">\r\n    <path clip-path=\"url(#p322b8ef2b2)\" d=\"M 417.178106 40.27015 \r\nL 447.921907 70.552889 \r\nL 478.665709 130.530853 \r\nL 509.409511 187.482442 \r\nL 540.153312 215.035471 \r\nL 570.897114 226.313175 \r\nL 601.640916 231.90683 \r\nL 632.384717 234.986624 \r\nL 663.128519 236.61357 \r\nL 693.872321 237.565713 \r\n\" style=\"fill:none;stroke:#c44e52;stroke-linecap:round;stroke-width:1.5;\"/>\r\n   </g>\r\n   <g id=\"patch_9\">\r\n    <path d=\"M 403.343395 295.30725 \r\nL 403.343395 23.50725 \r\n\" style=\"fill:none;stroke:#ffffff;stroke-linecap:square;stroke-linejoin:miter;\"/>\r\n   </g>\r\n   <g id=\"patch_10\">\r\n    <path d=\"M 707.707031 295.30725 \r\nL 707.707031 23.50725 \r\n\" style=\"fill:none;stroke:#ffffff;stroke-linecap:square;stroke-linejoin:miter;\"/>\r\n   </g>\r\n   <g id=\"patch_11\">\r\n    <path d=\"M 403.343395 295.30725 \r\nL 707.707031 295.30725 \r\n\" style=\"fill:none;stroke:#ffffff;stroke-linecap:square;stroke-linejoin:miter;\"/>\r\n   </g>\r\n   <g id=\"patch_12\">\r\n    <path d=\"M 403.343395 23.50725 \r\nL 707.707031 23.50725 \r\n\" style=\"fill:none;stroke:#ffffff;stroke-linecap:square;stroke-linejoin:miter;\"/>\r\n   </g>\r\n   <g id=\"text_27\">\r\n    <!-- Training and validation loss -->\r\n    <g style=\"fill:#262626;\" transform=\"translate(468.550338 17.50725)scale(0.144 -0.144)\">\r\n     <defs>\r\n      <path d=\"M 197 991 \r\nL 753 1078 \r\nQ 800 744 1014 566 \r\nQ 1228 388 1613 388 \r\nQ 2000 388 2187 545 \r\nQ 2375 703 2375 916 \r\nQ 2375 1106 2209 1216 \r\nQ 2094 1291 1634 1406 \r\nQ 1016 1563 777 1677 \r\nQ 538 1791 414 1992 \r\nQ 291 2194 291 2438 \r\nQ 291 2659 392 2848 \r\nQ 494 3038 669 3163 \r\nQ 800 3259 1026 3326 \r\nQ 1253 3394 1513 3394 \r\nQ 1903 3394 2198 3281 \r\nQ 2494 3169 2634 2976 \r\nQ 2775 2784 2828 2463 \r\nL 2278 2388 \r\nQ 2241 2644 2061 2787 \r\nQ 1881 2931 1553 2931 \r\nQ 1166 2931 1000 2803 \r\nQ 834 2675 834 2503 \r\nQ 834 2394 903 2306 \r\nQ 972 2216 1119 2156 \r\nQ 1203 2125 1616 2013 \r\nQ 2213 1853 2448 1751 \r\nQ 2684 1650 2818 1456 \r\nQ 2953 1263 2953 975 \r\nQ 2953 694 2789 445 \r\nQ 2625 197 2315 61 \r\nQ 2006 -75 1616 -75 \r\nQ 969 -75 630 194 \r\nQ 291 463 197 991 \r\nz\r\n\" id=\"ArialMT-73\" transform=\"scale(0.015625)\"/>\r\n     </defs>\r\n     <use xlink:href=\"#ArialMT-54\"/>\r\n     <use x=\"57.333984\" xlink:href=\"#ArialMT-72\"/>\r\n     <use x=\"90.634766\" xlink:href=\"#ArialMT-61\"/>\r\n     <use x=\"146.25\" xlink:href=\"#ArialMT-69\"/>\r\n     <use x=\"168.466797\" xlink:href=\"#ArialMT-6e\"/>\r\n     <use x=\"224.082031\" xlink:href=\"#ArialMT-69\"/>\r\n     <use x=\"246.298828\" xlink:href=\"#ArialMT-6e\"/>\r\n     <use x=\"301.914062\" xlink:href=\"#ArialMT-67\"/>\r\n     <use x=\"357.529297\" xlink:href=\"#ArialMT-20\"/>\r\n     <use x=\"385.3125\" xlink:href=\"#ArialMT-61\"/>\r\n     <use x=\"440.927734\" xlink:href=\"#ArialMT-6e\"/>\r\n     <use x=\"496.542969\" xlink:href=\"#ArialMT-64\"/>\r\n     <use x=\"552.158203\" xlink:href=\"#ArialMT-20\"/>\r\n     <use x=\"579.941406\" xlink:href=\"#ArialMT-76\"/>\r\n     <use x=\"629.941406\" xlink:href=\"#ArialMT-61\"/>\r\n     <use x=\"685.556641\" xlink:href=\"#ArialMT-6c\"/>\r\n     <use x=\"707.773438\" xlink:href=\"#ArialMT-69\"/>\r\n     <use x=\"729.990234\" xlink:href=\"#ArialMT-64\"/>\r\n     <use x=\"785.605469\" xlink:href=\"#ArialMT-61\"/>\r\n     <use x=\"841.220703\" xlink:href=\"#ArialMT-74\"/>\r\n     <use x=\"869.003906\" xlink:href=\"#ArialMT-69\"/>\r\n     <use x=\"891.220703\" xlink:href=\"#ArialMT-6f\"/>\r\n     <use x=\"946.835938\" xlink:href=\"#ArialMT-6e\"/>\r\n     <use x=\"1002.451172\" xlink:href=\"#ArialMT-20\"/>\r\n     <use x=\"1030.234375\" xlink:href=\"#ArialMT-6c\"/>\r\n     <use x=\"1052.451172\" xlink:href=\"#ArialMT-6f\"/>\r\n     <use x=\"1108.066406\" xlink:href=\"#ArialMT-73\"/>\r\n     <use x=\"1158.066406\" xlink:href=\"#ArialMT-73\"/>\r\n    </g>\r\n   </g>\r\n   <g id=\"legend_2\">\r\n    <g id=\"patch_13\">\r\n     <path d=\"M 594.690625 63.555844 \r\nL 700.007031 63.555844 \r\nQ 702.207031 63.555844 702.207031 61.355844 \r\nL 702.207031 31.20725 \r\nQ 702.207031 29.00725 700.007031 29.00725 \r\nL 594.690625 29.00725 \r\nQ 592.490625 29.00725 592.490625 31.20725 \r\nL 592.490625 61.355844 \r\nQ 592.490625 63.555844 594.690625 63.555844 \r\nz\r\n\" style=\"fill:#e5e5e5;opacity:0.8;stroke:#cccccc;stroke-linejoin:miter;stroke-width:0.5;\"/>\r\n    </g>\r\n    <g id=\"line2d_32\">\r\n     <path d=\"M 596.890625 37.430844 \r\nL 618.890625 37.430844 \r\n\" style=\"fill:none;stroke:#4c72b0;stroke-linecap:round;stroke-width:1.5;\"/>\r\n    </g>\r\n    <g id=\"line2d_33\"/>\r\n    <g id=\"text_28\">\r\n     <!-- Training loss -->\r\n     <g style=\"fill:#262626;\" transform=\"translate(627.690625 41.280844)scale(0.11 -0.11)\">\r\n      <use xlink:href=\"#ArialMT-54\"/>\r\n      <use x=\"57.333984\" xlink:href=\"#ArialMT-72\"/>\r\n      <use x=\"90.634766\" xlink:href=\"#ArialMT-61\"/>\r\n      <use x=\"146.25\" xlink:href=\"#ArialMT-69\"/>\r\n      <use x=\"168.466797\" xlink:href=\"#ArialMT-6e\"/>\r\n      <use x=\"224.082031\" xlink:href=\"#ArialMT-69\"/>\r\n      <use x=\"246.298828\" xlink:href=\"#ArialMT-6e\"/>\r\n      <use x=\"301.914062\" xlink:href=\"#ArialMT-67\"/>\r\n      <use x=\"357.529297\" xlink:href=\"#ArialMT-20\"/>\r\n      <use x=\"385.3125\" xlink:href=\"#ArialMT-6c\"/>\r\n      <use x=\"407.529297\" xlink:href=\"#ArialMT-6f\"/>\r\n      <use x=\"463.144531\" xlink:href=\"#ArialMT-73\"/>\r\n      <use x=\"513.144531\" xlink:href=\"#ArialMT-73\"/>\r\n     </g>\r\n    </g>\r\n    <g id=\"line2d_34\">\r\n     <path d=\"M 596.890625 53.119594 \r\nL 618.890625 53.119594 \r\n\" style=\"fill:none;stroke:#c44e52;stroke-linecap:round;stroke-width:1.5;\"/>\r\n    </g>\r\n    <g id=\"line2d_35\"/>\r\n    <g id=\"text_29\">\r\n     <!-- Validation loss -->\r\n     <g style=\"fill:#262626;\" transform=\"translate(627.690625 56.969594)scale(0.11 -0.11)\">\r\n      <use xlink:href=\"#ArialMT-56\"/>\r\n      <use x=\"59.324219\" xlink:href=\"#ArialMT-61\"/>\r\n      <use x=\"114.939453\" xlink:href=\"#ArialMT-6c\"/>\r\n      <use x=\"137.15625\" xlink:href=\"#ArialMT-69\"/>\r\n      <use x=\"159.373047\" xlink:href=\"#ArialMT-64\"/>\r\n      <use x=\"214.988281\" xlink:href=\"#ArialMT-61\"/>\r\n      <use x=\"270.603516\" xlink:href=\"#ArialMT-74\"/>\r\n      <use x=\"298.386719\" xlink:href=\"#ArialMT-69\"/>\r\n      <use x=\"320.603516\" xlink:href=\"#ArialMT-6f\"/>\r\n      <use x=\"376.21875\" xlink:href=\"#ArialMT-6e\"/>\r\n      <use x=\"431.833984\" xlink:href=\"#ArialMT-20\"/>\r\n      <use x=\"459.617188\" xlink:href=\"#ArialMT-6c\"/>\r\n      <use x=\"481.833984\" xlink:href=\"#ArialMT-6f\"/>\r\n      <use x=\"537.449219\" xlink:href=\"#ArialMT-73\"/>\r\n      <use x=\"587.449219\" xlink:href=\"#ArialMT-73\"/>\r\n     </g>\r\n    </g>\r\n   </g>\r\n  </g>\r\n </g>\r\n <defs>\r\n  <clipPath id=\"p8baac04a19\">\r\n   <rect height=\"271.8\" width=\"304.363636\" x=\"38.107031\" y=\"23.50725\"/>\r\n  </clipPath>\r\n  <clipPath id=\"p322b8ef2b2\">\r\n   <rect height=\"271.8\" width=\"304.363636\" x=\"403.343395\" y=\"23.50725\"/>\r\n  </clipPath>\r\n </defs>\r\n</svg>\r\n",
            "image/png": "[encoded data removed]"
          },
          "metadata": {}
        }
      ],
      "source": [
        "plot_history(history)"
      ]
    },
    {
      "cell_type": "code",
      "execution_count": 292,
      "metadata": {},
      "outputs": [
        {
          "output_type": "stream",
          "name": "stdout",
          "text": [
            "1113/1113 [==============================] - 4s 4ms/step - loss: 0.1761 - accuracy: 0.9488\n",
            "\n",
            "accuracy: 94.88%\n"
          ]
        }
      ],
      "source": [
        "scores = model.evaluate(X_treino, y_treino)\n",
        "print(\"\\n%s: %.2f%%\" % (model.metrics_names[1], scores[1]*100))"
      ]
    },
    {
      "cell_type": "code",
      "execution_count": 293,
      "metadata": {},
      "outputs": [
        {
          "output_type": "stream",
          "name": "stdout",
          "text": [
            "279/279 [==============================] - 1s 4ms/step - loss: 0.2866 - accuracy: 0.8818\n",
            "\n",
            "accuracy: 88.18%\n"
          ]
        }
      ],
      "source": [
        "scores = model.evaluate(X_teste, y_teste)\n",
        "print(\"\\n%s: %.2f%%\" % (model.metrics_names[1], scores[1]*100))"
      ]
    },
    {
      "cell_type": "markdown",
      "metadata": {
        "id": "68SiMjcWqD_m"
      },
      "source": [
        "#### **Validação do professor**"
      ]
    },
    {
      "cell_type": "markdown",
      "metadata": {
        "id": "T24EasckqG2I"
      },
      "source": [
        "Consolidar apenas os scripts do seu **modelo campeão**, desde o carregamento do dataframe, separação das amostras, tratamentos utilizados (funções, limpezas, etc.), criação dos objetos de vetorização dos textos e modelo treinado e outras implementações utilizadas no processo de desenvolvimento do modelo."
      ]
    },
    {
      "cell_type": "code",
      "execution_count": null,
      "metadata": {
        "id": "VFA-CYfawkEJ"
      },
      "outputs": [],
      "source": []
    }
  ],
  "metadata": {
    "colab": {
      "collapsed_sections": [],
      "name": "TemplateTrabalhoFinal-NLP.ipynb",
      "provenance": []
    },
    "interpreter": {
      "hash": "c24c9dacf042e5cf8b743bae11b2cef3a95983df3bc5153773d9ffef1d5207d2"
    },
    "kernelspec": {
      "name": "python3",
      "display_name": "Python 3.8.10 64-bit ('tf-gpu': conda)"
    },
    "language_info": {
      "codemirror_mode": {
        "name": "ipython",
        "version": 3
      },
      "file_extension": ".py",
      "mimetype": "text/x-python",
      "name": "python",
      "nbconvert_exporter": "python",
      "pygments_lexer": "ipython3",
      "version": "3.8.10"
    },
    "metadata": {
      "interpreter": {
        "hash": "63fd5069d213b44bf678585dea6b12cceca9941eaf7f819626cde1f2670de90d"
      }
    }
  },
  "nbformat": 4,
  "nbformat_minor": 0
}