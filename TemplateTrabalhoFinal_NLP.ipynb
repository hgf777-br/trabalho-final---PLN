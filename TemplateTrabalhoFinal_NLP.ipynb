{
  "nbformat": 4,
  "nbformat_minor": 0,
  "metadata": {
    "colab": {
      "name": "TemplateTrabalhoFinal-NLP.ipynb",
      "provenance": [],
      "collapsed_sections": []
    },
    "kernelspec": {
      "name": "python394jvsc74a57bd063fd5069d213b44bf678585dea6b12cceca9941eaf7f819626cde1f2670de90d",
      "display_name": "Python 3.9.4 64-bit"
    },
    "metadata": {
      "interpreter": {
        "hash": "63fd5069d213b44bf678585dea6b12cceca9941eaf7f819626cde1f2670de90d"
      }
    }
  },
  "cells": [
    {
      "cell_type": "markdown",
      "metadata": {
        "id": "VDbi6PDS9MYO"
      },
      "source": [
        "***Participantes (RM - NOME):***<br>\n",
        "Camila - xxxxx<br>\n",
        "Cleiton - xxxxx<br>\n",
        "Henrique - xxxxx<br>\n",
        "Roberto - xxxxx<br>\n",
        "Sergio - xxxxx<br>"
      ]
    },
    {
      "cell_type": "markdown",
      "metadata": {
        "id": "7xw6WhaNo4k3"
      },
      "source": [
        "## **Criar um classificador de sentimento aplicando técnicas de PLN**\n",
        "---\n",
        "\n",
        "Utilizando o dataset de revisões de filmes em português [1], criar um classificador de sentimentos que consiga um score na métrica F1 Score superior a 70%.\n",
        "\n",
        "Devem utilizar uma amostra de 20% e randon_state igual a 42 para testar as implementações e mensurar a métrica F1 Score (usar o parâmetro average = 'weighted') o restante dos dados devem ser utilizados para o treinamento (80%).\n",
        "\n",
        "Fique a vontade para testar os métodos de pré-processamento, abordagens, algoritmos e bibliotecas, mas explique e justifique suas decisões.\n",
        "O trabalho poderá ser feito em grupo de até 4 pessoas (mesmo grupo do Startup One).\n",
        "\n",
        "Separe a implementação do seu modelo campeão junto com a parte de validação/teste de forma que o professor consiga executar todo o pipeline do modelo campeão.\n",
        "\n",
        "Composição da nota:\n",
        "- 50% - Demonstrações das aplicações das técnicas de PLN (regras, pré-processamentos, tratamentos, variedade de modelos aplicados, etc.)\n",
        "- 50% - Baseado na performance obtida com o dataset de teste (conforme recomendação da amostra) no seu modelo campeão e na validação que o professor processar (Métrica F1 Score)."
      ]
    },
    {
      "cell_type": "markdown",
      "metadata": {
        "id": "fzhQpodBpRpX"
      },
      "source": [
        "[1] - https://dados-ml-pln.s3-sa-east-1.amazonaws.com/reviews-pt-br.csv"
      ]
    },
    {
      "cell_type": "code",
      "metadata": {
        "id": "DMBI8SQtps1n"
      },
      "source": [
        "# CARREGANDO O DATA FRAME\n",
        "import pandas as pd\n",
        "df = pd.read_csv('./data/reviews-pt-br.csv', encoding='utf-8')\n",
        "\n",
        "# Façam o download do arquivo e utilizem localmente durante os testes"
      ],
      "execution_count": 1,
      "outputs": []
    },
    {
      "cell_type": "code",
      "metadata": {
        "colab": {
          "base_uri": "https://localhost:8080/"
        },
        "id": "s__lBzDQwrcG",
        "outputId": "0bd3d84d-be60-4da3-c598-62f4a045b6c6"
      },
      "source": [
        "df.info()"
      ],
      "execution_count": 2,
      "outputs": [
        {
          "output_type": "stream",
          "name": "stdout",
          "text": [
            "<class 'pandas.core.frame.DataFrame'>\nRangeIndex: 44514 entries, 0 to 44513\nData columns (total 3 columns):\n #   Column      Non-Null Count  Dtype \n---  ------      --------------  ----- \n 0   codigo      44514 non-null  int64 \n 1   texto       44514 non-null  object\n 2   sentimento  44514 non-null  object\ndtypes: int64(1), object(2)\nmemory usage: 1.0+ MB\n"
          ]
        }
      ]
    },
    {
      "source": [
        "Conferindo se temos dados nulos"
      ],
      "cell_type": "markdown",
      "metadata": {
        "id": "FyKC9Vhkp0BK"
      }
    },
    {
      "cell_type": "code",
      "metadata": {
        "id": "nze8UbKhosm9"
      },
      "source": [
        "df.isna().sum()"
      ],
      "execution_count": 4,
      "outputs": [
        {
          "output_type": "execute_result",
          "data": {
            "text/plain": [
              "codigo        0\n",
              "texto         0\n",
              "sentimento    0\n",
              "dtype: int64"
            ]
          },
          "metadata": {},
          "execution_count": 4
        }
      ]
    },
    {
      "cell_type": "code",
      "metadata": {
        "id": "ue0nV0uVo3OZ"
      },
      "source": [
        "df.head(10)"
      ],
      "execution_count": 5,
      "outputs": [
        {
          "output_type": "execute_result",
          "data": {
            "text/plain": [
              "   codigo                                              texto sentimento\n",
              "0       1  Esse bocejo de pia de cozinha de orçamento mui...        neg\n",
              "1       2  O Bravo parece indicar que o personagem princi...        neg\n",
              "2       3  Durante a Guerra pela Independência do Sul, GE...        pos\n",
              "3       4  É fora de questão que a verdadeira Anna Anders...        pos\n",
              "4       5  Concordo totalmente com outro dos revisores aq...        neg\n",
              "5       6  Obra-prima absoluta de um filme! Boa noite Mr....        pos\n",
              "6       7  Embora a palavra megalmania seja muito usada p...        pos\n",
              "7       8  Esta tem que ser a peça mais incrível de porca...        neg\n",
              "8       9  Eu suponho que todas as piadas internas são o ...        neg\n",
              "9      10  Se há um tema deste filme, é que as pessoas po...        pos"
            ],
            "text/html": "<div>\n<style scoped>\n    .dataframe tbody tr th:only-of-type {\n        vertical-align: middle;\n    }\n\n    .dataframe tbody tr th {\n        vertical-align: top;\n    }\n\n    .dataframe thead th {\n        text-align: right;\n    }\n</style>\n<table border=\"1\" class=\"dataframe\">\n  <thead>\n    <tr style=\"text-align: right;\">\n      <th></th>\n      <th>codigo</th>\n      <th>texto</th>\n      <th>sentimento</th>\n    </tr>\n  </thead>\n  <tbody>\n    <tr>\n      <th>0</th>\n      <td>1</td>\n      <td>Esse bocejo de pia de cozinha de orçamento mui...</td>\n      <td>neg</td>\n    </tr>\n    <tr>\n      <th>1</th>\n      <td>2</td>\n      <td>O Bravo parece indicar que o personagem princi...</td>\n      <td>neg</td>\n    </tr>\n    <tr>\n      <th>2</th>\n      <td>3</td>\n      <td>Durante a Guerra pela Independência do Sul, GE...</td>\n      <td>pos</td>\n    </tr>\n    <tr>\n      <th>3</th>\n      <td>4</td>\n      <td>É fora de questão que a verdadeira Anna Anders...</td>\n      <td>pos</td>\n    </tr>\n    <tr>\n      <th>4</th>\n      <td>5</td>\n      <td>Concordo totalmente com outro dos revisores aq...</td>\n      <td>neg</td>\n    </tr>\n    <tr>\n      <th>5</th>\n      <td>6</td>\n      <td>Obra-prima absoluta de um filme! Boa noite Mr....</td>\n      <td>pos</td>\n    </tr>\n    <tr>\n      <th>6</th>\n      <td>7</td>\n      <td>Embora a palavra megalmania seja muito usada p...</td>\n      <td>pos</td>\n    </tr>\n    <tr>\n      <th>7</th>\n      <td>8</td>\n      <td>Esta tem que ser a peça mais incrível de porca...</td>\n      <td>neg</td>\n    </tr>\n    <tr>\n      <th>8</th>\n      <td>9</td>\n      <td>Eu suponho que todas as piadas internas são o ...</td>\n      <td>neg</td>\n    </tr>\n    <tr>\n      <th>9</th>\n      <td>10</td>\n      <td>Se há um tema deste filme, é que as pessoas po...</td>\n      <td>pos</td>\n    </tr>\n  </tbody>\n</table>\n</div>"
          },
          "metadata": {},
          "execution_count": 5
        }
      ]
    },
    {
      "cell_type": "code",
      "metadata": {
        "id": "FziwgqJmw9OD"
      },
      "source": [],
      "execution_count": null,
      "outputs": []
    },
    {
      "cell_type": "code",
      "metadata": {
        "id": "25cBRwGAw8-1"
      },
      "source": [],
      "execution_count": null,
      "outputs": []
    },
    {
      "cell_type": "markdown",
      "metadata": {
        "id": "68SiMjcWqD_m"
      },
      "source": [
        "####**Validação do professor**"
      ]
    },
    {
      "cell_type": "markdown",
      "metadata": {
        "id": "T24EasckqG2I"
      },
      "source": [
        "Consolidar apenas os scripts do seu **modelo campeão**, desde o carregamento do dataframe, separação das amostras, tratamentos utilizados (funções, limpezas, etc.), criação dos objetos de vetorização dos textos e modelo treinado e outras implementações utilizadas no processo de desenvolvimento do modelo."
      ]
    },
    {
      "cell_type": "code",
      "metadata": {
        "id": "ZxqHA-XCrqsD"
      },
      "source": [],
      "execution_count": null,
      "outputs": []
    },
    {
      "cell_type": "code",
      "metadata": {
        "id": "VFA-CYfawkEJ"
      },
      "source": [],
      "execution_count": null,
      "outputs": []
    },
    {
      "cell_type": "code",
      "metadata": {
        "id": "BuJtvcfXo3J4"
      },
      "source": [],
      "execution_count": null,
      "outputs": []
    },
    {
      "cell_type": "code",
      "metadata": {
        "id": "6ULYNH6-o3Hf"
      },
      "source": [],
      "execution_count": null,
      "outputs": []
    },
    {
      "cell_type": "code",
      "metadata": {
        "id": "3ClM-JTJo3FK"
      },
      "source": [],
      "execution_count": null,
      "outputs": []
    }
  ]
}